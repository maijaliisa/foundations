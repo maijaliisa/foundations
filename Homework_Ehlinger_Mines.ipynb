{
 "cells": [
  {
   "cell_type": "markdown",
   "metadata": {},
   "source": [
    "# Mine Safety\n",
    "\n",
    "We're interested in [US mine safety](https://arlweb.msha.gov/drs/drshome.htm#MID), thank goodness we can search for these things."
   ]
  },
  {
   "cell_type": "markdown",
   "metadata": {},
   "source": [
    "## Preparation: Knowing your tags\n",
    "\n",
    "These questions are the same for every data set, and might not work exactly for yours.\n",
    "\n",
    "**Search for every operator with 'dirt' in their name, including abandoned mines.**"
   ]
  },
  {
   "cell_type": "markdown",
   "metadata": {},
   "source": [
    "### What is the tag and class name for every row of data?"
   ]
  },
  {
   "cell_type": "code",
   "execution_count": 1,
   "metadata": {
    "collapsed": true
   },
   "outputs": [],
   "source": [
    "from bs4 import BeautifulSoup\n",
    "import requests"
   ]
  },
  {
   "cell_type": "code",
   "execution_count": 2,
   "metadata": {
    "scrolled": false
   },
   "outputs": [
    {
     "data": {
      "text/plain": [
       "'<!DOCTYPE HTML PUBLIC \"-//W3C//DTD HTML 4.01//EN\" \"http://www.w3.org/TR/html4/strict.dtd\">\\n<head>\\n <meta content=\"text/html; charset=utf-8\" http-equiv=\"Content-Type\"/>\\n <!-- ****************************************** Begin META TAGS ********************************************* -->\\n <meta content=\"NOINDEX, NOFOLLOW\" name=\"ROBOTS\"/>\\n <!-- ****************************************** End META TAGS *********************************************** -->\\n <title>\\n  MSHA  - Mine  Data Retrieval System - Basic Mine Information Page\\n </title>\\n <script src=\"/2010redesign/Scripts/federated-analytics.js\" type=\"text/javascript\">\\n </script>\\n <script src=\"/2010redesign/Scripts/AC_RunActiveContent.js\" type=\"text/javascript\">\\n </script>\\n <link href=\"/2010Redesign/includes/Print.css\" media=\"print\" rel=\"stylesheet\" type=\"text/css\"/>\\n <link href=\"/2010Redesign/Includes/MSHAwebnew.css\" media=\"screen\" rel=\"stylesheet\" type=\"text/css\">\\n  <link href=\"/2010Redesign/includes/style-screen.css\" media=\"screen\" rel=\"stylesheet\" type=\"text/css\"/>\\n </link>\\n</head>\\n<body>\\n <link href=\"https://webapps.dol.gov/FSPublic/Content/W_Helpful.css\" rel=\"stylesheet\" type=\"text/css\"/>\\n <script src=\"https://ajax.googleapis.com/ajax/libs/jquery/1.7.1/jquery.min.js\" type=\"text/JavaScript\">\\n </script>\\n <script id=\"_fed_an_ua_tag\" src=\"/res/js/dap.min.js?agency=DOL&amp;subagency=MSHA\" type=\"text/javascript\">\\n </script>\\n <!--<script language=\"javascript\" id=\"_fed_an_ua_tag\" src=\"/res/js/federated-analytics.min.js?agency=DOL&subagency=MSHA\"></script>-->\\n <script src=\"https://webapps.dol.gov/FSPublic/Scripts/W_Helpful.js\" type=\"text/JavaScript\">\\n </script>\\n <script type=\"text/JavaScript\">\\n  $(document).ready(function() {\\r\\n\\t\\tW_Helpful.init(\\'#fbcontent\\');\\r\\n\\t});(jQuery);\\n </script>\\n <script>\\n  <!-- ************* GOOGLE ANALYTICS ****************** -->\\r\\n\\t(function(i,s,o,g,r,a,m){i[\\'GoogleAnalyticsObject\\']=r;i[r]=i[r]||function(){\\r\\n\\t(i[r].q=i[r].q||[]).push(arguments)},i[r].l=1*new Date();a=s.createElement(o),\\r\\n\\tm=s.getElementsByTagName(o)[0];a.async=1;a.src=g;m.parentNode.insertBefore(a,m)\\r\\n\\t})(window,document,\\'script\\',\\'//www.google-analytics.com/analytics.js\\',\\'ga\\');\\r\\n\\r\\n\\tga(\\'create\\', \\'UA-52441844-1\\', \\'auto\\');\\r\\n\\tga(\\'send\\', \\'pageview\\');\\r\\n\\r\\n\\t$(document).ready( function() {\\r\\n\\t\\t$(\"a[href$=\\'pdf\\']\").each(function() {\\r\\n\\t\\t\\teventName=$(this).attr(\\'href\\');\\r\\n\\t\\t\\teventClick=\"ga(\\'send\\',\\'event\\',\\'PDF\\',\\'Download\\',\\'\"+eventName+\"\\');\";\\r\\n\\t\\t\\t$(this).attr(\"onClick\",eventClick);\\r\\n\\t\\t});\\r\\n\\t});\\n </script>\\n <div style=\"display:none;\">\\n  <a href=\"#content\">\\n   Skip to content\\n  </a>\\n </div>\\n <div id=\"header\">\\n  <div id=\"searchMSHA\">\\n   <a href=\"https://mshasearch.msha.gov/search?access=p&amp;entqr=0&amp;output=xml_no_dtd&amp;sort=date%3AD%3AL%3Ad1&amp;ie=UTF-8&amp;lr=&amp;client=MSHASearch&amp;ud=1&amp;site=AllDocuments&amp;oe=UTF-8&amp;proxystylesheet=MSHASearch&amp;ip=&amp;proxycustom=%3CADVANCED/%3E\">\\n    <div color=\"#FFFFFF\" style=\"margin: -3px 0 3px 0;\">\\n     <b>\\n      Additional Search Options\\n     </b>\\n    </div>\\n   </a>\\n   <form action=\"https://mshasearch.msha.gov/search\" method=\"get\" target=\"_self\">\\n    <!--<form method=\"get\" target=\"_self\" action=\"/services/searchNotice.asp\"> -->\\n    <label class=\"scr-rdr\" for=\"mshaSearchField\">\\n     Find it at MSHA\\n    </label>\\n    <input id=\"mshaSearchField\" name=\"q\" onclick=\"this.value=\\'\\';\" style=\"color:#990000;\" type=\"text\" value=\"Find It at MSHA\"/>\\n    <input class=\"searchBtn\" name=\"search\" style=\"color:#990000; font-weight: bold; font-family: Arial, sans-serif; height: 22px; padding: 0px; font-size:0.9em; width: 60px; padding-right: 2px;\" type=\"submit\" value=\"SEARCH\">\\n     <input name=\"client\" type=\"hidden\" value=\"MSHASearch\"/>\\n     <input name=\"output\" type=\"hidden\" value=\"xml_no_dtd\"/>\\n     <input name=\"proxystylesheet\" type=\"hidden\" value=\"MSHASearch\"/>\\n     <input name=\"filter\" type=\"hidden\" value=\"p\"/>\\n     <input name=\"getfields\" type=\"hidden\" value=\"*\"/>\\n     <input name=\"site\" type=\"hidden\" value=\"AllDocuments\"/>\\n    </input>\\n   </form>\\n  </div>\\n  <div id=\"subscribe\">\\n   <script src=\"https://public.govdelivery.com/javascripts/cache/snippet.js\" type=\"text/javascript\">\\n   </script>\\n   <form accept-charset=\"UTF-8\" action=\"https://public.govdelivery.com/accounts/USDOL/subscriber/qualify?qsp=USDOL_2585\" method=\"post\">\\n    <div style=\"margin:0;padding:0;display:inline;color:#fff;font-size: 12px;\">\\n     <input name=\"utf8\" type=\"hidden\" value=\"Ã¢Â\\x9cÂ\\x93\">\\n      <input name=\"authenticity_token\" type=\"hidden\" value=\"4BAzX1/DPLa9DIarEHPs6w3ymvDs6SIgrYFizEOhBMs=\">\\n      </input>\\n     </input>\\n    </div>\\n    <div style=\"color:#ffffff;font-family:Verdana, Geneva, Arial, Helvetica, sans-serif;font-style:normal;font-size: 12px;border-radius:0px !important;\">\\n     <fieldset style=\"border:none; border-radius:0px !important; padding: 0px; margin: 0; font-size: 12px;;\">\\n      <b>\\n       Subscribe to Email Updates\\n      </b>\\n      <br/>\\n      <input class=\"long\" id=\"email\" name=\"email\" style=\"height: 22px; border-width: 1px;padding:none;color:#990000; width: 180px; font-family: Verdana; font-style:normal;font-size:10pt; font-weight: 400; margin-right: 5px; display: inline-block; box-sizing: border-box; padding: 0 !important;\" type=\"text\">\\n       <div class=\"button_panel\" style=\"float:right;\">\\n        <input class=\"searchBtn\" name=\"commit\" style=\"color:#990000; font-weight: bold; font-style: uppercase;font-family: Arial, sans-serif; border: none; height: 22px; padding: 0px; font-size:0.9em; width: 60px; padding-right: 2px;\" type=\"submit\" value=\"SUBMIT\">\\n        </input>\\n       </div>\\n      </input>\\n     </fieldset>\\n    </div>\\n   </form>\\n   <script type=\"text/javascript\">\\n    //<![CDATA[\\r\\n\\t\\tnew GD.view.AccountSubscribersNew({\\r\\n\\t\\t  facebookAppId: \"188927694463050\",\\r\\n\\t\\t  facebookLoginURL: \"/accounts/USDOL/facebook_subscriber/login\",\\r\\n\\t\\t  wirelessEnabled: true\\r\\n\\t\\t}).init();\\r\\n\\t  //]]>\\n   </script>\\n  </div>\\n  <div id=\"dol_logo\">\\n   <a href=\"http://www.dol.gov/\">\\n    <img alt=\"Seal of the United States Department of Labor\" border=\"0\" src=\"/images/dol_sym.gif\"/>\\n   </a>\\n  </div>\\n  <div id=\"headText\">\\n   <span id=\"dol1\">\\n    <a href=\"http://www.dol.gov\">\\n     UNITED STATES\\n     <br/>\\n     DEPARTMENT OF LABOR\\n    </a>\\n   </span>\\n  </div>\\n  <div style=\"clear:both;\">\\n  </div>\\n  <div id=\"headlinks\">\\n   <a href=\"/indexes/atozpage.asp\">\\n    A-Z Index\\n   </a>\\n   |\\n   <a href=\"/siteindex/siteindex.asp\">\\n    Site Map\\n   </a>\\n   |\\n   <a href=\"/faq/faqhome.htm\">\\n    FAQs\\n   </a>\\n   |\\n   <a href=\"/forms/forms.asp\">\\n    MSHA Forms\\n   </a>\\n   |\\n   <a href=\"/contactmsha/contactmsha.htm\">\\n    Contact Us\\n   </a>\\n   |\\n   <!-- \\t\\t<script language=\"JavaScript\">\\r\\n\\t\\t\\tvar pagePath = location.href.split(location.host)[1];\\r\\n\\t\\t\\tdocument.write(\"<a href=\\\\\"http://es.arlweb.msha.gov.systranlinks.net/\" + pagePath + \" \\\\\" target=\\\\\"new_window\\\\\">\");\\r\\n\\t\\t\\tdocument.write(\"Espa&ntilde;ol</a>\");\\r\\n\\t\\t</script> -->\\n   <span id=\"google_translate_element\">\\n   </span>\\n   <style>\\n    span#google_translate_element {\\r\\n\\t\\t\\t\\tfloat: right;\\r\\n\\t\\t\\t\\tmargin-top: -5px;\\r\\n\\t\\t\\t}\\r\\n\\t\\t\\ta.goog-te-menu-value > span {\\r\\n\\t\\t\\t    color: #000000;\\r\\n\\t\\t\\t}\\n   </style>\\n   <script type=\"text/javascript\">\\n    function googleTranslateElementInit() {\\r\\n\\t\\t\\t  new google.translate.TranslateElement({\\r\\n\\t\\t\\t  \\tpageLanguage: \\'en\\', \\r\\n\\t\\t\\t  \\tincludedLanguages: \\'en,es\\', \\r\\n\\t\\t\\t  \\tlayout: google.translate.TranslateElement.InlineLayout.SIMPLE, \\r\\n\\t\\t\\t  \\tgaTrack: true, gaId: \\'UA-52441844-1\\'\\r\\n\\t\\t\\t  }, \\'google_translate_element\\');\\r\\n\\t\\t\\t}\\n   </script>\\n   <script src=\"//translate.google.com/translate_a/element.js?cb=googleTranslateElementInit\" type=\"text/javascript\">\\n   </script>\\n  </div>\\n  <div style=\"clear:both;\">\\n  </div>\\n  <div id=\"three\">\\n   <div id=\"hcontent\">\\n    <div id=\"agency\">\\n     <a href=\"http://www.msha.gov\" style=\"text-decoration:none;\">\\n      Mine Safety and Health Administration - MSHA\\n     </a>\\n     <!-- AddThis Button BEGIN -->\\n     <a class=\"addthis_button\" href=\"http://www.addthis.com/bookmark.php?v=300&amp;pubid=ra-52d534a46402ec50\" style=\"margin-left: 230px\">\\n      <img alt=\"Bookmark and Share\" height=\"16\" src=\"https://s7.addthis.com/static/btn/v2/lg-share-en.gif\" style=\"border:0\" width=\"125\"/>\\n     </a>\\n     <script type=\"text/javascript\">\\n      var addthis_config = {\"data_track_addressbar\":false};\\n     </script>\\n     <script src=\"//s7.addthis.com/js/300/addthis_widget.js#pubid=ra-52d534a46402ec50\" type=\"text/javascript\">\\n     </script>\\n     <!-- AddThis Button END -->\\n     <br/>\\n     <a href=\"http://www.msha.gov\" style=\"text-decoration:none;\">\\n      - Protecting Miners\\' Safety and Health Since 1978\\n     </a>\\n    </div>\\n    <div id=\"headImg\">\\n     <script language=\"JavaScript\">\\n      if (window.print) {\\r\\n\\t\\t\\t\\t\\t\\tdocument.write(\\'<form><input type=button name=print value=\"Print This Page\" onClick=\"window.print()\"></form>\\');\\r\\n\\t\\t\\t\\t\\t}\\n     </script>\\n     <div class=\"utilitybarright\" style=\" width: 150px; margin-top: 5px;\">\\n      <div id=\"fbcontent\" style=\"float:right\">\\n      </div>\\n     </div>\\n    </div>\\n    <!-- End Agency -->\\n   </div>\\n  </div>\\n  <!-- End three -->\\n </div>\\n <!-- End Header -->\\n <div id=\"headSeparator\">\\n </div>\\n <!-- This ends the newheader.asp content-->\\n <div id=\"container\">\\n  <!-- This begins the page content section-->\\n  <div id=\"content\">\\n   <table border=\"0\" width=\"100%\">\\n    <tr>\\n     <td width=\"30%\">\\n      <a href=\"/drs/drshome.htm\">\\n       <img alt=\"Mine Data Retrieval System\" border=\"0\" height=\"75\" src=\"/drs/images/drslogo.png\" width=\"300\"/>\\n      </a>\\n     </td>\\n     <th width=\"40%\">\\n      <font style=\"FONT-SIZE:1.20em;\">\\n       Operator Name or Mine Name\\n       <br/>\\n       Search\\n      </font>\\n     </th>\\n     <td width=\"30%\">\\n     </td>\\n    </tr>\\n   </table>\\n   <br/>\\n   <!-- Output FORM -->\\n   <table align=\"center\" bgcolor=\"#FFFFFF\" border=\"0\" cellpadding=\"3\" width=\"90%\">\\n    <tr>\\n     <td valign=\"top\" width=\"50%\">\\n      <table width=\"100%\">\\n       <tr>\\n        <td>\\n         <font style=\"FONT-SIZE:.80em;\">\\n          <b>\\n           Abandoned*\\n          </b>\\n         </font>\\n        </td>\\n       </tr>\\n       <tr>\\n        <td valign=\"top\" width=\"95%\">\\n         <font style=\"FONT-SIZE:.75em;\">\\n          Indicates Mine is Abandoned and Sealed\\n         </font>\\n        </td>\\n       </tr>\\n      </table>\\n     </td>\\n     <td align=\"right\" valign=\"top\" width=\"50%\">\\n      <table align=\"right\" width=\"100%\">\\n       <tr>\\n        <td align=\"right\" colspan=\"2\">\\n         <font style=\"FONT-SIZE:.80em;\">\\n          <b>\\n           *CM (Coal or Metal Mine/Nonmetal Mine)\\n          </b>\\n         </font>\\n        </td>\\n       </tr>\\n       <tr>\\n        <td align=\"right\" width=\"46%\">\\n         <font style=\"FONT-SIZE:.80em;\">\\n          C\\n          <br/>\\n          M\\n         </font>\\n        </td>\\n        <td width=\"54%\">\\n         <font style=\"FONT-SIZE:.80em;\">\\n          ...... Coal\\n          <br/>\\n          ...... Metal/Nonmetal\\n         </font>\\n        </td>\\n       </tr>\\n      </table>\\n     </td>\\n    </tr>\\n   </table>\\n   <br/>\\n   <table align=\"center\" bgcolor=\"LemonChiffon\" border=\"1\" bordercolordark=\"Black\" bordercolorlight=\"Gray\" cellpadding=\"5\" cellspacing=\"1\" width=\"95%\">\\n    <tr>\\n     <th bgcolor=\"#D7D7D6\" width=\"10%\">\\n      <font style=\"FONT-SIZE:.75em;\">\\n       ID\\n      </font>\\n     </th>\\n     <th bgcolor=\"#D7D7D6\" width=\"5%\">\\n      <font style=\"FONT-SIZE:.75em;\">\\n       State\\n      </font>\\n     </th>\\n     <th bgcolor=\"#D7D7D6\" width=\"20%\">\\n      <font style=\"FONT-SIZE:.75em;\">\\n       Operator\\n      </font>\\n     </th>\\n     <th bgcolor=\"#D7D7D6\" width=\"20%\">\\n      <font style=\"FONT-SIZE:.75em;\">\\n       Mine Name\\n      </font>\\n     </th>\\n     <th bgcolor=\"#D7D7D6\" width=\"5%\">\\n      <font style=\"FONT-SIZE:.75em;\">\\n       Type\\n      </font>\\n     </th>\\n     <th bgcolor=\"#D7D7D6\" width=\"5%\">\\n      <font style=\"FONT-SIZE:.75em;\">\\n       CM*\\n      </font>\\n     </th>\\n     <th bgcolor=\"#D7D7D6\" width=\"5%\">\\n      <font style=\"FONT-SIZE:.75em;\">\\n       Status\\n      </font>\\n     </th>\\n     <th bgcolor=\"#D7D7D6\" width=\"20%\">\\n      <font style=\"FONT-SIZE:.75em;\">\\n       Commodity\\n      </font>\\n     </th>\\n     <th bgcolor=\"#D7D7D6\" width=\"10%\">\\n      <font style=\"FONT-SIZE:.75em;\">\\n       More Info\\n      </font>\\n     </th>\\n    </tr>\\n    <tr>\\n     <td align=\"center\">\\n      <form action=\"/drs/ASP/BasicMineInfostatecounty.asp\" method=\"post\" name=\"search\">\\n       <input name=\"MineId\" type=\"hidden\" value=\"3503598\"/>\\n       <font style=\"FONT-SIZE:.75em;\">\\n        3503598\\n       </font>\\n      </form>\\n     </td>\\n     <td>\\n      <font style=\"FONT-SIZE:.75em;\">\\n       <!-- DNT -->\\n       <b>\\n        OR\\n       </b>\\n       <!-- /DNT -->\\n      </font>\\n     </td>\\n     <td>\\n      <font style=\"FONT-SIZE:.75em;\">\\n       <!-- DNT -->\\n       Newberg Rock &amp; Dirt\\n       <!-- /DNT -->\\n      </font>\\n     </td>\\n     <td>\\n      <font style=\"FONT-SIZE:.75em;\">\\n       <!-- DNT -->\\n       Newberg Rock &amp; Dirt\\n       <!-- /DNT -->\\n      </font>\\n     </td>\\n     <td align=\"center\">\\n      <font style=\"FONT-SIZE:.75em;\">\\n       <!-- DNT -->\\n       Surface\\n       <!-- /DNT -->\\n      </font>\\n     </td>\\n     <td align=\"center\">\\n      <font style=\"FONT-SIZE:.75em;\">\\n       <!-- DNT -->\\n       M\\n       <!-- /DNT -->\\n      </font>\\n     </td>\\n     <td>\\n      <font style=\"FONT-SIZE:.75em;\">\\n       Active\\n      </font>\\n     </td>\\n     <td>\\n      <font style=\"FONT-SIZE:.75em;\">\\n       Crushed, Broken Stone NEC\\n      </font>\\n     </td>\\n     <th bgcolor=\"#000000\">\\n      <input alt=\"More Information\" border=\"0\" name=\"submit\" src=\"/drs/images/moreinfo.jpg\" type=\"image\"/>\\n     </th>\\n    </tr>\\n   </table>\\n  </div>\\n </div>\\n</body>\\n<tr>\\n <td align=\"center\">\\n  <form action=\"/drs/ASP/BasicMineInfostatecounty.asp\" method=\"post\" name=\"search\">\\n   <input name=\"MineId\" type=\"hidden\" value=\"4801789\"/>\\n   <font style=\"FONT-SIZE:.75em;\">\\n    4801789\\n   </font>\\n  </form>\\n </td>\\n <td>\\n  <font style=\"FONT-SIZE:.75em;\">\\n   <!-- DNT -->\\n   <b>\\n    ND\\n   </b>\\n   <!-- /DNT -->\\n  </font>\\n </td>\\n <td>\\n  <font style=\"FONT-SIZE:.75em;\">\\n   <!-- DNT -->\\n   AM Dirtworks &amp; Aggregate Sales\\n   <!-- /DNT -->\\n  </font>\\n </td>\\n <td>\\n  <font style=\"FONT-SIZE:.75em;\">\\n   <!-- DNT -->\\n   AM Dirtworks &amp; Aggregate Sales\\n   <!-- /DNT -->\\n  </font>\\n </td>\\n <td align=\"center\">\\n  <font style=\"FONT-SIZE:.75em;\">\\n   <!-- DNT -->\\n   Surface\\n   <!-- /DNT -->\\n  </font>\\n </td>\\n <td align=\"center\">\\n  <font style=\"FONT-SIZE:.75em;\">\\n   <!-- DNT -->\\n   M\\n   <!-- /DNT -->\\n  </font>\\n </td>\\n <td>\\n  <font style=\"FONT-SIZE:.75em;\">\\n   Intermittent\\n  </font>\\n </td>\\n <td>\\n  <font style=\"FONT-SIZE:.75em;\">\\n   Construction Sand and Gravel\\n  </font>\\n </td>\\n <th bgcolor=\"#000000\">\\n  <input alt=\"More Information\" border=\"0\" name=\"submit\" src=\"/drs/images/moreinfo.jpg\" type=\"image\"/>\\n </th>\\n</tr>\\n<tr>\\n <td align=\"center\">\\n  <form action=\"/drs/ASP/BasicMineInfostatecounty.asp\" method=\"post\" name=\"search\">\\n   <input name=\"MineId\" type=\"hidden\" value=\"5001797\"/>\\n   <font style=\"FONT-SIZE:.75em;\">\\n    5001797\\n   </font>\\n  </form>\\n </td>\\n <td>\\n  <font style=\"FONT-SIZE:.75em;\">\\n   <!-- DNT -->\\n   <b>\\n    AK\\n   </b>\\n   <!-- /DNT -->\\n  </font>\\n </td>\\n <td>\\n  <font style=\"FONT-SIZE:.75em;\">\\n   <!-- DNT -->\\n   Dirt Company\\n   <!-- /DNT -->\\n  </font>\\n </td>\\n <td>\\n  <font style=\"FONT-SIZE:.75em;\">\\n   <!-- DNT -->\\n   Bush Pilot\\n   <!-- /DNT -->\\n  </font>\\n </td>\\n <td align=\"center\">\\n  <font style=\"FONT-SIZE:.75em;\">\\n   <!-- DNT -->\\n   Surface\\n   <!-- /DNT -->\\n  </font>\\n </td>\\n <td align=\"center\">\\n  <font style=\"FONT-SIZE:.75em;\">\\n   <!-- DNT -->\\n   M\\n   <!-- /DNT -->\\n  </font>\\n </td>\\n <td>\\n  <font style=\"FONT-SIZE:.75em;\">\\n   Intermittent\\n  </font>\\n </td>\\n <td>\\n  <font style=\"FONT-SIZE:.75em;\">\\n   Construction Sand and Gravel\\n  </font>\\n </td>\\n <th bgcolor=\"#000000\">\\n  <input alt=\"More Information\" border=\"0\" name=\"submit\" src=\"/drs/images/moreinfo.jpg\" type=\"image\"/>\\n </th>\\n</tr>\\n<tr>\\n <td align=\"center\">\\n  <form action=\"/drs/ASP/BasicMineInfostatecounty.asp\" method=\"post\" name=\"search\">\\n   <input name=\"MineId\" type=\"hidden\" value=\"4608254\"/>\\n   <font style=\"FONT-SIZE:.75em;\">\\n    4608254\\n   </font>\\n  </form>\\n </td>\\n <td>\\n  <font style=\"FONT-SIZE:.75em;\">\\n   <!-- DNT -->\\n   <b>\\n    WV\\n   </b>\\n   <!-- /DNT -->\\n  </font>\\n </td>\\n <td>\\n  <font style=\"FONT-SIZE:.75em;\">\\n   <!-- DNT -->\\n   Dirt Con\\n   <!-- /DNT -->\\n  </font>\\n </td>\\n <td>\\n  <font style=\"FONT-SIZE:.75em;\">\\n   <!-- DNT -->\\n   Hog Lick Quarry\\n   <!-- /DNT -->\\n  </font>\\n </td>\\n <td align=\"center\">\\n  <font style=\"FONT-SIZE:.75em;\">\\n   <!-- DNT -->\\n   Surface\\n   <!-- /DNT -->\\n  </font>\\n </td>\\n <td align=\"center\">\\n  <font style=\"FONT-SIZE:.75em;\">\\n   <!-- DNT -->\\n   M\\n   <!-- /DNT -->\\n  </font>\\n </td>\\n <td>\\n  <font style=\"FONT-SIZE:.75em;\">\\n   Temporarily Idled\\n  </font>\\n </td>\\n <td>\\n  <font style=\"FONT-SIZE:.75em;\">\\n   Crushed, Broken Limestone NEC\\n  </font>\\n </td>\\n <th bgcolor=\"#000000\">\\n  <input alt=\"More Information\" border=\"0\" name=\"submit\" src=\"/drs/images/moreinfo.jpg\" type=\"image\"/>\\n </th>\\n</tr>\\n<tr>\\n <td align=\"center\">\\n  <form action=\"/drs/ASP/BasicMineInfostatecounty.asp\" method=\"post\" name=\"search\">\\n   <input name=\"MineId\" type=\"hidden\" value=\"2103723\"/>\\n   <font style=\"FONT-SIZE:.75em;\">\\n    2103723\\n   </font>\\n  </form>\\n </td>\\n <td>\\n  <font style=\"FONT-SIZE:.75em;\">\\n   <!-- DNT -->\\n   <b>\\n    MN\\n   </b>\\n   <!-- /DNT -->\\n  </font>\\n </td>\\n <td>\\n  <font style=\"FONT-SIZE:.75em;\">\\n   <!-- DNT -->\\n   Dirt Doctor Inc\\n   <!-- /DNT -->\\n  </font>\\n </td>\\n <td>\\n  <font style=\"FONT-SIZE:.75em;\">\\n   <!-- DNT -->\\n   Rock Lake Plant\\n   <!-- /DNT -->\\n  </font>\\n </td>\\n <td align=\"center\">\\n  <font style=\"FONT-SIZE:.75em;\">\\n   <!-- DNT -->\\n   Surface\\n   <!-- /DNT -->\\n  </font>\\n </td>\\n <td align=\"center\">\\n  <font style=\"FONT-SIZE:.75em;\">\\n   <!-- DNT -->\\n   M\\n   <!-- /DNT -->\\n  </font>\\n </td>\\n <td>\\n  <font style=\"FONT-SIZE:.75em;\">\\n   Intermittent\\n  </font>\\n </td>\\n <td>\\n  <font style=\"FONT-SIZE:.75em;\">\\n   Construction Sand and Gravel\\n  </font>\\n </td>\\n <th bgcolor=\"#000000\">\\n  <input alt=\"More Information\" border=\"0\" name=\"submit\" src=\"/drs/images/moreinfo.jpg\" type=\"image\"/>\\n </th>\\n</tr>\\n<tr>\\n <td align=\"center\">\\n  <form action=\"/drs/ASP/BasicMineInfostatecounty.asp\" method=\"post\" name=\"search\">\\n   <input name=\"MineId\" type=\"hidden\" value=\"4104757\"/>\\n   <font style=\"FONT-SIZE:.75em;\">\\n    4104757\\n   </font>\\n  </form>\\n </td>\\n <td>\\n  <font style=\"FONT-SIZE:.75em;\">\\n   <!-- DNT -->\\n   <b>\\n    TX\\n   </b>\\n   <!-- /DNT -->\\n  </font>\\n </td>\\n <td>\\n  <font style=\"FONT-SIZE:.75em;\">\\n   <!-- DNT -->\\n   Dirt Works\\n   <!-- /DNT -->\\n  </font>\\n </td>\\n <td>\\n  <font style=\"FONT-SIZE:.75em;\">\\n   <!-- DNT -->\\n   Portable #1\\n   <!-- /DNT -->\\n  </font>\\n </td>\\n <td align=\"center\">\\n  <font style=\"FONT-SIZE:.75em;\">\\n   <!-- DNT -->\\n   Surface\\n   <!-- /DNT -->\\n  </font>\\n </td>\\n <td align=\"center\">\\n  <font style=\"FONT-SIZE:.75em;\">\\n   <!-- DNT -->\\n   M\\n   <!-- /DNT -->\\n  </font>\\n </td>\\n <td>\\n  <font style=\"FONT-SIZE:.75em;\">\\n   Intermittent\\n  </font>\\n </td>\\n <td>\\n  <font style=\"FONT-SIZE:.75em;\">\\n   Construction Sand and Gravel\\n  </font>\\n </td>\\n <th bgcolor=\"#000000\">\\n  <input alt=\"More Information\" border=\"0\" name=\"submit\" src=\"/drs/images/moreinfo.jpg\" type=\"image\"/>\\n </th>\\n</tr>\\n<tr>\\n <td align=\"center\">\\n  <form action=\"/drs/ASP/BasicMineInfostatecounty.asp\" method=\"post\" name=\"search\">\\n   <input name=\"MineId\" type=\"hidden\" value=\"0801306\"/>\\n   <font style=\"FONT-SIZE:.75em;\">\\n    0801306\\n   </font>\\n  </form>\\n </td>\\n <td>\\n  <font style=\"FONT-SIZE:.75em;\">\\n   <!-- DNT -->\\n   <b>\\n    FL\\n   </b>\\n   <!-- /DNT -->\\n  </font>\\n </td>\\n <td>\\n  <font style=\"FONT-SIZE:.75em;\">\\n   <!-- DNT -->\\n   Holley Dirt Company, Inc\\n   <!-- /DNT -->\\n  </font>\\n </td>\\n <td>\\n  <font style=\"FONT-SIZE:.75em;\">\\n   <!-- DNT -->\\n   River Road Pit\\n   <!-- /DNT -->\\n  </font>\\n </td>\\n <td align=\"center\">\\n  <font style=\"FONT-SIZE:.75em;\">\\n   <!-- DNT -->\\n   Surface\\n   <!-- /DNT -->\\n  </font>\\n </td>\\n <td align=\"center\">\\n  <font style=\"FONT-SIZE:.75em;\">\\n   <!-- DNT -->\\n   M\\n   <!-- /DNT -->\\n  </font>\\n </td>\\n <td>\\n  <font style=\"FONT-SIZE:.75em;\">\\n   Active\\n  </font>\\n </td>\\n <td>\\n  <font style=\"FONT-SIZE:.75em;\">\\n   Sand, Common\\n  </font>\\n </td>\\n <th bgcolor=\"#000000\">\\n  <input alt=\"More Information\" border=\"0\" name=\"submit\" src=\"/drs/images/moreinfo.jpg\" type=\"image\"/>\\n </th>\\n</tr>\\n<tr>\\n <td align=\"center\">\\n  <form action=\"/drs/ASP/BasicMineInfostatecounty.asp\" method=\"post\" name=\"search\">\\n   <input name=\"MineId\" type=\"hidden\" value=\"3901432\"/>\\n   <font style=\"FONT-SIZE:.75em;\">\\n    3901432\\n   </font>\\n  </form>\\n </td>\\n <td>\\n  <font style=\"FONT-SIZE:.75em;\">\\n   <!-- DNT -->\\n   <b>\\n    SD\\n   </b>\\n   <!-- /DNT -->\\n  </font>\\n </td>\\n <td>\\n  <font style=\"FONT-SIZE:.75em;\">\\n   <!-- DNT -->\\n   Krueger Brothers Gravel &amp; Dirt\\n   <!-- /DNT -->\\n  </font>\\n </td>\\n <td>\\n  <font style=\"FONT-SIZE:.75em;\">\\n   <!-- DNT -->\\n   PORTABLE SCREENER\\n   <!-- /DNT -->\\n  </font>\\n </td>\\n <td align=\"center\">\\n  <font style=\"FONT-SIZE:.75em;\">\\n   <!-- DNT -->\\n   Surface\\n   <!-- /DNT -->\\n  </font>\\n </td>\\n <td align=\"center\">\\n  <font style=\"FONT-SIZE:.75em;\">\\n   <!-- DNT -->\\n   M\\n   <!-- /DNT -->\\n  </font>\\n </td>\\n <td>\\n  <font style=\"FONT-SIZE:.75em;\">\\n   Intermittent\\n  </font>\\n </td>\\n <td>\\n  <font style=\"FONT-SIZE:.75em;\">\\n   Construction Sand and Gravel\\n  </font>\\n </td>\\n <th bgcolor=\"#000000\">\\n  <input alt=\"More Information\" border=\"0\" name=\"submit\" src=\"/drs/images/moreinfo.jpg\" type=\"image\"/>\\n </th>\\n</tr>\\n<tr>\\n <td align=\"center\">\\n  <form action=\"/drs/ASP/BasicMineInfostatecounty.asp\" method=\"post\" name=\"search\">\\n   <input name=\"MineId\" type=\"hidden\" value=\"3609624\"/>\\n   <font style=\"FONT-SIZE:.75em;\">\\n    3609624\\n   </font>\\n  </form>\\n </td>\\n <td>\\n  <font style=\"FONT-SIZE:.75em;\">\\n   <!-- DNT -->\\n   <b>\\n    PA\\n   </b>\\n   <!-- /DNT -->\\n  </font>\\n </td>\\n <td>\\n  <font style=\"FONT-SIZE:.75em;\">\\n   <!-- DNT -->\\n   M R Dirt\\n   <!-- /DNT -->\\n  </font>\\n </td>\\n <td>\\n  <font style=\"FONT-SIZE:.75em;\">\\n   <!-- DNT -->\\n   Forbes Pit\\n   <!-- /DNT -->\\n  </font>\\n </td>\\n <td align=\"center\">\\n  <font style=\"FONT-SIZE:.75em;\">\\n   <!-- DNT -->\\n   Surface\\n   <!-- /DNT -->\\n  </font>\\n </td>\\n <td align=\"center\">\\n  <font style=\"FONT-SIZE:.75em;\">\\n   <!-- DNT -->\\n   M\\n   <!-- /DNT -->\\n  </font>\\n </td>\\n <td>\\n  <font style=\"FONT-SIZE:.75em;\">\\n   Intermittent\\n  </font>\\n </td>\\n <td>\\n  <font style=\"FONT-SIZE:.75em;\">\\n   Construction Sand and Gravel\\n  </font>\\n </td>\\n <th bgcolor=\"#000000\">\\n  <input alt=\"More Information\" border=\"0\" name=\"submit\" src=\"/drs/images/moreinfo.jpg\" type=\"image\"/>\\n </th>\\n</tr>\\n<tr>\\n <td align=\"center\">\\n  <form action=\"/drs/ASP/BasicMineInfostatecounty.asp\" method=\"post\" name=\"search\">\\n   <input name=\"MineId\" type=\"hidden\" value=\"3609931\"/>\\n   <font style=\"FONT-SIZE:.75em;\">\\n    3609931\\n   </font>\\n  </form>\\n </td>\\n <td>\\n  <font style=\"FONT-SIZE:.75em;\">\\n   <!-- DNT -->\\n   <b>\\n    PA\\n   </b>\\n   <!-- /DNT -->\\n  </font>\\n </td>\\n <td>\\n  <font style=\"FONT-SIZE:.75em;\">\\n   <!-- DNT -->\\n   M.R. Dirt Inc.\\n   <!-- /DNT -->\\n  </font>\\n </td>\\n <td>\\n  <font style=\"FONT-SIZE:.75em;\">\\n   <!-- DNT -->\\n   Camptown Quarry\\n   <!-- /DNT -->\\n  </font>\\n </td>\\n <td align=\"center\">\\n  <font style=\"FONT-SIZE:.75em;\">\\n   <!-- DNT -->\\n   Surface\\n   <!-- /DNT -->\\n  </font>\\n </td>\\n <td align=\"center\">\\n  <font style=\"FONT-SIZE:.75em;\">\\n   <!-- DNT -->\\n   M\\n   <!-- /DNT -->\\n  </font>\\n </td>\\n <td>\\n  <font style=\"FONT-SIZE:.75em;\">\\n   Intermittent\\n  </font>\\n </td>\\n <td>\\n  <font style=\"FONT-SIZE:.75em;\">\\n   Dimension Stone NEC\\n  </font>\\n </td>\\n <th bgcolor=\"#000000\">\\n  <input alt=\"More Information\" border=\"0\" name=\"submit\" src=\"/drs/images/moreinfo.jpg\" type=\"image\"/>\\n </th>\\n</tr>\\n<tr>\\n <td align=\"center\">\\n  <form action=\"/drs/ASP/BasicMineInfostatecounty.asp\" method=\"post\" name=\"search\">\\n   <input name=\"MineId\" type=\"hidden\" value=\"1519799\"/>\\n   <font style=\"FONT-SIZE:.75em;\">\\n    1519799\\n   </font>\\n  </form>\\n </td>\\n <td>\\n  <font style=\"FONT-SIZE:.75em;\">\\n   <!-- DNT -->\\n   <b>\\n    KY\\n   </b>\\n   <!-- /DNT -->\\n  </font>\\n </td>\\n <td>\\n  <font style=\"FONT-SIZE:.75em;\">\\n   <!-- DNT -->\\n   P B Dirt Movers, Inc\\n   <!-- /DNT -->\\n  </font>\\n </td>\\n <td>\\n  <font style=\"FONT-SIZE:.75em;\">\\n   <!-- DNT -->\\n   Fedscreek Surface\\n   <!-- /DNT -->\\n  </font>\\n </td>\\n <td align=\"center\">\\n  <font style=\"FONT-SIZE:.75em;\">\\n   <!-- DNT -->\\n   Surface\\n   <!-- /DNT -->\\n  </font>\\n </td>\\n <td align=\"center\">\\n  <font style=\"FONT-SIZE:.75em;\">\\n   <!-- DNT -->\\n   C\\n   <!-- /DNT -->\\n  </font>\\n </td>\\n <td>\\n  <font style=\"FONT-SIZE:.75em;\">\\n   Active\\n  </font>\\n </td>\\n <td>\\n  <font style=\"FONT-SIZE:.75em;\">\\n   Coal (Bituminous)\\n  </font>\\n </td>\\n <th bgcolor=\"#000000\">\\n  <input alt=\"More Information\" border=\"0\" name=\"submit\" src=\"/drs/images/moreinfo.jpg\" type=\"image\"/>\\n </th>\\n</tr>\\n<tr>\\n <td align=\"center\">\\n  <form action=\"/drs/ASP/BasicMineInfostatecounty.asp\" method=\"post\" name=\"search\">\\n   <input name=\"MineId\" type=\"hidden\" value=\"4407296\"/>\\n   <font style=\"FONT-SIZE:.75em;\">\\n    4407296\\n   </font>\\n  </form>\\n </td>\\n <td>\\n  <font style=\"FONT-SIZE:.75em;\">\\n   <!-- DNT -->\\n   <b>\\n    VA\\n   </b>\\n   <!-- /DNT -->\\n  </font>\\n </td>\\n <td>\\n  <font style=\"FONT-SIZE:.75em;\">\\n   <!-- DNT -->\\n   PB Dirt Movers\\n   <!-- /DNT -->\\n  </font>\\n </td>\\n <td>\\n  <font style=\"FONT-SIZE:.75em;\">\\n   <!-- DNT -->\\n   Mine No. 6\\n   <!-- /DNT -->\\n  </font>\\n </td>\\n <td align=\"center\">\\n  <font style=\"FONT-SIZE:.75em;\">\\n   <!-- DNT -->\\n   Underground\\n   <!-- /DNT -->\\n  </font>\\n </td>\\n <td align=\"center\">\\n  <font style=\"FONT-SIZE:.75em;\">\\n   <!-- DNT -->\\n   C\\n   <!-- /DNT -->\\n  </font>\\n </td>\\n <td>\\n  <font style=\"FONT-SIZE:.75em;\">\\n   Temporarily Idled\\n  </font>\\n </td>\\n <td>\\n  <font style=\"FONT-SIZE:.75em;\">\\n   Coal (Bituminous)\\n  </font>\\n </td>\\n <th bgcolor=\"#000000\">\\n  <input alt=\"More Information\" border=\"0\" name=\"submit\" src=\"/drs/images/moreinfo.jpg\" type=\"image\"/>\\n </th>\\n</tr>\\n<tr>\\n <td align=\"center\">\\n  <form action=\"/drs/ASP/BasicMineInfostatecounty.asp\" method=\"post\" name=\"search\">\\n   <input name=\"MineId\" type=\"hidden\" value=\"4407270\"/>\\n   <font style=\"FONT-SIZE:.75em;\">\\n    4407270\\n   </font>\\n  </form>\\n </td>\\n <td>\\n  <font style=\"FONT-SIZE:.75em;\">\\n   <!-- DNT -->\\n   <b>\\n    VA\\n   </b>\\n   <!-- /DNT -->\\n  </font>\\n </td>\\n <td>\\n  <font style=\"FONT-SIZE:.75em;\">\\n   <!-- DNT -->\\n   PB Dirt Movers, Inc\\n   <!-- /DNT -->\\n  </font>\\n </td>\\n <td>\\n  <font style=\"FONT-SIZE:.75em;\">\\n   <!-- DNT -->\\n   Surface Mine No. 1\\n   <!-- /DNT -->\\n  </font>\\n </td>\\n <td align=\"center\">\\n  <font style=\"FONT-SIZE:.75em;\">\\n   <!-- DNT -->\\n   Surface\\n   <!-- /DNT -->\\n  </font>\\n </td>\\n <td align=\"center\">\\n  <font style=\"FONT-SIZE:.75em;\">\\n   <!-- DNT -->\\n   C\\n   <!-- /DNT -->\\n  </font>\\n </td>\\n <td>\\n  <font style=\"FONT-SIZE:.75em;\">\\n   NonProducing\\n  </font>\\n </td>\\n <td>\\n  <font style=\"FONT-SIZE:.75em;\">\\n   Coal (Bituminous)\\n  </font>\\n </td>\\n <th bgcolor=\"#000000\">\\n  <input alt=\"More Information\" border=\"0\" name=\"submit\" src=\"/drs/images/moreinfo.jpg\" type=\"image\"/>\\n </th>\\n</tr>\\n<tr>\\n <td align=\"center\">\\n  <form action=\"/drs/ASP/BasicMineInfostatecounty.asp\" method=\"post\" name=\"search\">\\n   <input name=\"MineId\" type=\"hidden\" value=\"0203332\"/>\\n   <font style=\"FONT-SIZE:.75em;\">\\n    0203332\\n   </font>\\n  </form>\\n </td>\\n <td>\\n  <font style=\"FONT-SIZE:.75em;\">\\n   <!-- DNT -->\\n   <b>\\n    AZ\\n   </b>\\n   <!-- /DNT -->\\n  </font>\\n </td>\\n <td>\\n  <font style=\"FONT-SIZE:.75em;\">\\n   <!-- DNT -->\\n   Prescott Dirt, LLC\\n   <!-- /DNT -->\\n  </font>\\n </td>\\n <td>\\n  <font style=\"FONT-SIZE:.75em;\">\\n   <!-- DNT -->\\n   Sandretto Drive\\n   <!-- /DNT -->\\n  </font>\\n </td>\\n <td align=\"center\">\\n  <font style=\"FONT-SIZE:.75em;\">\\n   <!-- DNT -->\\n   Surface\\n   <!-- /DNT -->\\n  </font>\\n </td>\\n <td align=\"center\">\\n  <font style=\"FONT-SIZE:.75em;\">\\n   <!-- DNT -->\\n   M\\n   <!-- /DNT -->\\n  </font>\\n </td>\\n <td>\\n  <font style=\"FONT-SIZE:.75em;\">\\n   Intermittent\\n  </font>\\n </td>\\n <td>\\n  <font style=\"FONT-SIZE:.75em;\">\\n   Construction Sand and Gravel\\n  </font>\\n </td>\\n <th bgcolor=\"#000000\">\\n  <input alt=\"More Information\" border=\"0\" name=\"submit\" src=\"/drs/images/moreinfo.jpg\" type=\"image\"/>\\n </th>\\n</tr>\\n<tr>\\n <td align=\"center\">\\n  <form action=\"/drs/ASP/BasicMineInfostatecounty.asp\" method=\"post\" name=\"search\">\\n   <input name=\"MineId\" type=\"hidden\" value=\"2901986\"/>\\n   <font style=\"FONT-SIZE:.75em;\">\\n    2901986\\n   </font>\\n  </form>\\n </td>\\n <td>\\n  <font style=\"FONT-SIZE:.75em;\">\\n   <!-- DNT -->\\n   <b>\\n    NM\\n   </b>\\n   <!-- /DNT -->\\n  </font>\\n </td>\\n <td>\\n  <font style=\"FONT-SIZE:.75em;\">\\n   <!-- DNT -->\\n   R D Blankenship Dirt Work LLC\\n   <!-- /DNT -->\\n  </font>\\n </td>\\n <td>\\n  <font style=\"FONT-SIZE:.75em;\">\\n   <!-- DNT -->\\n   R D BLANKENSHIP DIRT WORK\\n   <!-- /DNT -->\\n  </font>\\n </td>\\n <td align=\"center\">\\n  <font style=\"FONT-SIZE:.75em;\">\\n   <!-- DNT -->\\n   Surface\\n   <!-- /DNT -->\\n  </font>\\n </td>\\n <td align=\"center\">\\n  <font style=\"FONT-SIZE:.75em;\">\\n   <!-- DNT -->\\n   M\\n   <!-- /DNT -->\\n  </font>\\n </td>\\n <td>\\n  <font style=\"FONT-SIZE:.75em;\">\\n   Active\\n  </font>\\n </td>\\n <td>\\n  <font style=\"FONT-SIZE:.75em;\">\\n   Construction Sand and Gravel\\n  </font>\\n </td>\\n <th bgcolor=\"#000000\">\\n  <input alt=\"More Information\" border=\"0\" name=\"submit\" src=\"/drs/images/moreinfo.jpg\" type=\"image\"/>\\n </th>\\n</tr>\\n<tr>\\n <td align=\"center\">\\n  <form action=\"/drs/ASP/BasicMineInfostatecounty.asp\" method=\"post\" name=\"search\">\\n   <input name=\"MineId\" type=\"hidden\" value=\"4300768\"/>\\n   <font style=\"FONT-SIZE:.75em;\">\\n    4300768\\n   </font>\\n  </form>\\n </td>\\n <td>\\n  <font style=\"FONT-SIZE:.75em;\">\\n   <!-- DNT -->\\n   <b>\\n    VT\\n   </b>\\n   <!-- /DNT -->\\n  </font>\\n </td>\\n <td>\\n  <font style=\"FONT-SIZE:.75em;\">\\n   <!-- DNT -->\\n   SIMPSON DIRTWORX LLC\\n   <!-- /DNT -->\\n  </font>\\n </td>\\n <td>\\n  <font style=\"FONT-SIZE:.75em;\">\\n   <!-- DNT -->\\n   Pettibone Jaw Crusher\\n   <!-- /DNT -->\\n  </font>\\n </td>\\n <td align=\"center\">\\n  <font style=\"FONT-SIZE:.75em;\">\\n   <!-- DNT -->\\n   Surface\\n   <!-- /DNT -->\\n  </font>\\n </td>\\n <td align=\"center\">\\n  <font style=\"FONT-SIZE:.75em;\">\\n   <!-- DNT -->\\n   M\\n   <!-- /DNT -->\\n  </font>\\n </td>\\n <td>\\n  <font style=\"FONT-SIZE:.75em;\">\\n   Intermittent\\n  </font>\\n </td>\\n <td>\\n  <font style=\"FONT-SIZE:.75em;\">\\n   Construction Sand and Gravel\\n  </font>\\n </td>\\n <th bgcolor=\"#000000\">\\n  <input alt=\"More Information\" border=\"0\" name=\"submit\" src=\"/drs/images/moreinfo.jpg\" type=\"image\"/>\\n </th>\\n</tr>\\n<tr>\\n <td align=\"center\">\\n  <form action=\"/drs/ASP/BasicMineInfostatecounty.asp\" method=\"post\" name=\"search\">\\n   <input name=\"MineId\" type=\"hidden\" value=\"4300776\"/>\\n   <font style=\"FONT-SIZE:.75em;\">\\n    4300776\\n   </font>\\n  </form>\\n </td>\\n <td>\\n  <font style=\"FONT-SIZE:.75em;\">\\n   <!-- DNT -->\\n   <b>\\n    VT\\n   </b>\\n   <!-- /DNT -->\\n  </font>\\n </td>\\n <td>\\n  <font style=\"FONT-SIZE:.75em;\">\\n   <!-- DNT -->\\n   SIMPSON DIRTWORX LLC\\n   <!-- /DNT -->\\n  </font>\\n </td>\\n <td>\\n  <font style=\"FONT-SIZE:.75em;\">\\n   <!-- DNT -->\\n   Chieftan 1400\\n   <!-- /DNT -->\\n  </font>\\n </td>\\n <td align=\"center\">\\n  <font style=\"FONT-SIZE:.75em;\">\\n   <!-- DNT -->\\n   Surface\\n   <!-- /DNT -->\\n  </font>\\n </td>\\n <td align=\"center\">\\n  <font style=\"FONT-SIZE:.75em;\">\\n   <!-- DNT -->\\n   M\\n   <!-- /DNT -->\\n  </font>\\n </td>\\n <td>\\n  <font style=\"FONT-SIZE:.75em;\">\\n   Intermittent\\n  </font>\\n </td>\\n <td>\\n  <font style=\"FONT-SIZE:.75em;\">\\n   Construction Sand and Gravel\\n  </font>\\n </td>\\n <th bgcolor=\"#000000\">\\n  <input alt=\"More Information\" border=\"0\" name=\"submit\" src=\"/drs/images/moreinfo.jpg\" type=\"image\"/>\\n </th>\\n</tr>\\n<tr>\\n <td align=\"center\">\\n  <form action=\"/drs/ASP/BasicMineInfostatecounty.asp\" method=\"post\" name=\"search\">\\n   <input name=\"MineId\" type=\"hidden\" value=\"2302283\"/>\\n   <font style=\"FONT-SIZE:.75em;\">\\n    2302283\\n   </font>\\n  </form>\\n </td>\\n <td>\\n  <font style=\"FONT-SIZE:.75em;\">\\n   <!-- DNT -->\\n   <b>\\n    MO\\n   </b>\\n   <!-- /DNT -->\\n  </font>\\n </td>\\n <td>\\n  <font style=\"FONT-SIZE:.75em;\">\\n   <!-- DNT -->\\n   Spry\\'s Dirt &amp; Gravel, Inc.\\n   <!-- /DNT -->\\n  </font>\\n </td>\\n <td>\\n  <font style=\"FONT-SIZE:.75em;\">\\n   <!-- DNT -->\\n   Mike\\'s Money Pit\\n   <!-- /DNT -->\\n  </font>\\n </td>\\n <td align=\"center\">\\n  <font style=\"FONT-SIZE:.75em;\">\\n   <!-- DNT -->\\n   Surface\\n   <!-- /DNT -->\\n  </font>\\n </td>\\n <td align=\"center\">\\n  <font style=\"FONT-SIZE:.75em;\">\\n   <!-- DNT -->\\n   M\\n   <!-- /DNT -->\\n  </font>\\n </td>\\n <td>\\n  <font style=\"FONT-SIZE:.75em;\">\\n   Intermittent\\n  </font>\\n </td>\\n <td>\\n  <font style=\"FONT-SIZE:.75em;\">\\n   Construction Sand and Gravel\\n  </font>\\n </td>\\n <th bgcolor=\"#000000\">\\n  <input alt=\"More Information\" border=\"0\" name=\"submit\" src=\"/drs/images/moreinfo.jpg\" type=\"image\"/>\\n </th>\\n</tr>\\n<tr>\\n <td align=\"center\">\\n  <form action=\"/drs/ASP/BasicMineInfostatecounty.asp\" method=\"post\" name=\"search\">\\n   <input name=\"MineId\" type=\"hidden\" value=\"2103518\"/>\\n   <font style=\"FONT-SIZE:.75em;\">\\n    2103518\\n   </font>\\n  </form>\\n </td>\\n <td>\\n  <font style=\"FONT-SIZE:.75em;\">\\n   <!-- DNT -->\\n   <b>\\n    MN\\n   </b>\\n   <!-- /DNT -->\\n  </font>\\n </td>\\n <td>\\n  <font style=\"FONT-SIZE:.75em;\">\\n   <!-- DNT -->\\n   Vogt Dirt Service\\n   <!-- /DNT -->\\n  </font>\\n </td>\\n <td>\\n  <font style=\"FONT-SIZE:.75em;\">\\n   <!-- DNT -->\\n   Crusher\\n   <!-- /DNT -->\\n  </font>\\n </td>\\n <td align=\"center\">\\n  <font style=\"FONT-SIZE:.75em;\">\\n   <!-- DNT -->\\n   Surface\\n   <!-- /DNT -->\\n  </font>\\n </td>\\n <td align=\"center\">\\n  <font style=\"FONT-SIZE:.75em;\">\\n   <!-- DNT -->\\n   M\\n   <!-- /DNT -->\\n  </font>\\n </td>\\n <td>\\n  <font style=\"FONT-SIZE:.75em;\">\\n   Intermittent\\n  </font>\\n </td>\\n <td>\\n  <font style=\"FONT-SIZE:.75em;\">\\n   Construction Sand and Gravel\\n  </font>\\n </td>\\n <th bgcolor=\"#000000\">\\n  <input alt=\"More Information\" border=\"0\" name=\"submit\" src=\"/drs/images/moreinfo.jpg\" type=\"image\"/>\\n </th>\\n</tr>\\n<tr>\\n <td bgcolor=\"#000000\" colspan=\"8\">\\n  <font style=\"FONT-SIZE:.75em; color:#FFF\">\\n   <b>\\n    Total Number of Mines Found:\\n   </b>\\n   <b>\\n    19\\n   </b>\\n  </font>\\n </td>\\n</tr>\\n<p>\\n</p>\\n<p>\\n</p>\\n<div>\\n <a href=\"/drs/drshome.htm\" title=\"DRS Home Page\">\\n  <img align=\"middle\" alt=\"Return to DRS Home Page\" border=\"0\" height=\"18\" src=\"/headerfooter/drshomepage.jpg\" width=\"18\"/>\\n </a>\\n <a href=\"/drs/drshome.htm\" title=\"DRS Home Page\">\\n  <b>\\n   <font color=\"Maroon\" style=\"FONT-SIZE:8pt; FONT-FAMILY: Verdana, Arial, Helvetica, Sans-serif\">\\n    Return to DRS Home Page\\n   </font>\\n  </b>\\n </a>\\n</div>\\n<!-- This ends the page content-->\\n<!--This Starts the Footer-->\\n<div id=\"footer\">\\n <div style=\"clear:both;\">\\n </div>\\n <div id=\"fone\">\\n  <a href=\"/faq/faqhome.htm\">\\n   FAQs\\n  </a>\\n  |\\n  <a href=\"/readroom/readroom.htm\">\\n   Freedom of Information Act\\n  </a>\\n  |\\n  <a href=\"/privacy.htm\">\\n   Privacy &amp; Security Statement\\n  </a>\\n  |\\n  <a href=\"/disclaim.htm\">\\n   Disclaimers\\n  </a>\\n  |\\n  <a href=\"/forms/helpdesk.asp\" target=\"_blank\" title=\"Forms Help Desk\">\\n   Online Filing Help Desk\\n  </a>\\n  |\\n  <a href=\"/contactmsha/contactmsha.htm\">\\n   Contact Us\\n  </a>\\n </div>\\n <div id=\"ftwo\">\\n  U.S. Department of Labor\\xa0|\\xa0Mine Safety and Health Administration (MSHA)\\xa0|\\xa0201 12th Street South, Suite 401\\xa0|\\xa0Arlington, VA 22202-5450\\n  <br>\\n   <a href=\"http://www.msha.gov\" style=\"text-decoration: underline;\">\\n    www.msha.gov\\n   </a>\\n   |\\n   <a href=\"http://www.dol.gov/dol/contact/contact-phonecallcenter.htm\">\\n    TTY\\n   </a>\\n   |\\xa0Telephone:  (202) 693-9400\\n  </br>\\n </div>\\n</div>\\n<!--This Ends the Footer-->\\n<!--Footer End -->\\n'"
      ]
     },
     "execution_count": 2,
     "metadata": {},
     "output_type": "execute_result"
    }
   ],
   "source": [
    "url = 'https://arlweb.msha.gov/drs/ASP/OprNameStatesearch.asp'\n",
    "\n",
    "data = {\n",
    "'OperSearch':'dirt',\n",
    "'Abandoned': 'No',\n",
    "'MineName': '',\n",
    "'StateSearch':'None',\n",
    "'CM':'All',\n",
    "'x':'0',\n",
    "'y':'0',\n",
    "'MC':'Opersearch'\n",
    "}\n",
    "\n",
    "response = requests.post(url, data=data)\n",
    "doc = BeautifulSoup(response.text, 'html.parser')  \n",
    "doc.prettify()"
   ]
  },
  {
   "cell_type": "markdown",
   "metadata": {},
   "source": [
    "### What is the tag and class name for every mine operator's name?"
   ]
  },
  {
   "cell_type": "code",
   "execution_count": 3,
   "metadata": {
    "collapsed": true
   },
   "outputs": [],
   "source": [
    "#<td> "
   ]
  },
  {
   "cell_type": "markdown",
   "metadata": {},
   "source": [
    "### What is the tag and class name for every mine's name?"
   ]
  },
  {
   "cell_type": "code",
   "execution_count": 4,
   "metadata": {
    "collapsed": true
   },
   "outputs": [],
   "source": [
    "#<td> "
   ]
  },
  {
   "cell_type": "markdown",
   "metadata": {},
   "source": [
    "### What is the tag and class name for every mine operator's name?"
   ]
  },
  {
   "cell_type": "code",
   "execution_count": 5,
   "metadata": {
    "collapsed": true
   },
   "outputs": [],
   "source": [
    "#<td> "
   ]
  },
  {
   "cell_type": "markdown",
   "metadata": {},
   "source": [
    "### What is the tag and class name for every mine operator's name?"
   ]
  },
  {
   "cell_type": "code",
   "execution_count": 6,
   "metadata": {
    "collapsed": true
   },
   "outputs": [],
   "source": [
    "#<td>"
   ]
  },
  {
   "cell_type": "markdown",
   "metadata": {},
   "source": [
    "## Being lazy\n",
    "\n",
    "If you only needed these results, what would you do instead of scraping them?"
   ]
  },
  {
   "cell_type": "code",
   "execution_count": 7,
   "metadata": {
    "collapsed": true
   },
   "outputs": [],
   "source": [
    "#put into excel "
   ]
  },
  {
   "cell_type": "markdown",
   "metadata": {},
   "source": [
    "## Setup: Import what you'll need to scrape the page\n",
    "\n",
    "Use `requests`, not `urllib`."
   ]
  },
  {
   "cell_type": "code",
   "execution_count": 8,
   "metadata": {
    "collapsed": true
   },
   "outputs": [],
   "source": [
    "#done above "
   ]
  },
  {
   "cell_type": "markdown",
   "metadata": {},
   "source": [
    "## Try to scrape the page\n",
    "\n",
    "To test if you requested the page correctly, save the BeautifulSoup document as `doc` and run the code `doc.find_all('tr')[-1].text` to get the text of the last `<tr>` element.\n",
    "\n",
    "- If the result starts with **Total Number of Mines Found**, you were successful."
   ]
  },
  {
   "cell_type": "code",
   "execution_count": 9,
   "metadata": {},
   "outputs": [
    {
     "name": "stdout",
     "output_type": "stream",
     "text": [
      "\n",
      "Total Number of Mines Found:  19\n"
     ]
    }
   ],
   "source": [
    "scrape = doc.find_all('tr')[-1]\n",
    "print(scrape.text)"
   ]
  },
  {
   "cell_type": "markdown",
   "metadata": {},
   "source": [
    "## Actually scraping"
   ]
  },
  {
   "cell_type": "markdown",
   "metadata": {},
   "source": [
    "### Hopefully you know that each `tr` is supposed to be your data. What is the index of the first row element that is actually a result?\n",
    "\n",
    "`.text` will help you here."
   ]
  },
  {
   "cell_type": "code",
   "execution_count": 10,
   "metadata": {},
   "outputs": [
    {
     "name": "stdout",
     "output_type": "stream",
     "text": [
      "\n",
      "\n",
      "\n",
      "3503598\n",
      "\n",
      "OR \n",
      " Newberg Rock & Dirt  \n",
      "Newberg Rock & Dirt\n",
      "Surface             \n",
      "M \n",
      "Active  \n",
      "Crushed, Broken Stone NEC  \n",
      "\n"
     ]
    }
   ],
   "source": [
    "body = doc.find('body') \n",
    "row_tags = body.find_all('tr')[7]\n",
    "print(row_tags.text)"
   ]
  },
  {
   "cell_type": "markdown",
   "metadata": {},
   "source": [
    "### Loop through each operator result, printing its name\n",
    "\n",
    "Use LIST SLICING to skip the non-data row(s)."
   ]
  },
  {
   "cell_type": "code",
   "execution_count": 11,
   "metadata": {},
   "outputs": [
    {
     "name": "stdout",
     "output_type": "stream",
     "text": [
      " Newberg Rock & Dirt  \n",
      "---\n",
      "AM Dirtworks & Aggregate Sales  \n",
      "---\n",
      "Dirt Company  \n",
      "---\n",
      "Dirt Con  \n",
      "---\n",
      "Dirt Doctor Inc  \n",
      "---\n",
      "Dirt Works  \n",
      "---\n",
      "Holley Dirt Company, Inc  \n",
      "---\n",
      "Krueger Brothers Gravel & Dirt  \n",
      "---\n",
      "M R Dirt  \n",
      "---\n",
      "M.R. Dirt Inc.  \n",
      "---\n",
      "P B Dirt Movers, Inc  \n",
      "---\n",
      "PB Dirt Movers  \n",
      "---\n"
     ]
    }
   ],
   "source": [
    "row = doc.find_all('tr')\n",
    "\n",
    "for element in row[7:19]:\n",
    "    operator = element.find_all('td')[2]\n",
    "    print(operator.text)\n",
    "    print('---')"
   ]
  },
  {
   "cell_type": "markdown",
   "metadata": {},
   "source": [
    "### Loop through each operator result, printing its ID\n",
    "\n",
    "There should be ONE code per row, and NO empty rows between them."
   ]
  },
  {
   "cell_type": "code",
   "execution_count": 12,
   "metadata": {},
   "outputs": [
    {
     "name": "stdout",
     "output_type": "stream",
     "text": [
      "\n",
      "\n",
      "3503598\n",
      "\n",
      "\n",
      "\n",
      "4801789\n",
      "\n",
      "\n",
      "\n",
      "5001797\n",
      "\n",
      "\n",
      "\n",
      "4608254\n",
      "\n",
      "\n",
      "\n",
      "2103723\n",
      "\n",
      "\n",
      "\n",
      "4104757\n",
      "\n",
      "\n",
      "\n",
      "0801306\n",
      "\n",
      "\n",
      "\n",
      "3901432\n",
      "\n",
      "\n",
      "\n",
      "3609624\n",
      "\n",
      "\n",
      "\n",
      "3609931\n",
      "\n",
      "\n",
      "\n",
      "1519799\n",
      "\n",
      "\n",
      "\n",
      "4407296\n",
      "\n"
     ]
    }
   ],
   "source": [
    "row = doc.find_all('tr')\n",
    "\n",
    "for element2 in row[7:19]:\n",
    "    operator2 = element2.find_all('td')[0]\n",
    "    if not operator2:\n",
    "        continue\n",
    "    print(operator2.text)\n",
    "    #print('---')"
   ]
  },
  {
   "cell_type": "markdown",
   "metadata": {},
   "source": [
    "## Saving the results\n",
    "\n",
    "### Loop through each `tr` to create a list of dictionaries\n",
    "\n",
    "Each dictionary must contain\n",
    "\n",
    "- Operator ID\n",
    "- Operator name\n",
    "- Mine name\n",
    "- State\n",
    "- Mine type\n",
    "- Coal or metal\n",
    "- Status\n",
    "- Commodity\n",
    "\n",
    "Create a new dictionary for each row."
   ]
  },
  {
   "cell_type": "code",
   "execution_count": 33,
   "metadata": {
    "collapsed": true
   },
   "outputs": [],
   "source": [
    "mines = {\n",
    "    \n",
    "    'Operator ID': '',\n",
    "    'Operator name': '',\n",
    "    'Mine name': '',\n",
    "    'State': '',\n",
    "    'Mine type': '',\n",
    "    'Coal or metal': '',\n",
    "    'Status': '',\n",
    "    'Commodity': ''\n",
    "}"
   ]
  },
  {
   "cell_type": "code",
   "execution_count": 34,
   "metadata": {},
   "outputs": [
    {
     "data": {
      "text/plain": [
       "dict_keys(['Operator ID', 'Operator name', 'Mine name', 'State', 'Mine type', 'Coal or metal', 'Status', 'Commodity'])"
      ]
     },
     "execution_count": 34,
     "metadata": {},
     "output_type": "execute_result"
    }
   ],
   "source": [
    "mines.keys()"
   ]
  },
  {
   "cell_type": "code",
   "execution_count": 42,
   "metadata": {},
   "outputs": [
    {
     "name": "stdout",
     "output_type": "stream",
     "text": [
      " Newberg Rock & Dirt  \n",
      "\n",
      "\n",
      "3503598\n",
      "\n",
      " Newberg Rock & Dirt  \n",
      "OR \n",
      "Surface             \n",
      "M \n",
      "Active  \n",
      "Crushed, Broken Stone NEC  \n",
      "AM Dirtworks & Aggregate Sales  \n",
      "\n",
      "\n",
      "4801789\n",
      "\n",
      "AM Dirtworks & Aggregate Sales  \n",
      "ND \n",
      "Surface             \n",
      "M \n",
      "Intermittent  \n",
      "Construction Sand and Gravel  \n",
      "Dirt Company  \n",
      "\n",
      "\n",
      "5001797\n",
      "\n",
      "Dirt Company  \n",
      "AK \n",
      "Surface             \n",
      "M \n",
      "Intermittent  \n",
      "Construction Sand and Gravel  \n",
      "Dirt Con  \n",
      "\n",
      "\n",
      "4608254\n",
      "\n",
      "Dirt Con  \n",
      "WV \n",
      "Surface             \n",
      "M \n",
      "Temporarily Idled  \n",
      "Crushed, Broken Limestone NEC  \n",
      "Dirt Doctor Inc  \n",
      "\n",
      "\n",
      "2103723\n",
      "\n",
      "Dirt Doctor Inc  \n",
      "MN \n",
      "Surface             \n",
      "M \n",
      "Intermittent  \n",
      "Construction Sand and Gravel  \n",
      "Dirt Works  \n",
      "\n",
      "\n",
      "4104757\n",
      "\n",
      "Dirt Works  \n",
      "TX \n",
      "Surface             \n",
      "M \n",
      "Intermittent  \n",
      "Construction Sand and Gravel  \n",
      "Holley Dirt Company, Inc  \n",
      "\n",
      "\n",
      "0801306\n",
      "\n",
      "Holley Dirt Company, Inc  \n",
      "FL \n",
      "Surface             \n",
      "M \n",
      "Active  \n",
      "Sand, Common  \n",
      "Krueger Brothers Gravel & Dirt  \n",
      "\n",
      "\n",
      "3901432\n",
      "\n",
      "Krueger Brothers Gravel & Dirt  \n",
      "SD \n",
      "Surface             \n",
      "M \n",
      "Intermittent  \n",
      "Construction Sand and Gravel  \n",
      "M R Dirt  \n",
      "\n",
      "\n",
      "3609624\n",
      "\n",
      "M R Dirt  \n",
      "PA \n",
      "Surface             \n",
      "M \n",
      "Intermittent  \n",
      "Construction Sand and Gravel  \n",
      "M.R. Dirt Inc.  \n",
      "\n",
      "\n",
      "3609931\n",
      "\n",
      "M.R. Dirt Inc.  \n",
      "PA \n",
      "Surface             \n",
      "M \n",
      "Intermittent  \n",
      "Dimension Stone NEC  \n",
      "P B Dirt Movers, Inc  \n",
      "\n",
      "\n",
      "1519799\n",
      "\n",
      "P B Dirt Movers, Inc  \n",
      "KY \n",
      "Surface             \n",
      "C \n",
      "Active  \n",
      "Coal (Bituminous)  \n",
      "PB Dirt Movers  \n",
      "\n",
      "\n",
      "4407296\n",
      "\n",
      "PB Dirt Movers  \n",
      "VA \n",
      "Underground         \n",
      "C \n",
      "Temporarily Idled  \n",
      "Coal (Bituminous)  \n",
      "[{'Operator ID': '', 'Operator name': '', 'Mine name': '', 'State': '', 'Mine type': '', 'Coal or metal': '', 'Status': '', 'Commodity': ''}, {'Operator ID': '', 'Operator name': '', 'Mine name': '', 'State': '', 'Mine type': '', 'Coal or metal': '', 'Status': '', 'Commodity': ''}, {'Operator ID': '', 'Operator name': '', 'Mine name': '', 'State': '', 'Mine type': '', 'Coal or metal': '', 'Status': '', 'Commodity': ''}, {'Operator ID': '', 'Operator name': '', 'Mine name': '', 'State': '', 'Mine type': '', 'Coal or metal': '', 'Status': '', 'Commodity': ''}, {'Operator ID': '', 'Operator name': '', 'Mine name': '', 'State': '', 'Mine type': '', 'Coal or metal': '', 'Status': '', 'Commodity': ''}, {'Operator ID': '', 'Operator name': '', 'Mine name': '', 'State': '', 'Mine type': '', 'Coal or metal': '', 'Status': '', 'Commodity': ''}, {'Operator ID': '', 'Operator name': '', 'Mine name': '', 'State': '', 'Mine type': '', 'Coal or metal': '', 'Status': '', 'Commodity': ''}, {'Operator ID': '', 'Operator name': '', 'Mine name': '', 'State': '', 'Mine type': '', 'Coal or metal': '', 'Status': '', 'Commodity': ''}, {'Operator ID': '', 'Operator name': '', 'Mine name': '', 'State': '', 'Mine type': '', 'Coal or metal': '', 'Status': '', 'Commodity': ''}, {'Operator ID': '', 'Operator name': '', 'Mine name': '', 'State': '', 'Mine type': '', 'Coal or metal': '', 'Status': '', 'Commodity': ''}, {'Operator ID': '', 'Operator name': '', 'Mine name': '', 'State': '', 'Mine type': '', 'Coal or metal': '', 'Status': '', 'Commodity': ''}, {'Operator ID': '', 'Operator name': '', 'Mine name': '', 'State': '', 'Mine type': '', 'Coal or metal': '', 'Status': '', 'Commodity': ''}]\n"
     ]
    }
   ],
   "source": [
    "#I don't get how to put this together...as in add the elements to the dictionary! \n",
    "\n",
    "mines_list = []\n",
    "\n",
    "row = doc.find_all('tr')\n",
    "for element in row[7:19]:\n",
    "    operator = element.find_all('td')[2]\n",
    "    #if operator:\n",
    "     #   continue\n",
    "    print(operator.text) \n",
    "    operator2 = element.find_all('td')[0]\n",
    "    print(operator2.text)\n",
    "    name = element.find_all('td')[2]\n",
    "    print(name.text)\n",
    "    state = element.find_all('td')[1]\n",
    "    print(state.text)\n",
    "    mine_type = element.find_all('td')[4]\n",
    "    print(mine_type.text)\n",
    "    coal_metal = element.find_all('td')[5]\n",
    "    print(coal_metal.text)\n",
    "    status = element.find_all('td')[6]\n",
    "    print(status.text)\n",
    "    commodity = element.find_all('td')[7]\n",
    "    print(commodity.text)\n",
    "        \n",
    "    mines_list.append(mines)\n",
    "print(mines_list) "
   ]
  },
  {
   "cell_type": "markdown",
   "metadata": {},
   "source": [
    "### Save that to a CSV"
   ]
  },
  {
   "cell_type": "code",
   "execution_count": 27,
   "metadata": {
    "collapsed": true
   },
   "outputs": [],
   "source": [
    "import pandas as pd\n",
    "df = pd.DataFrame(mines_list)\n",
    "df.to_csv(\"../mines2.csv\", index=False)"
   ]
  },
  {
   "cell_type": "markdown",
   "metadata": {},
   "source": [
    "### Open the CSV file and examine the first few. Make sure you didn't save an extra weird unnamed column."
   ]
  },
  {
   "cell_type": "code",
   "execution_count": null,
   "metadata": {
    "collapsed": true
   },
   "outputs": [],
   "source": []
  },
  {
   "cell_type": "code",
   "execution_count": null,
   "metadata": {
    "collapsed": true
   },
   "outputs": [],
   "source": []
  }
 ],
 "metadata": {
  "kernelspec": {
   "display_name": "Python 3",
   "language": "python",
   "name": "python3"
  },
  "language_info": {
   "codemirror_mode": {
    "name": "ipython",
    "version": 3
   },
   "file_extension": ".py",
   "mimetype": "text/x-python",
   "name": "python",
   "nbconvert_exporter": "python",
   "pygments_lexer": "ipython3",
   "version": "3.6.1"
  }
 },
 "nbformat": 4,
 "nbformat_minor": 2
}

{
 "cells": [
  {
   "cell_type": "markdown",
   "metadata": {},
   "source": [
    "## Homework 3\n",
    "This homework asks you to scrape from three different sources, please follow the instructions and do the best you can. With the exception of the first cell that imports the URL request and the beautiful soup library, I have not pre-written any code for you. Do not be afraid--you may look at the tutorial for examples, as well as the Beautiful Soup documentation, and any other Python resource (such a Stack overflow) if need be. \n",
    "\n",
    "This homework is intended to be challenging, if you only get 70% of the stuff done than you did very well."
   ]
  },
  {
   "cell_type": "code",
   "execution_count": null,
   "metadata": {
    "collapsed": true
   },
   "outputs": [],
   "source": [
    "from urllib.request import urlopen\n",
    "from bs4 import BeautifulSoup"
   ]
  },
  {
   "cell_type": "markdown",
   "metadata": {},
   "source": [
    "## Shakespeare \n",
    "I've posted some relatively simple HTML of the first act of William Shakespeare's The Tempest here: http://floatingmedia.com/columbia/tempest.html please use that URL to download the HTML and put it through Beautiful Soup. (It also may be very helpful for you to go to that page in chrome and inspect elements why you do this.) \n",
    "**Please note: there are 2 scenes in Act 1**\n",
    "\n"
   ]
  },
  {
   "cell_type": "markdown",
   "metadata": {},
   "source": [
    "In the cells below you should you make two lines--a variable that requests and reads the HTML from the URL (http://floatingmedia.com/columbia/tempest.html), and a second variable that passes the raw HTML into Beautiful Soup. You will use that beautiful soup variable to search the HTML."
   ]
  },
  {
   "cell_type": "code",
   "execution_count": null,
   "metadata": {
    "collapsed": true
   },
   "outputs": [],
   "source": [
    "my_url = \"http://floatingmedia.com/columbia/tempest.html\"\n",
    "raw_html = urlopen(my_url).read() \n",
    "soup_doc = BeautifulSoup(raw_html, \"html.parser\")  \n",
    "#print(soup_doc.prettify()) #--> this will give you the HTML of the entire document \n"
   ]
  },
  {
   "cell_type": "markdown",
   "metadata": {},
   "source": [
    "Get the title of the play:"
   ]
  },
  {
   "cell_type": "code",
   "execution_count": null,
   "metadata": {},
   "outputs": [],
   "source": [
    "soup_doc.title.string "
   ]
  },
  {
   "cell_type": "markdown",
   "metadata": {},
   "source": [
    "Get the HTML that contains the setting of Act One Scene 1:"
   ]
  },
  {
   "cell_type": "code",
   "execution_count": null,
   "metadata": {},
   "outputs": [],
   "source": [
    "#print(soup_doc.prettify())\n",
    "setting = soup_doc.find('p') \n",
    "setting"
   ]
  },
  {
   "cell_type": "markdown",
   "metadata": {},
   "source": [
    "Get the setting of Act One Scene 1 (as a string):"
   ]
  },
  {
   "cell_type": "code",
   "execution_count": null,
   "metadata": {},
   "outputs": [],
   "source": [
    "setting.string "
   ]
  },
  {
   "cell_type": "markdown",
   "metadata": {},
   "source": [
    "Get the setting of scene 2"
   ]
  },
  {
   "cell_type": "code",
   "execution_count": null,
   "metadata": {},
   "outputs": [],
   "source": [
    "settings = soup_doc.find_all('div')\n",
    "setting_scene_2 = settings[2].find('strong') \n",
    "setting_scene_2 "
   ]
  },
  {
   "cell_type": "markdown",
   "metadata": {},
   "source": [
    "Get the name of the first character in Scene 1"
   ]
  },
  {
   "cell_type": "code",
   "execution_count": null,
   "metadata": {},
   "outputs": [],
   "source": [
    "name = soup_doc.find_all('li') \n",
    "name \n",
    "first_name = name[0].find('strong') \n",
    "first_name.string \n"
   ]
  },
  {
   "cell_type": "markdown",
   "metadata": {},
   "source": [
    "Get a list of all of characters in Scene 1 (repeats are fine, you need a loop here)"
   ]
  },
  {
   "cell_type": "code",
   "execution_count": null,
   "metadata": {},
   "outputs": [],
   "source": [
    "scene_1 = soup_doc.find_all('div')[1]\n",
    "all_characters = scene_1.find_all('li')\n",
    "for people in all_characters:\n",
    "    print(people.find('strong').string) "
   ]
  },
  {
   "cell_type": "markdown",
   "metadata": {},
   "source": [
    "**Bonus:** write a script that takes all the duplicates out of the list. (This is a python thing, not a beautiful soup thing.)"
   ]
  },
  {
   "cell_type": "code",
   "execution_count": null,
   "metadata": {
    "collapsed": true
   },
   "outputs": [],
   "source": [
    "### "
   ]
  },
  {
   "cell_type": "markdown",
   "metadata": {},
   "source": [
    "Display every stage direction in _scene 2_"
   ]
  },
  {
   "cell_type": "code",
   "execution_count": null,
   "metadata": {},
   "outputs": [],
   "source": [
    "stage_directions = soup_doc.find_all('div')\n",
    "directions2 = stage_directions[3].find_all('p') \n",
    "directions2"
   ]
  },
  {
   "cell_type": "markdown",
   "metadata": {},
   "source": [
    "Get the HTML containing Miranda's first speech in Scene 2"
   ]
  },
  {
   "cell_type": "code",
   "execution_count": null,
   "metadata": {},
   "outputs": [],
   "source": [
    "miranda = stage_directions[3].find('ul')\n",
    "miranda"
   ]
  },
  {
   "cell_type": "markdown",
   "metadata": {},
   "source": [
    "Now display those same lines without the speaker's name (need to use siblings and a loop to get this)"
   ]
  },
  {
   "cell_type": "code",
   "execution_count": null,
   "metadata": {},
   "outputs": [],
   "source": [
    "#miranda.find('strong').parent\n",
    "new_speech = miranda.find('strong')\n",
    "just_speech = new_speech.find_next_siblings()\n",
    "just_speech"
   ]
  },
  {
   "cell_type": "code",
   "execution_count": null,
   "metadata": {},
   "outputs": [],
   "source": [
    "for lines in just_speech:\n",
    "    print(lines.text)"
   ]
  },
  {
   "cell_type": "markdown",
   "metadata": {},
   "source": [
    "Get the HTML containing the speech after Miranda's"
   ]
  },
  {
   "cell_type": "code",
   "execution_count": null,
   "metadata": {
    "collapsed": true
   },
   "outputs": [],
   "source": []
  },
  {
   "cell_type": "markdown",
   "metadata": {},
   "source": [
    "## Box Office Mojo \n",
    "I've posted some slightly simplified HTML of the current worldwide box office leaders here: http://floatingmedia.com/columbia/boxoffice.htm please use that URL to download the HTML and put it through Beautiful Soup. (It also may be very helpful for you to go to that page in chrome and inspect elements why you do this.) \n",
    "\n",
    "For this part of the assignment you should focus mostly on tr (table rows) amd td (table cells) -- and search them using find_all('tr')[1] in order to get a specific row, and find_all('td')[2] to get a specific cell."
   ]
  },
  {
   "cell_type": "markdown",
   "metadata": {},
   "source": [
    "Just like with the Shakespeare write two lines get the raw HTML and then transform the raw HTML into a beautiful soup variable"
   ]
  },
  {
   "cell_type": "code",
   "execution_count": null,
   "metadata": {
    "collapsed": true
   },
   "outputs": [],
   "source": [
    "#http://floatingmedia.com/columbia/boxoffice.htm\n",
    "my_url = \"http://floatingmedia.com/columbia/boxoffice.htm\"\n",
    "raw_html = urlopen(my_url).read() \n",
    "soup_doc = BeautifulSoup(raw_html, \"html.parser\") \n",
    "\n",
    "\n"
   ]
  },
  {
   "cell_type": "markdown",
   "metadata": {},
   "source": [
    "Get the text \"2017 worldwide grosses\""
   ]
  },
  {
   "cell_type": "code",
   "execution_count": null,
   "metadata": {},
   "outputs": [],
   "source": [
    "soup_doc.find('h1').string"
   ]
  },
  {
   "cell_type": "markdown",
   "metadata": {},
   "source": [
    "Get an HTML list of all of the column names from the header of the table: rank, title, etc..."
   ]
  },
  {
   "cell_type": "code",
   "execution_count": null,
   "metadata": {},
   "outputs": [],
   "source": [
    "getting_columns = soup_doc.find_all('table') \n",
    "getting_columns\n",
    "tr_columns = getting_columns[0].find_all('tr')\n",
    "tr_columns\n",
    "td_columns = tr_columns[0].find_all('td') \n",
    "td_columns"
   ]
  },
  {
   "cell_type": "markdown",
   "metadata": {},
   "source": [
    "Make a variable called \"headers\" and set it equal to the list of strings of the column names and header. In the next line write: \"headers[1]\" your output should be \"Title\""
   ]
  },
  {
   "cell_type": "code",
   "execution_count": null,
   "metadata": {},
   "outputs": [],
   "source": [
    "headers = td_columns\n",
    "headers[1]"
   ]
  },
  {
   "cell_type": "markdown",
   "metadata": {},
   "source": [
    "Get the HTML for the row that contains the #1 movie"
   ]
  },
  {
   "cell_type": "code",
   "execution_count": null,
   "metadata": {
    "scrolled": true
   },
   "outputs": [],
   "source": [
    "getting_columns = soup_doc.find_all('table') \n",
    "getting_columns\n",
    "tr_columns = getting_columns[0].find_all('tr')\n",
    "tr_columns\n",
    "td_columns2 = tr_columns[1].find_all('td') \n",
    "td_columns2"
   ]
  },
  {
   "cell_type": "markdown",
   "metadata": {},
   "source": [
    "Get the HTML for the row that contains the #10 movie "
   ]
  },
  {
   "cell_type": "code",
   "execution_count": null,
   "metadata": {},
   "outputs": [],
   "source": [
    "td_columns10 = tr_columns[10].find_all('td')\n",
    "td_columns10"
   ]
  },
  {
   "cell_type": "markdown",
   "metadata": {},
   "source": [
    "Get a list of the top 10 films (You'll need to use the loop and specify a range for the loop.) The list should look like this:\n",
    "\n",
    "`Beauty and the Beast (2017)\n",
    "The Fate of the Furious\n",
    "Guardians of the Galaxy Vol. 2\n",
    "Logan\n",
    "Kong: Skull Island\n",
    "Pirates of the Caribbean: Dead Men Tell No Tales\n",
    "The Boss Baby\n",
    "Fifty Shades Darker\n",
    "Your Name.\n",
    "xXx: The Return of Xander Cage`"
   ]
  },
  {
   "cell_type": "code",
   "execution_count": null,
   "metadata": {},
   "outputs": [],
   "source": [
    "#How do you specify a range? head() won't work with this \n",
    "getting_columns = soup_doc.find_all('table') \n",
    "getting_columns\n",
    "tr_columns = getting_columns[0].find_all('tr')\n",
    "tr_columns\n",
    "\n",
    "for movies in tr_columns:\n",
    "    print(movies.find('b'))\n",
    "    "
   ]
  },
  {
   "cell_type": "markdown",
   "metadata": {},
   "source": [
    "Display as strings the top 10 films by name and worldwide gross. Like this:\n",
    "\n",
    "`Beauty and the Beast (2017) $502.2\n",
    "The Fate of the Furious $223.9\n",
    "Guardians of the Galaxy Vol. 2 $356.7\n",
    "Logan $226.2\n",
    "Kong: Skull Island $167.8\n",
    "Pirates of the Caribbean: Dead Men Tell No Tales $117.6\n",
    "The Boss Baby $171.0\n",
    "Fifty Shades Darker $114.4\n",
    "Your Name. $4.9\n",
    "xXx: The Return of Xander Cage $44.9`"
   ]
  },
  {
   "cell_type": "code",
   "execution_count": null,
   "metadata": {},
   "outputs": [],
   "source": [
    "rows = soup_doc.find_all('tr')\n",
    "rows\n",
    "\n",
    "for row in rows:\n",
    "    bs = row.find_all('b')\n",
    "    if len(bs) == 2: \n",
    "        print(bs[1].text)\n",
    "        print(bs[0].text) \n",
    "    print('---') "
   ]
  },
  {
   "cell_type": "markdown",
   "metadata": {},
   "source": [
    "Display the link for the movie `Logan`:"
   ]
  },
  {
   "cell_type": "code",
   "execution_count": null,
   "metadata": {},
   "outputs": [],
   "source": [
    "td_columns4 = tr_columns[4].find_all('td')\n",
    "td_columns4\n",
    "\n",
    "for logan in td_columns4:\n",
    "    #print(logan.find('a href'))   \n",
    "    print(logan)\n",
    "\n"
   ]
  },
  {
   "cell_type": "code",
   "execution_count": null,
   "metadata": {
    "collapsed": true
   },
   "outputs": [],
   "source": [
    "#I'm having difficulty making the code work before to just pull out the <a> \n",
    "#link = tr_columns.find('a')  \n",
    "#logan_url = link['href']\n",
    "#print(logan_url) "
   ]
  },
  {
   "cell_type": "markdown",
   "metadata": {},
   "source": [
    "Create a list for `Logan` that looks like this:\n",
    "\n",
    "`['4', 'Logan', 'Fox', '$612.4', '$226.2', '$386.2']`"
   ]
  },
  {
   "cell_type": "code",
   "execution_count": null,
   "metadata": {},
   "outputs": [],
   "source": [
    "for logan in td_columns4:\n",
    "    print(logan.string)"
   ]
  },
  {
   "cell_type": "markdown",
   "metadata": {},
   "source": [
    "Here is some premade code. If you got your headers list and your logan_list right, this will make you a nice dictionary for Logan."
   ]
  },
  {
   "cell_type": "code",
   "execution_count": null,
   "metadata": {},
   "outputs": [],
   "source": [
    "logan_dict = dict(zip(headers, logan_list))\n",
    "print(logan_dict)"
   ]
  },
  {
   "cell_type": "markdown",
   "metadata": {},
   "source": [
    "## Advanced Challenge\n",
    "Pitchfork is no go, so try to get out all of the artists and albums (and synopses) from NPRs 2015 list: http://www.npr.org/2015/12/07/458447213/npr-musics-50-favorite-albums-of-2015\n",
    "\n",
    "Use as many cells as you would like, and don't forget to make a new URL request and a new beautiful soup variable"
   ]
  },
  {
   "cell_type": "code",
   "execution_count": null,
   "metadata": {
    "collapsed": true
   },
   "outputs": [],
   "source": []
  }
 ],
 "metadata": {
  "kernelspec": {
   "display_name": "Python 3",
   "language": "python",
   "name": "python3"
  },
  "language_info": {
   "codemirror_mode": {
    "name": "ipython",
    "version": 3
   },
   "file_extension": ".py",
   "mimetype": "text/x-python",
   "name": "python",
   "nbconvert_exporter": "python",
   "pygments_lexer": "ipython3",
   "version": "3.6.1"
  }
 },
 "nbformat": 4,
 "nbformat_minor": 2
}

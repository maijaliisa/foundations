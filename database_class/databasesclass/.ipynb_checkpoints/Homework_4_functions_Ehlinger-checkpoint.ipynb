{
 "cells": [
  {
   "cell_type": "markdown",
   "metadata": {},
   "source": [
    "## homework 4: part two: investigating lists and dictionaries\n",
    "In this assignment I will ask you to pick five relatively short texts (poems, paragraphs, short essays, song lyrics, whatever interests you). The main thing is to make sure that each text is around 10 - 20 lines or sentences long. Below, I have selected five poems by Wallace Stevens. In each cell I have made a variable that contains each poem, and then I pass that poem through a function called `text_to_dict` that makes a dictionary for each poem. The dictionary contains the title of the poem, the full text as one string, and a list that contains each line of the poem. The function will also make lists of sentences instead of lines if you want to investigate a prose text (sentence by sentence) instead of a poem (line by line).\n",
    "\n",
    "There are two parts of this assignment. \n",
    "\n",
    "**Part 1**, which should be easy, is to replace the poems with texts of your own choice--and choose to split them by lines or sentences. \n",
    "\n",
    "**Part 2** is to write functions that and investigate your texts. If you want to focus on the functions first, you can go straight to Part 2 and use the pomes I have chosen. You can then go back and enter your own texts--your functions should work no matter what text you've chosen.\n"
   ]
  },
  {
   "cell_type": "code",
   "execution_count": 1,
   "metadata": {
    "collapsed": true
   },
   "outputs": [],
   "source": [
    "#Run this cell toImport regular expressions\n",
    "#And to initialize the all texts list that will contain all of your dictionaries of text\n",
    "import re\n",
    "all_texts = []"
   ]
  },
  {
   "cell_type": "markdown",
   "metadata": {},
   "source": [
    "** understanding the text_to_dict function**\n",
    "\n",
    "You don't have to completely understand this function to use it, but you do need to understand its parameters. It takes three parameters:\n",
    "* `title` is a string you need to write inside function's parameters\n",
    "* `text` is the variable that holds the entire text\n",
    "* `poem` True/False parameter --if it is true it will split your text by line (`\\n`) \n",
    " \tIf it is false it will split your text by sentence ('[.?!])\n",
    "\n",
    "If you look at the function you will see that it builds a dictionary with the following fields:\n",
    "* `title` is the title of the text\n",
    "* `text` is the full text as a string\n",
    "* `lines` is a list of lines or sentences\n",
    "\n",
    "It returns a dictionary with those fields."
   ]
  },
  {
   "cell_type": "code",
   "execution_count": 2,
   "metadata": {
    "collapsed": true
   },
   "outputs": [],
   "source": [
    "def text_to_dict(title,text,poem):\n",
    "    dict_of_this_text = {}\n",
    "    dict_of_this_text['title'] = title\n",
    "    dict_of_this_text['alltext'] = text\n",
    "    if poem:\n",
    "        text_to_list = text.strip().split('\\n')\n",
    "    else:\n",
    "        text_to_list = re.split(r\"[.?!]\",text)\n",
    "    dict_of_this_text['lines'] = text_to_list\n",
    "    return dict_of_this_text"
   ]
  },
  {
   "cell_type": "markdown",
   "metadata": {},
   "source": [
    "## Part One\n",
    "\n",
    "The next five cells are exactly the same. They define five different texts, and then they pass each text through the `text_to_dict` function. And then they add the resulting dictionary to the all_texts list. \n",
    "\n",
    "In the five cells below enter your five selected texts.\n",
    "\n",
    "**You should do no coding at any point** until the very last cell before part two."
   ]
  },
  {
   "cell_type": "code",
   "execution_count": 3,
   "metadata": {
    "collapsed": true
   },
   "outputs": [],
   "source": [
    "#To change the text, just put a new text between the quotation mark\n",
    "text0 = '''\n",
    "The storm covers skies in darkness,\n",
    "Spinning snowy whirlwinds tight,\n",
    "Now it wails like a beast wildest,\n",
    "Now it cries like a week child,\n",
    "Now suddenly it rustles\n",
    "The old roof’s dry thatching mass, \n",
    "Now, a traveller, late and gusty,\n",
    "It knocks at our window’s glass.\n",
    "\n",
    "Our hut, poor and unstable,\n",
    "Is the dark and sad to feel.\n",
    "Why, are you, my little old lady,\n",
    "Silent at the window-sill?\n",
    "Are you tired, o my dear,\n",
    "By the howling of the storm,\n",
    "Or just dozing while you hear\n",
    "The still hum your spindle from?\n",
    "\n",
    "Let us drink, o comrade, dear,\n",
    "Of my youth, so poor and hard, -\n",
    "‘Gainst our woe; is a cup here?\n",
    "It will cheer the saddened heart. \n",
    "Sing a song about a blue-tit,\n",
    "Which, beyond the sea, lived well,\n",
    "Or about the maiden, bloomed,\n",
    "Who went early to a well.\n",
    "\n",
    "The storm covers skies with darkness,\n",
    "Spinning snowy whirlwinds tight;\n",
    "Now it wails like a beast wildest,\n",
    "Now it cries like a week child.\n",
    "Let us drink, o comrade dear\n",
    "Of my youth, so poor and hard, -\n",
    "‘Gainst our woe; is a cup here?\n",
    "It will cheer the saddened heart.\n",
    "'''\n",
    "#Remember: you need to type the title into the first parameter\n",
    "#If you want to split by line choose True for the third parameter\n",
    "#If you want to split by sentence, choose False\n",
    "transform_it = text_to_dict(\"Winter Evening\",text0,True)\n",
    "all_texts.append(transform_it)"
   ]
  },
  {
   "cell_type": "code",
   "execution_count": 4,
   "metadata": {
    "collapsed": true
   },
   "outputs": [],
   "source": [
    "text1 = '''\n",
    "If I walk the noisy streets,\n",
    "Or enter a many thronged church,\n",
    "Or sit among the wild young generation,\n",
    "I give way to my thoughts. \n",
    "I say to myself: the years are fleeting,\n",
    "And however many there seem to be,\n",
    "We must all go under the eternal vault,\n",
    "And someone?s hour is already at hand. \n",
    "When I look at a solitary oak\n",
    "I think: the patriarch of the woods.\n",
    "It will outlive my forgotten age\n",
    "As it outlived that of my grandfathers?. \n",
    "If I dandle a young infant,\n",
    "Immediately I think: farewell!\n",
    "I will yield my place to you,\n",
    "For I must fade while your flower blooms. \n",
    "Each day, and every hour\n",
    "I habitually follow in my thoughts,\n",
    "Trying to guess from their number\n",
    "The year which brings my death. \n",
    "And where will fate send death to me?\n",
    "In battle, in my travels, or on the seas?\n",
    "Or will the neighbouring valley\n",
    "Receive my chilled ashes? \n",
    "And although to the senseless body\n",
    "It is indifferent wherever it rots,\n",
    "Yet close to my beloved countryside\n",
    "I still would prefer to rest. \n",
    "And let it be, beside the grave?s vault\n",
    "That young life forever will be playing,\n",
    "And impartial, indifferent nature\n",
    "Eternally be shining in beauty. \n",
    "'''\n",
    "transform_it = text_to_dict(\"Thoughts\",text1,True)\n",
    "all_texts.append(transform_it)"
   ]
  },
  {
   "cell_type": "code",
   "execution_count": 5,
   "metadata": {
    "collapsed": true
   },
   "outputs": [],
   "source": [
    "text2 = '''\n",
    "What is my name to you? 'T will die:\n",
    "a wave that has but rolled to reach\n",
    "with a lone splash a distant beach;\n",
    "or in the timbered night a cry ...\n",
    "\n",
    "'T will leave a lifeless trace among\n",
    "names on your tablets: the design\n",
    "of an entangled gravestone line\n",
    "in an unfathomable tongue.\n",
    "\n",
    "What is it then? A long-dead past,\n",
    "lost in the rush of madder dreams,\n",
    "upon your soul it will not cast\n",
    "Mnemosyne's pure tender beams.\n",
    "\n",
    "But if some sorrow comes to you,\n",
    "utter my name with sighs, and tell\n",
    "the silence: \"Memory is true -\n",
    "there beats a heart wherein I dwell.\" \n",
    "'''\n",
    "transform_it = text_to_dict(\"The Name\",text2,True)\n",
    "all_texts.append(transform_it)"
   ]
  },
  {
   "cell_type": "code",
   "execution_count": 6,
   "metadata": {
    "collapsed": true
   },
   "outputs": [],
   "source": [
    "text3 = '''\n",
    "Longing for spiritual springs,\n",
    "I dragged myself through desert sands ...\n",
    "An angel with three pairs of wings\n",
    "Arrived to me at cross of lands;\n",
    "With fingers so light and slim\n",
    "He touched my eyes as in a dream:\n",
    "And opened my prophetic eyes \n",
    "Like eyes of eagle in surprise.\n",
    "He touched my ears in movement, single,\n",
    "And they were filled with noise and jingle:\n",
    "I heard a shuddering of heavens,\n",
    "And angels' flight on azure heights\n",
    "And creatures' crawl in long sea nights, \n",
    "And rustle of vines in distant valleys.\n",
    "And he bent down to my chin,\n",
    "And he tore off my tongue of sin,\n",
    "In cheat and idle talks aroused,\n",
    "And with his hand in bloody specks\n",
    "He put the sting of wizard snakes \n",
    "Into my deadly stoned mouth. \n",
    "With his sharp sword he cleaved my breast,\n",
    "And plucked my quivering heart out,\n",
    "And coals flamed with God's behest, \n",
    "Into my gaping breast were ground.\n",
    "Like dead I lay on desert sands,\n",
    "And listened to the God's commands:\n",
    "'Arise, O prophet, hark and see, \n",
    "Be filled with utter My demands,\n",
    "And, going over Land and Sea,\n",
    "Burn with your Word the humane hearts.' \n",
    "'''\n",
    "transform_it = text_to_dict(\"The Prophet\",text3,True)\n",
    "all_texts.append(transform_it)"
   ]
  },
  {
   "cell_type": "code",
   "execution_count": 7,
   "metadata": {
    "collapsed": true
   },
   "outputs": [],
   "source": [
    "text4 = '''\n",
    "Day's rain is done. The rainy mist of night\n",
    "Spreads on the sky, leaden apparel wearing,\n",
    "And through the pine-trees, like a ghost appearing,\n",
    "The moon comes up with hidden light.\n",
    "All in my soul drags me to dark surrender.\n",
    "There, far away, rises the moon in splendour.\n",
    "There all the air is drunk with evening heat,\n",
    "There move the waters in a sumptuous heat,\n",
    "And overhead the azure skies...\n",
    "It is the hour. From high hills she has gone\n",
    "To sea-shores flooding in the waves' loud cries;\n",
    "There, where the holy cliffs arise,\n",
    "Now she sits melancholy and alone...\n",
    "Alone... Before her none is weeping, fretting,\n",
    "None, on his knees, is kissing her, forgetting;\n",
    "Alone... To no one's lips is she betraying\n",
    "Her shoulders, her wet lips, her snow-white bosom.\n",
    "\n",
    "No one is worthy of her heavenly love.\n",
    "'Tis true?... Alone... You weep... I do not move.\n",
    "\n",
    "Yet if... \n",
    "'''\n",
    "transform_it = text_to_dict(\"Day's Rain Is Done\",text4,True)\n",
    "all_texts.append(transform_it)"
   ]
  },
  {
   "cell_type": "markdown",
   "metadata": {},
   "source": [
    "Run the two cells below to confirm that first, you only have five texts in the all_texts list, and next, look at the all_texts list to see the dictionary inside it. "
   ]
  },
  {
   "cell_type": "code",
   "execution_count": 8,
   "metadata": {},
   "outputs": [
    {
     "data": {
      "text/plain": [
       "5"
      ]
     },
     "execution_count": 8,
     "metadata": {},
     "output_type": "execute_result"
    }
   ],
   "source": [
    "len(all_texts)"
   ]
  },
  {
   "cell_type": "code",
   "execution_count": 9,
   "metadata": {},
   "outputs": [
    {
     "name": "stdout",
     "output_type": "stream",
     "text": [
      "------\n",
      "Winter Evening\n",
      "The storm covers skies in darkness,\n",
      "Spinning snowy whirlwinds tight,\n",
      "Now it wails like a beast wildest,\n",
      "Now it cries like a week child,\n",
      "Now suddenly it rustles\n",
      "The old roof’s dry thatching mass, \n",
      "Now, a traveller, late and gusty,\n",
      "It knocks at our window’s glass.\n",
      "\n",
      "Our hut, poor and unstable,\n",
      "Is the dark and sad to feel.\n",
      "Why, are you, my little old lady,\n",
      "Silent at the window-sill?\n",
      "Are you tired, o my dear,\n",
      "By the howling of the storm,\n",
      "Or just dozing while you hear\n",
      "The still hum your spindle from?\n",
      "\n",
      "Let us drink, o comrade, dear,\n",
      "Of my youth, so poor and hard, -\n",
      "‘Gainst our woe; is a cup here?\n",
      "It will cheer the saddened heart. \n",
      "Sing a song about a blue-tit,\n",
      "Which, beyond the sea, lived well,\n",
      "Or about the maiden, bloomed,\n",
      "Who went early to a well.\n",
      "\n",
      "The storm covers skies with darkness,\n",
      "Spinning snowy whirlwinds tight;\n",
      "Now it wails like a beast wildest,\n",
      "Now it cries like a week child.\n",
      "Let us drink, o comrade dear\n",
      "Of my youth, so poor and hard, -\n",
      "‘Gainst our woe; is a cup here?\n",
      "It will cheer the saddened heart.\n",
      "------\n",
      "Thoughts\n",
      "If I walk the noisy streets,\n",
      "Or enter a many thronged church,\n",
      "Or sit among the wild young generation,\n",
      "I give way to my thoughts. \n",
      "I say to myself: the years are fleeting,\n",
      "And however many there seem to be,\n",
      "We must all go under the eternal vault,\n",
      "And someone?s hour is already at hand. \n",
      "When I look at a solitary oak\n",
      "I think: the patriarch of the woods.\n",
      "It will outlive my forgotten age\n",
      "As it outlived that of my grandfathers?. \n",
      "If I dandle a young infant,\n",
      "Immediately I think: farewell!\n",
      "I will yield my place to you,\n",
      "For I must fade while your flower blooms. \n",
      "Each day, and every hour\n",
      "I habitually follow in my thoughts,\n",
      "Trying to guess from their number\n",
      "The year which brings my death. \n",
      "And where will fate send death to me?\n",
      "In battle, in my travels, or on the seas?\n",
      "Or will the neighbouring valley\n",
      "Receive my chilled ashes? \n",
      "And although to the senseless body\n",
      "It is indifferent wherever it rots,\n",
      "Yet close to my beloved countryside\n",
      "I still would prefer to rest. \n",
      "And let it be, beside the grave?s vault\n",
      "That young life forever will be playing,\n",
      "And impartial, indifferent nature\n",
      "Eternally be shining in beauty.\n",
      "------\n",
      "The Name\n",
      "What is my name to you? 'T will die:\n",
      "a wave that has but rolled to reach\n",
      "with a lone splash a distant beach;\n",
      "or in the timbered night a cry ...\n",
      "\n",
      "'T will leave a lifeless trace among\n",
      "names on your tablets: the design\n",
      "of an entangled gravestone line\n",
      "in an unfathomable tongue.\n",
      "\n",
      "What is it then? A long-dead past,\n",
      "lost in the rush of madder dreams,\n",
      "upon your soul it will not cast\n",
      "Mnemosyne's pure tender beams.\n",
      "\n",
      "But if some sorrow comes to you,\n",
      "utter my name with sighs, and tell\n",
      "the silence: \"Memory is true -\n",
      "there beats a heart wherein I dwell.\"\n",
      "------\n",
      "The Prophet\n",
      "Longing for spiritual springs,\n",
      "I dragged myself through desert sands ...\n",
      "An angel with three pairs of wings\n",
      "Arrived to me at cross of lands;\n",
      "With fingers so light and slim\n",
      "He touched my eyes as in a dream:\n",
      "And opened my prophetic eyes \n",
      "Like eyes of eagle in surprise.\n",
      "He touched my ears in movement, single,\n",
      "And they were filled with noise and jingle:\n",
      "I heard a shuddering of heavens,\n",
      "And angels' flight on azure heights\n",
      "And creatures' crawl in long sea nights, \n",
      "And rustle of vines in distant valleys.\n",
      "And he bent down to my chin,\n",
      "And he tore off my tongue of sin,\n",
      "In cheat and idle talks aroused,\n",
      "And with his hand in bloody specks\n",
      "He put the sting of wizard snakes \n",
      "Into my deadly stoned mouth. \n",
      "With his sharp sword he cleaved my breast,\n",
      "And plucked my quivering heart out,\n",
      "And coals flamed with God's behest, \n",
      "Into my gaping breast were ground.\n",
      "Like dead I lay on desert sands,\n",
      "And listened to the God's commands:\n",
      "'Arise, O prophet, hark and see, \n",
      "Be filled with utter My demands,\n",
      "And, going over Land and Sea,\n",
      "Burn with your Word the humane hearts.'\n",
      "------\n",
      "Day's Rain Is Done\n",
      "Day's rain is done. The rainy mist of night\n",
      "Spreads on the sky, leaden apparel wearing,\n",
      "And through the pine-trees, like a ghost appearing,\n",
      "The moon comes up with hidden light.\n",
      "All in my soul drags me to dark surrender.\n",
      "There, far away, rises the moon in splendour.\n",
      "There all the air is drunk with evening heat,\n",
      "There move the waters in a sumptuous heat,\n",
      "And overhead the azure skies...\n",
      "It is the hour. From high hills she has gone\n",
      "To sea-shores flooding in the waves' loud cries;\n",
      "There, where the holy cliffs arise,\n",
      "Now she sits melancholy and alone...\n",
      "Alone... Before her none is weeping, fretting,\n",
      "None, on his knees, is kissing her, forgetting;\n",
      "Alone... To no one's lips is she betraying\n",
      "Her shoulders, her wet lips, her snow-white bosom.\n",
      "\n",
      "No one is worthy of her heavenly love.\n",
      "'Tis true?... Alone... You weep... I do not move.\n",
      "\n",
      "Yet if...\n"
     ]
    }
   ],
   "source": [
    "for poems in all_texts:\n",
    "    print(\"------\")\n",
    "    print(poems['title'])\n",
    "    for line in poems['lines']:\n",
    "        print(line)"
   ]
  },
  {
   "cell_type": "markdown",
   "metadata": {},
   "source": [
    "In the cell below, loop through all_texts and print out the title of each text. (This is the only code you need to write for Part One.)"
   ]
  },
  {
   "cell_type": "code",
   "execution_count": 10,
   "metadata": {},
   "outputs": [
    {
     "name": "stdout",
     "output_type": "stream",
     "text": [
      "Winter Evening\n",
      "------\n",
      "Thoughts\n",
      "------\n",
      "The Name\n",
      "------\n",
      "The Prophet\n",
      "------\n",
      "Day's Rain Is Done\n",
      "------\n"
     ]
    }
   ],
   "source": [
    "for pushkin in all_texts:\n",
    "    print(pushkin['title'])\n",
    "    print(\"------\")"
   ]
  },
  {
   "cell_type": "markdown",
   "metadata": {},
   "source": [
    "## Part Two:  searching within lists and dictionaries\n",
    "In this part, we will be searching through each text and printing out a desired result. The searches, including loops and printing should all be defined in the function. The second cell should just have to function call that executes the function. I have written an example function and call for the first search. For each function that you write you should copy the original function and modify it so what does what I ask for.\n",
    "\n",
    "For the first five functions, there are no parameters passed to the functions--the calls will just execute the function. Go step-by-step and take your time."
   ]
  },
  {
   "cell_type": "code",
   "execution_count": 11,
   "metadata": {
    "collapsed": true
   },
   "outputs": [],
   "source": [
    "def get_lengths():\n",
    "    for text in all_texts:\n",
    "        print(text['title'])\n",
    "        print(len(text['alltext']))\n",
    "        print(\"------------\")"
   ]
  },
  {
   "cell_type": "code",
   "execution_count": 12,
   "metadata": {
    "scrolled": true
   },
   "outputs": [
    {
     "name": "stdout",
     "output_type": "stream",
     "text": [
      "Winter Evening\n",
      "1021\n",
      "------------\n",
      "Thoughts\n",
      "1114\n",
      "------------\n",
      "The Name\n",
      "549\n",
      "------------\n",
      "The Prophet\n",
      "1058\n",
      "------------\n",
      "Day's Rain Is Done\n",
      "846\n",
      "------------\n"
     ]
    }
   ],
   "source": [
    "get_lengths()"
   ]
  },
  {
   "cell_type": "markdown",
   "metadata": {},
   "source": [
    "Question 1\n",
    "Now write a function that gets the **line count for each poem** (or sentence count for each piece of prose). This function is going to be very similar to the last one. Instead of accessing the whole text via text['alltext'] which is a string, you need to access the list of lines/sentences and get the length of that list. Everything else should be the same."
   ]
  },
  {
   "cell_type": "code",
   "execution_count": 13,
   "metadata": {
    "collapsed": true
   },
   "outputs": [],
   "source": [
    "#Write your function here, name it get_line_count()\n",
    "def get_line_count(): \n",
    "    for count in all_texts:\n",
    "        print(count['title'])\n",
    "        print(len(count['lines'])) \n"
   ]
  },
  {
   "cell_type": "code",
   "execution_count": 14,
   "metadata": {
    "scrolled": true
   },
   "outputs": [
    {
     "name": "stdout",
     "output_type": "stream",
     "text": [
      "Winter Evening\n",
      "35\n",
      "Thoughts\n",
      "32\n",
      "The Name\n",
      "19\n",
      "The Prophet\n",
      "30\n",
      "Day's Rain Is Done\n",
      "22\n"
     ]
    }
   ],
   "source": [
    "get_line_count()"
   ]
  },
  {
   "cell_type": "markdown",
   "metadata": {},
   "source": [
    "Question 2\n",
    "Now write a function that prints out a **random line or sentence from each text**. Again, this function will look much the same as the last ones, but instead of getting numbers you need to get actual lines. I have included the necessary import and an example of how to get random integers. Basically, for each text you need to get one element from the list of lines/ sentences with a random number between 0 and the length of the list."
   ]
  },
  {
   "cell_type": "code",
   "execution_count": 15,
   "metadata": {
    "collapsed": true
   },
   "outputs": [],
   "source": [
    "from random import randint\n",
    "\n",
    "def show_random_lines():\n",
    "    for random in all_texts:\n",
    "        random_num = randint(0, 18)\n",
    "        print(poems['lines'][random_num])\n",
    "        print(\"----\")"
   ]
  },
  {
   "cell_type": "code",
   "execution_count": 16,
   "metadata": {},
   "outputs": [
    {
     "name": "stdout",
     "output_type": "stream",
     "text": [
      "And through the pine-trees, like a ghost appearing,\n",
      "----\n",
      "None, on his knees, is kissing her, forgetting;\n",
      "----\n",
      "\n",
      "----\n",
      "Day's rain is done. The rainy mist of night\n",
      "----\n",
      "To sea-shores flooding in the waves' loud cries;\n",
      "----\n"
     ]
    }
   ],
   "source": [
    "#these seem to all be pulling from one poem (text4)\n",
    "show_random_lines()"
   ]
  },
  {
   "cell_type": "markdown",
   "metadata": {},
   "source": [
    "Question 3\n",
    "This is a little bit different--instead of printing out something from each text, I want you to **print the entire text of the longest text**. Remember in the first function, I printed out the length of each text. Well, you need to test for the longest text as you look through and when you're done looping through print out the one that is longest.\n",
    "\n",
    "**Major hints!**: To do this you will need two **tracking variables** set before the loop runs: A numerical one that tracks the longest length (the number), and string variable remembers the actual text that has that length.\n",
    "\n",
    "Like this: longest_length = 0 and longest_text = \"\"\n",
    "When you loop through you need to test if each text was longer than the last one, and if it is longer--you update longest_length and longest_text to reflect the highest length, and the actual text. When the loop is over you then print out that longest_text string."
   ]
  },
  {
   "cell_type": "code",
   "execution_count": 17,
   "metadata": {
    "collapsed": true
   },
   "outputs": [],
   "source": [
    "def longest_text():\n",
    "    longest_length = 0\n",
    "    longest_text = \"\"\n",
    "    for text in all_texts:\n",
    "        if len(text['lines']) > longest_length:\n",
    "            longest_length = 0 + len(text['lines'])\n",
    "            longest_text = text['alltext']\n",
    "            longest_title = text['title']\n",
    "            print(longest_text, longest_length, longest_title)\n",
    "        "
   ]
  },
  {
   "cell_type": "code",
   "execution_count": 18,
   "metadata": {},
   "outputs": [
    {
     "name": "stdout",
     "output_type": "stream",
     "text": [
      "\n",
      "The storm covers skies in darkness,\n",
      "Spinning snowy whirlwinds tight,\n",
      "Now it wails like a beast wildest,\n",
      "Now it cries like a week child,\n",
      "Now suddenly it rustles\n",
      "The old roof’s dry thatching mass, \n",
      "Now, a traveller, late and gusty,\n",
      "It knocks at our window’s glass.\n",
      "\n",
      "Our hut, poor and unstable,\n",
      "Is the dark and sad to feel.\n",
      "Why, are you, my little old lady,\n",
      "Silent at the window-sill?\n",
      "Are you tired, o my dear,\n",
      "By the howling of the storm,\n",
      "Or just dozing while you hear\n",
      "The still hum your spindle from?\n",
      "\n",
      "Let us drink, o comrade, dear,\n",
      "Of my youth, so poor and hard, -\n",
      "‘Gainst our woe; is a cup here?\n",
      "It will cheer the saddened heart. \n",
      "Sing a song about a blue-tit,\n",
      "Which, beyond the sea, lived well,\n",
      "Or about the maiden, bloomed,\n",
      "Who went early to a well.\n",
      "\n",
      "The storm covers skies with darkness,\n",
      "Spinning snowy whirlwinds tight;\n",
      "Now it wails like a beast wildest,\n",
      "Now it cries like a week child.\n",
      "Let us drink, o comrade dear\n",
      "Of my youth, so poor and hard, -\n",
      "‘Gainst our woe; is a cup here?\n",
      "It will cheer the saddened heart.\n",
      " 35 Winter Evening\n"
     ]
    }
   ],
   "source": [
    "longest_text()"
   ]
  },
  {
   "cell_type": "markdown",
   "metadata": {},
   "source": [
    "Question 4\n",
    "This is kind of a combination of the first two functions--write a function that gets the **average line/sentence length for each text**."
   ]
  },
  {
   "cell_type": "code",
   "execution_count": 19,
   "metadata": {
    "collapsed": true
   },
   "outputs": [],
   "source": [
    "def average_line_length():\n",
    "    for text in all_texts:\n",
    "        print(text['title'])\n",
    "        lines = text['lines']\n",
    "        aver = (sum(len(i) for i in lines) / len(lines))\n",
    "        print(aver) "
   ]
  },
  {
   "cell_type": "code",
   "execution_count": 20,
   "metadata": {},
   "outputs": [
    {
     "name": "stdout",
     "output_type": "stream",
     "text": [
      "Winter Evening\n",
      "28.142857142857142\n",
      "Thoughts\n",
      "33.75\n",
      "The Name\n",
      "27.789473684210527\n",
      "The Prophet\n",
      "34.2\n",
      "Day's Rain Is Done\n",
      "37.36363636363637\n"
     ]
    }
   ],
   "source": [
    "average_line_length()"
   ]
  },
  {
   "cell_type": "markdown",
   "metadata": {},
   "source": [
    "Question 5\n",
    "**Print the longest line/sentence in each text**. \n",
    "This is similar to question 3--but your counter, and your string variable need to be placed right before the inside loop--and then you print the lines each time the inside loop ends."
   ]
  },
  {
   "cell_type": "code",
   "execution_count": 63,
   "metadata": {
    "collapsed": true
   },
   "outputs": [],
   "source": [
    "def longest_line_in_each():\n",
    "    long_length = 1\n",
    "    long_line = \"\"\n",
    "    for text in all_texts:\n",
    "        for line in text['lines']:\n",
    "            if long_length < len(line):\n",
    "                long_length = len(line)\n",
    "                long_line = line\n",
    "                #print(len(line), line)\n",
    "    print(long_length, long_line)"
   ]
  },
  {
   "cell_type": "code",
   "execution_count": 64,
   "metadata": {},
   "outputs": [
    {
     "name": "stdout",
     "output_type": "stream",
     "text": [
      "51 And through the pine-trees, like a ghost appearing,\n"
     ]
    }
   ],
   "source": [
    "longest_line_in_each()"
   ]
  },
  {
   "cell_type": "markdown",
   "metadata": {},
   "source": [
    "Question 6\n",
    "**Print the shortest single line/sentence out of all of the texts that is greater than zero**\n",
    "This is the tricky-ish: You need to place a counter and empty string outside the loop (like question 4, but the loop through all of the lines, test for the shortest one (greater than 0)."
   ]
  },
  {
   "cell_type": "code",
   "execution_count": 65,
   "metadata": {},
   "outputs": [],
   "source": [
    "def shortest_of_all_lines():\n",
    "    line_length = 1000000\n",
    "    short_line = \"\"\n",
    "    for text in all_texts:\n",
    "        for line in text['lines']:\n",
    "            if line_length > len(line) and len(line) > 0:\n",
    "                line_length = len(line)\n",
    "                short_line = line\n",
    "                #print(len(line), line)\n",
    "    print(line_length, short_line)"
   ]
  },
  {
   "cell_type": "code",
   "execution_count": 66,
   "metadata": {},
   "outputs": [
    {
     "name": "stdout",
     "output_type": "stream",
     "text": [
      "9 Yet if...\n"
     ]
    }
   ],
   "source": [
    "shortest_of_all_lines()"
   ]
  },
  {
   "cell_type": "markdown",
   "metadata": {},
   "source": [
    "## searching with regular expressions\n",
    "In the functions below you will search all the texts using regular expressions. The first few of these functions should not be too challenging--you just need to adjust the regular expression inside the function. At points it gets a little more complex as you have to control the looping through the lists and dictionaries."
   ]
  },
  {
   "cell_type": "code",
   "execution_count": null,
   "metadata": {
    "collapsed": true
   },
   "outputs": [],
   "source": [
    "def get_this_word(word):\n",
    "    my_regex = r\"\\b\" + word + r\"\\b\"\n",
    "    for text in all_texts:\n",
    "        result = [line for line in text['lines'] if re.search(my_regex, line, re.IGNORECASE)]\n",
    "        if len(result) > 0:\n",
    "            print(text['title'])\n",
    "            [print(line) for line in result]\n",
    "            print(\"------------\")\n",
    "            "
   ]
  },
  {
   "cell_type": "code",
   "execution_count": null,
   "metadata": {
    "scrolled": true
   },
   "outputs": [],
   "source": [
    "get_this_word('the')"
   ]
  },
  {
   "cell_type": "markdown",
   "metadata": {},
   "source": [
    "Question 7\n",
    "Print out the lines that start with the word entered.  You just need to adjust the regular expression here."
   ]
  },
  {
   "cell_type": "code",
   "execution_count": null,
   "metadata": {
    "collapsed": true
   },
   "outputs": [],
   "source": [
    "def line_starts_with():\n",
    "    my_regex = r\"^The\\b\"\n",
    "    for text in all_texts:\n",
    "        result = [line for line in text['lines'] if re.search(my_regex, line)]\n",
    "        if len(result) > 0:\n",
    "            print(text['title'])\n",
    "            [print(line) for line in result]\n",
    "            print(\"------------\")"
   ]
  },
  {
   "cell_type": "code",
   "execution_count": null,
   "metadata": {},
   "outputs": [],
   "source": [
    "line_starts_with()"
   ]
  },
  {
   "cell_type": "markdown",
   "metadata": {},
   "source": [
    "Question 8\n",
    "Print out the lines that end with the word entered.  You just need to adjust the regular expression here."
   ]
  },
  {
   "cell_type": "code",
   "execution_count": null,
   "metadata": {
    "collapsed": true
   },
   "outputs": [],
   "source": [
    "def line_ends_with(word):\n",
    "    my_regex = r\"\\b\" + word + \"$\"\n",
    "    for text in all_texts:\n",
    "        result = [line for line in text['lines'] if re.search(my_regex, line, re.IGNORECASE)]\n",
    "        if len(result) > 0:\n",
    "            print(text['title'])\n",
    "            [print(line) for line in result]\n",
    "            print(\"------------\")"
   ]
  },
  {
   "cell_type": "code",
   "execution_count": null,
   "metadata": {
    "collapsed": true
   },
   "outputs": [],
   "source": [
    "line_ends_with('the')\n",
    "#so no lines ends with 'the' "
   ]
  },
  {
   "cell_type": "markdown",
   "metadata": {},
   "source": [
    "Question 9\n",
    "Print out **how many times the word was found in each text.** In this case, instead of the list comprehension, you want to run a re.findall() on the string of the text (not the list) and then count the number of elements in the list of results.\n",
    "\n",
    "Hint: use the original function at the beginning of this section, and make the proper adjustments to the variable \"result\""
   ]
  },
  {
   "cell_type": "code",
   "execution_count": null,
   "metadata": {
    "collapsed": true
   },
   "outputs": [],
   "source": [
    "def how_many_times(word):\n",
    "    my_regex = r\"\\b\" + word + r\"\\b\"\n",
    "    for text in all_texts:\n",
    "        result = [line for line in text['lines'] if re.findall(my_regex, line, re.IGNORECASE)]\n",
    "        if len(result) > 0:\n",
    "            print(text['title'])\n",
    "            lines = text['lines']\n",
    "            print(len(result)) \n",
    "            print(\"------------\")"
   ]
  },
  {
   "cell_type": "code",
   "execution_count": null,
   "metadata": {},
   "outputs": [],
   "source": [
    "how_many_times(\"the\")"
   ]
  },
  {
   "cell_type": "markdown",
   "metadata": {},
   "source": [
    "Question 10\n",
    "Print out **the text that has the highest occurrence of the word** you searched for. This is similar to the last function, but here you need the counter and a mostfreqtext variable better placed outside the loop that you run comparisons on. (See Question 3)\n"
   ]
  },
  {
   "cell_type": "code",
   "execution_count": null,
   "metadata": {},
   "outputs": [],
   "source": [
    "##################################################################\n",
    "\n",
    "def text_with_most_occurance_of('word'):\n",
    "    mostfreqtext = \"\"\n",
    "    counter = 0\n",
    "    my_regex = r\"\\b\" + word + r\"\\b\"\n",
    "    for text in all_texts:\n",
    "        result = [line for line in text['lines']] if re.search(my_regex,line, re.IGNORECASE)\n",
    "        if len(text['lines']) > counter:\n",
    "            counter = 0 + len(text['lines'])\n",
    "            longest_text = text['alltext']\n",
    "            longest_title = text['title']\n",
    "            print(longest_title)\n",
    "            print(longest_text, mostfreqtext)\n"
   ]
  },
  {
   "cell_type": "code",
   "execution_count": null,
   "metadata": {},
   "outputs": [],
   "source": [
    "text_with_most_occurance_of('word')"
   ]
  },
  {
   "cell_type": "markdown",
   "metadata": {},
   "source": [
    "Question 11\n",
    "Print out **lines containing words of the length asked**. We are sort of back to basics here, you just need to modify the regular expression of the first function (get_this_word(word)) so that it can take a number parameter for the late characters in a word."
   ]
  },
  {
   "cell_type": "code",
   "execution_count": null,
   "metadata": {
    "collapsed": true
   },
   "outputs": [],
   "source": [
    "def lines_with_words_this_length():\n",
    "    my_regex = r\"\\w{10}\"\n",
    "    for text in all_texts:\n",
    "        result = [line for line in text['lines'] if re.search(my_regex, line, re.IGNORECASE)]\n",
    "        if len(result) > 0:\n",
    "            print(text['title'])\n",
    "            [print(line) for line in result]\n",
    "            print(\"------------\")\n",
    "            "
   ]
  },
  {
   "cell_type": "code",
   "execution_count": null,
   "metadata": {},
   "outputs": [],
   "source": [
    "lines_with_words_this_length()"
   ]
  },
  {
   "cell_type": "markdown",
   "metadata": {
    "collapsed": true
   },
   "source": [
    "**Final question:** in this cell, describe two functions that you would like to write, not ones that you're able to write, but ones you think would be useful or interesting or fun."
   ]
  },
  {
   "cell_type": "code",
   "execution_count": null,
   "metadata": {
    "collapsed": true
   },
   "outputs": [],
   "source": [
    "# 1) print the longest word in each poem \n",
    "# 2) print the number of stanzas in each peom? (Not sure how you would exactly do this, or if there is a way to separate based on stanzas)"
   ]
  }
 ],
 "metadata": {
  "kernelspec": {
   "display_name": "Python 3",
   "language": "python",
   "name": "python3"
  },
  "language_info": {
   "codemirror_mode": {
    "name": "ipython",
    "version": 3
   },
   "file_extension": ".py",
   "mimetype": "text/x-python",
   "name": "python",
   "nbconvert_exporter": "python",
   "pygments_lexer": "ipython3",
   "version": "3.6.1"
  }
 },
 "nbformat": 4,
 "nbformat_minor": 2
}

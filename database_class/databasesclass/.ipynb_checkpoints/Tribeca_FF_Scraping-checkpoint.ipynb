{
 "cells": [
  {
   "cell_type": "code",
   "execution_count": 1,
   "metadata": {
    "collapsed": true
   },
   "outputs": [],
   "source": [
    "from urllib.request import urlopen\n",
    "from bs4 import BeautifulSoup "
   ]
  },
  {
   "cell_type": "code",
   "execution_count": 4,
   "metadata": {},
   "outputs": [
    {
     "data": {
      "text/plain": [
       "<title>Film Guide | Tribeca</title>"
      ]
     },
     "execution_count": 4,
     "metadata": {},
     "output_type": "execute_result"
    }
   ],
   "source": [
    "my_url = \"https://tribecafilm.com/filmguide?letter=a\"\n",
    "raw_html = urlopen(my_url).read() \n",
    "soup_doc = BeautifulSoup(raw_html, \"html.parser\")  \n",
    "#print(soup_doc.prettify()) --> this will give you the HTML of the entire document \n",
    "soup_doc.title"
   ]
  },
  {
   "cell_type": "code",
   "execution_count": 8,
   "metadata": {},
   "outputs": [
    {
     "data": {
      "text/plain": [
       "<article>\n",
       "<section class=\"infoBlock cf \">\n",
       "<div class=\"marqueePhoto\">\n",
       "<a class=\"filmImg imageLoader\" href=\"/filmguide/aardvark-2017\" loader-style=\"fade\"><img alt=\"Medium_tff17_aardvark_1\" src=\"https://s3.amazonaws.com/tribeca_cms_production/uploads/film/photo_1/58c72e9bd4558f731c00031b/medium_TFF17_Aardvark_1.jpg\"/></a>\n",
       "</div>\n",
       "<div class=\"left\">\n",
       "<h1 class=\"headerTitle\">\n",
       "<a href=\"/filmguide/aardvark-2017\">AARDVARK</a>\n",
       "</h1>\n",
       "<div class=\"headerTags\">\n",
       "<a class=\"texticon\" href=\"/filmguide/archive?year=2017\">TFF 2017</a>\n",
       "<a class=\"texticon\" href=\"/filmguide?film_type=Narrative\">Narrative</a>\n",
       "<a class=\"texticon\" href=\"/filmguide?film_duration=Feature\">Feature</a>\n",
       "</div>\n",
       "<ul class=\"filmDetails\">\n",
       "<li>Section: US Narrative Competition</li>\n",
       "<li>Release Year: 2017</li>\n",
       "<li>Runtime: 89 minutes</li>\n",
       "<li>\n",
       "                        Directed By:\n",
       "\n",
       "                    Brian Shoaf\n",
       "\n",
       "                  </li>\n",
       "<li>Country:\n",
       "                    <a href=\"/filmguide?country=512cd41e1c7d768969000001\">USA</a>\n",
       "</li>\n",
       "</ul>\n",
       "</div>\n",
       "</section>\n",
       "<section class=\"synopsis\">\n",
       "        While battling her own anxieties, therapist Emily Milburton (Jenny Slate) spends her time listening to other people’s problems. Her professional and personal worlds collide when Emily’s newest patient, Josh Norman (Zachary Quinto), walks through her door. Mentally ill and experiencing hallucinations, Josh harbors complex feelings for his estranged brother, Craig (Jon Hamm). Things begin to get interesting when Emily falls for Craig. | <a class=\"readMore\" href=\"/filmguide/aardvark-2017\">Read More</a>\n",
       "</section>\n",
       "<section class=\"genres\">\n",
       "<a href=\"/filmguide?genre=512cd8461c7d76e04600000d\">Drama</a>, <a href=\"/filmguide?genre=53208976c07f5df7d2000002\">NY Director(s)</a>, <a href=\"/filmguide?genre=532089a4c07f5df7d200014d\">First Time Filmmaker</a> </section>\n",
       "</article>"
      ]
     },
     "execution_count": 8,
     "metadata": {},
     "output_type": "execute_result"
    }
   ],
   "source": [
    "soup_doc.find('article') "
   ]
  },
  {
   "cell_type": "code",
   "execution_count": 17,
   "metadata": {},
   "outputs": [
    {
     "data": {
      "text/plain": [
       "[<article>\n",
       " <section class=\"infoBlock cf \">\n",
       " <div class=\"marqueePhoto\">\n",
       " <a class=\"filmImg imageLoader\" href=\"/filmguide/aardvark-2017\" loader-style=\"fade\"><img alt=\"Medium_tff17_aardvark_1\" src=\"https://s3.amazonaws.com/tribeca_cms_production/uploads/film/photo_1/58c72e9bd4558f731c00031b/medium_TFF17_Aardvark_1.jpg\"/></a>\n",
       " </div>\n",
       " <div class=\"left\">\n",
       " <h1 class=\"headerTitle\">\n",
       " <a href=\"/filmguide/aardvark-2017\">AARDVARK</a>\n",
       " </h1>\n",
       " <div class=\"headerTags\">\n",
       " <a class=\"texticon\" href=\"/filmguide/archive?year=2017\">TFF 2017</a>\n",
       " <a class=\"texticon\" href=\"/filmguide?film_type=Narrative\">Narrative</a>\n",
       " <a class=\"texticon\" href=\"/filmguide?film_duration=Feature\">Feature</a>\n",
       " </div>\n",
       " <ul class=\"filmDetails\">\n",
       " <li>Section: US Narrative Competition</li>\n",
       " <li>Release Year: 2017</li>\n",
       " <li>Runtime: 89 minutes</li>\n",
       " <li>\n",
       "                         Directed By:\n",
       " \n",
       "                     Brian Shoaf\n",
       " \n",
       "                   </li>\n",
       " <li>Country:\n",
       "                     <a href=\"/filmguide?country=512cd41e1c7d768969000001\">USA</a>\n",
       " </li>\n",
       " </ul>\n",
       " </div>\n",
       " </section>\n",
       " <section class=\"synopsis\">\n",
       "         While battling her own anxieties, therapist Emily Milburton (Jenny Slate) spends her time listening to other people’s problems. Her professional and personal worlds collide when Emily’s newest patient, Josh Norman (Zachary Quinto), walks through her door. Mentally ill and experiencing hallucinations, Josh harbors complex feelings for his estranged brother, Craig (Jon Hamm). Things begin to get interesting when Emily falls for Craig. | <a class=\"readMore\" href=\"/filmguide/aardvark-2017\">Read More</a>\n",
       " </section>\n",
       " <section class=\"genres\">\n",
       " <a href=\"/filmguide?genre=512cd8461c7d76e04600000d\">Drama</a>, <a href=\"/filmguide?genre=53208976c07f5df7d2000002\">NY Director(s)</a>, <a href=\"/filmguide?genre=532089a4c07f5df7d200014d\">First Time Filmmaker</a> </section>\n",
       " </article>, <article>\n",
       " <section class=\"infoBlock cf \">\n",
       " <div class=\"marqueePhoto\">\n",
       " <a class=\"filmImg imageLoader\" href=\"/filmguide/abundant-acreage-available-2017\" loader-style=\"fade\"><img alt=\"Medium_tff17_abundant__acreage_available_diana_greene_1\" src=\"https://s3.amazonaws.com/tribeca_cms_production/uploads/film/photo_1/58c72e67d4558f731c000118/medium_TFF17_Abundant__Acreage_Available_Diana_Greene_1.jpg\"/></a>\n",
       " </div>\n",
       " <div class=\"left\">\n",
       " <h1 class=\"headerTitle\">\n",
       " <a href=\"/filmguide/abundant-acreage-available-2017\">ABUNDANT ACREAGE AVAILABLE</a>\n",
       " </h1>\n",
       " <div class=\"headerTags\">\n",
       " <a class=\"texticon\" href=\"/filmguide/archive?year=2017\">TFF 2017</a>\n",
       " <a class=\"texticon\" href=\"/filmguide?film_type=Narrative\">Narrative</a>\n",
       " <a class=\"texticon\" href=\"/filmguide?film_duration=Feature\">Feature</a>\n",
       " </div>\n",
       " <ul class=\"filmDetails\">\n",
       " <li>Section: US Narrative Competition</li>\n",
       " <li>Release Year: 2017</li>\n",
       " <li>Runtime: 80 minutes</li>\n",
       " <li>\n",
       "                         Directed By:\n",
       " \n",
       "                     Angus MacLachlan\n",
       " \n",
       "                   </li>\n",
       " <li>Country:\n",
       "                     <a href=\"/filmguide?country=512cd41e1c7d768969000001\">USA</a>\n",
       " </li>\n",
       " </ul>\n",
       " </div>\n",
       " </section>\n",
       " <section class=\"synopsis\">\n",
       "         Still reeling over the recent death of their father, siblings Jesse (Terry Kinney) and Tracy (Amy Ryan) are attempting to settle into their new lives in his absence. Their simple existence is unexpectedly disrupted by the sudden arrival of three mysterious brothers, camping on their land and possessing a surprising connection to their family farm.  | <a class=\"readMore\" href=\"/filmguide/abundant-acreage-available-2017\">Read More</a>\n",
       " </section>\n",
       " <section class=\"genres\">\n",
       " <a href=\"/filmguide?genre=512cd8461c7d76e04600000d\">Drama</a> </section>\n",
       " </article>, <article>\n",
       " <section class=\"infoBlock cf \">\n",
       " <div class=\"marqueePhoto\">\n",
       " <a class=\"filmImg imageLoader\" href=\"/filmguide/acorn-and-the-firestorm-2017\" loader-style=\"fade\"><img alt=\"Medium_tff17_acorn_courtesypandorafilmcenter_1\" src=\"https://s3.amazonaws.com/tribeca_cms_production/uploads/film/photo_1/58c72f4ad4558f731c0009af/medium_TFF17_ACORN_CourtesyPandoraFilmCenter_1.jpg\"/></a>\n",
       " </div>\n",
       " <div class=\"left\">\n",
       " <h1 class=\"headerTitle\">\n",
       " <a href=\"/filmguide/acorn-and-the-firestorm-2017\">ACORN AND THE FIRESTORM</a>\n",
       " </h1>\n",
       " <div class=\"headerTags\">\n",
       " <a class=\"texticon\" href=\"/filmguide/archive?year=2017\">TFF 2017</a>\n",
       " <a class=\"texticon\" href=\"/filmguide?film_type=Documentary\">Documentary</a>\n",
       " <a class=\"texticon\" href=\"/filmguide?film_duration=Feature\">Feature</a>\n",
       " </div>\n",
       " <ul class=\"filmDetails\">\n",
       " <li>Section: Spotlight Documentary</li>\n",
       " <li>Release Year: 2017</li>\n",
       " <li>Runtime: 84 minutes</li>\n",
       " <li>\n",
       "                         Directed By:\n",
       " \n",
       "                     Reuben Atlas and Sam Pollard\n",
       " \n",
       "                   </li>\n",
       " <li>Country:\n",
       "                     <a href=\"/filmguide?country=512cd41e1c7d768969000001\">USA</a>\n",
       " </li>\n",
       " </ul>\n",
       " </div>\n",
       " </section>\n",
       " <section class=\"synopsis\">\n",
       "         For 40 years, the community-organizing group ACORN advocated for America’s poorest communities, while its detractors accused it of promoting government waste and the worst of liberal policies. Riding high on the momentum of Barack Obama’s presidential victory in 2008, ACORN was at its social zenith when a hidden-camera video sparked a national scandal and brought it all crashing down. | <a class=\"readMore\" href=\"/filmguide/acorn-and-the-firestorm-2017\">Read More</a>\n",
       " </section>\n",
       " <section class=\"genres\">\n",
       " <a href=\"/filmguide?genre=512cd9641c7d76e0460000c9\">Documentary</a>, <a href=\"/filmguide?genre=53208976c07f5df7d2000001\">New York</a>, <a href=\"/filmguide?genre=53208976c07f5df7d2000002\">NY Director(s)</a>, <a href=\"/filmguide?genre=56017b5fd4558f540d000005\">African American Director(s)</a> </section>\n",
       " </article>, <article>\n",
       " <section class=\"infoBlock cf \">\n",
       " <div class=\"marqueePhoto\">\n",
       " <a class=\"filmImg imageLoader\" href=\"/filmguide/again-2017\" loader-style=\"fade\"><img alt=\"Medium_again_ricardo-diaz_web1\" src=\"https://s3.amazonaws.com/tribeca_cms_production/uploads/film/photo_1/58c72f07d4558f731c0006fe/medium_Again_Ricardo-Diaz_web1.jpg\"/></a>\n",
       " </div>\n",
       " <div class=\"left\">\n",
       " <h1 class=\"headerTitle\">\n",
       " <a href=\"/filmguide/again-2017\">AGAIN</a>\n",
       " </h1>\n",
       " <div class=\"headerTags\">\n",
       " <a class=\"texticon\" href=\"/filmguide/archive?year=2017\">TFF 2017</a>\n",
       " <a class=\"texticon\" href=\"/filmguide?film_type=Narrative\">Narrative</a>\n",
       " <a class=\"texticon\" href=\"/filmguide?film_duration=Short\">Short</a>\n",
       " </div>\n",
       " <ul class=\"filmDetails\">\n",
       " <li>Section: Shorts</li>\n",
       " <li>Release Year: 2017</li>\n",
       " <li>Runtime: 11 minutes</li>\n",
       " <li>\n",
       "                         Directed By:\n",
       " \n",
       "                     Alexis Jacknow\n",
       " \n",
       "                   </li>\n",
       " <li>Country:\n",
       "                     <a href=\"/filmguide?country=512cd41e1c7d768969000001\">USA</a>\n",
       " </li>\n",
       " </ul>\n",
       " </div>\n",
       " </section>\n",
       " <section class=\"synopsis\">\n",
       "         A man watches <em>Groundhog Day</em> over and over and over again. | <a class=\"readMore\" href=\"/filmguide/again-2017\">Read More</a>\n",
       " </section>\n",
       " <section class=\"genres\">\n",
       " <a href=\"/filmguide?genre=512cd8461c7d76e04600000d\">Drama</a>, <a href=\"/filmguide?genre=512cd8461c7d76e04600000f\">Female Director(s)</a>, <a href=\"/filmguide?genre=53208976c07f5df7d2000005\">Female Screenwriter(s)</a>, <a href=\"/filmguide?genre=532089a4c07f5df7d200014d\">First Time Filmmaker</a> </section>\n",
       " </article>, <article>\n",
       " <section class=\"infoBlock cf \">\n",
       " <div class=\"marqueePhoto\">\n",
       " <a class=\"filmImg imageLoader\" href=\"/filmguide/aladdin-2017\" loader-style=\"fade\"><img alt=\"Medium_aladdin_holding-lamp_web1\" src=\"https://s3.amazonaws.com/tribeca_cms_production/uploads/film/photo_1/58c73175d4558f42ed000436/medium_Aladdin_holding-lamp_web1.jpg\"/></a>\n",
       " </div>\n",
       " <div class=\"left\">\n",
       " <h1 class=\"headerTitle\">\n",
       " <a href=\"/filmguide/aladdin-2017\">ALADDIN</a>\n",
       " </h1>\n",
       " <div class=\"headerTags\">\n",
       " <a class=\"texticon\" href=\"/filmguide/archive?year=2017\">TFF 2017</a>\n",
       " <a class=\"texticon\" href=\"/filmguide?film_type=Narrative\">Narrative</a>\n",
       " <a class=\"texticon\" href=\"/filmguide?film_duration=Feature\">Feature</a>\n",
       " </div>\n",
       " <ul class=\"filmDetails\">\n",
       " <li>Section: Retrospective Special Screenings</li>\n",
       " <li>Release Year: 1992</li>\n",
       " <li>Runtime: 90 minutes</li>\n",
       " <li>\n",
       "                         Directed By:\n",
       " \n",
       "                     Ron Clements and John Musker\n",
       " \n",
       "                   </li>\n",
       " <li>Country:\n",
       "                     <a href=\"/filmguide?country=512cd41e1c7d768969000001\">USA</a>\n",
       " </li>\n",
       " </ul>\n",
       " </div>\n",
       " </section>\n",
       " <section class=\"synopsis\">\n",
       "         Disney’s beloved animated masterpiece will make your heart race and your spirit soar. Experience the laughter, adventure and Academy Award®-winning music (1992: Best Music, Original Song, “A Whole New World,” Original Score) on the big screen at Tribeca’s 25th anniversary celebration for the whole family.<br/><br/><strong>Before the Movie</strong>: Join <strong>Brad Kane</strong>, the singing voice of Aladdin, for a special 25th anniversary performance of a soundtrack favorite before the screening. | <a class=\"readMore\" href=\"/filmguide/aladdin-2017\">Read More</a>\n",
       " </section>\n",
       " <section class=\"genres\">\n",
       " <a href=\"/filmguide?genre=512cd9b31c7d76e0460000e8\">Animation</a> </section>\n",
       " </article>, <article>\n",
       " <section class=\"infoBlock cf \">\n",
       " <div class=\"marqueePhoto\">\n",
       " <a class=\"filmImg imageLoader\" href=\"/filmguide/alive-2017\" loader-style=\"fade\"><img alt=\"Medium_alive_still4_web\" src=\"https://s3.amazonaws.com/tribeca_cms_production/uploads/film/photo_1/58c72effd4558f731c0006ac/medium_ALIVE_still4_web.jpg\"/></a>\n",
       " </div>\n",
       " <div class=\"left\">\n",
       " <h1 class=\"headerTitle\">\n",
       " <a href=\"/filmguide/alive-2017\">ALIVE</a>\n",
       " </h1>\n",
       " <div class=\"headerTags\">\n",
       " <a class=\"texticon\" href=\"/filmguide/archive?year=2017\">TFF 2017</a>\n",
       " <a class=\"texticon\" href=\"/filmguide?film_type=Narrative\">Narrative</a>\n",
       " <a class=\"texticon\" href=\"/filmguide?film_duration=Short\">Short</a>\n",
       " </div>\n",
       " <ul class=\"filmDetails\">\n",
       " <li>Section: Shorts</li>\n",
       " <li>Release Year: 2016</li>\n",
       " <li>Runtime: 15 minutes</li>\n",
       " <li>\n",
       "                         Directed By:\n",
       " \n",
       "                     Sung Hwan Kim\n",
       " \n",
       "                   </li>\n",
       " <li>Country:\n",
       "                     <a href=\"/filmguide?country=512cd4231c7d7689690000ae\">South Korea</a>\n",
       " </li>\n",
       " </ul>\n",
       " </div>\n",
       " </section>\n",
       " <section class=\"synopsis\">\n",
       "         A 100-meter sprinter faces challenges around the end of his career and his life | <a class=\"readMore\" href=\"/filmguide/alive-2017\">Read More</a>\n",
       " </section>\n",
       " <section class=\"genres\">\n",
       " <a href=\"/filmguide?genre=512cd8461c7d76e04600000d\">Drama</a>, <a href=\"/filmguide?genre=512cd9501c7d76e0460000b2\">Sports</a> </section>\n",
       " </article>, <article>\n",
       " <section class=\"infoBlock cf \">\n",
       " <div class=\"marqueePhoto\">\n",
       " <a class=\"filmImg imageLoader\" href=\"/filmguide/alphago-2017\" loader-style=\"fade\"><img alt=\"Medium_tff17_alphago_greg_kohs_1\" src=\"https://s3.amazonaws.com/tribeca_cms_production/uploads/film/photo_1/58c73157d4558f42ed000301/medium_TFF17_AlphaGo_Greg_Kohs_1.jpg\"/></a>\n",
       " </div>\n",
       " <div class=\"left\">\n",
       " <h1 class=\"headerTitle\">\n",
       " <a href=\"/filmguide/alphago-2017\">ALPHAGO</a>\n",
       " </h1>\n",
       " <div class=\"headerTags\">\n",
       " <a class=\"texticon\" href=\"/filmguide/archive?year=2017\">TFF 2017</a>\n",
       " <a class=\"texticon\" href=\"/filmguide?film_type=Documentary\">Documentary</a>\n",
       " <a class=\"texticon\" href=\"/filmguide?film_duration=Feature\">Feature</a>\n",
       " </div>\n",
       " <ul class=\"filmDetails\">\n",
       " <li>Section: Spotlight Documentary</li>\n",
       " <li>Release Year: 2017</li>\n",
       " <li>Runtime: 90 minutes</li>\n",
       " <li>\n",
       "                         Directed By:\n",
       " \n",
       "                     Greg Kohs\n",
       " \n",
       "                   </li>\n",
       " <li>Country:\n",
       "                     <a href=\"/filmguide?country=512cd41e1c7d768969000001\">USA</a>\n",
       " </li>\n",
       " </ul>\n",
       " </div>\n",
       " </section>\n",
       " <section class=\"synopsis\">\n",
       "         With simple rules but a near-infinite number of possible outcomes, the ancient Chinese board game Go has long been considered the holy grail of artificial intelligence. Director Greg Kohs' absorbing documentary chronicles Google's DeepMind team as it takes on one of the world's top Go players in a weeklong tournament, pitting man against machine in a competition that reveals as much about the workings of the human mind as it does the future of AI. | <a class=\"readMore\" href=\"/filmguide/alphago-2017\">Read More</a>\n",
       " </section>\n",
       " <section class=\"genres\">\n",
       " <a href=\"/filmguide?genre=512cd9641c7d76e0460000c9\">Documentary</a> </section>\n",
       " </article>, <article>\n",
       " <section class=\"infoBlock cf \">\n",
       " <div class=\"marqueePhoto\">\n",
       " <a class=\"filmImg imageLoader\" href=\"/filmguide/alteration-2017\" loader-style=\"fade\"><img alt=\"Medium_tff17_alteration_1\" src=\"https://s3.amazonaws.com/tribeca_cms_production/uploads/film/photo_1/58c731b5d4558f42ed0005a3/medium_TFF17_Alteration_1.jpg\"/></a>\n",
       " </div>\n",
       " <div class=\"left\">\n",
       " <h1 class=\"headerTitle\">\n",
       " <a href=\"/filmguide/alteration-2017\">ALTERATION</a>\n",
       " </h1>\n",
       " <div class=\"headerTags\">\n",
       " <a class=\"texticon\" href=\"/filmguide/archive?year=2017\">TFF 2017</a>\n",
       " </div>\n",
       " <ul class=\"filmDetails\">\n",
       " <li>Section: Virtual Arcade</li>\n",
       " <li>Release Year: 2017</li>\n",
       " <li>Runtime: 18 minutes</li>\n",
       " <li>\n",
       "                         Created By:\n",
       " \n",
       "                     Jérome Blanquet\n",
       " \n",
       "                   </li>\n",
       " <li>Country:\n",
       "                     <a href=\"/filmguide?country=512cd41f1c7d768969000028\">France</a>\n",
       " </li>\n",
       " </ul>\n",
       " </div>\n",
       " </section>\n",
       " <section class=\"synopsis\">\n",
       "         Alexandro volunteers for an experiment carried out to study dreams in this poetic trip into the future. He can’t imagine that he will be subjected to the intrusion of Elsa, a form of Artificial Intelligence who aims to digitize his subconscious in order to feed off of it. She’s a vampire…bit by megabit. | <a class=\"readMore\" href=\"/filmguide/alteration-2017\">Read More</a>\n",
       " </section>\n",
       " </article>, <article>\n",
       " <section class=\"infoBlock cf \">\n",
       " <div class=\"marqueePhoto\">\n",
       " <a class=\"filmImg imageLoader\" href=\"/filmguide/amazing-adventures-of-wally-and-the-worm-2017\" loader-style=\"fade\"><img alt=\"Medium_wallyworm_web1\" src=\"https://s3.amazonaws.com/tribeca_cms_production/uploads/film/photo_1/58c72f76d4558f731c000b6f/medium_WallyWorm_web1.jpg\"/></a>\n",
       " </div>\n",
       " <div class=\"left\">\n",
       " <h1 class=\"headerTitle\">\n",
       " <a href=\"/filmguide/amazing-adventures-of-wally-and-the-worm-2017\">THE AMAZING ADVENTURES OF WALLY AND THE WORM</a>\n",
       " </h1>\n",
       " <div class=\"headerTags\">\n",
       " <a class=\"texticon\" href=\"/filmguide/archive?year=2017\">TFF 2017</a>\n",
       " <a class=\"texticon\" href=\"/filmguide?film_type=Documentary\">Documentary</a>\n",
       " <a class=\"texticon\" href=\"/filmguide?film_duration=Short\">Short</a>\n",
       " </div>\n",
       " <ul class=\"filmDetails\">\n",
       " <li>Section: Shorts</li>\n",
       " <li>Release Year: 2016</li>\n",
       " <li>Runtime: 16 minutes</li>\n",
       " <li>\n",
       "                         Directed By:\n",
       " \n",
       "                     Colin Hanks\n",
       " \n",
       "                   </li>\n",
       " <li>Country:\n",
       "                     <a href=\"/filmguide?country=512cd41e1c7d768969000001\">USA</a>\n",
       " </li>\n",
       " </ul>\n",
       " </div>\n",
       " </section>\n",
       " <section class=\"synopsis\">\n",
       "         When Dennis Rodman hurts his knee with four weeks to go in the Chicago Bulls '96-'97 NBA championship season, young assistant trainer Wally Blasé is assigned to oversee his rehab, and the two forge a close friendship over 10 wild days of fast living recounted by director Colin Hanks through animation and first-person confessions. | <a class=\"readMore\" href=\"/filmguide/amazing-adventures-of-wally-and-the-worm-2017\">Read More</a>\n",
       " </section>\n",
       " <section class=\"genres\">\n",
       " <a href=\"/filmguide?genre=512cd9501c7d76e0460000b2\">Sports</a>, <a href=\"/filmguide?genre=512cd9641c7d76e0460000c9\">Documentary</a>, <a href=\"/filmguide?genre=512cd9b31c7d76e0460000e8\">Animation</a> </section>\n",
       " </article>, <article>\n",
       " <section class=\"infoBlock cf \">\n",
       " <div class=\"marqueePhoto\">\n",
       " <a class=\"filmImg imageLoader\" href=\"/filmguide/angel-2017\" loader-style=\"fade\"><img alt=\"Medium_angel_filmstill_web1\" src=\"https://s3.amazonaws.com/tribeca_cms_production/uploads/film/photo_1/58c72ef0d4558f731c0005fc/medium_Angel_filmstill_web1.jpg\"/></a>\n",
       " </div>\n",
       " <div class=\"left\">\n",
       " <h1 class=\"headerTitle\">\n",
       " <a href=\"/filmguide/angel-2017\">ANGEL</a>\n",
       " </h1>\n",
       " <div class=\"headerTags\">\n",
       " <a class=\"texticon\" href=\"/filmguide/archive?year=2017\">TFF 2017</a>\n",
       " <a class=\"texticon\" href=\"/filmguide?film_type=Narrative\">Narrative</a>\n",
       " <a class=\"texticon\" href=\"/filmguide?film_duration=Short\">Short</a>\n",
       " </div>\n",
       " <ul class=\"filmDetails\">\n",
       " <li>Section: Shorts</li>\n",
       " <li>Release Year: 2016</li>\n",
       " <li>Runtime: 8 minutes</li>\n",
       " <li>\n",
       "                         Directed By:\n",
       " \n",
       "                     Gregory Casares\n",
       " \n",
       "                   </li>\n",
       " <li>Country:\n",
       "                     <a href=\"/filmguide?country=512cd5081c7d768969000465\">Switzerland</a>\n",
       " </li>\n",
       " </ul>\n",
       " </div>\n",
       " </section>\n",
       " <section class=\"synopsis\">\n",
       "         Eva and Mr. Corbeau have long felt a reciprocal affection and attraction, but the world of humans and the world of animals don't mix – until one autumn evening at the masked ball organized by Eva's father in honor of his daughter. | <a class=\"readMore\" href=\"/filmguide/angel-2017\">Read More</a>\n",
       " </section>\n",
       " <section class=\"genres\">\n",
       " <a href=\"/filmguide?genre=512cd8461c7d76e04600000d\">Drama</a>, <a href=\"/filmguide?genre=512cd92a1c7d76e04600007c\">Action</a>, <a href=\"/filmguide?genre=512cd9b31c7d76e0460000e8\">Animation</a>, <a href=\"/filmguide?genre=512cda021c7d76e04600011b\">Science Fiction</a> </section>\n",
       " </article>]"
      ]
     },
     "execution_count": 17,
     "metadata": {},
     "output_type": "execute_result"
    }
   ],
   "source": [
    "all_movies = soup_doc.find_all('article')\n",
    "all_movies "
   ]
  },
  {
   "cell_type": "code",
   "execution_count": 25,
   "metadata": {},
   "outputs": [
    {
     "data": {
      "text/plain": [
       "<a href=\"/filmguide/aardvark-2017\">AARDVARK</a>"
      ]
     },
     "execution_count": 25,
     "metadata": {},
     "output_type": "execute_result"
    }
   ],
   "source": [
    "movie_info = all_movies[0].find(class_ = 'left') \n",
    "movie_info.a\n",
    "#(you need a _ after class because it is a syntax into beautiful soup) ..or....\n",
    "#all_movies[0].find('div', attr = {'class': 'left'})   "
   ]
  },
  {
   "cell_type": "code",
   "execution_count": 26,
   "metadata": {},
   "outputs": [
    {
     "data": {
      "text/plain": [
       "[<a href=\"/filmguide/aardvark-2017\">AARDVARK</a>,\n",
       " <a class=\"texticon\" href=\"/filmguide/archive?year=2017\">TFF 2017</a>,\n",
       " <a class=\"texticon\" href=\"/filmguide?film_type=Narrative\">Narrative</a>,\n",
       " <a class=\"texticon\" href=\"/filmguide?film_duration=Feature\">Feature</a>,\n",
       " <a href=\"/filmguide?country=512cd41e1c7d768969000001\">USA</a>]"
      ]
     },
     "execution_count": 26,
     "metadata": {},
     "output_type": "execute_result"
    }
   ],
   "source": [
    "movie_info.find_all('a') "
   ]
  },
  {
   "cell_type": "code",
   "execution_count": 27,
   "metadata": {},
   "outputs": [
    {
     "data": {
      "text/plain": [
       "<div class=\"left\">\n",
       "<h1 class=\"headerTitle\">\n",
       "<a href=\"/filmguide/aardvark-2017\">AARDVARK</a>\n",
       "</h1>\n",
       "<div class=\"headerTags\">\n",
       "<a class=\"texticon\" href=\"/filmguide/archive?year=2017\">TFF 2017</a>\n",
       "<a class=\"texticon\" href=\"/filmguide?film_type=Narrative\">Narrative</a>\n",
       "<a class=\"texticon\" href=\"/filmguide?film_duration=Feature\">Feature</a>\n",
       "</div>\n",
       "<ul class=\"filmDetails\">\n",
       "<li>Section: US Narrative Competition</li>\n",
       "<li>Release Year: 2017</li>\n",
       "<li>Runtime: 89 minutes</li>\n",
       "<li>\n",
       "                        Directed By:\n",
       "\n",
       "                    Brian Shoaf\n",
       "\n",
       "                  </li>\n",
       "<li>Country:\n",
       "                    <a href=\"/filmguide?country=512cd41e1c7d768969000001\">USA</a>\n",
       "</li>\n",
       "</ul>\n",
       "</div>"
      ]
     },
     "execution_count": 27,
     "metadata": {},
     "output_type": "execute_result"
    }
   ],
   "source": [
    "movie_info"
   ]
  },
  {
   "cell_type": "code",
   "execution_count": 28,
   "metadata": {},
   "outputs": [
    {
     "data": {
      "text/plain": [
       "[<li>Section: US Narrative Competition</li>,\n",
       " <li>Release Year: 2017</li>,\n",
       " <li>Runtime: 89 minutes</li>,\n",
       " <li>\n",
       "                         Directed By:\n",
       " \n",
       "                     Brian Shoaf\n",
       " \n",
       "                   </li>,\n",
       " <li>Country:\n",
       "                     <a href=\"/filmguide?country=512cd41e1c7d768969000001\">USA</a>\n",
       " </li>]"
      ]
     },
     "execution_count": 28,
     "metadata": {},
     "output_type": "execute_result"
    }
   ],
   "source": [
    "movie_info.find_all('li')"
   ]
  },
  {
   "cell_type": "code",
   "execution_count": 29,
   "metadata": {},
   "outputs": [
    {
     "data": {
      "text/plain": [
       "<a href=\"/filmguide/abundant-acreage-available-2017\">ABUNDANT ACREAGE AVAILABLE</a>"
      ]
     },
     "execution_count": 29,
     "metadata": {},
     "output_type": "execute_result"
    }
   ],
   "source": [
    "movie_info1 = all_movies[1].find(class_ = 'left') \n",
    "movie_info1.a "
   ]
  },
  {
   "cell_type": "code",
   "execution_count": null,
   "metadata": {
    "collapsed": true
   },
   "outputs": [],
   "source": [
    "##LOOPING  "
   ]
  },
  {
   "cell_type": "code",
   "execution_count": 32,
   "metadata": {},
   "outputs": [
    {
     "name": "stdout",
     "output_type": "stream",
     "text": [
      "5\n",
      "5\n",
      "5\n",
      "5\n",
      "5\n",
      "5\n",
      "5\n",
      "3\n",
      "5\n",
      "5\n"
     ]
    }
   ],
   "source": [
    "for this_movie in all_movies:\n",
    "    movie_info = this_movie.find(class_ = 'left')\n",
    "    this_array = movie_info.find_all('a') \n",
    "    print(len(this_array)) "
   ]
  },
  {
   "cell_type": "code",
   "execution_count": null,
   "metadata": {
    "collapsed": true
   },
   "outputs": [],
   "source": [
    "#above there will be a problem with searching through the 'a' in each article "
   ]
  },
  {
   "cell_type": "code",
   "execution_count": 33,
   "metadata": {},
   "outputs": [
    {
     "name": "stdout",
     "output_type": "stream",
     "text": [
      "5\n",
      "5\n",
      "5\n",
      "5\n",
      "5\n",
      "5\n",
      "5\n",
      "5\n",
      "5\n",
      "5\n"
     ]
    }
   ],
   "source": [
    "for this_movie in all_movies:\n",
    "    movie_info = this_movie.find(class_ = 'left')\n",
    "    this_array = movie_info.find_all('li')  \n",
    "    print(len(this_array)) "
   ]
  },
  {
   "cell_type": "code",
   "execution_count": 54,
   "metadata": {},
   "outputs": [
    {
     "ename": "AttributeError",
     "evalue": "ResultSet object has no attribute 'find_all'. You're probably treating a list of items like a single item. Did you call find_all() when you meant to call find()?",
     "output_type": "error",
     "traceback": [
      "\u001b[0;31m---------------------------------------------------------------------------\u001b[0m",
      "\u001b[0;31mAttributeError\u001b[0m                            Traceback (most recent call last)",
      "\u001b[0;32m<ipython-input-54-532c5eb37fc7>\u001b[0m in \u001b[0;36m<module>\u001b[0;34m()\u001b[0m\n\u001b[0;32m----> 1\u001b[0;31m \u001b[0mmovie_info\u001b[0m \u001b[0;34m=\u001b[0m \u001b[0mall_movies\u001b[0m\u001b[0;34m.\u001b[0m\u001b[0mfind_all\u001b[0m\u001b[0;34m(\u001b[0m\u001b[0mclass_\u001b[0m \u001b[0;34m=\u001b[0m \u001b[0;34m'left'\u001b[0m\u001b[0;34m)\u001b[0m\u001b[0;34m\u001b[0m\u001b[0m\n\u001b[0m\u001b[1;32m      2\u001b[0m \u001b[0mtitle\u001b[0m \u001b[0;34m=\u001b[0m \u001b[0mmovie_info\u001b[0m\u001b[0;34m.\u001b[0m\u001b[0mfind_all\u001b[0m\u001b[0;34m(\u001b[0m\u001b[0mclass_\u001b[0m \u001b[0;34m=\u001b[0m \u001b[0;34m'headerTitle'\u001b[0m\u001b[0;34m)\u001b[0m\u001b[0;34m\u001b[0m\u001b[0m\n\u001b[1;32m      3\u001b[0m \u001b[0mtitle\u001b[0m\u001b[0;34m\u001b[0m\u001b[0m\n",
      "\u001b[0;32m/usr/local/lib/python3.6/site-packages/bs4/element.py\u001b[0m in \u001b[0;36m__getattr__\u001b[0;34m(self, key)\u001b[0m\n\u001b[1;32m   1805\u001b[0m     \u001b[0;32mdef\u001b[0m \u001b[0m__getattr__\u001b[0m\u001b[0;34m(\u001b[0m\u001b[0mself\u001b[0m\u001b[0;34m,\u001b[0m \u001b[0mkey\u001b[0m\u001b[0;34m)\u001b[0m\u001b[0;34m:\u001b[0m\u001b[0;34m\u001b[0m\u001b[0m\n\u001b[1;32m   1806\u001b[0m         raise AttributeError(\n\u001b[0;32m-> 1807\u001b[0;31m             \u001b[0;34m\"ResultSet object has no attribute '%s'. You're probably treating a list of items like a single item. Did you call find_all() when you meant to call find()?\"\u001b[0m \u001b[0;34m%\u001b[0m \u001b[0mkey\u001b[0m\u001b[0;34m\u001b[0m\u001b[0m\n\u001b[0m\u001b[1;32m   1808\u001b[0m         )\n",
      "\u001b[0;31mAttributeError\u001b[0m: ResultSet object has no attribute 'find_all'. You're probably treating a list of items like a single item. Did you call find_all() when you meant to call find()?"
     ]
    }
   ],
   "source": [
    "movie_info = all_movies.find_all(class_ = 'left')\n",
    "title = movie_info.find_all(class_ = 'headerTitle')\n",
    "title "
   ]
  },
  {
   "cell_type": "code",
   "execution_count": 41,
   "metadata": {},
   "outputs": [
    {
     "name": "stdout",
     "output_type": "stream",
     "text": [
      "Section: Virtual Arcade\n",
      "Release Year: 2017\n",
      "Runtime: 18 minutes\n",
      "\n",
      "                        Created By:\n",
      "\n",
      "                    Jérome Blanquet\n",
      "\n",
      "                  \n",
      "None\n"
     ]
    }
   ],
   "source": [
    "all_movies = movie_info1.find_all('li')\n",
    "for this_movie in all_movies:\n",
    "    print(this_movie.string)\n",
    "   # movie_info = this_movie.find(class_ = 'left')\n",
    "    #this_array = movie_info.find_all('li') \n",
    "    "
   ]
  },
  {
   "cell_type": "code",
   "execution_count": 49,
   "metadata": {},
   "outputs": [
    {
     "name": "stdout",
     "output_type": "stream",
     "text": [
      "Section: Virtual Arcade\n",
      "Release Year: 2017\n",
      "Runtime: 18 minutes\n",
      "\n",
      "                        Created By:\n",
      "\n",
      "                    Jérome Blanquet\n",
      "\n",
      "                  \n"
     ]
    }
   ],
   "source": [
    "for this_movie in all_movies[:-1]:\n",
    "    print(this_movie.string)\n",
    "    "
   ]
  },
  {
   "cell_type": "code",
   "execution_count": 51,
   "metadata": {},
   "outputs": [
    {
     "data": {
      "text/plain": [
       "'France'"
      ]
     },
     "execution_count": 51,
     "metadata": {},
     "output_type": "execute_result"
    }
   ],
   "source": [
    "all_movies[-1].find('a').string"
   ]
  },
  {
   "cell_type": "code",
   "execution_count": 58,
   "metadata": {},
   "outputs": [
    {
     "ename": "TypeError",
     "evalue": "'NoneType' object is not callable",
     "output_type": "error",
     "traceback": [
      "\u001b[0;31m---------------------------------------------------------------------------\u001b[0m",
      "\u001b[0;31mTypeError\u001b[0m                                 Traceback (most recent call last)",
      "\u001b[0;32m<ipython-input-58-5f4d84a2e374>\u001b[0m in \u001b[0;36m<module>\u001b[0;34m()\u001b[0m\n\u001b[1;32m      1\u001b[0m \u001b[0;32mfor\u001b[0m \u001b[0mthis_movie\u001b[0m \u001b[0;32min\u001b[0m \u001b[0mall_movies\u001b[0m\u001b[0;34m:\u001b[0m\u001b[0;34m\u001b[0m\u001b[0m\n\u001b[1;32m      2\u001b[0m     \u001b[0mmovies_info\u001b[0m \u001b[0;34m=\u001b[0m \u001b[0mthis_movie\u001b[0m\u001b[0;34m.\u001b[0m\u001b[0mfind\u001b[0m\u001b[0;34m(\u001b[0m\u001b[0mclass_\u001b[0m \u001b[0;34m=\u001b[0m \u001b[0;34m'left'\u001b[0m\u001b[0;34m)\u001b[0m\u001b[0;34m\u001b[0m\u001b[0m\n\u001b[0;32m----> 3\u001b[0;31m     \u001b[0mtitle\u001b[0m \u001b[0;34m=\u001b[0m \u001b[0mmovies_info\u001b[0m\u001b[0;34m(\u001b[0m\u001b[0mclass_\u001b[0m \u001b[0;34m=\u001b[0m \u001b[0;34m'headerTitle'\u001b[0m\u001b[0;34m)\u001b[0m\u001b[0;34m.\u001b[0m\u001b[0mfind\u001b[0m\u001b[0;34m(\u001b[0m\u001b[0;34m'a'\u001b[0m\u001b[0;34m)\u001b[0m\u001b[0;34m.\u001b[0m\u001b[0mstring\u001b[0m\u001b[0;34m\u001b[0m\u001b[0m\n\u001b[0m\u001b[1;32m      4\u001b[0m     \u001b[0mdetails\u001b[0m \u001b[0;34m=\u001b[0m \u001b[0mmovies_info\u001b[0m\u001b[0;34m.\u001b[0m\u001b[0mfind_all\u001b[0m\u001b[0;34m(\u001b[0m\u001b[0;34m'li'\u001b[0m\u001b[0;34m)\u001b[0m\u001b[0;34m\u001b[0m\u001b[0m\n\u001b[1;32m      5\u001b[0m     \u001b[0;32mfor\u001b[0m \u001b[0mdets\u001b[0m \u001b[0;32min\u001b[0m \u001b[0mdetails\u001b[0m\u001b[0;34m[\u001b[0m\u001b[0;34m:\u001b[0m\u001b[0;34m-\u001b[0m\u001b[0;36m1\u001b[0m\u001b[0;34m]\u001b[0m\u001b[0;34m:\u001b[0m\u001b[0;34m\u001b[0m\u001b[0m\n",
      "\u001b[0;31mTypeError\u001b[0m: 'NoneType' object is not callable"
     ]
    }
   ],
   "source": [
    "for this_movie in all_movies:\n",
    "    movies_info = this_movie.find(class_ = 'left')\n",
    "    title = movies_info(class_ = 'headerTitle').find('a').string\n",
    "    details = movies_info.find_all('li')\n",
    "    for dets in details[:-1]:\n",
    "        print(dets.string)\n"
   ]
  },
  {
   "cell_type": "code",
   "execution_count": null,
   "metadata": {
    "collapsed": true
   },
   "outputs": [],
   "source": []
  }
 ],
 "metadata": {
  "kernelspec": {
   "display_name": "Python 3",
   "language": "python",
   "name": "python3"
  },
  "language_info": {
   "codemirror_mode": {
    "name": "ipython",
    "version": 3
   },
   "file_extension": ".py",
   "mimetype": "text/x-python",
   "name": "python",
   "nbconvert_exporter": "python",
   "pygments_lexer": "ipython3",
   "version": "3.6.1"
  }
 },
 "nbformat": 4,
 "nbformat_minor": 2
}

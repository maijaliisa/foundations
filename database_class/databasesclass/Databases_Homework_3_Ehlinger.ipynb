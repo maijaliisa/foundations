{
 "cells": [
  {
   "cell_type": "markdown",
   "metadata": {},
   "source": [
    "## Homework 3\n",
    "This homework asks you to scrape from three different sources, please follow the instructions and do the best you can. With the exception of the first cell that imports the URL request and the beautiful soup library, I have not pre-written any code for you. Do not be afraid--you may look at the tutorial for examples, as well as the Beautiful Soup documentation, and any other Python resource (such a Stack overflow) if need be. \n",
    "\n",
    "This homework is intended to be challenging, if you only get 70% of the stuff done than you did very well."
   ]
  },
  {
   "cell_type": "code",
   "execution_count": 1,
   "metadata": {
    "collapsed": true
   },
   "outputs": [],
   "source": [
    "from urllib.request import urlopen\n",
    "from bs4 import BeautifulSoup"
   ]
  },
  {
   "cell_type": "markdown",
   "metadata": {},
   "source": [
    "## Shakespeare \n",
    "I've posted some relatively simple HTML of the first act of William Shakespeare's The Tempest here: http://floatingmedia.com/columbia/tempest.html please use that URL to download the HTML and put it through Beautiful Soup. (It also may be very helpful for you to go to that page in chrome and inspect elements why you do this.) \n",
    "**Please note: there are 2 scenes in Act 1**\n",
    "\n"
   ]
  },
  {
   "cell_type": "markdown",
   "metadata": {},
   "source": [
    "In the cells below you should you make two lines--a variable that requests and reads the HTML from the URL (http://floatingmedia.com/columbia/tempest.html), and a second variable that passes the raw HTML into Beautiful Soup. You will use that beautiful soup variable to search the HTML."
   ]
  },
  {
   "cell_type": "code",
   "execution_count": 2,
   "metadata": {
    "collapsed": true
   },
   "outputs": [],
   "source": [
    "my_url = \"http://floatingmedia.com/columbia/tempest.html\"\n",
    "raw_html = urlopen(my_url).read() \n",
    "soup_doc = BeautifulSoup(raw_html, \"html.parser\")  \n",
    "#print(soup_doc.prettify()) #--> this will give you the HTML of the entire document \n"
   ]
  },
  {
   "cell_type": "markdown",
   "metadata": {},
   "source": [
    "Get the title of the play:"
   ]
  },
  {
   "cell_type": "code",
   "execution_count": 3,
   "metadata": {},
   "outputs": [
    {
     "data": {
      "text/plain": [
       "'The Tempest'"
      ]
     },
     "execution_count": 3,
     "metadata": {},
     "output_type": "execute_result"
    }
   ],
   "source": [
    "soup_doc.title.string "
   ]
  },
  {
   "cell_type": "markdown",
   "metadata": {},
   "source": [
    "Get the HTML that contains the setting of Act One Scene 1:"
   ]
  },
  {
   "cell_type": "code",
   "execution_count": 4,
   "metadata": {},
   "outputs": [
    {
     "data": {
      "text/plain": [
       "<p class=\"playsubhead\">Act I, Scene 1</p>"
      ]
     },
     "execution_count": 4,
     "metadata": {},
     "output_type": "execute_result"
    }
   ],
   "source": [
    "#print(soup_doc.prettify())\n",
    "setting = soup_doc.find('p') \n",
    "setting"
   ]
  },
  {
   "cell_type": "markdown",
   "metadata": {},
   "source": [
    "Get the setting of Act One Scene 1 (as a string):"
   ]
  },
  {
   "cell_type": "code",
   "execution_count": 5,
   "metadata": {},
   "outputs": [
    {
     "data": {
      "text/plain": [
       "'Act I, Scene 1'"
      ]
     },
     "execution_count": 5,
     "metadata": {},
     "output_type": "execute_result"
    }
   ],
   "source": [
    "setting.string "
   ]
  },
  {
   "cell_type": "markdown",
   "metadata": {},
   "source": [
    "Get the setting of scene 2"
   ]
  },
  {
   "cell_type": "code",
   "execution_count": 6,
   "metadata": {},
   "outputs": [
    {
     "data": {
      "text/plain": [
       "<strong>The island. Before PROSPERO’S cell.</strong>"
      ]
     },
     "execution_count": 6,
     "metadata": {},
     "output_type": "execute_result"
    }
   ],
   "source": [
    "settings = soup_doc.find_all('div')\n",
    "setting_scene_2 = settings[2].find('strong') \n",
    "setting_scene_2 "
   ]
  },
  {
   "cell_type": "markdown",
   "metadata": {},
   "source": [
    "Get the name of the first character in Scene 1"
   ]
  },
  {
   "cell_type": "code",
   "execution_count": 7,
   "metadata": {},
   "outputs": [
    {
     "data": {
      "text/plain": [
       "'Master. '"
      ]
     },
     "execution_count": 7,
     "metadata": {},
     "output_type": "execute_result"
    }
   ],
   "source": [
    "name = soup_doc.find_all('li') \n",
    "name \n",
    "first_name = name[0].find('strong') \n",
    "first_name.string \n"
   ]
  },
  {
   "cell_type": "markdown",
   "metadata": {},
   "source": [
    "Get a list of all of characters in Scene 1 (repeats are fine, you need a loop here)"
   ]
  },
  {
   "cell_type": "code",
   "execution_count": 8,
   "metadata": {},
   "outputs": [
    {
     "name": "stdout",
     "output_type": "stream",
     "text": [
      "Master. \n",
      "Boatswain. \n",
      "Master. \n",
      "Boatswain. \n",
      "Alonso. \n",
      "Boatswain. \n",
      "Antonio. \n",
      "Boatswain. \n",
      "Gonzalo. \n",
      "Boatswain. \n",
      "Gonzalo. \n",
      "Boatswain. \n",
      "Gonzalo. \n",
      "Boatswain. \n",
      "Sebastian. \n",
      "Boatswain. \n",
      "Antonio. \n",
      "Gonzalo. \n",
      "Boatswain. \n",
      "Mariners. \n",
      "Boatswain. \n",
      "Gonzalo. \n",
      "Sebastian. \n",
      "Antonio. \n",
      "Gonzalo. \n",
      "Antonio. \n",
      "Sebastian. \n",
      "Gonzalo. \n"
     ]
    }
   ],
   "source": [
    "scene_1 = soup_doc.find_all('div')[1]\n",
    "all_characters = scene_1.find_all('li')\n",
    "for people in all_characters:\n",
    "    print(people.find('strong').string) "
   ]
  },
  {
   "cell_type": "markdown",
   "metadata": {},
   "source": [
    "**Bonus:** write a script that takes all the duplicates out of the list. (This is a python thing, not a beautiful soup thing.)"
   ]
  },
  {
   "cell_type": "code",
   "execution_count": 9,
   "metadata": {
    "collapsed": true
   },
   "outputs": [],
   "source": [
    "### "
   ]
  },
  {
   "cell_type": "markdown",
   "metadata": {},
   "source": [
    "Display every stage direction in _scene 2_"
   ]
  },
  {
   "cell_type": "code",
   "execution_count": 10,
   "metadata": {},
   "outputs": [
    {
     "data": {
      "text/plain": [
       "[<p class=\"stagedir\">[Enter PROSPERO and MIRANDA]</p>,\n",
       " <p class=\"stagedir\">[Enter ARIEL]</p>,\n",
       " <p class=\"stagedir\">[Exit]</p>,\n",
       " <p class=\"stagedir\">[Enter CALIBAN]</p>,\n",
       " <p class=\"stagedir\">[Draws, and is charmed from moving]</p>,\n",
       " <p class=\"stagedir\">[Exeunt]</p>]"
      ]
     },
     "execution_count": 10,
     "metadata": {},
     "output_type": "execute_result"
    }
   ],
   "source": [
    "stage_directions = soup_doc.find_all('div')\n",
    "directions2 = stage_directions[3].find_all('p') \n",
    "directions2"
   ]
  },
  {
   "cell_type": "markdown",
   "metadata": {},
   "source": [
    "Get the HTML containing Miranda's first speech in Scene 2"
   ]
  },
  {
   "cell_type": "code",
   "execution_count": 11,
   "metadata": {},
   "outputs": [
    {
     "data": {
      "text/plain": [
       "<ul><li class=\"playtext\"><strong>Miranda. </strong>If by your art, my dearest father, you have\n",
       " <span class=\"playlinenum\">85</span><br/>Put the wild waters in this roar, allay them.\n",
       "<br/>The sky, it seems, would pour down stinking pitch,\n",
       "<br/>But that the sea, mounting to the welkin's cheek,\n",
       "<br/>Dashes the fire out. O, I have suffered\n",
       "<br/>With those that I saw suffer: a brave vessel,\n",
       " <span class=\"playlinenum\">90</span><br/>Who had, no doubt, some noble creature in her,\n",
       "<br/>Dash'd all to pieces. O, the cry did knock\n",
       "<br/>Against my very heart. Poor souls, they perish'd.\n",
       "<br/>Had I been any god of power, I would\n",
       "<br/>Have sunk the sea within the earth or ere\n",
       " <span class=\"playlinenum\">95</span><br/>It should the good ship so have swallow'd and\n",
       "<br/>The fraughting souls within her.\n",
       "</li></ul>"
      ]
     },
     "execution_count": 11,
     "metadata": {},
     "output_type": "execute_result"
    }
   ],
   "source": [
    "miranda = stage_directions[3].find('ul')\n",
    "miranda"
   ]
  },
  {
   "cell_type": "markdown",
   "metadata": {},
   "source": [
    "Now display those same lines without the speaker's name (need to use siblings and a loop to get this)"
   ]
  },
  {
   "cell_type": "code",
   "execution_count": 12,
   "metadata": {},
   "outputs": [
    {
     "data": {
      "text/plain": [
       "[<span class=\"playlinenum\">85</span>,\n",
       " <br/>,\n",
       " <br/>,\n",
       " <br/>,\n",
       " <br/>,\n",
       " <br/>,\n",
       " <span class=\"playlinenum\">90</span>,\n",
       " <br/>,\n",
       " <br/>,\n",
       " <br/>,\n",
       " <br/>,\n",
       " <br/>,\n",
       " <span class=\"playlinenum\">95</span>,\n",
       " <br/>,\n",
       " <br/>]"
      ]
     },
     "execution_count": 12,
     "metadata": {},
     "output_type": "execute_result"
    }
   ],
   "source": [
    "#miranda.find('strong').parent\n",
    "new_speech = miranda.find('strong')\n",
    "just_speech = new_speech.find_next_siblings()\n",
    "just_speech"
   ]
  },
  {
   "cell_type": "code",
   "execution_count": 13,
   "metadata": {},
   "outputs": [
    {
     "name": "stdout",
     "output_type": "stream",
     "text": [
      "85\n",
      "\n",
      "\n",
      "\n",
      "\n",
      "\n",
      "90\n",
      "\n",
      "\n",
      "\n",
      "\n",
      "\n",
      "95\n",
      "\n",
      "\n"
     ]
    }
   ],
   "source": [
    "for lines in just_speech:\n",
    "    print(lines.text)"
   ]
  },
  {
   "cell_type": "markdown",
   "metadata": {},
   "source": [
    "Get the HTML containing the speech after Miranda's"
   ]
  },
  {
   "cell_type": "code",
   "execution_count": null,
   "metadata": {
    "collapsed": true
   },
   "outputs": [],
   "source": []
  },
  {
   "cell_type": "markdown",
   "metadata": {},
   "source": [
    "## Box Office Mojo \n",
    "I've posted some slightly simplified HTML of the current worldwide box office leaders here: http://floatingmedia.com/columbia/boxoffice.htm please use that URL to download the HTML and put it through Beautiful Soup. (It also may be very helpful for you to go to that page in chrome and inspect elements why you do this.) \n",
    "\n",
    "For this part of the assignment you should focus mostly on tr (table rows) amd td (table cells) -- and search them using find_all('tr')[1] in order to get a specific row, and find_all('td')[2] to get a specific cell."
   ]
  },
  {
   "cell_type": "markdown",
   "metadata": {},
   "source": [
    "Just like with the Shakespeare write two lines get the raw HTML and then transform the raw HTML into a beautiful soup variable"
   ]
  },
  {
   "cell_type": "code",
   "execution_count": 14,
   "metadata": {
    "collapsed": true
   },
   "outputs": [],
   "source": [
    "#http://floatingmedia.com/columbia/boxoffice.htm\n",
    "my_url = \"http://floatingmedia.com/columbia/boxoffice.htm\"\n",
    "raw_html = urlopen(my_url).read() \n",
    "soup_doc = BeautifulSoup(raw_html, \"html.parser\") \n",
    "\n",
    "\n"
   ]
  },
  {
   "cell_type": "markdown",
   "metadata": {},
   "source": [
    "Get the text \"2017 worldwide grosses\""
   ]
  },
  {
   "cell_type": "code",
   "execution_count": 15,
   "metadata": {},
   "outputs": [
    {
     "data": {
      "text/plain": [
       "'2017 WORLDWIDE GROSSES'"
      ]
     },
     "execution_count": 15,
     "metadata": {},
     "output_type": "execute_result"
    }
   ],
   "source": [
    "soup_doc.find('h1').string"
   ]
  },
  {
   "cell_type": "markdown",
   "metadata": {},
   "source": [
    "Get an HTML list of all of the column names from the header of the table: rank, title, etc..."
   ]
  },
  {
   "cell_type": "code",
   "execution_count": 16,
   "metadata": {},
   "outputs": [
    {
     "data": {
      "text/plain": [
       "[<td align=\"center\">Rank</td>,\n",
       " <td align=\"center\">Title</td>,\n",
       " <td align=\"center\">Studio</td>,\n",
       " <td align=\"center\">Worldwide</td>,\n",
       " <td align=\"center\">Domestic</td>,\n",
       " <td align=\"center\">Overseas</td>]"
      ]
     },
     "execution_count": 16,
     "metadata": {},
     "output_type": "execute_result"
    }
   ],
   "source": [
    "getting_columns = soup_doc.find_all('table') \n",
    "getting_columns\n",
    "tr_columns = getting_columns[0].find_all('tr')\n",
    "tr_columns\n",
    "td_columns = tr_columns[0].find_all('td') \n",
    "td_columns"
   ]
  },
  {
   "cell_type": "markdown",
   "metadata": {},
   "source": [
    "Make a variable called \"headers\" and set it equal to the list of strings of the column names and header. In the next line write: \"headers[1]\" your output should be \"Title\""
   ]
  },
  {
   "cell_type": "code",
   "execution_count": 17,
   "metadata": {},
   "outputs": [
    {
     "data": {
      "text/plain": [
       "<td align=\"center\">Title</td>"
      ]
     },
     "execution_count": 17,
     "metadata": {},
     "output_type": "execute_result"
    }
   ],
   "source": [
    "headers = td_columns\n",
    "headers[1]"
   ]
  },
  {
   "cell_type": "markdown",
   "metadata": {},
   "source": [
    "Get the HTML for the row that contains the #1 movie"
   ]
  },
  {
   "cell_type": "code",
   "execution_count": 18,
   "metadata": {
    "scrolled": true
   },
   "outputs": [
    {
     "data": {
      "text/plain": [
       "[<td align=\"center\"><font size=\"2\">1</font></td>,\n",
       " <td><font size=\"2\"><a href=\"http://www.boxofficemojo.com/movies/?id=beautyandthebeast2017.htm\"><b>Beauty and the Beast (2017)</b></a></font></td>,\n",
       " <td><font size=\"2\">BV</font></td>,\n",
       " <td align=\"right\"><font size=\"2\"><b>$1,241.3</b></font></td>,\n",
       " <td align=\"right\"><font size=\"2\">$502.2</font></td>,\n",
       " <td align=\"right\"><font size=\"2\">$739.1</font></td>]"
      ]
     },
     "execution_count": 18,
     "metadata": {},
     "output_type": "execute_result"
    }
   ],
   "source": [
    "getting_columns = soup_doc.find_all('table') \n",
    "getting_columns\n",
    "tr_columns = getting_columns[0].find_all('tr')\n",
    "tr_columns\n",
    "td_columns2 = tr_columns[1].find_all('td') \n",
    "td_columns2"
   ]
  },
  {
   "cell_type": "markdown",
   "metadata": {},
   "source": [
    "Get the HTML for the row that contains the #10 movie "
   ]
  },
  {
   "cell_type": "code",
   "execution_count": 19,
   "metadata": {},
   "outputs": [
    {
     "data": {
      "text/plain": [
       "[<td align=\"center\"><font size=\"2\">10</font></td>,\n",
       " <td><font size=\"2\"><a href=\"http://www.boxofficemojo.com/movies/?id=xxx3.htm\"><b>xXx: The Return of Xander Cage</b></a></font></td>,\n",
       " <td><font size=\"2\">Par.</font></td>,\n",
       " <td align=\"right\"><font size=\"2\"><b>$346.1</b></font></td>,\n",
       " <td align=\"right\"><font size=\"2\">$44.9</font></td>,\n",
       " <td align=\"right\"><font size=\"2\">$301.2</font></td>]"
      ]
     },
     "execution_count": 19,
     "metadata": {},
     "output_type": "execute_result"
    }
   ],
   "source": [
    "td_columns10 = tr_columns[10].find_all('td')\n",
    "td_columns10"
   ]
  },
  {
   "cell_type": "markdown",
   "metadata": {},
   "source": [
    "Get a list of the top 10 films (You'll need to use the loop and specify a range for the loop.) The list should look like this:\n",
    "\n",
    "`Beauty and the Beast (2017)\n",
    "The Fate of the Furious\n",
    "Guardians of the Galaxy Vol. 2\n",
    "Logan\n",
    "Kong: Skull Island\n",
    "Pirates of the Caribbean: Dead Men Tell No Tales\n",
    "The Boss Baby\n",
    "Fifty Shades Darker\n",
    "Your Name.\n",
    "xXx: The Return of Xander Cage`"
   ]
  },
  {
   "cell_type": "code",
   "execution_count": 20,
   "metadata": {},
   "outputs": [
    {
     "name": "stdout",
     "output_type": "stream",
     "text": [
      "None\n",
      "<b>Beauty and the Beast (2017)</b>\n",
      "<b>The Fate of the Furious</b>\n",
      "<b>Guardians of the Galaxy Vol. 2</b>\n",
      "<b>Logan</b>\n",
      "<b>Kong: Skull Island</b>\n",
      "<b>Pirates of the Caribbean: Dead Men Tell No Tales</b>\n",
      "<b>The Boss Baby</b>\n",
      "<b>Fifty Shades Darker</b>\n",
      "<b>Your Name.</b>\n",
      "<b>xXx: The Return of Xander Cage</b>\n",
      "<b>The Great Wall</b>\n",
      "<b>Resident Evil: The Final Chapter</b>\n",
      "<b>The LEGO Batman Movie</b>\n",
      "<b>Split</b>\n",
      "<b>Kung Fu Yoga</b>\n",
      "<b>Get Out</b>\n",
      "<b>Journey to the West: The Demons Strike Back</b>\n",
      "<b>Wonder Woman</b>\n",
      "<b>A Dog's Purpose</b>\n",
      "<b>Smurfs: The Lost Village</b>\n",
      "<b>Alien: Covenant</b>\n",
      "<b>Ghost in the Shell (2017)</b>\n",
      "<b>John Wick: Chapter Two</b>\n",
      "<b>Duckweed</b>\n",
      "<b>Power Rangers (2017)</b>\n",
      "<b>King Arthur: Legend of the Sword</b>\n",
      "<b>Buddies in India</b>\n",
      "<b>Railroad Tigers</b>\n",
      "<b>Life (2017)</b>\n",
      "<b>Some Like It Hot (Qing Shung)</b>\n",
      "<b>The Shack</b>\n",
      "<b>Rings</b>\n",
      "<b>Underworld: Blood Wars</b>\n",
      "<b>Going in Style (2017)</b>\n",
      "<b>Baywatch</b>\n",
      "<b>One Piece Film: Gold</b>\n",
      "<b>Monster Trucks</b>\n",
      "<b>Snatched</b>\n",
      "<b>T2: Trainspotting</b>\n",
      "<b>Fist Fight</b>\n",
      "<b>How to be a Latin Lover</b>\n",
      "<b>Sleepless</b>\n",
      "<b>Gifted</b>\n",
      "<b>The Bye Bye Man</b>\n",
      "<b>Captain Underpants: The First Epic Movie</b>\n",
      "<b>A Cure for Wellness</b>\n",
      "<b>CHiPs</b>\n",
      "<b>Badrinath Ki Dulhania</b>\n",
      "<b>Diary of a Wimpy Kid: The Long Haul</b>\n",
      "<b>Born in China</b>\n",
      "<b>The Founder</b>\n",
      "<b>Jolly Llb 2</b>\n",
      "<b>Sword Art Online: The Movie - Ordinal Scale</b>\n",
      "<b>The Circle (2017)</b>\n",
      "<b>Baahubali 2: The Conclusion</b>\n",
      "<b>The Zookeeper's Wife</b>\n",
      "<b>Unforgettable (2017)</b>\n",
      "<b>The Space Between Us</b>\n",
      "<b>A United Kingdom</b>\n",
      "<b>Before I Fall</b>\n",
      "<b>Rock Dog</b>\n",
      "<b>Truman</b>\n",
      "<b>The Lost City of Z</b>\n",
      "<b>Gold</b>\n",
      "<b>I am Not Your Negro</b>\n",
      "<b>Phillauri</b>\n",
      "<b>Ok Jaanu</b>\n",
      "<b>Table 19</b>\n",
      "<b>Collide</b>\n",
      "<b>Their Finest</b>\n",
      "<b>Colossal</b>\n",
      "<b>The Salesman</b>\n",
      "<b>Un Padre No Tan Padre</b>\n",
      "<b>The Wall</b>\n",
      "<b>Everybody Loves Somebody</b>\n",
      "<b>Free Fire</b>\n",
      "<b>The Last Word</b>\n",
      "<b>A Quiet Passion</b>\n",
      "<b>Personal Shopper</b>\n",
      "<b>The Sense of an Ending</b>\n",
      "<b>Yu-Gi-Oh! The Dark Side of Dimensions</b>\n",
      "<b>The Wedding Plan</b>\n",
      "<b>The Red Turtle</b>\n",
      "<b>Frantz</b>\n",
      "<b>3 Idiotas</b>\n",
      "<b>Raw (2017)</b>\n",
      "<b>Confidential Assignment</b>\n",
      "<b>3 Generations</b>\n",
      "<b>Song to Song</b>\n",
      "<b>My Life as a Zucchini</b>\n",
      "<b>After the Storm</b>\n",
      "<b>Cezanne et moi</b>\n",
      "<b>The Prison</b>\n",
      "<b>Mr. Gaga: A True Story of Love and Dance</b>\n",
      "<b>Graduation</b>\n",
      "<b>David Lynch: The Art Life</b>\n",
      "<b>Fabricated City</b>\n",
      "<b>The Mayor</b>\n",
      "<b>The King's Case Note</b>\n",
      "<b>Like Crazy (2017)</b>\n",
      "<b>I, Daniel Blake</b>\n",
      "<b>Worlds Apart</b>\n",
      "<b>Extraordinary Mission</b>\n",
      "<b>Slack Bay</b>\n",
      "<b>Bluebeard</b>\n",
      "<b>Tomorrow</b>\n",
      "<b>One Week and a Day</b>\n",
      "<b>A Woman's Life</b>\n",
      "<b>Alone in Berlin</b>\n",
      "<b>The Commune</b>\n",
      "<b>The Daughter</b>\n",
      "<b>Afterimage</b>\n",
      "<b>My Scientology Movie</b>\n",
      "<b>Glory (2017)</b>\n",
      "<b>Our President</b>\n",
      "<b>Whisky Galore</b>\n",
      "<b>Suntan</b>\n",
      "<b>The Ardennes</b>\n",
      "<b>Emily (2017)</b>\n",
      "<b>Max &amp; Leon</b>\n"
     ]
    }
   ],
   "source": [
    "#How do you specify a range? head() won't work with this \n",
    "getting_columns = soup_doc.find_all('table') \n",
    "getting_columns\n",
    "tr_columns = getting_columns[0].find_all('tr')\n",
    "tr_columns\n",
    "\n",
    "for movies in tr_columns:\n",
    "    print(movies.find('b'))\n",
    "    "
   ]
  },
  {
   "cell_type": "markdown",
   "metadata": {},
   "source": [
    "Display as strings the top 10 films by name and worldwide gross. Like this:\n",
    "\n",
    "`Beauty and the Beast (2017) $502.2\n",
    "The Fate of the Furious $223.9\n",
    "Guardians of the Galaxy Vol. 2 $356.7\n",
    "Logan $226.2\n",
    "Kong: Skull Island $167.8\n",
    "Pirates of the Caribbean: Dead Men Tell No Tales $117.6\n",
    "The Boss Baby $171.0\n",
    "Fifty Shades Darker $114.4\n",
    "Your Name. $4.9\n",
    "xXx: The Return of Xander Cage $44.9`"
   ]
  },
  {
   "cell_type": "code",
   "execution_count": 21,
   "metadata": {},
   "outputs": [
    {
     "name": "stdout",
     "output_type": "stream",
     "text": [
      "---\n",
      "$1,241.3\n",
      "Beauty and the Beast (2017)\n",
      "---\n",
      "$1,229.4\n",
      "The Fate of the Furious\n",
      "---\n",
      "$818.6\n",
      "Guardians of the Galaxy Vol. 2\n",
      "---\n",
      "$612.4\n",
      "Logan\n",
      "---\n",
      "$565.9\n",
      "Kong: Skull Island\n",
      "---\n",
      "$510.5\n",
      "Pirates of the Caribbean: Dead Men Tell No Tales\n",
      "---\n",
      "$483.6\n",
      "The Boss Baby\n",
      "---\n",
      "$378.8\n",
      "Fifty Shades Darker\n",
      "---\n",
      "$354.4\n",
      "Your Name.\n",
      "---\n",
      "$346.1\n",
      "xXx: The Return of Xander Cage\n",
      "---\n",
      "$332.0\n",
      "The Great Wall\n",
      "---\n",
      "$312.2\n",
      "Resident Evil: The Final Chapter\n",
      "---\n",
      "$310.8\n",
      "The LEGO Batman Movie\n",
      "---\n",
      "$276.9\n",
      "Split\n",
      "---\n",
      "$254.2\n",
      "Kung Fu Yoga\n",
      "---\n",
      "$247.5\n",
      "Get Out\n",
      "---\n",
      "$246.6\n",
      "Journey to the West: The Demons Strike Back\n",
      "---\n",
      "$240.0\n",
      "Wonder Woman\n",
      "---\n",
      "$193.1\n",
      "A Dog's Purpose\n",
      "---\n",
      "$189.6\n",
      "Smurfs: The Lost Village\n",
      "---\n",
      "$174.6\n",
      "Alien: Covenant\n",
      "---\n",
      "$169.8\n",
      "Ghost in the Shell (2017)\n",
      "---\n",
      "$166.8\n",
      "John Wick: Chapter Two\n",
      "---\n",
      "$151.1\n",
      "Duckweed\n",
      "---\n",
      "$140.2\n",
      "Power Rangers (2017)\n",
      "---\n",
      "$130.4\n",
      "King Arthur: Legend of the Sword\n",
      "---\n",
      "$109.6\n",
      "Buddies in India\n",
      "---\n",
      "$102.2\n",
      "Railroad Tigers\n",
      "---\n",
      "$98.9\n",
      "Life (2017)\n",
      "---\n",
      "$95.7\n",
      "Some Like It Hot (Qing Shung)\n",
      "---\n",
      "$93.5\n",
      "The Shack\n",
      "---\n",
      "$83.1\n",
      "Rings\n",
      "---\n",
      "$81.1\n",
      "Underworld: Blood Wars\n",
      "---\n",
      "$81.0\n",
      "Going in Style (2017)\n",
      "---\n",
      "$70.0\n",
      "Baywatch\n",
      "---\n",
      "$66.2\n",
      "One Piece Film: Gold\n",
      "---\n",
      "$64.5\n",
      "Monster Trucks\n",
      "---\n",
      "$54.6\n",
      "Snatched\n",
      "---\n",
      "$41.6\n",
      "T2: Trainspotting\n",
      "---\n",
      "$41.0\n",
      "Fist Fight\n",
      "---\n",
      "$31.7\n",
      "How to be a Latin Lover\n",
      "---\n",
      "$31.0\n",
      "Sleepless\n",
      "---\n",
      "$27.0\n",
      "Gifted\n",
      "---\n",
      "$26.7\n",
      "The Bye Bye Man\n",
      "---\n",
      "$26.6\n",
      "Captain Underpants: The First Epic Movie\n",
      "---\n",
      "$26.6\n",
      "A Cure for Wellness\n",
      "---\n",
      "$25.5\n",
      "CHiPs\n",
      "---\n",
      "$25.2\n",
      "Badrinath Ki Dulhania\n",
      "---\n",
      "$24.8\n",
      "Diary of a Wimpy Kid: The Long Haul\n",
      "---\n",
      "$23.8\n",
      "Born in China\n",
      "---\n",
      "$23.3\n",
      "The Founder\n",
      "---\n",
      "$23.0\n",
      "Jolly Llb 2\n",
      "---\n",
      "$20.7\n",
      "Sword Art Online: The Movie - Ordinal Scale\n",
      "---\n",
      "$20.5\n",
      "The Circle (2017)\n",
      "---\n",
      "$20.2\n",
      "Baahubali 2: The Conclusion\n",
      "---\n",
      "$18.5\n",
      "The Zookeeper's Wife\n",
      "---\n",
      "$15.2\n",
      "Unforgettable (2017)\n",
      "---\n",
      "$14.8\n",
      "The Space Between Us\n",
      "---\n",
      "$13.8\n",
      "A United Kingdom\n",
      "---\n",
      "$12.2\n",
      "Before I Fall\n",
      "---\n",
      "$9.4\n",
      "Rock Dog\n",
      "---\n",
      "$9.0\n",
      "Truman\n",
      "---\n",
      "$8.4\n",
      "The Lost City of Z\n",
      "---\n",
      "$7.2\n",
      "Gold\n",
      "---\n",
      "$7.1\n",
      "I am Not Your Negro\n",
      "---\n",
      "$5.5\n",
      "Phillauri\n",
      "---\n",
      "$5.4\n",
      "Ok Jaanu\n",
      "---\n",
      "$5.0\n",
      "Table 19\n",
      "---\n",
      "$4.8\n",
      "Collide\n",
      "---\n",
      "$3.5\n",
      "Their Finest\n",
      "---\n",
      "$3.0\n",
      "Colossal\n",
      "---\n",
      "$2.4\n",
      "The Salesman\n",
      "---\n",
      "$2.2\n",
      "Un Padre No Tan Padre\n",
      "---\n",
      "$2.0\n",
      "The Wall\n",
      "---\n",
      "$1.9\n",
      "Everybody Loves Somebody\n",
      "---\n",
      "$1.8\n",
      "Free Fire\n",
      "---\n",
      "$1.8\n",
      "The Last Word\n",
      "---\n",
      "$1.6\n",
      "A Quiet Passion\n",
      "---\n",
      "$1.3\n",
      "Personal Shopper\n",
      "---\n",
      "$1.3\n",
      "The Sense of an Ending\n",
      "---\n",
      "$1.0\n",
      "Yu-Gi-Oh! The Dark Side of Dimensions\n",
      "---\n",
      "$985k\n",
      "The Wedding Plan\n",
      "---\n",
      "$922k\n",
      "The Red Turtle\n",
      "---\n",
      "$872k\n",
      "Frantz\n",
      "---\n",
      "$659k\n",
      "3 Idiotas\n",
      "---\n",
      "$515k\n",
      "Raw (2017)\n",
      "---\n",
      "$476k\n",
      "Confidential Assignment\n",
      "---\n",
      "$444k\n",
      "3 Generations\n",
      "---\n",
      "$444k\n",
      "Song to Song\n",
      "---\n",
      "$310k\n",
      "My Life as a Zucchini\n",
      "---\n",
      "$255k\n",
      "After the Storm\n",
      "---\n",
      "$243k\n",
      "Cezanne et moi\n",
      "---\n",
      "$207k\n",
      "The Prison\n",
      "---\n",
      "$174k\n",
      "Mr. Gaga: A True Story of Love and Dance\n",
      "---\n",
      "$174k\n",
      "Graduation\n",
      "---\n",
      "$160k\n",
      "David Lynch: The Art Life\n",
      "---\n",
      "$105k\n",
      "Fabricated City\n",
      "---\n",
      "$96.8k\n",
      "The Mayor\n",
      "---\n",
      "$90.7k\n",
      "The King's Case Note\n",
      "---\n",
      "$85.1k\n",
      "Like Crazy (2017)\n",
      "---\n",
      "$70.1k\n",
      "I, Daniel Blake\n",
      "---\n",
      "$60.3k\n",
      "Worlds Apart\n",
      "---\n",
      "$54.2k\n",
      "Extraordinary Mission\n",
      "---\n",
      "$47.2k\n",
      "Slack Bay\n",
      "---\n",
      "$43.1k\n",
      "Bluebeard\n",
      "---\n",
      "$40.9k\n",
      "Tomorrow\n",
      "---\n",
      "$38.4k\n",
      "One Week and a Day\n",
      "---\n",
      "$33.6k\n",
      "A Woman's Life\n",
      "---\n",
      "$33.1k\n",
      "Alone in Berlin\n",
      "---\n",
      "$31.6k\n",
      "The Commune\n",
      "---\n",
      "$26.4k\n",
      "The Daughter\n",
      "---\n",
      "$23.9k\n",
      "Afterimage\n",
      "---\n",
      "$22.9k\n",
      "My Scientology Movie\n",
      "---\n",
      "$17.3k\n",
      "Glory (2017)\n",
      "---\n",
      "$9.4k\n",
      "Our President\n",
      "---\n",
      "$7.1k\n",
      "Whisky Galore\n",
      "---\n",
      "$6.6k\n",
      "Suntan\n",
      "---\n",
      "$5.6k\n",
      "The Ardennes\n",
      "---\n",
      "$3.6k\n",
      "Emily (2017)\n",
      "---\n",
      "$0.5k\n",
      "Max & Leon\n",
      "---\n"
     ]
    }
   ],
   "source": [
    "rows = soup_doc.find_all('tr')\n",
    "rows\n",
    "\n",
    "for row in rows:\n",
    "    bs = row.find_all('b')\n",
    "    if len(bs) == 2: \n",
    "        print(bs[1].text)\n",
    "        print(bs[0].text) \n",
    "    print('---') "
   ]
  },
  {
   "cell_type": "markdown",
   "metadata": {},
   "source": [
    "Display the link for the movie `Logan`:"
   ]
  },
  {
   "cell_type": "code",
   "execution_count": 22,
   "metadata": {},
   "outputs": [
    {
     "name": "stdout",
     "output_type": "stream",
     "text": [
      "<td align=\"center\"><font size=\"2\">4</font></td>\n",
      "<td><font size=\"2\"><a href=\"http://www.boxofficemojo.com/movies/?id=wolverine2017.htm\"><b>Logan</b></a></font></td>\n",
      "<td><font size=\"2\">Fox</font></td>\n",
      "<td align=\"right\"><font size=\"2\"><b>$612.4</b></font></td>\n",
      "<td align=\"right\"><font size=\"2\">$226.2</font></td>\n",
      "<td align=\"right\"><font size=\"2\">$386.2</font></td>\n"
     ]
    }
   ],
   "source": [
    "td_columns4 = tr_columns[4].find_all('td')\n",
    "td_columns4\n",
    "\n",
    "for logan in td_columns4:\n",
    "    #print(logan.find('a href'))   \n",
    "    print(logan)\n",
    "\n"
   ]
  },
  {
   "cell_type": "code",
   "execution_count": 23,
   "metadata": {
    "collapsed": true
   },
   "outputs": [],
   "source": [
    "#I'm having difficulty making the code work before to just pull out the <a> \n",
    "#link = tr_columns.find('a')  \n",
    "#logan_url = link['href']\n",
    "#print(logan_url) "
   ]
  },
  {
   "cell_type": "markdown",
   "metadata": {},
   "source": [
    "Create a list for `Logan` that looks like this:\n",
    "\n",
    "`['4', 'Logan', 'Fox', '$612.4', '$226.2', '$386.2']`"
   ]
  },
  {
   "cell_type": "code",
   "execution_count": 24,
   "metadata": {},
   "outputs": [
    {
     "name": "stdout",
     "output_type": "stream",
     "text": [
      "4\n",
      "Logan\n",
      "Fox\n",
      "$612.4\n",
      "$226.2\n",
      "$386.2\n"
     ]
    }
   ],
   "source": [
    "for logan in td_columns4:\n",
    "    print(logan.string)"
   ]
  },
  {
   "cell_type": "markdown",
   "metadata": {},
   "source": [
    "Here is some premade code. If you got your headers list and your logan_list right, this will make you a nice dictionary for Logan."
   ]
  },
  {
   "cell_type": "code",
   "execution_count": 25,
   "metadata": {},
   "outputs": [
    {
     "ename": "NameError",
     "evalue": "name 'logan_list' is not defined",
     "output_type": "error",
     "traceback": [
      "\u001b[0;31m---------------------------------------------------------------------------\u001b[0m",
      "\u001b[0;31mNameError\u001b[0m                                 Traceback (most recent call last)",
      "\u001b[0;32m<ipython-input-25-a9d66b83a7a7>\u001b[0m in \u001b[0;36m<module>\u001b[0;34m()\u001b[0m\n\u001b[0;32m----> 1\u001b[0;31m \u001b[0mlogan_dict\u001b[0m \u001b[0;34m=\u001b[0m \u001b[0mdict\u001b[0m\u001b[0;34m(\u001b[0m\u001b[0mzip\u001b[0m\u001b[0;34m(\u001b[0m\u001b[0mheaders\u001b[0m\u001b[0;34m,\u001b[0m \u001b[0mlogan_list\u001b[0m\u001b[0;34m)\u001b[0m\u001b[0;34m)\u001b[0m\u001b[0;34m\u001b[0m\u001b[0m\n\u001b[0m\u001b[1;32m      2\u001b[0m \u001b[0mprint\u001b[0m\u001b[0;34m(\u001b[0m\u001b[0mlogan_dict\u001b[0m\u001b[0;34m)\u001b[0m\u001b[0;34m\u001b[0m\u001b[0m\n",
      "\u001b[0;31mNameError\u001b[0m: name 'logan_list' is not defined"
     ]
    }
   ],
   "source": [
    "logan_dict = dict(zip(headers, logan_list))\n",
    "print(logan_dict)"
   ]
  },
  {
   "cell_type": "markdown",
   "metadata": {},
   "source": [
    "## Advanced Challenge\n",
    "Pitchfork is no go, so try to get out all of the artists and albums (and synopses) from NPRs 2015 list: http://www.npr.org/2015/12/07/458447213/npr-musics-50-favorite-albums-of-2015\n",
    "\n",
    "Use as many cells as you would like, and don't forget to make a new URL request and a new beautiful soup variable"
   ]
  },
  {
   "cell_type": "code",
   "execution_count": null,
   "metadata": {
    "collapsed": true
   },
   "outputs": [],
   "source": []
  }
 ],
 "metadata": {
  "kernelspec": {
   "display_name": "Python 3",
   "language": "python",
   "name": "python3"
  },
  "language_info": {
   "codemirror_mode": {
    "name": "ipython",
    "version": 3
   },
   "file_extension": ".py",
   "mimetype": "text/x-python",
   "name": "python",
   "nbconvert_exporter": "python",
   "pygments_lexer": "ipython3",
   "version": "3.6.1"
  }
 },
 "nbformat": 4,
 "nbformat_minor": 2
}

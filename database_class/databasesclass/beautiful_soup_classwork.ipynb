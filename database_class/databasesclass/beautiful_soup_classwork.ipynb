{
 "cells": [
  {
   "cell_type": "markdown",
   "metadata": {},
   "source": [
    "## SCRAPING HTML\n",
    "HTML (\"Hypertext Mark-up Language\") is the language of the Internet, more specifically the World Wide Web. It is a very simple language that uses containers (like <HTML></HTML>) to tell a browser what up to display and how to display it.\n",
    "\n",
    "A note on browsers: from now on you should be using Chrome. If you do not have chrome installed on your computer, do that now before you go any further. Chrome's developers tools are by far the best and most reliable.\n",
    "\n",
    "This is how the Internet works (in a simplified way): you go to a page by typing a URL into the browser. The URL is and HTTP request for a file on a server. The file that arrives at your browser is an HTML file--the browser reads the HTML and displays what is supposed to be displayed, and also runs some scripts in the background. Most often, the page you see on your browser is an HTML page. (There are many exceptions, like direct PDF files, as well as data accessed via APIs.)\n",
    "\n",
    "HTML is the raw text source code of what you see in a browser. In Chrome you can view the raw HTML by either going to the menu bar and choosing--View: Developer: View Source -- or right-clicking (control-clicking) the mouse on a page and choosing View Source. Like so:\n",
    "\n",
    "<img src=\"http://floatingmedia.com/columbia/viewsource.png\">\n",
    "\n",
    "Don't panic! While HTML can be very disorienting at first look, there are more targeted and helpful ways to investigate it. The best one is through Chrome's \"inspect\" function. Right-click (or control-click) on the part the page that interests you, and select \"Inspect\" or \"Inspect Element\"--and you get the much more friendly developers tools way of navigating through the DOM tree:\n",
    "\n",
    "<img src=\"http://floatingmedia.com/columbia/inspect.png\">\n",
    "\n",
    "Did I say DOM tree? Yes, the DOM [document object model](https://www.w3schools.com/js/js_htmldom.asp) is a term for the hierarchical structure of HTML elements on a page. It is a tree, because each of the elements on a page is nested within groups of HTML tags. \n",
    "\n",
    "<img src=\"http://floatingmedia.com/columbia/treeStructure.png\">\n",
    "\n",
    "Here are the most common tags, and often the most helpful tags to use when navigating through an HTML page.\n",
    "\n",
    "`<h1>`, `<h2>`, `<h3>` headers\n",
    "`<p>` paragraph\n",
    "`<b>`, `<i>`, `<strong>` styles, like bold, italics...\n",
    "`<table><tr><td>` table elements including rows and cells\n",
    "`<a href=\"url\">` links\n",
    "`<div>`, `<span>` larger Element containers, these often have an id=\"name\" and/or class=\"name\" attached to them.\n",
    "`<ol>`,`<ul>`,`<li>` ordered and unordered lists\n",
    "\n",
    "For example: `<p>This would be a paragraph</p>`\n",
    "`<p>This would be a <b>paragraph</b></p>` Same thing but the word paragraph is bold\n",
    "\n",
    "Sometimes important information is hidden inside these tags:\n",
    "\n",
    "\n",
    "`<span class=\"year\">`2010`</span>`\n",
    "\n",
    "or \n",
    "\n",
    "`<a href=\"http://www.boxofficemojo.com/movies/?id=avengers11.htm\">`more info`</a>`\n",
    "\n",
    "In this case the \"class\" tag is likely adding styling information (see CSS), whereas the \"href\" tag holds a hyperlinked url. [For a more complete list of HTML tags click here](https://www.w3schools.com/tags/ref_byfunc.asp)\n",
    "\n",
    "\n",
    "**Why does this matter to us?**\n",
    "\n",
    "Note that each tag begins with `<tagname>` and ends with `</tagname>`. So these HTML tags are structuring the text. The reason for the structure just to tell the browser how everything should look, but we can also use the structure of HTML to programmatically traverse the data on a webpage and scrape out the information we need. This is what scraping is. HTML is not a reliable data structure, but it often it is consistent from page to page on a particular website. If you can learn how to navigate the dom tree, you can turn information on a messy webpage into reliable and searchable data.\n"
   ]
  },
  {
   "cell_type": "markdown",
   "metadata": {},
   "source": [
    "## This brings us to Beautiful Soup\n",
    "Beautiful Soup is a Python library that parses HTML, allowing us to navigate through the elements of a webpage using the HTML tags embedded in it. [Here is the link to the documentation,](https://www.crummy.com/software/BeautifulSoup/bs4/doc/) there are examples and Extensions Beyond what is demonstrated below.\n",
    "\n",
    "Now it's time to install Beautiful soup. Go to your terminal/shell/bash and type:\n",
    "\n",
    "`pip3 install bs4`\n",
    "\n",
    "We will begin by navigating a very simple HTML page I have posted on my website. [Please follow this link](http://floatingmedia.com/columbia/topfivelists.html) and try inspecting the HTML using Chrome. (p.s. The information on this page comes from [http://www.boxofficemojo.com/genres/chart/?id=comicbookadaptation.htm]"
   ]
  },
  {
   "cell_type": "code",
   "execution_count": 1,
   "metadata": {
    "collapsed": true
   },
   "outputs": [],
   "source": [
    "from urllib.request import urlopen\n",
    "raw_html = urlopen(\"http://floatingmedia.com/columbia/topfivelists.html\").read() "
   ]
  },
  {
   "cell_type": "code",
   "execution_count": 2,
   "metadata": {},
   "outputs": [
    {
     "name": "stdout",
     "output_type": "stream",
     "text": [
      "b'<!DOCTYPE html>\\n<html>\\n<head>\\n<title> best and worst comic book box office</title>\\n<style>\\n.year {color: #DD0000}\\n#favorite {background-color: #FFFFDD;\\n</style>\\n</head>\\n<body>\\n<p> comic book box office</p>\\n\\n<div>\\n<h1> Top Five Movies</h1>\\n<p><b> The Avengers</b> <span class=\"year\">2010</span> <a href=\"http://www.boxofficemojo.com/movies/?id=avengers11.htm\">more info</a></p>\\n<p><b> The Dark Knight</b> <span class=\"year\">2008</span></p>\\n<p><b> Avengers: Age Of Ultron</b> <span class=\"year\">2015</span></p>\\n<p><b> The Dark Knight Rises</b> <span class=\"year\">2012</span></p>\\n<p><b> Iron Man 3</b> <span class=\"year\">2013</span></p>\\n</div>\\n<div>\\n<h1> Middle Five Movies 47-51</h1>\\n<p><b> The Incredible Hulk</b> <span class=\"year\">2008</span> <a href=\"http://www.boxofficemojo.com/movies/?id=incrediblehulk.htm\">more info</a></p>\\n<p><b> Wanted</b> <span class=\"year\">2008</span></p>\\n<p id=\"favorite\"><b> Superman</b> <span class=\"year\">1978</span></p>\\n<p><b> The Wolverine</b> <span class=\"year\">2013</span></p>\\n<p><b> Hulk</b> <span class=\"year\">2003</span></p>\\n</div>\\n<div>\\n<h1> Bottom Five Movies</h1>\\n <ul>\\n<li> The Rocketeer <span class=\"year\">1991</span></li>\\n<li> Timecop <span class=\"year\">1994</span></li>\\n<li> Teenage Mutant Ninja Turtles III <span class=\"year\">1993</span></li>\\n<li> Ghost In The Shell <span class=\"year\">2017</span></li>\\n<li> Catwoman <span class=\"year\">2004</span></li>\\n</ul>\\n<h2> Most Terrible 137-141</h2>\\n\\t<p>Snowpiercer</p>\\n\\t<p>Tank Girl</p>\\n\\t<p>Barb Wire</p>\\n\\t<p>Batman: kilpng joke</p>\\n\\t<p>Blue is the warmest color</p>\\n<h3>that\\'s all</h3>\\n</div>\\n\\n</body>\\n</html>\\n'\n"
     ]
    }
   ],
   "source": [
    "print(raw_html)"
   ]
  },
  {
   "cell_type": "code",
   "execution_count": 3,
   "metadata": {
    "collapsed": true
   },
   "outputs": [],
   "source": [
    "from bs4 import BeautifulSoup"
   ]
  },
  {
   "cell_type": "code",
   "execution_count": 4,
   "metadata": {},
   "outputs": [
    {
     "name": "stdout",
     "output_type": "stream",
     "text": [
      "<class 'bs4.BeautifulSoup'>\n"
     ]
    }
   ],
   "source": [
    "soup_doc = BeautifulSoup(raw_html, \"html.parser\")\n",
    "print(type(soup_doc)) "
   ]
  },
  {
   "cell_type": "code",
   "execution_count": 7,
   "metadata": {},
   "outputs": [
    {
     "name": "stdout",
     "output_type": "stream",
     "text": [
      "<!DOCTYPE html>\n",
      "<html>\n",
      " <head>\n",
      "  <title>\n",
      "   best and worst comic book box office\n",
      "  </title>\n",
      "  <style>\n",
      "   .year {color: #DD0000}\n",
      "#favorite {background-color: #FFFFDD;\n",
      "  </style>\n",
      " </head>\n",
      " <body>\n",
      "  <p>\n",
      "   comic book box office\n",
      "  </p>\n",
      "  <div>\n",
      "   <h1>\n",
      "    Top Five Movies\n",
      "   </h1>\n",
      "   <p>\n",
      "    <b>\n",
      "     The Avengers\n",
      "    </b>\n",
      "    <span class=\"year\">\n",
      "     2010\n",
      "    </span>\n",
      "    <a href=\"http://www.boxofficemojo.com/movies/?id=avengers11.htm\">\n",
      "     more info\n",
      "    </a>\n",
      "   </p>\n",
      "   <p>\n",
      "    <b>\n",
      "     The Dark Knight\n",
      "    </b>\n",
      "    <span class=\"year\">\n",
      "     2008\n",
      "    </span>\n",
      "   </p>\n",
      "   <p>\n",
      "    <b>\n",
      "     Avengers: Age Of Ultron\n",
      "    </b>\n",
      "    <span class=\"year\">\n",
      "     2015\n",
      "    </span>\n",
      "   </p>\n",
      "   <p>\n",
      "    <b>\n",
      "     The Dark Knight Rises\n",
      "    </b>\n",
      "    <span class=\"year\">\n",
      "     2012\n",
      "    </span>\n",
      "   </p>\n",
      "   <p>\n",
      "    <b>\n",
      "     Iron Man 3\n",
      "    </b>\n",
      "    <span class=\"year\">\n",
      "     2013\n",
      "    </span>\n",
      "   </p>\n",
      "  </div>\n",
      "  <div>\n",
      "   <h1>\n",
      "    Middle Five Movies 47-51\n",
      "   </h1>\n",
      "   <p>\n",
      "    <b>\n",
      "     The Incredible Hulk\n",
      "    </b>\n",
      "    <span class=\"year\">\n",
      "     2008\n",
      "    </span>\n",
      "    <a href=\"http://www.boxofficemojo.com/movies/?id=incrediblehulk.htm\">\n",
      "     more info\n",
      "    </a>\n",
      "   </p>\n",
      "   <p>\n",
      "    <b>\n",
      "     Wanted\n",
      "    </b>\n",
      "    <span class=\"year\">\n",
      "     2008\n",
      "    </span>\n",
      "   </p>\n",
      "   <p id=\"favorite\">\n",
      "    <b>\n",
      "     Superman\n",
      "    </b>\n",
      "    <span class=\"year\">\n",
      "     1978\n",
      "    </span>\n",
      "   </p>\n",
      "   <p>\n",
      "    <b>\n",
      "     The Wolverine\n",
      "    </b>\n",
      "    <span class=\"year\">\n",
      "     2013\n",
      "    </span>\n",
      "   </p>\n",
      "   <p>\n",
      "    <b>\n",
      "     Hulk\n",
      "    </b>\n",
      "    <span class=\"year\">\n",
      "     2003\n",
      "    </span>\n",
      "   </p>\n",
      "  </div>\n",
      "  <div>\n",
      "   <h1>\n",
      "    Bottom Five Movies\n",
      "   </h1>\n",
      "   <ul>\n",
      "    <li>\n",
      "     The Rocketeer\n",
      "     <span class=\"year\">\n",
      "      1991\n",
      "     </span>\n",
      "    </li>\n",
      "    <li>\n",
      "     Timecop\n",
      "     <span class=\"year\">\n",
      "      1994\n",
      "     </span>\n",
      "    </li>\n",
      "    <li>\n",
      "     Teenage Mutant Ninja Turtles III\n",
      "     <span class=\"year\">\n",
      "      1993\n",
      "     </span>\n",
      "    </li>\n",
      "    <li>\n",
      "     Ghost In The Shell\n",
      "     <span class=\"year\">\n",
      "      2017\n",
      "     </span>\n",
      "    </li>\n",
      "    <li>\n",
      "     Catwoman\n",
      "     <span class=\"year\">\n",
      "      2004\n",
      "     </span>\n",
      "    </li>\n",
      "   </ul>\n",
      "   <h2>\n",
      "    Most Terrible 137-141\n",
      "   </h2>\n",
      "   <p>\n",
      "    Snowpiercer\n",
      "   </p>\n",
      "   <p>\n",
      "    Tank Girl\n",
      "   </p>\n",
      "   <p>\n",
      "    Barb Wire\n",
      "   </p>\n",
      "   <p>\n",
      "    Batman: kilpng joke\n",
      "   </p>\n",
      "   <p>\n",
      "    Blue is the warmest color\n",
      "   </p>\n",
      "   <h3>\n",
      "    that's all\n",
      "   </h3>\n",
      "  </div>\n",
      " </body>\n",
      "</html>\n",
      "\n"
     ]
    }
   ],
   "source": [
    "print(soup_doc.prettify())\n",
    "#print(soup_doc)   "
   ]
  },
  {
   "cell_type": "code",
   "execution_count": 8,
   "metadata": {},
   "outputs": [
    {
     "data": {
      "text/plain": [
       "<title> best and worst comic book box office</title>"
      ]
     },
     "execution_count": 8,
     "metadata": {},
     "output_type": "execute_result"
    }
   ],
   "source": [
    "soup_doc.title"
   ]
  },
  {
   "cell_type": "code",
   "execution_count": 9,
   "metadata": {},
   "outputs": [
    {
     "data": {
      "text/plain": [
       "' best and worst comic book box office'"
      ]
     },
     "execution_count": 9,
     "metadata": {},
     "output_type": "execute_result"
    }
   ],
   "source": [
    "#Once you find what you want, .string will just give you the information/writing you want \n",
    "soup_doc.title.string"
   ]
  },
  {
   "cell_type": "code",
   "execution_count": 10,
   "metadata": {},
   "outputs": [
    {
     "data": {
      "text/plain": [
       "<p> comic book box office</p>"
      ]
     },
     "execution_count": 10,
     "metadata": {},
     "output_type": "execute_result"
    }
   ],
   "source": [
    "soup_doc.find('p') "
   ]
  },
  {
   "cell_type": "code",
   "execution_count": 15,
   "metadata": {},
   "outputs": [
    {
     "data": {
      "text/plain": [
       "[<p><b> The Avengers</b> <span class=\"year\">2010</span> <a href=\"http://www.boxofficemojo.com/movies/?id=avengers11.htm\">more info</a></p>,\n",
       " <p><b> The Dark Knight</b> <span class=\"year\">2008</span></p>,\n",
       " <p><b> Avengers: Age Of Ultron</b> <span class=\"year\">2015</span></p>,\n",
       " <p><b> The Dark Knight Rises</b> <span class=\"year\">2012</span></p>,\n",
       " <p><b> Iron Man 3</b> <span class=\"year\">2013</span></p>]"
      ]
     },
     "execution_count": 15,
     "metadata": {},
     "output_type": "execute_result"
    }
   ],
   "source": [
    "#just p tags in the first div \n",
    "soup_doc.div.find_all('p')"
   ]
  },
  {
   "cell_type": "code",
   "execution_count": 18,
   "metadata": {},
   "outputs": [
    {
     "data": {
      "text/plain": [
       "<div>\n",
       "<h1> Top Five Movies</h1>\n",
       "<p><b> The Avengers</b> <span class=\"year\">2010</span> <a href=\"http://www.boxofficemojo.com/movies/?id=avengers11.htm\">more info</a></p>\n",
       "<p><b> The Dark Knight</b> <span class=\"year\">2008</span></p>\n",
       "<p><b> Avengers: Age Of Ultron</b> <span class=\"year\">2015</span></p>\n",
       "<p><b> The Dark Knight Rises</b> <span class=\"year\">2012</span></p>\n",
       "<p><b> Iron Man 3</b> <span class=\"year\">2013</span></p>\n",
       "</div>"
      ]
     },
     "execution_count": 18,
     "metadata": {},
     "output_type": "execute_result"
    }
   ],
   "source": [
    "#Will give you the first div \n",
    "soup_doc.div"
   ]
  },
  {
   "cell_type": "code",
   "execution_count": 12,
   "metadata": {},
   "outputs": [
    {
     "data": {
      "text/plain": [
       "[<p> comic book box office</p>,\n",
       " <p><b> The Avengers</b> <span class=\"year\">2010</span> <a href=\"http://www.boxofficemojo.com/movies/?id=avengers11.htm\">more info</a></p>,\n",
       " <p><b> The Dark Knight</b> <span class=\"year\">2008</span></p>,\n",
       " <p><b> Avengers: Age Of Ultron</b> <span class=\"year\">2015</span></p>,\n",
       " <p><b> The Dark Knight Rises</b> <span class=\"year\">2012</span></p>,\n",
       " <p><b> Iron Man 3</b> <span class=\"year\">2013</span></p>,\n",
       " <p><b> The Incredible Hulk</b> <span class=\"year\">2008</span> <a href=\"http://www.boxofficemojo.com/movies/?id=incrediblehulk.htm\">more info</a></p>,\n",
       " <p><b> Wanted</b> <span class=\"year\">2008</span></p>,\n",
       " <p id=\"favorite\"><b> Superman</b> <span class=\"year\">1978</span></p>,\n",
       " <p><b> The Wolverine</b> <span class=\"year\">2013</span></p>,\n",
       " <p><b> Hulk</b> <span class=\"year\">2003</span></p>,\n",
       " <p>Snowpiercer</p>,\n",
       " <p>Tank Girl</p>,\n",
       " <p>Barb Wire</p>,\n",
       " <p>Batman: kilpng joke</p>,\n",
       " <p>Blue is the warmest color</p>]"
      ]
     },
     "execution_count": 12,
     "metadata": {},
     "output_type": "execute_result"
    }
   ],
   "source": [
    "#Gives all p tags in a list! Yay..that makes it easier to search \n",
    "soup_doc.find_all('p') "
   ]
  },
  {
   "cell_type": "code",
   "execution_count": 22,
   "metadata": {},
   "outputs": [
    {
     "name": "stdout",
     "output_type": "stream",
     "text": [
      " The Avengers\n",
      " The Dark Knight\n",
      " Avengers: Age Of Ultron\n",
      " The Dark Knight Rises\n",
      " Iron Man 3\n"
     ]
    }
   ],
   "source": [
    "#after you have a list, for loop through to find all the bs \n",
    "first_div = soup_doc.find('div')\n",
    "all_paragraphs = first_div.find_all('p')\n",
    "for movies in all_paragraphs:\n",
    "    print(movies.find('b').string) \n",
    "    \n"
   ]
  },
  {
   "cell_type": "code",
   "execution_count": 24,
   "metadata": {},
   "outputs": [
    {
     "data": {
      "text/plain": [
       "<p><b> Wanted</b> <span class=\"year\">2008</span></p>"
      ]
     },
     "execution_count": 24,
     "metadata": {},
     "output_type": "execute_result"
    }
   ],
   "source": [
    "soup_doc.find_all('p')[7]"
   ]
  },
  {
   "cell_type": "code",
   "execution_count": 25,
   "metadata": {},
   "outputs": [
    {
     "data": {
      "text/plain": [
       "<div>\n",
       "<h1> Top Five Movies</h1>\n",
       "<p><b> The Avengers</b> <span class=\"year\">2010</span> <a href=\"http://www.boxofficemojo.com/movies/?id=avengers11.htm\">more info</a></p>\n",
       "<p><b> The Dark Knight</b> <span class=\"year\">2008</span></p>\n",
       "<p><b> Avengers: Age Of Ultron</b> <span class=\"year\">2015</span></p>\n",
       "<p><b> The Dark Knight Rises</b> <span class=\"year\">2012</span></p>\n",
       "<p><b> Iron Man 3</b> <span class=\"year\">2013</span></p>\n",
       "</div>"
      ]
     },
     "execution_count": 25,
     "metadata": {},
     "output_type": "execute_result"
    }
   ],
   "source": [
    "soup_doc.find('div') "
   ]
  },
  {
   "cell_type": "code",
   "execution_count": 26,
   "metadata": {},
   "outputs": [
    {
     "data": {
      "text/plain": [
       "[<p><b> The Avengers</b> <span class=\"year\">2010</span> <a href=\"http://www.boxofficemojo.com/movies/?id=avengers11.htm\">more info</a></p>,\n",
       " <p><b> The Dark Knight</b> <span class=\"year\">2008</span></p>,\n",
       " <p><b> Avengers: Age Of Ultron</b> <span class=\"year\">2015</span></p>,\n",
       " <p><b> The Dark Knight Rises</b> <span class=\"year\">2012</span></p>,\n",
       " <p><b> Iron Man 3</b> <span class=\"year\">2013</span></p>]"
      ]
     },
     "execution_count": 26,
     "metadata": {},
     "output_type": "execute_result"
    }
   ],
   "source": [
    "soup_doc.find('div').find_all('p')"
   ]
  },
  {
   "cell_type": "code",
   "execution_count": 29,
   "metadata": {},
   "outputs": [
    {
     "data": {
      "text/plain": [
       "' Avengers: Age Of Ultron'"
      ]
     },
     "execution_count": 29,
     "metadata": {},
     "output_type": "execute_result"
    }
   ],
   "source": [
    "soup_doc.find('div').find_all('p')[2].b.string\n",
    "soup_doc.find('div').find_all('p')[2].find('b').string\n"
   ]
  },
  {
   "cell_type": "code",
   "execution_count": 34,
   "metadata": {},
   "outputs": [
    {
     "name": "stdout",
     "output_type": "stream",
     "text": [
      "<b> Avengers: Age Of Ultron</b> <span class=\"year\">2015</span>\n"
     ]
    }
   ],
   "source": [
    "that_movie = soup_doc.find('div').find_all('p')[2]   \n",
    "movie_name = that_movie.b #because titles are in the bold tag\n",
    "movie_year = that_movie.find('span') \n",
    "print(movie_name, movie_year) "
   ]
  },
  {
   "cell_type": "code",
   "execution_count": 35,
   "metadata": {},
   "outputs": [
    {
     "name": "stdout",
     "output_type": "stream",
     "text": [
      " Avengers: Age Of Ultron || 2015\n"
     ]
    }
   ],
   "source": [
    "that_movie = soup_doc.find('div').find_all('p')[2]\n",
    "movie_name = that_movie.b\n",
    "movie_year = that_movie.find('span')\n",
    "print(movie_name.string, \"||\", movie_year.string) "
   ]
  },
  {
   "cell_type": "code",
   "execution_count": 39,
   "metadata": {},
   "outputs": [
    {
     "name": "stdout",
     "output_type": "stream",
     "text": [
      "<div>\n",
      "<h1> Middle Five Movies 47-51</h1>\n",
      "<p><b> The Incredible Hulk</b> <span class=\"year\">2008</span> <a href=\"http://www.boxofficemojo.com/movies/?id=incrediblehulk.htm\">more info</a></p>\n",
      "<p><b> Wanted</b> <span class=\"year\">2008</span></p>\n",
      "<p id=\"favorite\"><b> Superman</b> <span class=\"year\">1978</span></p>\n",
      "<p><b> The Wolverine</b> <span class=\"year\">2013</span></p>\n",
      "<p><b> Hulk</b> <span class=\"year\">2003</span></p>\n",
      "</div>\n",
      "[<p><b> The Incredible Hulk</b> <span class=\"year\">2008</span> <a href=\"http://www.boxofficemojo.com/movies/?id=incrediblehulk.htm\">more info</a></p>, <p><b> Wanted</b> <span class=\"year\">2008</span></p>, <p id=\"favorite\"><b> Superman</b> <span class=\"year\">1978</span></p>, <p><b> The Wolverine</b> <span class=\"year\">2013</span></p>, <p><b> Hulk</b> <span class=\"year\">2003</span></p>]\n"
     ]
    }
   ],
   "source": [
    "next_list = soup_doc.find_all('div')[1]\n",
    "print(next_list)\n",
    "next_movies = next_list.find_all('p')\n",
    "print(next_movies) "
   ]
  },
  {
   "cell_type": "code",
   "execution_count": 41,
   "metadata": {},
   "outputs": [
    {
     "name": "stdout",
     "output_type": "stream",
     "text": [
      " The Incredible Hulk || 2008\n",
      " Wanted || 2008\n",
      " Superman || 1978\n",
      " The Wolverine || 2013\n",
      " Hulk || 2003\n"
     ]
    }
   ],
   "source": [
    "for movie in next_movies:\n",
    "    movie_name = movie.b\n",
    "    movie_year = movie.span\n",
    "    print(movie_name.string, \"||\", movie_year.string) \n",
    "    "
   ]
  },
  {
   "cell_type": "code",
   "execution_count": 48,
   "metadata": {},
   "outputs": [
    {
     "name": "stdout",
     "output_type": "stream",
     "text": [
      "<ul>\n",
      "<li> The Rocketeer <span class=\"year\">1991</span></li>\n",
      "<li> Timecop <span class=\"year\">1994</span></li>\n",
      "<li> Teenage Mutant Ninja Turtles III <span class=\"year\">1993</span></li>\n",
      "<li> Ghost In The Shell <span class=\"year\">2017</span></li>\n",
      "<li> Catwoman <span class=\"year\">2004</span></li>\n",
      "</ul>\n"
     ]
    }
   ],
   "source": [
    "\n",
    "third_list = soup_doc.find('ul') \n",
    "\n",
    "print(third_list)  "
   ]
  },
  {
   "cell_type": "code",
   "execution_count": 49,
   "metadata": {},
   "outputs": [
    {
     "data": {
      "text/plain": [
       "[<p>Snowpiercer</p>,\n",
       " <p>Tank Girl</p>,\n",
       " <p>Barb Wire</p>,\n",
       " <p>Batman: kilpng joke</p>,\n",
       " <p>Blue is the warmest color</p>,\n",
       " <h3>that's all</h3>]"
      ]
     },
     "execution_count": 49,
     "metadata": {},
     "output_type": "execute_result"
    }
   ],
   "source": [
    "last_head = soup_doc.find('h2')\n",
    "last_list = last_head.find_next_siblings()\n",
    "last_list \n"
   ]
  },
  {
   "cell_type": "code",
   "execution_count": null,
   "metadata": {
    "collapsed": true
   },
   "outputs": [],
   "source": [
    "all_years = soup_doc.find_all(class_=\"year\")\n",
    "print(all_years)"
   ]
  },
  {
   "cell_type": "code",
   "execution_count": null,
   "metadata": {
    "collapsed": true
   },
   "outputs": [],
   "source": [
    "fav = soup_doc.find_all('id')\n",
    "print(fav)"
   ]
  },
  {
   "cell_type": "code",
   "execution_count": null,
   "metadata": {
    "collapsed": true
   },
   "outputs": [],
   "source": [
    "fav = soup_doc.find_all(id='favorite')\n",
    "print(fav)"
   ]
  },
  {
   "cell_type": "code",
   "execution_count": null,
   "metadata": {
    "collapsed": true
   },
   "outputs": [],
   "source": [
    "fav = soup_doc.find_all('p', attrs={'id': 'favorite'})\n",
    "print(fav)"
   ]
  },
  {
   "cell_type": "code",
   "execution_count": null,
   "metadata": {
    "collapsed": true
   },
   "outputs": [],
   "source": [
    "for year in all_years:\n",
    "    print(year.string)"
   ]
  },
  {
   "cell_type": "code",
   "execution_count": null,
   "metadata": {
    "collapsed": true
   },
   "outputs": [],
   "source": [
    "first_link = soup_doc.find('a')\n",
    "get_url = first_link['href']\n",
    "print(get_url)"
   ]
  },
  {
   "cell_type": "code",
   "execution_count": null,
   "metadata": {
    "collapsed": true
   },
   "outputs": [],
   "source": [
    "raw_html2 = urlopen(get_url).read()\n",
    "soup_doc2 = BeautifulSoup(raw_html2, \"html.parser\")\n",
    "print(soup_doc2.prettify())"
   ]
  },
  {
   "cell_type": "code",
   "execution_count": null,
   "metadata": {
    "collapsed": true
   },
   "outputs": [],
   "source": [
    "my_table = soup_doc2.find(\"table\", attrs={\"bgcolor\": \"#dcdcdc\"})\n",
    "print(my_table)"
   ]
  },
  {
   "cell_type": "code",
   "execution_count": null,
   "metadata": {
    "collapsed": true
   },
   "outputs": [],
   "source": [
    "each_entry = my_table.find_all('td')\n",
    "each_entry"
   ]
  },
  {
   "cell_type": "code",
   "execution_count": null,
   "metadata": {
    "collapsed": true
   },
   "outputs": [],
   "source": [
    "print(each_entry[0])"
   ]
  },
  {
   "cell_type": "code",
   "execution_count": null,
   "metadata": {
    "collapsed": true
   },
   "outputs": [],
   "source": [
    "for entry in each_entry:\n",
    "    the_data = entry.find('b')\n",
    "    the_category = the_data.previous_sibling\n",
    "    print(the_data.string)\n",
    "    print(the_category)"
   ]
  },
  {
   "cell_type": "code",
   "execution_count": null,
   "metadata": {
    "collapsed": true
   },
   "outputs": [],
   "source": [
    "avengers_dict = {}\n",
    "for entry in each_entry:\n",
    "    the_data = entry.find('b')\n",
    "    the_category = the_data.previous_sibling\n",
    "    data_string = the_data.string\n",
    "    the_category = the_category[:-2].replace(' ','')\n",
    "    avengers_dict[the_category] = data_string\n",
    "avengers_dict"
   ]
  },
  {
   "cell_type": "code",
   "execution_count": null,
   "metadata": {
    "collapsed": true
   },
   "outputs": [],
   "source": [
    "avengers_dict['Genre']"
   ]
  },
  {
   "cell_type": "code",
   "execution_count": null,
   "metadata": {
    "collapsed": true
   },
   "outputs": [],
   "source": []
  }
 ],
 "metadata": {
  "kernelspec": {
   "display_name": "Python 3",
   "language": "python",
   "name": "python3"
  },
  "language_info": {
   "codemirror_mode": {
    "name": "ipython",
    "version": 3
   },
   "file_extension": ".py",
   "mimetype": "text/x-python",
   "name": "python",
   "nbconvert_exporter": "python",
   "pygments_lexer": "ipython3",
   "version": "3.6.1"
  }
 },
 "nbformat": 4,
 "nbformat_minor": 2
}

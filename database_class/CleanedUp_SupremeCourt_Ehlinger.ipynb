{
 "cells": [
  {
   "cell_type": "markdown",
   "metadata": {},
   "source": [
    "SCRAPE SUPREME COURT 2016 ORAL ARGUMENTS PDF AND MAKE A DATAFRAME BASED ON SPEAKER. \n",
    "MERGE TWO DATASETS BASED ON DOCKET NAME."
   ]
  },
  {
   "cell_type": "code",
   "execution_count": 1,
   "metadata": {
    "scrolled": true
   },
   "outputs": [
    {
     "ename": "ConnectionError",
     "evalue": "HTTPSConnectionPool(host='www.supremecourt.gov', port=443): Max retries exceeded with url: /oral_arguments/argument_transcript.aspx (Caused by NewConnectionError('<urllib3.connection.VerifiedHTTPSConnection object at 0x10dfc4be0>: Failed to establish a new connection: [Errno 8] nodename nor servname provided, or not known',))",
     "output_type": "error",
     "traceback": [
      "\u001b[0;31m---------------------------------------------------------------------------\u001b[0m",
      "\u001b[0;31mgaierror\u001b[0m                                  Traceback (most recent call last)",
      "\u001b[0;32m/usr/local/lib/python3.6/site-packages/urllib3/connection.py\u001b[0m in \u001b[0;36m_new_conn\u001b[0;34m(self)\u001b[0m\n\u001b[1;32m    140\u001b[0m             conn = connection.create_connection(\n\u001b[0;32m--> 141\u001b[0;31m                 (self.host, self.port), self.timeout, **extra_kw)\n\u001b[0m\u001b[1;32m    142\u001b[0m \u001b[0;34m\u001b[0m\u001b[0m\n",
      "\u001b[0;32m/usr/local/lib/python3.6/site-packages/urllib3/util/connection.py\u001b[0m in \u001b[0;36mcreate_connection\u001b[0;34m(address, timeout, source_address, socket_options)\u001b[0m\n\u001b[1;32m     59\u001b[0m \u001b[0;34m\u001b[0m\u001b[0m\n\u001b[0;32m---> 60\u001b[0;31m     \u001b[0;32mfor\u001b[0m \u001b[0mres\u001b[0m \u001b[0;32min\u001b[0m \u001b[0msocket\u001b[0m\u001b[0;34m.\u001b[0m\u001b[0mgetaddrinfo\u001b[0m\u001b[0;34m(\u001b[0m\u001b[0mhost\u001b[0m\u001b[0;34m,\u001b[0m \u001b[0mport\u001b[0m\u001b[0;34m,\u001b[0m \u001b[0mfamily\u001b[0m\u001b[0;34m,\u001b[0m \u001b[0msocket\u001b[0m\u001b[0;34m.\u001b[0m\u001b[0mSOCK_STREAM\u001b[0m\u001b[0;34m)\u001b[0m\u001b[0;34m:\u001b[0m\u001b[0;34m\u001b[0m\u001b[0m\n\u001b[0m\u001b[1;32m     61\u001b[0m         \u001b[0maf\u001b[0m\u001b[0;34m,\u001b[0m \u001b[0msocktype\u001b[0m\u001b[0;34m,\u001b[0m \u001b[0mproto\u001b[0m\u001b[0;34m,\u001b[0m \u001b[0mcanonname\u001b[0m\u001b[0;34m,\u001b[0m \u001b[0msa\u001b[0m \u001b[0;34m=\u001b[0m \u001b[0mres\u001b[0m\u001b[0;34m\u001b[0m\u001b[0m\n",
      "\u001b[0;32m/usr/local/Cellar/python3/3.6.1/Frameworks/Python.framework/Versions/3.6/lib/python3.6/socket.py\u001b[0m in \u001b[0;36mgetaddrinfo\u001b[0;34m(host, port, family, type, proto, flags)\u001b[0m\n\u001b[1;32m    742\u001b[0m     \u001b[0maddrlist\u001b[0m \u001b[0;34m=\u001b[0m \u001b[0;34m[\u001b[0m\u001b[0;34m]\u001b[0m\u001b[0;34m\u001b[0m\u001b[0m\n\u001b[0;32m--> 743\u001b[0;31m     \u001b[0;32mfor\u001b[0m \u001b[0mres\u001b[0m \u001b[0;32min\u001b[0m \u001b[0m_socket\u001b[0m\u001b[0;34m.\u001b[0m\u001b[0mgetaddrinfo\u001b[0m\u001b[0;34m(\u001b[0m\u001b[0mhost\u001b[0m\u001b[0;34m,\u001b[0m \u001b[0mport\u001b[0m\u001b[0;34m,\u001b[0m \u001b[0mfamily\u001b[0m\u001b[0;34m,\u001b[0m \u001b[0mtype\u001b[0m\u001b[0;34m,\u001b[0m \u001b[0mproto\u001b[0m\u001b[0;34m,\u001b[0m \u001b[0mflags\u001b[0m\u001b[0;34m)\u001b[0m\u001b[0;34m:\u001b[0m\u001b[0;34m\u001b[0m\u001b[0m\n\u001b[0m\u001b[1;32m    744\u001b[0m         \u001b[0maf\u001b[0m\u001b[0;34m,\u001b[0m \u001b[0msocktype\u001b[0m\u001b[0;34m,\u001b[0m \u001b[0mproto\u001b[0m\u001b[0;34m,\u001b[0m \u001b[0mcanonname\u001b[0m\u001b[0;34m,\u001b[0m \u001b[0msa\u001b[0m \u001b[0;34m=\u001b[0m \u001b[0mres\u001b[0m\u001b[0;34m\u001b[0m\u001b[0m\n",
      "\u001b[0;31mgaierror\u001b[0m: [Errno 8] nodename nor servname provided, or not known",
      "\nDuring handling of the above exception, another exception occurred:\n",
      "\u001b[0;31mNewConnectionError\u001b[0m                        Traceback (most recent call last)",
      "\u001b[0;32m/usr/local/lib/python3.6/site-packages/urllib3/connectionpool.py\u001b[0m in \u001b[0;36murlopen\u001b[0;34m(self, method, url, body, headers, retries, redirect, assert_same_host, timeout, pool_timeout, release_conn, chunked, body_pos, **response_kw)\u001b[0m\n\u001b[1;32m    599\u001b[0m                                                   \u001b[0mbody\u001b[0m\u001b[0;34m=\u001b[0m\u001b[0mbody\u001b[0m\u001b[0;34m,\u001b[0m \u001b[0mheaders\u001b[0m\u001b[0;34m=\u001b[0m\u001b[0mheaders\u001b[0m\u001b[0;34m,\u001b[0m\u001b[0;34m\u001b[0m\u001b[0m\n\u001b[0;32m--> 600\u001b[0;31m                                                   chunked=chunked)\n\u001b[0m\u001b[1;32m    601\u001b[0m \u001b[0;34m\u001b[0m\u001b[0m\n",
      "\u001b[0;32m/usr/local/lib/python3.6/site-packages/urllib3/connectionpool.py\u001b[0m in \u001b[0;36m_make_request\u001b[0;34m(self, conn, method, url, timeout, chunked, **httplib_request_kw)\u001b[0m\n\u001b[1;32m    344\u001b[0m         \u001b[0;32mtry\u001b[0m\u001b[0;34m:\u001b[0m\u001b[0;34m\u001b[0m\u001b[0m\n\u001b[0;32m--> 345\u001b[0;31m             \u001b[0mself\u001b[0m\u001b[0;34m.\u001b[0m\u001b[0m_validate_conn\u001b[0m\u001b[0;34m(\u001b[0m\u001b[0mconn\u001b[0m\u001b[0;34m)\u001b[0m\u001b[0;34m\u001b[0m\u001b[0m\n\u001b[0m\u001b[1;32m    346\u001b[0m         \u001b[0;32mexcept\u001b[0m \u001b[0;34m(\u001b[0m\u001b[0mSocketTimeout\u001b[0m\u001b[0;34m,\u001b[0m \u001b[0mBaseSSLError\u001b[0m\u001b[0;34m)\u001b[0m \u001b[0;32mas\u001b[0m \u001b[0me\u001b[0m\u001b[0;34m:\u001b[0m\u001b[0;34m\u001b[0m\u001b[0m\n",
      "\u001b[0;32m/usr/local/lib/python3.6/site-packages/urllib3/connectionpool.py\u001b[0m in \u001b[0;36m_validate_conn\u001b[0;34m(self, conn)\u001b[0m\n\u001b[1;32m    843\u001b[0m         \u001b[0;32mif\u001b[0m \u001b[0;32mnot\u001b[0m \u001b[0mgetattr\u001b[0m\u001b[0;34m(\u001b[0m\u001b[0mconn\u001b[0m\u001b[0;34m,\u001b[0m \u001b[0;34m'sock'\u001b[0m\u001b[0;34m,\u001b[0m \u001b[0;32mNone\u001b[0m\u001b[0;34m)\u001b[0m\u001b[0;34m:\u001b[0m  \u001b[0;31m# AppEngine might not have  `.sock`\u001b[0m\u001b[0;34m\u001b[0m\u001b[0m\n\u001b[0;32m--> 844\u001b[0;31m             \u001b[0mconn\u001b[0m\u001b[0;34m.\u001b[0m\u001b[0mconnect\u001b[0m\u001b[0;34m(\u001b[0m\u001b[0;34m)\u001b[0m\u001b[0;34m\u001b[0m\u001b[0m\n\u001b[0m\u001b[1;32m    845\u001b[0m \u001b[0;34m\u001b[0m\u001b[0m\n",
      "\u001b[0;32m/usr/local/lib/python3.6/site-packages/urllib3/connection.py\u001b[0m in \u001b[0;36mconnect\u001b[0;34m(self)\u001b[0m\n\u001b[1;32m    283\u001b[0m         \u001b[0;31m# Add certificate verification\u001b[0m\u001b[0;34m\u001b[0m\u001b[0;34m\u001b[0m\u001b[0m\n\u001b[0;32m--> 284\u001b[0;31m         \u001b[0mconn\u001b[0m \u001b[0;34m=\u001b[0m \u001b[0mself\u001b[0m\u001b[0;34m.\u001b[0m\u001b[0m_new_conn\u001b[0m\u001b[0;34m(\u001b[0m\u001b[0;34m)\u001b[0m\u001b[0;34m\u001b[0m\u001b[0m\n\u001b[0m\u001b[1;32m    285\u001b[0m \u001b[0;34m\u001b[0m\u001b[0m\n",
      "\u001b[0;32m/usr/local/lib/python3.6/site-packages/urllib3/connection.py\u001b[0m in \u001b[0;36m_new_conn\u001b[0;34m(self)\u001b[0m\n\u001b[1;32m    149\u001b[0m             raise NewConnectionError(\n\u001b[0;32m--> 150\u001b[0;31m                 self, \"Failed to establish a new connection: %s\" % e)\n\u001b[0m\u001b[1;32m    151\u001b[0m \u001b[0;34m\u001b[0m\u001b[0m\n",
      "\u001b[0;31mNewConnectionError\u001b[0m: <urllib3.connection.VerifiedHTTPSConnection object at 0x10dfc4be0>: Failed to establish a new connection: [Errno 8] nodename nor servname provided, or not known",
      "\nDuring handling of the above exception, another exception occurred:\n",
      "\u001b[0;31mMaxRetryError\u001b[0m                             Traceback (most recent call last)",
      "\u001b[0;32m/usr/local/lib/python3.6/site-packages/requests/adapters.py\u001b[0m in \u001b[0;36msend\u001b[0;34m(self, request, stream, timeout, verify, cert, proxies)\u001b[0m\n\u001b[1;32m    439\u001b[0m                     \u001b[0mretries\u001b[0m\u001b[0;34m=\u001b[0m\u001b[0mself\u001b[0m\u001b[0;34m.\u001b[0m\u001b[0mmax_retries\u001b[0m\u001b[0;34m,\u001b[0m\u001b[0;34m\u001b[0m\u001b[0m\n\u001b[0;32m--> 440\u001b[0;31m                     \u001b[0mtimeout\u001b[0m\u001b[0;34m=\u001b[0m\u001b[0mtimeout\u001b[0m\u001b[0;34m\u001b[0m\u001b[0m\n\u001b[0m\u001b[1;32m    441\u001b[0m                 )\n",
      "\u001b[0;32m/usr/local/lib/python3.6/site-packages/urllib3/connectionpool.py\u001b[0m in \u001b[0;36murlopen\u001b[0;34m(self, method, url, body, headers, retries, redirect, assert_same_host, timeout, pool_timeout, release_conn, chunked, body_pos, **response_kw)\u001b[0m\n\u001b[1;32m    648\u001b[0m             retries = retries.increment(method, url, error=e, _pool=self,\n\u001b[0;32m--> 649\u001b[0;31m                                         _stacktrace=sys.exc_info()[2])\n\u001b[0m\u001b[1;32m    650\u001b[0m             \u001b[0mretries\u001b[0m\u001b[0;34m.\u001b[0m\u001b[0msleep\u001b[0m\u001b[0;34m(\u001b[0m\u001b[0;34m)\u001b[0m\u001b[0;34m\u001b[0m\u001b[0m\n",
      "\u001b[0;32m/usr/local/lib/python3.6/site-packages/urllib3/util/retry.py\u001b[0m in \u001b[0;36mincrement\u001b[0;34m(self, method, url, response, error, _pool, _stacktrace)\u001b[0m\n\u001b[1;32m    387\u001b[0m         \u001b[0;32mif\u001b[0m \u001b[0mnew_retry\u001b[0m\u001b[0;34m.\u001b[0m\u001b[0mis_exhausted\u001b[0m\u001b[0;34m(\u001b[0m\u001b[0;34m)\u001b[0m\u001b[0;34m:\u001b[0m\u001b[0;34m\u001b[0m\u001b[0m\n\u001b[0;32m--> 388\u001b[0;31m             \u001b[0;32mraise\u001b[0m \u001b[0mMaxRetryError\u001b[0m\u001b[0;34m(\u001b[0m\u001b[0m_pool\u001b[0m\u001b[0;34m,\u001b[0m \u001b[0murl\u001b[0m\u001b[0;34m,\u001b[0m \u001b[0merror\u001b[0m \u001b[0;32mor\u001b[0m \u001b[0mResponseError\u001b[0m\u001b[0;34m(\u001b[0m\u001b[0mcause\u001b[0m\u001b[0;34m)\u001b[0m\u001b[0;34m)\u001b[0m\u001b[0;34m\u001b[0m\u001b[0m\n\u001b[0m\u001b[1;32m    389\u001b[0m \u001b[0;34m\u001b[0m\u001b[0m\n",
      "\u001b[0;31mMaxRetryError\u001b[0m: HTTPSConnectionPool(host='www.supremecourt.gov', port=443): Max retries exceeded with url: /oral_arguments/argument_transcript.aspx (Caused by NewConnectionError('<urllib3.connection.VerifiedHTTPSConnection object at 0x10dfc4be0>: Failed to establish a new connection: [Errno 8] nodename nor servname provided, or not known',))",
      "\nDuring handling of the above exception, another exception occurred:\n",
      "\u001b[0;31mConnectionError\u001b[0m                           Traceback (most recent call last)",
      "\u001b[0;32m<ipython-input-1-f0969c64e03c>\u001b[0m in \u001b[0;36m<module>\u001b[0;34m()\u001b[0m\n\u001b[1;32m      1\u001b[0m \u001b[0;32mimport\u001b[0m \u001b[0mrequests\u001b[0m\u001b[0;34m\u001b[0m\u001b[0m\n\u001b[1;32m      2\u001b[0m \u001b[0;32mfrom\u001b[0m \u001b[0mbs4\u001b[0m \u001b[0;32mimport\u001b[0m \u001b[0mBeautifulSoup\u001b[0m\u001b[0;34m\u001b[0m\u001b[0m\n\u001b[0;32m----> 3\u001b[0;31m \u001b[0mresponse\u001b[0m \u001b[0;34m=\u001b[0m \u001b[0mrequests\u001b[0m\u001b[0;34m.\u001b[0m\u001b[0mget\u001b[0m\u001b[0;34m(\u001b[0m\u001b[0;34m'https://www.supremecourt.gov/oral_arguments/argument_transcript.aspx'\u001b[0m\u001b[0;34m)\u001b[0m\u001b[0;34m\u001b[0m\u001b[0m\n\u001b[0m\u001b[1;32m      4\u001b[0m \u001b[0mdoc\u001b[0m \u001b[0;34m=\u001b[0m \u001b[0mBeautifulSoup\u001b[0m\u001b[0;34m(\u001b[0m\u001b[0mresponse\u001b[0m\u001b[0;34m.\u001b[0m\u001b[0mtext\u001b[0m\u001b[0;34m,\u001b[0m \u001b[0;34m'html.parser'\u001b[0m\u001b[0;34m)\u001b[0m\u001b[0;34m\u001b[0m\u001b[0m\n",
      "\u001b[0;32m/usr/local/lib/python3.6/site-packages/requests/api.py\u001b[0m in \u001b[0;36mget\u001b[0;34m(url, params, **kwargs)\u001b[0m\n\u001b[1;32m     70\u001b[0m \u001b[0;34m\u001b[0m\u001b[0m\n\u001b[1;32m     71\u001b[0m     \u001b[0mkwargs\u001b[0m\u001b[0;34m.\u001b[0m\u001b[0msetdefault\u001b[0m\u001b[0;34m(\u001b[0m\u001b[0;34m'allow_redirects'\u001b[0m\u001b[0;34m,\u001b[0m \u001b[0;32mTrue\u001b[0m\u001b[0;34m)\u001b[0m\u001b[0;34m\u001b[0m\u001b[0m\n\u001b[0;32m---> 72\u001b[0;31m     \u001b[0;32mreturn\u001b[0m \u001b[0mrequest\u001b[0m\u001b[0;34m(\u001b[0m\u001b[0;34m'get'\u001b[0m\u001b[0;34m,\u001b[0m \u001b[0murl\u001b[0m\u001b[0;34m,\u001b[0m \u001b[0mparams\u001b[0m\u001b[0;34m=\u001b[0m\u001b[0mparams\u001b[0m\u001b[0;34m,\u001b[0m \u001b[0;34m**\u001b[0m\u001b[0mkwargs\u001b[0m\u001b[0;34m)\u001b[0m\u001b[0;34m\u001b[0m\u001b[0m\n\u001b[0m\u001b[1;32m     73\u001b[0m \u001b[0;34m\u001b[0m\u001b[0m\n\u001b[1;32m     74\u001b[0m \u001b[0;34m\u001b[0m\u001b[0m\n",
      "\u001b[0;32m/usr/local/lib/python3.6/site-packages/requests/api.py\u001b[0m in \u001b[0;36mrequest\u001b[0;34m(method, url, **kwargs)\u001b[0m\n\u001b[1;32m     56\u001b[0m     \u001b[0;31m# cases, and look like a memory leak in others.\u001b[0m\u001b[0;34m\u001b[0m\u001b[0;34m\u001b[0m\u001b[0m\n\u001b[1;32m     57\u001b[0m     \u001b[0;32mwith\u001b[0m \u001b[0msessions\u001b[0m\u001b[0;34m.\u001b[0m\u001b[0mSession\u001b[0m\u001b[0;34m(\u001b[0m\u001b[0;34m)\u001b[0m \u001b[0;32mas\u001b[0m \u001b[0msession\u001b[0m\u001b[0;34m:\u001b[0m\u001b[0;34m\u001b[0m\u001b[0m\n\u001b[0;32m---> 58\u001b[0;31m         \u001b[0;32mreturn\u001b[0m \u001b[0msession\u001b[0m\u001b[0;34m.\u001b[0m\u001b[0mrequest\u001b[0m\u001b[0;34m(\u001b[0m\u001b[0mmethod\u001b[0m\u001b[0;34m=\u001b[0m\u001b[0mmethod\u001b[0m\u001b[0;34m,\u001b[0m \u001b[0murl\u001b[0m\u001b[0;34m=\u001b[0m\u001b[0murl\u001b[0m\u001b[0;34m,\u001b[0m \u001b[0;34m**\u001b[0m\u001b[0mkwargs\u001b[0m\u001b[0;34m)\u001b[0m\u001b[0;34m\u001b[0m\u001b[0m\n\u001b[0m\u001b[1;32m     59\u001b[0m \u001b[0;34m\u001b[0m\u001b[0m\n\u001b[1;32m     60\u001b[0m \u001b[0;34m\u001b[0m\u001b[0m\n",
      "\u001b[0;32m/usr/local/lib/python3.6/site-packages/requests/sessions.py\u001b[0m in \u001b[0;36mrequest\u001b[0;34m(self, method, url, params, data, headers, cookies, files, auth, timeout, allow_redirects, proxies, hooks, stream, verify, cert, json)\u001b[0m\n\u001b[1;32m    500\u001b[0m         }\n\u001b[1;32m    501\u001b[0m         \u001b[0msend_kwargs\u001b[0m\u001b[0;34m.\u001b[0m\u001b[0mupdate\u001b[0m\u001b[0;34m(\u001b[0m\u001b[0msettings\u001b[0m\u001b[0;34m)\u001b[0m\u001b[0;34m\u001b[0m\u001b[0m\n\u001b[0;32m--> 502\u001b[0;31m         \u001b[0mresp\u001b[0m \u001b[0;34m=\u001b[0m \u001b[0mself\u001b[0m\u001b[0;34m.\u001b[0m\u001b[0msend\u001b[0m\u001b[0;34m(\u001b[0m\u001b[0mprep\u001b[0m\u001b[0;34m,\u001b[0m \u001b[0;34m**\u001b[0m\u001b[0msend_kwargs\u001b[0m\u001b[0;34m)\u001b[0m\u001b[0;34m\u001b[0m\u001b[0m\n\u001b[0m\u001b[1;32m    503\u001b[0m \u001b[0;34m\u001b[0m\u001b[0m\n\u001b[1;32m    504\u001b[0m         \u001b[0;32mreturn\u001b[0m \u001b[0mresp\u001b[0m\u001b[0;34m\u001b[0m\u001b[0m\n",
      "\u001b[0;32m/usr/local/lib/python3.6/site-packages/requests/sessions.py\u001b[0m in \u001b[0;36msend\u001b[0;34m(self, request, **kwargs)\u001b[0m\n\u001b[1;32m    610\u001b[0m \u001b[0;34m\u001b[0m\u001b[0m\n\u001b[1;32m    611\u001b[0m         \u001b[0;31m# Send the request\u001b[0m\u001b[0;34m\u001b[0m\u001b[0;34m\u001b[0m\u001b[0m\n\u001b[0;32m--> 612\u001b[0;31m         \u001b[0mr\u001b[0m \u001b[0;34m=\u001b[0m \u001b[0madapter\u001b[0m\u001b[0;34m.\u001b[0m\u001b[0msend\u001b[0m\u001b[0;34m(\u001b[0m\u001b[0mrequest\u001b[0m\u001b[0;34m,\u001b[0m \u001b[0;34m**\u001b[0m\u001b[0mkwargs\u001b[0m\u001b[0;34m)\u001b[0m\u001b[0;34m\u001b[0m\u001b[0m\n\u001b[0m\u001b[1;32m    613\u001b[0m \u001b[0;34m\u001b[0m\u001b[0m\n\u001b[1;32m    614\u001b[0m         \u001b[0;31m# Total elapsed time of the request (approximately)\u001b[0m\u001b[0;34m\u001b[0m\u001b[0;34m\u001b[0m\u001b[0m\n",
      "\u001b[0;32m/usr/local/lib/python3.6/site-packages/requests/adapters.py\u001b[0m in \u001b[0;36msend\u001b[0;34m(self, request, stream, timeout, verify, cert, proxies)\u001b[0m\n\u001b[1;32m    502\u001b[0m                 \u001b[0;32mraise\u001b[0m \u001b[0mProxyError\u001b[0m\u001b[0;34m(\u001b[0m\u001b[0me\u001b[0m\u001b[0;34m,\u001b[0m \u001b[0mrequest\u001b[0m\u001b[0;34m=\u001b[0m\u001b[0mrequest\u001b[0m\u001b[0;34m)\u001b[0m\u001b[0;34m\u001b[0m\u001b[0m\n\u001b[1;32m    503\u001b[0m \u001b[0;34m\u001b[0m\u001b[0m\n\u001b[0;32m--> 504\u001b[0;31m             \u001b[0;32mraise\u001b[0m \u001b[0mConnectionError\u001b[0m\u001b[0;34m(\u001b[0m\u001b[0me\u001b[0m\u001b[0;34m,\u001b[0m \u001b[0mrequest\u001b[0m\u001b[0;34m=\u001b[0m\u001b[0mrequest\u001b[0m\u001b[0;34m)\u001b[0m\u001b[0;34m\u001b[0m\u001b[0m\n\u001b[0m\u001b[1;32m    505\u001b[0m \u001b[0;34m\u001b[0m\u001b[0m\n\u001b[1;32m    506\u001b[0m         \u001b[0;32mexcept\u001b[0m \u001b[0mClosedPoolError\u001b[0m \u001b[0;32mas\u001b[0m \u001b[0me\u001b[0m\u001b[0;34m:\u001b[0m\u001b[0;34m\u001b[0m\u001b[0m\n",
      "\u001b[0;31mConnectionError\u001b[0m: HTTPSConnectionPool(host='www.supremecourt.gov', port=443): Max retries exceeded with url: /oral_arguments/argument_transcript.aspx (Caused by NewConnectionError('<urllib3.connection.VerifiedHTTPSConnection object at 0x10dfc4be0>: Failed to establish a new connection: [Errno 8] nodename nor servname provided, or not known',))"
     ]
    }
   ],
   "source": [
    "import requests\n",
    "from bs4 import BeautifulSoup\n",
    "response = requests.get('https://www.supremecourt.gov/oral_arguments/argument_transcript.aspx')\n",
    "doc = BeautifulSoup(response.text, 'html.parser')"
   ]
  },
  {
   "cell_type": "code",
   "execution_count": 37,
   "metadata": {},
   "outputs": [
    {
     "ename": "NameError",
     "evalue": "name 'doc' is not defined",
     "output_type": "error",
     "traceback": [
      "\u001b[0;31m---------------------------------------------------------------------------\u001b[0m",
      "\u001b[0;31mNameError\u001b[0m                                 Traceback (most recent call last)",
      "\u001b[0;32m<ipython-input-37-acfb8a73578f>\u001b[0m in \u001b[0;36m<module>\u001b[0;34m()\u001b[0m\n\u001b[0;32m----> 1\u001b[0;31m \u001b[0mtable\u001b[0m \u001b[0;34m=\u001b[0m \u001b[0mdoc\u001b[0m\u001b[0;34m.\u001b[0m\u001b[0mfind\u001b[0m\u001b[0;34m(\u001b[0m\u001b[0mclass_\u001b[0m\u001b[0;34m=\u001b[0m\u001b[0;34m\"table datatables\"\u001b[0m\u001b[0;34m)\u001b[0m\u001b[0;34m\u001b[0m\u001b[0m\n\u001b[0m\u001b[1;32m      2\u001b[0m \u001b[0mcases\u001b[0m \u001b[0;34m=\u001b[0m \u001b[0mtable\u001b[0m\u001b[0;34m.\u001b[0m\u001b[0mfind_all\u001b[0m\u001b[0;34m(\u001b[0m\u001b[0;34m'tr'\u001b[0m\u001b[0;34m)\u001b[0m\u001b[0;34m\u001b[0m\u001b[0m\n\u001b[1;32m      3\u001b[0m \u001b[0mcases\u001b[0m\u001b[0;34m\u001b[0m\u001b[0m\n",
      "\u001b[0;31mNameError\u001b[0m: name 'doc' is not defined"
     ]
    }
   ],
   "source": [
    "table = doc.find(class_=\"table datatables\")\n",
    "cases = table.find_all('tr')\n",
    "cases"
   ]
  },
  {
   "cell_type": "code",
   "execution_count": null,
   "metadata": {
    "collapsed": true
   },
   "outputs": [],
   "source": [
    "#List of all of the PDFs, names, docket names, date argued.\n",
    "#Using a for loop after determining the whole scraped table\n",
    "all_2016 = []\n",
    "for things in cases:\n",
    "    current = {}\n",
    "    case_id = things.find_all('td')[0].find('a')\n",
    "    name = things.find('span')\n",
    "    date = things.find_all('td')[1].string\n",
    "    docket_number = things.find_all('td')[0].find(target=\"_blank\")\n",
    "    \n",
    "    if name:\n",
    "        current['Case Name'] = name.string\n",
    "        \n",
    "    if case_id:\n",
    "        this_file = case_id['href'].split('/')[-1]\n",
    "        current['case_id'] = this_file.split('.')[0]\n",
    "        \n",
    "        current['Date Argued'] = date\n",
    "        current['Docket Number'] = docket_number.string.strip()\n",
    "        all_2016.append(current)\n",
    "all_2016"
   ]
  },
  {
   "cell_type": "code",
   "execution_count": 2,
   "metadata": {},
   "outputs": [
    {
     "ename": "NameError",
     "evalue": "name 'all_2016' is not defined",
     "output_type": "error",
     "traceback": [
      "\u001b[0;31m---------------------------------------------------------------------------\u001b[0m",
      "\u001b[0;31mNameError\u001b[0m                                 Traceback (most recent call last)",
      "\u001b[0;32m<ipython-input-2-aedeae61a27f>\u001b[0m in \u001b[0;36m<module>\u001b[0;34m()\u001b[0m\n\u001b[1;32m      1\u001b[0m \u001b[0;31m#Now that we have a list of dicionaries, create dataframes with pandas\u001b[0m\u001b[0;34m\u001b[0m\u001b[0;34m\u001b[0m\u001b[0m\n\u001b[1;32m      2\u001b[0m \u001b[0;32mimport\u001b[0m \u001b[0mpandas\u001b[0m \u001b[0;32mas\u001b[0m \u001b[0mpd\u001b[0m\u001b[0;34m\u001b[0m\u001b[0m\n\u001b[0;32m----> 3\u001b[0;31m \u001b[0mdf\u001b[0m \u001b[0;34m=\u001b[0m \u001b[0mpd\u001b[0m\u001b[0;34m.\u001b[0m\u001b[0mDataFrame\u001b[0m\u001b[0;34m(\u001b[0m\u001b[0mall_2016\u001b[0m\u001b[0;34m)\u001b[0m\u001b[0;34m\u001b[0m\u001b[0m\n\u001b[0m\u001b[1;32m      4\u001b[0m \u001b[0mdf\u001b[0m\u001b[0;34m.\u001b[0m\u001b[0mshape\u001b[0m\u001b[0;34m\u001b[0m\u001b[0m\n",
      "\u001b[0;31mNameError\u001b[0m: name 'all_2016' is not defined"
     ]
    }
   ],
   "source": [
    "#Now that we have a list of dicionaries, create dataframes with pandas \n",
    "import pandas as pd\n",
    "df = pd.DataFrame(all_2016)\n",
    "df.shape"
   ]
  },
  {
   "cell_type": "code",
   "execution_count": null,
   "metadata": {
    "collapsed": true
   },
   "outputs": [],
   "source": [
    "df.columns"
   ]
  },
  {
   "cell_type": "code",
   "execution_count": null,
   "metadata": {
    "collapsed": true
   },
   "outputs": [],
   "source": [
    "df['Docket Number'] = df['Docket Number'].str.replace(\".\",\"\")"
   ]
  },
  {
   "cell_type": "code",
   "execution_count": null,
   "metadata": {
    "collapsed": true
   },
   "outputs": [],
   "source": [
    "df.head()"
   ]
  },
  {
   "cell_type": "code",
   "execution_count": null,
   "metadata": {
    "collapsed": true
   },
   "outputs": [],
   "source": [
    "array = df['case_id'].unique()\n",
    "array.sort()\n",
    "array"
   ]
  },
  {
   "cell_type": "code",
   "execution_count": null,
   "metadata": {
    "collapsed": true
   },
   "outputs": [],
   "source": [
    "#Import the regular expression library\n",
    "import re\n",
    "!pwd"
   ]
  },
  {
   "cell_type": "code",
   "execution_count": 3,
   "metadata": {
    "collapsed": true
   },
   "outputs": [],
   "source": [
    "#Open a text file from your computer\n",
    "f = open('pdfs/14-1055_h3dj.txt', 'r')\n",
    "sample_transcript = f.read()"
   ]
  },
  {
   "cell_type": "code",
   "execution_count": 4,
   "metadata": {},
   "outputs": [
    {
     "data": {
      "text/plain": [
       "'Official - Subject to Final Review\\n1 1 IN THE SUPREME COURT OF THE UNITED STATES\\n\\n2 -----------------x\\n\\n3 CRYSTAL MONIQUE\\n\\n:\\n\\n4 LIGHTFOOT, ET AL.,\\n\\n:\\n\\n5\\n\\nPetitioners\\n\\n: No. 14-1055\\n\\n6 v.\\n\\n:\\n\\n7 CENDANT MORTGAGE\\n\\n:\\n\\n8 CORPORATION, DBA PHH\\n\\n:\\n\\n9 MORTGAGE, ET AL.,\\n\\n:\\n\\n10\\n\\nRespondents.\\n\\n:\\n\\n11 - - - - - - - - - - - - - - - - - x\\n\\n12 Washington, D.C.\\n\\n13 Tuesday, November 8, 2016\\n\\n14\\n\\n15 The above-entitled matter came on for oral\\n\\n16 argument before the Supreme Court of the United States\\n\\n17 at 11:04 a.m.\\n\\n18 APPEARANCES:\\n\\n19 E. JOSHUA ROSENKRANZ, ESQ., New York, N.Y.; on behalf of\\n\\n20 the Petitioners.\\n\\n21 ANN O\\'CONNELL, ESQ., Assistant to the Solicitor General,\\n\\n22 Department of Justice, Washington, D.C.; for United\\n\\n23 States, as amicus curiae, supporting the Petitioners.\\n\\n24 BRIAN P. BROOKS, ESQ., Washington, D.C.; on behalf of\\n\\n25 the Respondents.\\n\\nAlderson Reporting Company\\n\\n\\x0cOfficial - Subject to Final Review\\n1 CONTENTS 2 ORAL ARGUMENT OF 3 E. JOSHUA ROSENKRANZ, ESQ. 4 On behalf of the Petitioners\\n\\n 5\\n\\n ORAL ARGUMENT OF 6 ANN O\\'CONNELL, ESQ. 7 For United States, as amicus curiae, 8 supporting the Petitioners 9 ORAL ARGUMENT OF 10 BRIAN P. BROOKS, ESQ. 11 On behalf of the Respondents 12 REBUTTAL ARGUMENT OF 13 E. JOSHUA ROSENKRANZ, ESQ. 14 On behalf of the Petitioners 15 16 17 18 19 20 21 22 23 24 25\\nAlderson Reporting Company\\n\\n2 PAGE\\n3\\n15 26 51\\n\\n\\x0cOfficial - Subject to Final Review\\n3 1 PROCEEDINGS 2 (11:04 a.m.) 3 CHIEF JUSTICE ROBERTS: We will hear 4 argument next in Case No. 14-1055, Lightfoot v. Cendant 5 Mortgage Corporation. 6 Mr. Rosenkranz. 7 ORAL ARGUMENT OF E. JOSHUA ROSENKRANZ 8 ON BEHALF OF THE PETITIONERS 9 MR. ROSENKRANZ: Thank you, Mr. Chief 10 Justice, and may it please the Court: 11 There is only one natural way to read the 12 language at issue here. A \"court of competent 13 jurisdiction\" is a court that has an independent source 14 of subject-matter jurisdiction. That is what this Court 15 has held five times those words mean. So let\\'s start 16 with the plain language. 17 The statute grants Freddie, quote, \"The 18 power in its corporate name to sue and be sued in any 19 \\'court of competent jurisdiction,\\' State or Federal.\" 20 The only reference to jurisdiction in that passage is to 21 say that you don\\'t get to go to any Federal court or any 22 State court, but rather, you have to choose a court, 23 State or Federal, that must be a \"court of competent 24 jurisdiction.\" And the only way to find out whether a 25 court is a \"court of competent jurisdiction\" is to\\nAlderson Reporting Company\\n\\n\\x0cOfficial - Subject to Final Review\\n4 1 examine the statutes creating that court and granting it 2 jurisdiction. 3 JUSTICE GINSBURG: Does that include -4 you -- you said subject-matter jurisdiction, but \"is 5 this court competent to hear this controversy\" would 6 include personal jurisdiction as well, or are you 7 limiting it to subject-matter jurisdiction? 8 MR. ROSENKRANZ: I -- I am not limiting it 9 to subject-matter jurisdiction over an original action. 10 It has appellate -- it has cert jurisdiction. But no, a 11 court of competent jurisdiction at a minimum has 12 subject-matter jurisdiction, but I think it also has 13 personal jurisdiction. 14 And the -- the cases that my friends rely 15 upon at Fannie that talk about personal jurisdiction are 16 cases in which there was already subject-matter 17 jurisdiction. And this Court held, hold on. Wait a 18 minute. It\\'s not enough just to have subject-matter 19 jurisdiction, which everyone agreed there was in those 20 cases. It needs to be personal jurisdiction. 21 Now, five times this Court has interpreted 22 the words \"competent jurisdiction\" to mean, quote, 23 \"outside\" -- \"outside sources of jurisdictional 24 authority.\" That\\'s from Phoenix. Or from Shoshone; 25 this Court held that any reference to competent\\nAlderson Reporting Company\\n\\n\\x0cOfficial - Subject to Final Review\\n1 jurisdiction -- excuse me -- that a reference to\\n\\n5\\n\\n2 competent jurisdiction means, and I quote, \"it\\n\\n3 unquestionably meant that the competency of the court\\n\\n4 should be determined by rules theretofore prescribed in\\n\\n5 respect to the jurisdiction of the Federal courts.\"\\n\\n6 And Fannie\\'s interpretation simply does not\\n\\n7 map onto the statutory language that Congress wrote.\\n\\n8 Look at the sentence. Fannie\\'s interpretation would\\n\\n9 require the Court to read the phrase \"competent\\n\\n10 jurisdiction\" to mean different things depending upon\\n\\n11 which word modifies it.\\n\\n12 So Fannie concedes that the clause referring\\n\\n13 to any \"court of competent jurisdiction\" State cannot be\\n\\n14 read as a grant of jurisdiction to every State court. A\\n\\n15 State court can\\'t take jurisdiction unless you point to\\n\\n16 a statutory authority for the State.\\n\\n17 JUSTICE GINSBURG: What did you do -- what\\n\\n18 does Justice Souter\\'s statement in Red Cross do to your\\n\\n19 argument? I\\'m talking about the statement on page 257\\n\\n20 of Red Cross, \"In expressly authorizing suit in Federal\\n\\n21 court, a provision extends beyond a grant of corporate\\n\\n22 capacity to sue and suffices to confer a Federal\\n\\n23 jurisdiction.\"\\n\\n24 That seems to say if you authorize suit in\\n\\n25 Federal court, then that\\'s it. Specifically mentioning\\n\\nAlderson Reporting Company\\n\\n\\x0cOfficial - Subject to Final Review\\n6 1 Federal court suffices to confer Federal jurisdiction. 2 MR. ROSENKRANZ: Understood, Justice 3 Ginsburg. And I think the way to look at Red Cross is 4 to look at what Red Cross referred to as the rule that 5 Justice Souter was describing. The rule is, and I 6 quote, \"A congressional charter\\'s sue-and-be-sued 7 provision may be read to confer Federal jurisdiction if, 8 but only if, it specifically mentions the Federal 9 courts.\" 10 So you need a mention of Federal courts in 11 order to even have a conversation about whether the 12 \"may\" is in play. But a reference to Federal courts is 13 not sufficient. 14 And so another way to think about it is, 15 sure, if a clause says, sue or be sued in any court, 16 State or Federal, Red Cross tells us, that, without 17 more, is a grant of Federal jurisdiction. 18 JUSTICE BREYER: It\\'s tough. I mean, I find 19 this pretty tough. I think that there are five major 20 cases: Three are against you; two are for you. Deveaux 21 is for you. Osborn uses the word \"incompetent 22 jurisdiction\"; it\\'s against you. Not surprising, the 23 Bankers\\' one comes up the same way as Deveaux, but the 24 D\\'Oench, Duhme is weaker for you than here. 25 MR. ROSENKRANZ: Well, Your Honor --\\nAlderson Reporting Company\\n\\n\\x0cOfficial - Subject to Final Review\\n7 1 JUSTICE BREYER: It comes out the other way. 2 And the Red Cross is weaker for you than here, and it 3 comes out the other way. And so what I see going for 4 you is one page of legislative history which says, 5 explicitly, you\\'re right. 6 MR. ROSENKRANZ: No, Your Honor. 7 JUSTICE BREYER: Do you want to deny that 8 legislative history? It helps you, doesn\\'t it? 9 MR. ROSENKRANZ: No, no. I accept the 10 legislative history. 11 JUSTICE BREYER: Right. 12 MR. ROSENKRANZ: But we have a lot more 13 going for us than that. This Court\\'s interpretation of 14 the phrase of \"competent jurisdiction\" over and over 15 again, three times before this provision -- those words 16 were added to this provision. This Court interpreted 17 that phrase twice in the statutory construction setting 18 and said, it must point to an outside source of 19 authority. And our -20 JUSTICE BREYER: Well, that\\'s true. But 21 these cases that you\\'re talking about are not directly 22 in point. D\\'Oench, Duhme is the leading case on this 23 issue, and it used the word \"competent jurisdiction.\" 24 And John Marshall, you know, who is not, say, Justice X, 25 did say that the language, absolutely clear, this\\nAlderson Reporting Company\\n\\n\\x0cOfficial - Subject to Final Review\\n8 1 means -- because it refers probably to specific courts 2 and isn\\'t just a general statement of courts in 3 general -- this means that they\\'re giving jurisdiction. 4 It\\'s just not just authority to sue and be sued. 5 MR. ROSENKRANZ: Your Honor, I disagree 6 respectfully with how they -- how you\\'ve characterized 7 these cases. 8 So Osborn, if you wanted to write a 9 provision that parses the legislative language the way 10 Fannie does, you would write the Osborn provision. It 11 says, sue and be sued in all State courts having 12 competent jurisdiction -- great -- and in a circuit 13 court of the United States. That\\'s how you distinguish 14 State courts. 15 JUSTICE BREYER: I got that one. 16 MR. ROSENKRANZ: Okay. 17 JUSTICE BREYER: D\\'Oench, Duhme, my God, is 18 the -- that\\'s identical to the Bankers\\' one. Identical. 19 And they come out the other way, and all that\\'s there is 20 the word \"State and Federal\" -21 MR. ROSENKRANZ: So, Your Honor, D\\'Oench, 22 Duhme says, any court of law or equity, State or 23 Federal. This Court did not analyze this provision in 24 D\\'Oench, Duhme, and so there\\'s nothing -- we can\\'t 25 figure out what this Court was saying in D\\'Oench because\\nAlderson Reporting Company\\n\\n\\x0cOfficial - Subject to Final Review\\n1 it was a drive-by jurisdictional reference in a\\n\\n9\\n\\n2 situation in which there was clear Federal jurisdiction\\n\\n3 because there was an arising-under clause.\\n\\n4 And then when you --\\n\\n5 JUSTICE SOTOMAYOR: Now, is there a\\n\\n6 difference in a sue-to-be -- a right-to-sue provision\\n\\n7 from a provision creating a cause of action? Let\\'s do\\n\\n8 the Age Discrimination and Employment Act, which\\n\\n9 authorizes suit in any Federal district court of\\n\\n10 competent jurisdiction.\\n\\n11 How do you deal with the fact that the ADA\\n\\n12 generally is viewed as limiting jurisdiction to Federal\\n\\n13 courts?\\n\\n14 MR. ROSENKRANZ: Well, Your Honor, so the\\n\\n15 answer is that provision -- excuse me.\\n\\n16 The ADA has jurisdiction, but not because of\\n\\n17 that jurisdiction. There is Federal-question\\n\\n18 jurisdiction under the ADEA. The sue-or-be-sued clause\\n\\n19 is a clause that provides for the direction as to which\\n\\n20 courts you go into. And the same is true --\\n\\n21 JUSTICE SOTOMAYOR: Well, there, I\\'m\\n\\n22 presuming they mean personal jurisdiction. So in\\n\\n23 context, one would read competent jurisdiction there as\\n\\n24 personal jurisdiction.\\n\\n25 MR. ROSENKRANZ: Well, Your Honor, I\\n\\nAlderson Reporting Company\\n\\n\\x0cOfficial - Subject to Final Review\\n1 disagree. It is personal and subject-matter\\n\\n10\\n\\n2 jurisdiction. It means, show me where the Court has\\n\\n3 subject-matter jurisdiction. Easy. There is a Federal\\n\\n4 question under 1331. Show me where there is personal\\n\\n5 jurisdiction. Okay. That\\'s where it gets a little bit\\n\\n6 harder. Make sure that the person is within the\\n\\n7 confines of the Court.\\n\\n8 But -- but I would also say just mapping,\\n\\n9 again, this language or the way Fannie reads it onto the\\n\\n10 statute, Fannie admits that this grant of -- that this\\n\\n11 clause that says, \"court of competent jurisdiction\"\\n\\n12 State or Federal does not mean a grant of jurisdiction\\n\\n13 to every Federal court either.\\n\\n14 The Federal Court of Claims -- excuse me.\\n\\n15 The Court of Federal Claims does not have competent\\n\\n16 jurisdiction except if those jurisdictional requirements\\n\\n17 are otherwise satisfied.\\n\\n18 And Fannie has never explained how you can\\n\\n19 take the same language and map it out differently to\\n\\n20 reach different results depending upon which word it\\n\\n21 modifies and even different results when it modifies the\\n\\n22 same word.\\n\\n23 And the statutory evolution also confirms\\n\\n24 this. It unfolded in three critical steps.\\n\\n25 Step 1 was the original enactment. It was\\n\\nAlderson Reporting Company\\n\\n\\x0cOfficial - Subject to Final Review\\n11 1 before D\\'Oench. And Congress chose language that, per 2 Justice Breyer\\'s question, it was assured would not 3 grant jurisdiction. 4 Step 2 was 1954. So now D\\'Oench has been 5 decided. And what did Congress do? It did the opposite 6 of what happened in Red Cross. In Red Cross, remember, 7 there was a provision that didn\\'t match D\\'Oench, and 8 then Congress takes a left turn and says, we\\'re going to 9 match D\\'Oench. Here, Congress began with a provision 10 that matched what was later assessed in D\\'Oench and took 11 a right turn and added the words \"competent 12 jurisdiction,\" which this Court had previously, for 13 example, in Phoenix, defined to mean, quote, \"depends on 14 other provisions of law.\" 15 Step 3 was 1974. After the shift to private 16 entity was consummated, Congress further amended the 17 charter to provide litigants with a source of diversity 18 jurisdiction, because there was no source of Federal 19 jurisdiction after Fannie went private and then was no 20 longer an agency. If there was a source of jurisdiction 21 in this sue-or-be-sued clause, there would be no purpose 22 for diversity jurisdiction. So Congress changed 23 Fannie\\'s charter to say that it is a District of 24 Columbia corporation, quote, \"for purposes of 25 jurisdiction and venue.\"\\nAlderson Reporting Company\\n\\n\\x0cOfficial - Subject to Final Review\\n12 1 JUSTICE SOTOMAYOR: Well, that\\'s arguably to 2 keep all suits in D.C. as opposed to somewhere; else. 3 MR. ROSENKRANZ: No, Your Honor. \"For 4 purposes of venue\" doesn\\'t mean all suits are in D.C. It 5 could -- it means that D.C. is a permissible venue, but 6 look to the venue provisions to figure out where the 7 suit is appropriately brought. 8 This was a grant of diversity jurisdiction. 9 Every court that has ever evaluated this language has 10 concluded it\\'s a grant of diversity jurisdiction. 11 Fannie walks into Federal court consistently with the 12 only basis being diversity jurisdiction. So a dozen 13 times since this case was first briefed, and just last 14 Friday, Fannie is still arguing to Federal courts that 15 this is a grant of diversity jurisdiction. You don\\'t 16 need diversity jurisdiction if there is a sue-or-be-sued 17 clause that grants Federal jurisdiction. 18 CHIEF JUSTICE ROBERTS: Well, that\\'s just a 19 belt-and-suspenders point, it seems to me. They can 20 rely on diversity jurisdiction. It\\'s not a concession 21 that they don\\'t have general Federal jurisdiction. 22 MR. ROSENKRANZ: Well -- understood, Your 23 Honor, although compare it to what happened with Ginnie. 24 So -- so Ginnie Mae has Federal jurisdiction, and 25 Congress did not at the same time in 1974 -- now,\\nAlderson Reporting Company\\n\\n\\x0cOfficial - Subject to Final Review\\n1 it\\'s -- it\\'s the same charter. The sue-and-be-sued\\n\\n13\\n\\n2 clause is actually in the same language, not -- not --\\n\\n3 not same language in separate provisions. Ginnie and\\n\\n4 Fannie are treated together; one is private, one is\\n\\n5 public. Ginnie has Federal jurisdiction because it is a\\n\\n6 Federal agency. Congress in 1974 does not add the\\n\\n7 diversity provision to Ginnie\\'s charter, only to\\n\\n8 Fannie\\'s charter. And I do think --\\n\\n9 JUSTICE BREYER: Go ahead. Finish.\\n\\n10 MR. ROSENKRANZ: No. No. Please go ahead.\\n\\n11 JUSTICE BREYER: This is what\\'s really\\n\\n12 bothering me here, and I don\\'t know if you can help or\\n\\n13 not. After reading through the cases pretty quickly, I\\n\\n14 would think you\\'re right, if I were doing this afresh,\\n\\n15 and particularly when you have that page of legislative\\n\\n16 history. I mean, somebody wrote that colloquy and gave\\n\\n17 it to the senators, and they thought, we don\\'t want\\n\\n18 Fannie to have the right to go into Federal court all\\n\\n19 the time. We just want them to have the right when they\\n\\n20 otherwise would be in Federal court.\\n\\n21 But when I finished reading the cases, going\\n\\n22 back to Marshall in 1816, I say, oh, you know, there is\\n\\n23 something of a rule here. It may not make too much\\n\\n24 sense, but it\\'s even there in D\\'Oench, Duhme, and --\\n\\n25 because it\\'s -- actually, I do think it is more even\\n\\nAlderson Reporting Company\\n\\n\\x0cOfficial - Subject to Final Review\\n14 1 stronger for the other side than -- than this one. And 2 then I get Red Cross and the only thing I can do there 3 is add some old report that sort of seemed to support 4 the result, which is certainly weaker than your page of 5 legislative history here. 6 But I see now it\\'s jurisdiction. And we 7 shouldn\\'t get things too mixed up. They are hard 8 enough. And then that seems to say if you say State and 9 Federal, you -- you see where I\\'m going? 10 MR. ROSENKRANZ: Yes, Your Honor. 11 JUSTICE BREYER: So I don\\'t know whether to 12 look into it deeply in this particular case where you\\'re 13 going to end up with a result that seems to be different 14 than the other cases, or to say, well, forget it. It 15 was all decided. Keep to the precedent. Forget the 16 page of legislative history. It will be better for the 17 lawyers. And it will be better for the judges. It will 18 be simpler for them. 19 MR. ROSENKRANZ: Yes, Your Honor. 20 JUSTICE BREYER: And that\\'s the dilemma that 21 I\\'m in. 22 Anything anybody wants to say to help me 23 would be welcome. 24 MR. ROSENKRANZ: Sure, Your Honor. Let 25 me -- let me answer that quickly, because I know my\\nAlderson Reporting Company\\n\\n\\x0cOfficial - Subject to Final Review\\n1 white light is on.\\n\\n15\\n\\n2 And so, look, this is perfectly simple. You\\n\\n3 need the word \"Federal\" in order to even have a\\n\\n4 conversation about Federal jurisdiction. If all you\\'ve\\n\\n5 got is any court, State or Federal, that will be enough.\\n\\n6 But if Congress, after reading that opinion that you\\n\\n7 find so powerful, Justice Breyer, says, \"court of\\n\\n8 competent jurisdiction,\" there is no case out there that\\n\\n9 is -- that has held that those words, those precise\\n\\n10 words, \"court of competent jurisdiction,\" means anything\\n\\n11 other than what this Court has held it means.\\n\\n12 And in 1954, by the way, Congress was deeply\\n\\n13 concerned about one thing, which is, Fannie was going\\n\\n14 private. It was now going to be in the mortgage market.\\n\\n15 I did a search. There are 60,000 cases that Fannie is\\n\\n16 involved in, 60,000 cases of which 70 percent are in\\n\\n17 State court. If all of a sudden this Court says that\\n\\n18 there is Federal jurisdiction, all of those foreclosure\\n\\n19 cases are moving tomorrow to Federal court.\\n\\n20 Thank you, Your Honors.\\n\\n21 CHIEF JUSTICE ROBERTS: Thank you, counsel.\\n\\n22 Ms. O\\'Connell.\\n\\n23 ORAL ARGUMENT OF ANN O\\'CONNELL\\n\\n24 FOR UNITED STATES, AS AMICUS CURIAE,\\n\\n25 SUPPORTING THE PETITIONERS\\n\\nAlderson Reporting Company\\n\\n\\x0cOfficial - Subject to Final Review\\n16 1 MS. O\\'CONNELL: Mr. Chief Justice, and may 2 it please the Court: 3 The government\\'s view is that the rule of 4 Red Cross should not be extended to a statute that 5 authorizes a federally chartered corporation to sue or 6 be sued in a \"court of competent jurisdiction.\" 7 The best reading of that phrase in Fannie 8 Mae\\'s charter is that it authorizes the corporation to 9 sue and be sued in a Federal or State court that is 10 vested with jurisdiction through some other provision of 11 law. 12 We think there is a plausible story for why 13 Congress in 1954 wanted to eliminate the sue-and-be-sued 14 clause as a basis for Federal jurisdiction, but even if 15 you don\\'t find that explanation completely satisfying, 16 the text of the statute should control. 17 The point of the Red Cross rule was to tell 18 Congress, if you use this specific language, this entity 19 may sue or be sued in any court of law or equity, State 20 or Federal, this Court will take that to mean that 21 Congress is creating subject-matter jurisdiction in the 22 Federal courts. 23 In this case, the Court should give Congress 24 the further guidance that if it uses the -- the language 25 \"suit is authorized in a State or Federal \\'court of\\nAlderson Reporting Company\\n\\n\\x0cOfficial - Subject to Final Review\\n17 1 competent jurisdiction,\\'\" then that means that you have 2 to look to some other provision of law to see if that 3 court is vested with jurisdiction. 4 JUSTICE SOTOMAYOR: I\\'ve done -- or had -5 my clerk did a study, and there are, that she has been 6 able to identify, eight other statutes that use the 7 \"incompetent jurisdiction\" language. 8 Are -- are -- A, are you aware of the number 9 of other statutes that are identical to this? And, B, 10 are you troubled by the fact that some of those statutes 11 may not be a private corporation fully the way Fannie 12 Mae is? 13 MS. O\\'CONNELL: I -- I am aware of those 14 statutes. I have on my list seven that just have the 15 sue-and-be-sued clause, and then no other provision that 16 says, you know, for any purpose -- any suit involving 17 this entity. 18 JUSTICE SOTOMAYOR: We are off by one. 19 MS. O\\'CONNELL: Right. 20 JUSTICE SOTOMAYOR: But tell me what you 21 mean. 22 MS. O\\'CONNELL: So, no, I am not troubled by 23 this. In fact, I think this is the reason, two of 24 the -- of the entities are Federal agencies, the 25 Department of Housing and Urban Development and the\\nAlderson Reporting Company\\n\\n\\x0cOfficial - Subject to Final Review\\n1 Department of Veterans Affairs.\\n\\n18\\n\\n2 JUSTICE SOTOMAYOR: So a Federal question\\n\\n3 would be --\\n\\n4 MS. O\\'CONNELL: No, the Federal agencies\\n\\n5 have the power to bring a suit in Federal court. They\\n\\n6 also have the power to remove a case from Federal court.\\n\\n7 But if the Court interpret\\'s Fannie\\'s charter to mean\\n\\n8 that any case involving Fannie can be brought in a\\n\\n9 Federal court or can be removed to a Federal court, then\\n\\n10 all of those cases involving HUD, where HUD is a party\\n\\n11 or where the VA is a party, those cases can now be\\n\\n12 brought in Federal court against the agency, and they\\n\\n13 can also be removed to Federal court when the agency is\\n\\n14 a party.\\n\\n15 I\\'ll give you an example that HUD has given\\n\\n16 to me over time. HUD often likes to litigate these\\n\\n17 cases in State court. These are mortgage foreclosure\\n\\n18 cases. They are quintessential State court questions.\\n\\n19 There can be a case -- and this happens\\n\\n20 frequently -- where a lender will sue a borrower in\\n\\n21 State court. HUD may also be named as a defendant if\\n\\n22 HUD has an interest in the mortgage. HUD may want to\\n\\n23 leave that case in the State court where the State\\n\\n24 courts address questions about mortgage foreclosure all\\n\\n25 the time. They are all State law causes of action, just\\n\\nAlderson Reporting Company\\n\\n\\x0cOfficial - Subject to Final Review\\n1 as in this case.\\n\\n19\\n\\n2 If the Court were to say that the language\\n\\n3 which is also in HUD\\'s charter, that it can sue or be\\n\\n4 sued in any State or Federal court of competent\\n\\n5 jurisdiction means that there is Federal subject matter\\n\\n6 over that suit, then the private party can now remove\\n\\n7 the case to a Federal court, creating delay in the\\n\\n8 resolution of the case which is to the advantage of the\\n\\n9 borrower in a mortgage foreclosure suit.\\n\\n10 HUD interprets its own sue-and-be-sued\\n\\n11 clause to just be a waiver of sovereign immunity and not\\n\\n12 to -- to authorize Federal subject matter jurisdiction\\n\\n13 over any case involving HUD.\\n\\n14 JUSTICE SOTOMAYOR: So those are five\\n\\n15 statutes that don\\'t -- is not -- are -- don\\'t involve\\n\\n16 Federal agency, are similar to the HUD and Veterans, the\\n\\n17 two --\\n\\n18 MS. O\\'CONNELL: Yes. They are Federal\\n\\n19 corporations, federally chartered corporations.\\n\\n20 JUSTICE SOTOMAYOR: Have all of them read\\n\\n21 the statute in the same way you have?\\n\\n22 MS. O\\'CONNELL: I know that the Seventh\\n\\n23 Circuit has interpreted the V.A.\\'s sue-and-be-sued\\n\\n24 clause to only waive sovereign immunity and not to\\n\\n25 create Federal subject-matter jurisdiction. I think\\n\\nAlderson Reporting Company\\n\\n\\x0cOfficial - Subject to Final Review\\n20 1 there is a split in the district courts after Red Cross 2 about the Federal Home Loan Bank\\'s sue-and-be-sued 3 clause. 4 I don\\'t -- the -- we are definitely 5 advocating for the approach that -- in all of those, as 6 in Fannie Mae\\'s charter, that Federal subject-matter 7 jurisdiction is not created by the sue-and-be-sued 8 clause, that you have to -9 JUSTICE BREYER: I mean, the one that used 10 the word \"competent jurisdiction,\" \"having competent 11 jurisdiction,\" was Osborn. 12 MS. O\\'CONNELL: Right, but it -13 JUSTICE BREYER: What do you do about that? 14 MS. O\\'CONNELL: But in -- in Osborn, I think 15 Mr. Rosenkranz explained, the language in Osborn says, 16 \"all State courts having competent jurisdiction and any 17 circuit court of the United States.\" 18 So I think in that case what the Court said 19 was, Congress clearly wanted to confer jurisdiction on 20 all circuit courts of the United States. It didn\\'t use 21 the language \"court of competent jurisdiction\" when it 22 referred to the Federal courts. It used that language 23 only with respect to the State courts. 24 D\\'Oench, Duhme did not use the language 25 \"court of competent jurisdiction,\" Justice Breyer.\\nAlderson Reporting Company\\n\\n\\x0cOfficial - Subject to Final Review\\n21 1 It\\'s -- the sue-and-be-sued clause at issue in that case 2 was the same as the one in Red Cross, and as 3 Mr. Rosenkranz explained, here, Fannie Mae\\'s charter 4 used to have a sue-and-be-sued clause that looked 5 exactly the same as the FDIC\\'s, which the Court said in 6 D\\'Oench Duhme conferred Federal jurisdiction, and in 7 1954, Congress changed it to mean something different. 8 One of the main rationales of the court of 9 appeals in this case was that the -- the work that 10 \"court of competent jurisdiction\" is doing is that it\\'s 11 telling you that you can\\'t file suit in a specialized 12 court, like a State traffic court or a Federal 13 bankruptcy court. Well, the reason why the phrase 14 \"court of competent jurisdiction\" would tell you to do 15 that is because you\\'ve got to look at the statutes 16 authorizing those other specialized courts to see if the 17 suit that\\'s being brought can be brought in that 18 particular court. We are just asking for the same 19 analysis to be done with Federal district courts. 20 JUSTICE SOTOMAYOR: What happens to all the 21 judgments that have been entered, reading this the way 22 the Ninth Circuit did, all the past cases, in that split 23 jurisdiction with district courts going other ways? 24 What happens to those old judgments where there wasn\\'t 25 Federal subject-matter jurisdiction?\\nAlderson Reporting Company\\n\\n\\x0cOfficial - Subject to Final Review\\n22 1 MS. O\\'CONNELL: I would think that if -2 JUSTICE SOTOMAYOR: If we read things the 3 way you want us to read them. 4 MS. O\\'CONNELL: I would think if those cases 5 are already finished that res judicata would -- you 6 know, their -- those cases would still stand on their 7 own. But I think going forward, if the Court were to 8 say there is no subject-matter jurisdiction, those cases 9 could no longer be -- be brought in Federal court or 10 removed to Federal court. 11 JUSTICE SOTOMAYOR: How could you have 12 res judicata if you never had subject-matter 13 jurisdiction? 14 MS. O\\'CONNELL: So -- so you\\'re talking 15 about a case where -16 JUSTICE GINSBURG: You can bring up 17 subject-matter jurisdiction straight up the ladder, but 18 you can\\'t when you -19 MS. O\\'CONNELL: Once the case is -20 JUSTICE GINSBURG: -- haven\\'t brought it up 21 to final judgment and you\\'re trying to use it 22 collaterally. 23 MS. O\\'CONNELL: I -- correct. If -- if 24 these cases are -- I mean, if -- if these cases are 25 still going on, then, yes, you could bring up\\nAlderson Reporting Company\\n\\n\\x0cOfficial - Subject to Final Review\\n23 1 subject-matter jurisdiction, I believe. If the cases 2 are over there is no way that I know of to reopen the 3 case and bring that up. 4 JUSTICE GINSBURG: I forgot the name of the 5 ancient case that -- that said even subject matter, as 6 wholly as it is, when you\\'ve gone -- when you have a 7 final judgment you\\'ve got -- done everything on direct 8 review, then you can\\'t collaterally review. 9 MS. O\\'CONNELL: Correct. Thank you, Justice 10 Ginsburg. 11 (Laughter.) 12 MS. O\\'CONNELL: The -- the words \"court of 13 competent jurisdiction\" in the statute tell you to look 14 at the statutes authorizing that court to see if you 15 could bring a claim there. And we are just asking for 16 the same rule in the Federal district courts. 17 JUSTICE BREYER: I mean, I guess language 18 that hurts you is \"any court of law, equity, State, or 19 Federal.\" I mean, that\\'s the D\\'Oench, Duhme one, and 20 they say that puts you in Federal court. And you -- you 21 want to say, we found eight statutes, and they say 22 \"competent jurisdiction,\" and we\\'d love them to be in 23 State court; we want them to be in State court. 24 Have you found any that say just something 25 like \"in any court of law, in equity, State, or\\nAlderson Reporting Company\\n\\n\\x0cOfficial - Subject to Final Review\\n1 Federal,\" and you want them to be in Federal court?\\n\\n24\\n\\n2 MS. O\\'CONNELL: Well, those -- those can be\\n\\n3 in Federal court, per the Court\\'s decisions in D\\'Oench,\\n\\n4 Duhme and in Red Cross. If that\\'s the way --\\n\\n5 JUSTICE BREYER: But what we have to say is,\\n\\n6 once you added these words \"in any competent\\n\\n7 jurisdiction,\" what they did, those words took the case\\n\\n8 out of Federal court unless it\\'s some other basis for\\n\\n9 getting there and require you to go to State court, and\\n\\n10 to subtract words -- God, it\\'s -- I mean, as a matter of\\n\\n11 the English language, it just seems a little tough.\\n\\n12 MS. O\\'CONNELL: No, no. I think as a matter\\n\\n13 of an English language that\\'s our strongest point.\\n\\n14 JUSTICE BREYER: It is.\\n\\n15 MS. O\\'CONNELL: That natural reading of that\\n\\n16 phrase, a \"court of competent jurisdiction\" means that\\n\\n17 you have to look somewhere else to determine if the\\n\\n18 court is a competent jurisdiction -- is a \"court of\\n\\n19 competent jurisdiction.\"\\n\\n20 The Court has observed that about various\\n\\n21 statutes --\\n\\n22 JUSTICE BREYER: I see. I see.\\n\\n23 MS. O\\'CONNELL: -- and -- and we are just\\n\\n24 asking for the same rule to be applied to the Federal\\n\\n25 district courts.\\n\\nAlderson Reporting Company\\n\\n\\x0cOfficial - Subject to Final Review\\n25 1 The Respondents refer to the Federal 2 district courts as courts of general jurisdiction, but 3 just like a Federal bankruptcy court, the Federal 4 district courts are courts of limited jurisdiction. You 5 cannot typically bring a pure State law claim in a 6 Federal district court unless there is complete 7 diversity of citizenship and the requisite amount in 8 controversy. 9 So that language, \"court of competent 10 jurisdiction,\" should just tell you, look at the 11 statutes authorizing the Federal court and check whether 12 this suit is authorized to be brought there. 13 There\\'s a few other textual points that I 14 think reinforce the point we are trying to make. One is 15 that Section 1349 should be an important point of 16 reference. Congress established a general rule that 17 having a government charter is not enough to confer 18 Federal subject-matter jurisdiction unless the United 19 States owns 50 percent of the corporation\\'s stock, and 20 when you have a privately owned corporation like Fannie 21 Mae, you should be looking for a pretty clear indication 22 from Congress that they wanted to confer subject-matter 23 jurisdiction. 24 CHIEF JUSTICE ROBERTS: Thank you, counsel. 25 MS. O\\'CONNELL: Thank you.\\nAlderson Reporting Company\\n\\n\\x0cOfficial - Subject to Final Review\\n26 1 CHIEF JUSTICE ROBERTS: Mr. Brooks. 2 ORAL ARGUMENT OF BRIAN P. BROOKS 3 ON BEHALF OF THE RESPONDENTS 4 MR. BROOKS: Thank you, Mr. Chief Justice, 5 and may it please the Court: 6 The Red Cross decision reaffirmed a strong 7 and long-standing rule going back through D\\'Oench, 8 Duhme, all the way to Osborn, which sets a baseline for 9 Congress to follow when it chooses to pursue Federal 10 policy through the corporate form. 11 Now, when Congress expressly provides that a 12 federally chartered corporation like Fannie Mae may sue 13 and be sued in Federal court, that confers jurisdiction 14 under D\\'Oench, Duhme, Red Cross, Osborn, and -- and 15 their prodigy. 16 Congress can obviously displace that rule if 17 it wants to. There are a lot of ways Congress can do 18 that. One way would be to eliminate the word \"Federal,\" 19 as Congress did in 1954 in the very same statute that 20 rechartered Fannie Mae for another agency. But adding 21 the words \"competent jurisdiction\" is pretty weak tea as 22 a solution for abolishing jurisdiction that otherwise 23 existed, particularly given the history of what was 24 going on. 25 JUSTICE GINSBURG: Why is competent\\nAlderson Reporting Company\\n\\n\\x0cOfficial - Subject to Final Review\\n27 1 jurisdiction -- you -- you have a court. Does it have 2 competent jurisdiction? Is there basis for 3 subject-matter jurisdiction or personal jurisdiction? 4 That\\'s what competent jurisdiction means. 5 MR. BROOKS: Right. So -- so, Your Honor, 6 what competent jurisdiction means here has to be 7 understood in light of the whole phrase. And 8 Petitioners\\' case, as you just heard it presented, is 9 all about the idea that the only phrase is \"competent 10 jurisdiction.\" That is not the whole phrase. 11 The whole phrase is, \"competent 12 jurisdiction, State or Federal.\" That entire phrase had 13 been interpreted three times in three different 14 appellate decisions in the 1940s for a sister housing 15 agency in the same statute, and that is the language 16 that Congress adopted for Fannie Mae in 1954. Each of 17 those appellate decisions at that time, every one of 18 them, held that the full phrase \"court of competent 19 jurisdiction, State or Federal,\" conferred jurisdiction. 20 I\\'m talking about the Ferguson case, the George H. Evans 21 case, and the Seven Oaks case. 22 Congress in 1954 would have had no idea that 23 the language it was borrowing from another agency in the 24 same statute that had been repeatedly interpreted would 25 restrict Fannie Mae\\'s access to Federal court, and that\\nAlderson Reporting Company\\n\\n\\x0cOfficial - Subject to Final Review\\n1 history shows the distinction.\\n\\n28\\n\\n2 JUSTICE SOTOMAYOR: But why didn\\'t they do\\n\\n3 the same thing in Ginnie Mae?\\n\\n4 MR. BROOKS: Well, Ginnie --\\n\\n5 JUSTICE SOTOMAYOR: They chose very\\n\\n6 different language, so doesn\\'t that show a conscious\\n\\n7 act.\\n\\n8 MR. BROOKS: Well, Justice Sotomayor, let me\\n\\n9 make sure I understand the question, because Ginnie Mae\\n\\n10 historically has had the identical language to Fannie\\n\\n11 Mae. Now, FSLIC, the Federal Savings and Loan Insurance\\n\\n12 Corporation, they changed their language in the \\'54\\n\\n13 statute to remove the word \"Federal.\" We think the\\n\\n14 reason for that was that FSLIC, as understood at that\\n\\n15 time, was truly a Federal agency.\\n\\n16 Fannie Mae, by contrast, as counsel says,\\n\\n17 was transitioning into a new structure, right? There\\n\\n18 would eventually be private ownership. And the idea\\n\\n19 here, if anything, shows we think the opposite of what\\n\\n20 the Petitioners mean here. They wanted to adopt the FHA\\n\\n21 language, the language that had been interpreted in the\\n\\n22 \\'40s, and, again, at the time of the \\'54 Act there had\\n\\n23 been no case which had held that language didn\\'t confer\\n\\n24 jurisdiction.\\n\\n25 Now, counsel mentioned five cases of this\\n\\nAlderson Reporting Company\\n\\n\\x0cOfficial - Subject to Final Review\\n1 Court that have interpreted the phrase \"competent\\n\\n29\\n\\n2 jurisdiction.\" What this Court needs to understand\\n\\n3 about those cases is the number of those five cases that\\n\\n4 interpreted \"competent jurisdiction\" together with the\\n\\n5 phrase \"State or Federal\" is zero. No case, not\\n\\n6 Shoshone, not Phoenix, not Califano v. Sanders, looked\\n\\n7 at the two phrases together.\\n\\n8 And when counsel argues that the phrase\\n\\n9 \"competent jurisdiction\" needs a separate source of\\n\\n10 jurisdiction, they are right. The separate source of\\n\\n11 jurisdiction is the phrase \"State or Federal\" if the\\n\\n12 Court\\'s rule in Red Cross means anything.\\n\\n13 JUSTICE GINSBURG: Well, your -- your\\n\\n14 position then is competent jurisdiction -- as long as\\n\\n15 you have the word \"Federal\" -- \"State\" or \"Federal,\"\\n\\n16 you\\'re home free. So it doesn\\'t -- the words \"of\\n\\n17 competent jurisdiction\" doesn\\'t mean anything. They\\n\\n18 don\\'t -- it\\'s the use of the word \"Federal\" that gets\\n\\n19 you into Federal court. And \"of competent\\n\\n20 jurisdiction,\" they just tagged along those words, and\\n\\n21 they don\\'t mean anything.\\n\\n22 MR. BROOKS: Well, actually, Your Honor, in\\n\\n23 the context of the late New Deal era, the words\\n\\n24 \"competent jurisdiction\" meant a lot. They just don\\'t\\n\\n25 mean what the Petitioners say they mean. Right?\\n\\nAlderson Reporting Company\\n\\n\\x0cOfficial - Subject to Final Review\\n30 1 So the three things we think competent 2 jurisdiction was doing in the contemporary history of 3 the New Deal of the \\'40s and early \\'50s was -- these was 4 these three things. 5 So the first thing was, there was a very 6 vigorous debate in the appeals courts about the nature 7 of these new New Deal entities in terms of whether they 8 were limited by the Tucker Act and could only be heard 9 in the court of claims, or whether they could be heard 10 generally in the district courts. This was the precise 11 question presented in Ferguson, a case, I might add, 12 that the Solicitor General has previously interpreted in 13 briefing to this Court as conferring jurisdiction under 14 these exact same words. That was the SG\\'s briefing in 15 the Portsmouth case. Okay? 16 But what \"competent jurisdiction\" in this 17 context was held to mean at that time was the direction 18 that general jurisdiction courts, and not only 19 specialized jurisdiction courts, could hear the case. 20 The way the Fourth Circuit put it in Ferguson at the 21 time was that it would be puzzling if this exact phrase, 22 later barred for Fannie Mae, could be heard in any State 23 court, but in Federal court, only in the Court of 24 Claims. And that issue was resolved. 25 The second thing --\\nAlderson Reporting Company\\n\\n\\x0cOfficial - Subject to Final Review\\n31 1 JUSTICE GINSBURG: Well, the court said 2 \"general jurisdiction,\" right? 3 MR. BROOKS: They -- they certainly did. 4 JUSTICE GINSBURG: \"General jurisdiction,\" 5 instead of saying \"of competent jurisdiction\" when 6 \"competent\" generally means -- is this -- the -- the 7 sue-and-be-sued clause gives the corporation capacity to 8 sue and be sued, but competent jurisdiction is addressed 9 to the Court. 10 Does this Court have authority to proceed in 11 this category of cases? 12 MR. BROOKS: Yes, Your Honor. So the way we 13 think all these things work together is, first of all, 14 as I say, the entire phrase, \"court of competent 15 jurisdiction,\" State or Federal, had been unanimously 16 held to confer subject-matter jurisdiction. Right? 17 Those are the cases we talked about, and there were no 18 cases to the contrary at the time. 19 And the understanding of what \"competent 20 jurisdiction\" was adding was twofold. First of all, 21 from Congress\\'s perspective at the time, I think it\\'s 22 fair to say they weren\\'t thinking about much, because 23 the 1954 Act was a 150-page comprehensive reform of 24 Federal housing policy having very little to do with 25 jurisdiction.\\nAlderson Reporting Company\\n\\n\\x0cOfficial - Subject to Final Review\\n32 1 And we think what happened is they simply 2 borrowed a phrase that had been unanimously held to 3 confer jurisdiction, and they put it in for Fannie Mae. 4 There was no other reason to think they meant anything 5 different from that. 6 But we also know that less than two years 7 before the 1954 charter for Fannie Mae was adopted, this 8 Court looked at the phrase \"competent jurisdiction\" on a 9 standalone basis and said that all it referred to at 10 that time in that context was personal jurisdiction. 11 That doesn\\'t mean that\\'s what \"competent 12 jurisdiction\" means always. But what we think it means 13 is when coupled with the words \"State\" or \"Federal,\" it 14 means personal jurisdiction courts of general 15 jurisdiction. 16 Now, Justice Sotomayor earlier asked the 17 question about how many statutes had sue-and-be-sued 18 clauses like ours. We have the same count, Your Honor, 19 that your clerk has. We have nine total, including 20 Fannie Mae. 21 JUSTICE SOTOMAYOR: We now have three 22 versions, but that\\'s okay. 23 (Laughter.) 24 MR. BROOKS: I\\'m going to go with nine. 25 (Laughter.)\\nAlderson Reporting Company\\n\\n\\x0cOfficial - Subject to Final Review\\n33 1 MR. BROOKS: But here\\'s what else we know. 2 The number of statutes that have the phrase \"competent 3 jurisdiction\" alone, based on some Lexis research very 4 early this morning, is 781. So if the phrase \"competent 5 jurisdiction\" together with \"State\" or \"Federal\" exists 6 only nine times, but \"competent jurisdiction\" as a 7 generic matter occurs 781 times, that\\'s the rule that we 8 urge on this Court today. 9 The rule is, when combined with the grant of 10 jurisdiction embodied in the word \"Federal\" under Red 11 Cross, you have the personal jurisdiction and general 12 jurisdiction holdings of other cases. You have the 13 grant of subject-matter jurisdiction per Red Cross and 14 its progenitors, and that becomes the jurisdictional 15 rule that is very clean. 16 Now -17 CHIEF JUSTICE ROBERTS: If -- I\\'m sorry. 18 MR. BROOKS: So Your Honor, I was going 19 to -- go ahead. 20 CHIEF JUSTICE ROBERTS: Your friend on the 21 other side scares me when he says there are 60,000 cases 22 that are going to be added to the Federal docket. 23 Do you have an answer to that? 24 MR. BROOKS: I have many answers to that, 25 Your Honor, but the easiest answer is this.\\nAlderson Reporting Company\\n\\n\\x0cOfficial - Subject to Final Review\\n1 The easiest answer is no --\\n\\n34\\n\\n2 JUSTICE KENNEDY: Don\\'t tell us we\\'re not\\n\\n3 working hard enough.\\n\\n4 (Laughter.)\\n\\n5 MR. BROOKS: I do recall, Justice Kennedy,\\n\\n6 that once upon a time, the Court took 150 cases a year.\\n\\n7 Maybe foreclosures could be among them.\\n\\n8 JUSTICE KENNEDY: They were easier cases.\\n\\n9 MR. BROOKS: Perhaps I should sit down.\\n\\n10 (Laughter.)\\n\\n11 MR. BROOKS: Your Honor, the easiest answer\\n\\n12 to that is that it\\'s undisputed in this case that\\n\\n13 Freddie Mac -- whatever one thinks of the Fannie Mae\\n\\n14 charter, Freddie Mac has clear, undisputed\\n\\n15 belt-and-suspenders jurisdiction. Freddie Mac has\\n\\n16 almost as many foreclosures as Fannie Mae has. There\\n\\n17 has been no race to the Federal courthouse.\\n\\n18 JUSTICE GINSBURG: But there is a specific\\n\\n19 statute that makes that crystal clear. And if we -- if\\n\\n20 Congress wanted Fannie Mae, which it was going private,\\n\\n21 to be treated the same way as Freddie Mac, then why\\n\\n22 didn\\'t it say the same thing for Fannie Mae as it\\n\\n23 said --\\n\\n24 MR. BROOKS: Well, so, Your Honor, we know a\\n\\n25 couple of things that Congress thought about Freddie\\n\\nAlderson Reporting Company\\n\\n\\x0cOfficial - Subject to Final Review\\n35 1 Mac. But just let me make sure I\\'ve closed off on the 2 Chief Justice\\'s question, which is the fact that there\\'s 3 no race to the Federal courthouse on foreclosures for 4 Freddie Mac tells you what you need to know about Fannie 5 Mae, its sister organization. 6 Now, Justice Ginsburg, the issue about 7 Freddie Mac is severalfold. So the first thing we know 8 is when Freddy was created in 1970, the legislative 9 history in both the House Report and the Senate Report 10 make crystal clear that Congress\\'s intention was to 11 create an entity that had identical powers that would 12 develop in parallel and that would have no advantage 13 over Fannie Mae. We know that was their intention in 14 drafting it. 15 Now, the words were unquestionably 16 different, just as the words in the Red Cross charter 17 were different from the words in the Second Bank of the 18 United States charter, and yet the outcome was the same. 19 The reason the words were different at the 20 time is because Congress had the luxury, in 1970, of 21 writing in a blank slate. So Congress sat down, without 22 60 years of history, without the need to extricate a 23 legacy agency from Ginnie Mae with a privatization 24 scheme over six different amendments, and to simply sit 25 down and say, this is what we think the GSE should look\\nAlderson Reporting Company\\n\\n\\x0c1 like.\\n\\nOfficial - Subject to Final Review\\n\\n36\\n\\n2 JUSTICE BREYER: I just want you to -- to\\n\\n3 talk at some point -- I mean, there is a page of\\n\\n4 legislative history, which could not be more clear. It\\n\\n5 says exactly what the government says. It says -- they\\n\\n6 are -- they are asked, does it -- if we did this, aren\\'t\\n\\n7 we giving these corporations -- I mean, Fannie -- the\\n\\n8 right to go into a Federal court, although the matter\\n\\n9 may be purely a State matter? That\\'s not what we\\n\\n10 intended. All we intended -- then they say, well, you\\n\\n11 know, they have to look to see whether it\\'s really a\\n\\n12 State case or whether it\\'s really a Federal case.\\n\\n13 I mean -- and the words \"competent\\n\\n14 jurisdiction\" do -- she says do that. That is their\\n\\n15 natural meaning. I hadn\\'t quite taken that in, but --\\n\\n16 but it is -- it is their natural meaning that, what\\'s\\n\\n17 the point of having these here if the statute without\\n\\n18 them would grant jurisdiction to go into Federal court\\n\\n19 if you want?\\n\\n20 MR. BROOKS: Well, Justice Breyer, on the --\\n\\n21 JUSTICE BREYER: Let me give you that --\\n\\n22 what do I do? Maybe you could just say you shouldn\\'t\\n\\n23 look at legislative history. I\\'m not prepared to say\\n\\n24 that. What -- what should I do?\\n\\n25 MR. BROOKS: Justice Breyer, two -- two\\n\\nAlderson Reporting Company\\n\\n\\x0c1 points.\\n\\nOfficial - Subject to Final Review\\n\\n37\\n\\n2 So first of all, on the -- on the natural\\n\\n3 reading, I would just urge that the natural reading of\\n\\n4 \"competent jurisdiction\" standing alone is different\\n\\n5 from the natural reading of \"competent jurisdiction\"\\n\\n6 State or Federal. And there is no case, I emphasize,\\n\\n7 that holds those words together, don\\'t confer\\n\\n8 jurisdiction.\\n\\n9 But now, on the question about what was --\\n\\n10 you know, how to understand the colloquy in 1934, there\\n\\n11 is one respect in which that colloquy could be clearer.\\n\\n12 And that respect is if the colloquy related to the\\n\\n13 statute that created Fannie Mae. That would make it\\n\\n14 clearer.\\n\\n15 But as it turns out, the 1934 statute that\\n\\n16 counsel cites in the briefing was not the statute that\\n\\n17 created Fannie Mae, and so it\\'s not that much more\\n\\n18 probative than if it had been the legislative history of\\n\\n19 an utterly unrelated statute. Okay?\\n\\n20 In 1934, in the Housing Act, Congress\\n\\n21 authorized the creation of entirely different private\\n\\n22 mortgage associations which never came into being. The\\n\\n23 sort of hope in the middle of the Depression in 1934 was\\n\\n24 that private capital would come into the market pursuant\\n\\n25 to that statute in places, if you read the rest of the\\n\\nAlderson Reporting Company\\n\\n\\x0cOfficial - Subject to Final Review\\n38 1 legislative history, in places like Houston, Texas, and 2 Chicago, and New York, and would start creating 3 liquidity to solve the problem. 4 So in 1938, a new statute was passed. That 5 was the same year, I might add, that Senator Bulkley, 6 the Senator whose legislative history is quoted, lost 7 his re-election campaign. 8 JUSTICE BREYER: For this reason. 9 (Laughter.) 10 MR. BROOKS: We -- we -- we can only assume, 11 or perhaps hope. 12 But in any case, 1938 was a different 13 statute. The congressional charter for Fannie Mae, that 14 wasn\\'t even created in 1938. The congressional charter 15 for Fannie Mae that\\'s being reviewed today was created 16 in 1948, one year after the Red Cross charter was 17 adopted, and six years after D\\'Oench, Duhme. And the 18 language adopted in 1948 was the D\\'Oench, Duhme 19 language. 20 So somebody has to prevail, either the 21 Supreme Court unanimously in D\\'Oench, Duhme, or the 22 failed Senator Bulkley. We -- we think the answer is 23 most likely this Court in D\\'Oench, Duhme followed in Red 24 Cross. 25 CHIEF JUSTICE ROBERTS: The -- the Federal\\nAlderson Reporting Company\\n\\n\\x0cOfficial - Subject to Final Review\\n39 1 courts -- may be stepping back a bit. There are courts 2 of limited jurisdiction. And to get into them you have 3 to carry, I think, a significant burden to establish 4 their right to be there. 5 Now, I think you have to do more than win 6 51/49, given a presumption against Federal jurisdiction. 7 Do you think -- I suspect you think you do win by more 8 than 51/49, but that seems to me that is a consideration 9 that we need to take into account. 10 MR. BROOKS: So, Chief -- Mr. Chief Justice, 11 there\\'s no question that the courts are limited 12 jurisdiction courts, and we should look at 13 subject-matter jurisdiction with a careful eye. 14 Having said that, this fundamentally is a 15 case about statutory construction. It\\'s about what did 16 Congress mean to do in 1954. That\\'s really all it\\'s 17 about. I don\\'t think there\\'s a serious question but 18 that under Article III -19 JUSTICE GINSBURG: But there\\'s so many ways 20 that you could -- if you want to make sure that this 21 entity gets into Federal court all the time, what 22 Congress did with Freddie Mac is said, Freddie Mac will 23 be deemed to be a Federal agency for jurisdictional and 24 removal purposes. 25 Now, that is very clear. It means it can\\nAlderson Reporting Company\\n\\n\\x0cOfficial - Subject to Final Review\\n40 1 come into Federal court to sue. It means it can remove 2 if it\\'s sued in State court. 3 This, compared to \"court of competent 4 jurisdiction\" -- which, as I go back to competent 5 jurisdiction, competence refers to the ability of the 6 Court, which consists of two things: subject matter and 7 personal. 8 MR. BROOKS: So, Your Honor, let me begin 9 where you ended, if I might, and just say that this 10 Court has repeatedly held that the word -- the phrase 11 \"competent jurisdiction\" again, standing alone, okay, 12 has multiple different meanings depending on context. 13 In the United States v. Morton in 1984, this 14 Court held that it sometimes refers to subject-matter 15 jurisdiction and sometimes refers to personal 16 jurisdiction citing cases. 17 In the earlier case law of Blackmar v. 18 Guerre, which was the case decided just two years before 19 our statute was decided, it said that in that context, 20 the phrase only referred to personal jurisdiction. 21 So I think the only way to harmonize all of 22 these cases is to say that where competent jurisdiction 23 is included in a phrase that has the Red Cross 24 language/Osborn/D\\'Oench, Duhme, it means all of the 25 other things that \"competent jurisdiction\" normally\\nAlderson Reporting Company\\n\\n\\x0cOfficial - Subject to Final Review\\n1 means: personal jurisdiction, courts of general\\n\\n41\\n\\n2 jurisdiction, et cetera. And that\\'s what the case law\\n\\n3 holds.\\n\\n4 But the most --\\n\\n5 JUSTICE GINSBURG: That\\'s because this\\n\\n6 Court\\'s competence is general competence, which is\\n\\n7 subject matter, and it\\'s specific competence, which is\\n\\n8 personal.\\n\\n9 MR. BROOKS: Correct. That\\'s exactly right.\\n\\n10 And, again, because this is a case about Congress\\'\\n\\n11 intention in adopting a statute, what is critical to\\n\\n12 understand is when Congress borrowed this language that\\n\\n13 had pre-existed for the Federal Housing Administration\\n\\n14 for 20 years and grafted it onto Fannie Mae in its\\n\\n15 verbatim entirety, every case that had interpreted that\\n\\n16 language had held it was sufficient to confer\\n\\n17 subject-matter jurisdiction so strongly that in the\\n\\n18 Seven Oaks case in 1948 in the Fourth Circuit just six\\n\\n19 years before our statute, the Fourth Circuit said that\\n\\n20 those words were no more restrictive than the phrase \"in\\n\\n21 any United States District Court.\" That\\'s the tapestry\\n\\n22 on which Congress was weaving at the time.\\n\\n23 Now, let me address, if I might just\\n\\n24 briefly, the policy issue. We talked about the text and\\n\\n25 the history. But counsel spent a few moments talking\\n\\nAlderson Reporting Company\\n\\n\\x0cOfficial - Subject to Final Review\\n1 about this privatization concept and how it would be\\n\\n42\\n\\n2 that what must have happened in the \\'50s was Congress\\n\\n3 was going to treat Fannie Mae like any other private\\n\\n4 company and deprive it of special access to the Federal\\n\\n5 courts.\\n\\n6 The presumption behind that argument is\\n\\n7 that, naturally, Congress would never want a privately\\n\\n8 owned company to have special access, except we know\\n\\n9 from the Second Bank of the United States in Osborn that\\n\\n10 there are times when a privately owned company is\\n\\n11 sufficiently important, it can have special access. The\\n\\n12 Second Bank was 80 percent owned by private\\n\\n13 shareholders.\\n\\n14 Fast-forward two centuries to 1970, we know\\n\\n15 that Freddie Mac was created entirely privately owned at\\n\\n16 its inception with clear and undisputed access to the\\n\\n17 Federal courts, admittedly with different language, of\\n\\n18 course, because it was writing in a different era and\\n\\n19 writing on a different slate without all the baggage\\n\\n20 that Fannie Mae had gone through. But there\\'s no\\n\\n21 question that privately owned instrumentalities when\\n\\n22 pursuing a federally important purpose like housing can\\n\\n23 qualify under these circumstances.\\n\\n24 But the other problem with their theory if\\n\\n25 it fails as a theoretical matter is that it also fails\\n\\nAlderson Reporting Company\\n\\n\\x0cOfficial - Subject to Final Review\\n43 1 in its mechanism. The truth is this: Congress did not 2 privatize Fannie Mae in 1954. On the contrary, even 3 when Fannie Mae became privately owned, under the 1954 4 Act, it remained a Federal government agency and it 5 still had special access to the Federal courts under 6 1345. 7 So if there had been a conscious legislative 8 judgment to take Fannie out of the Federal courts at 9 that time, they surely would have had to do the work of 10 taking away its agency status. 11 JUSTICE GINSBURG: It shouldn\\'t matter to 12 the Federal court. They can be there if there is 13 diversity or if the claim arises under Federal law. 14 MR. BROOKS: That\\'s true, Your Honor. That 15 exact issue, however, I might point out, was raised 16 specifically in Red Cross. It was a point of discussion 17 in the Red Cross oral argument before this Court that 18 Red Cross had repeatedly moved on diversity grounds. 19 And that issue was pointed out in the opinion as not 20 being particularly relevant. Lots of companies remove 21 on lots of grounds all the time. 22 And by the way -23 JUSTICE GINSBURG: But Red Cross didn\\'t have 24 the competence language. It was just any court, State 25 or Federal.\\nAlderson Reporting Company\\n\\n\\x0cOfficial - Subject to Final Review\\n44 1 MR. BROOKS: That\\'s true. But the point I 2 was making is that the fact of diversity jurisdiction 3 didn\\'t have some negative implication for other sources, 4 and, indeed, the Freddie Mac charter is very powerful 5 evidence that that shouldn\\'t matter. 6 Freddie Mac -- talk about belt and 7 suspenders -- has a charter which says, sue and be sued 8 in State or Federal court. It also says, Freddie -9 Freddie doesn\\'t say competent jurisdiction. 10 But what else Freddie says is Freddie says 11 that Freddie shall be deemed an agency for 1345 12 purposes. It separately says Freddie shall have 13 statutory authorization to remove, notwithstanding the 14 limitations of 1442. So Freddie has four distinct 15 grounds for getting to Federal court. 16 JUSTICE SOTOMAYOR: So why didn\\'t they do 17 that for Fannie Mae? 18 MR. BROOKS: Because we -- I mean, it\\'s hard 19 to know the subjective intentions, Justice Sotomayor, of 20 the Framers of our charter. But the original charter 21 language was written in the \\'30s and \\'40s. It was 22 written at a time when we were connected with multiple 23 other agencies. We were part of the Department of 24 Housing and Urban Development. We comprised what became 25 Ginnie Mae. And our language was an attempt to do\\nAlderson Reporting Company\\n\\n\\x0cOfficial - Subject to Final Review\\n45 1 essentially removal surgery, to separate us from this 2 big accretion of language over decades. 3 Freddie Mac didn\\'t have that problem. So 4 Freddie Mac is what one would do if you were starting 5 from scratch. 6 I will say, I am reminded of Justice Kagan\\'s 7 colloquy in the last argument, though, about what would 8 happen to a Hill staffer looking at the 1954 statute. 9 And I\\'m trying to imagine what would happen to the poor 10 Hill staffer if he came and he said, well, listen. 11 We -- we\\'d like to change Fannie Mae\\'s language. We 12 want to add this competent jurisdiction language. 13 Now, that\\'s only been looked at three times 14 before, and all of those cases said that confers 15 jurisdiction. But we think that was just dicta or 16 perhaps wrong, and so we would go ahead and use it as a 17 way of removing jurisdiction. 18 That doesn\\'t sound plausible any more in 19 this case than it did in the prior case to me, given 20 what the case law backdrop was of the time. 21 Now, if I might, I\\'d like to say one point 22 about the Freddie Mac issue, because, obviously, you 23 know, we are sister companies. Obviously, Freddie Mac 24 has different language. The question is, is this a good 25 thing for our side? Is it a bad thing for our side?\\nAlderson Reporting Company\\n\\n\\x0cOfficial - Subject to Final Review\\n46 1 Our view basically is Congress said what it 2 meant in the 1970 reports, House and Senate. It said 3 that companies were supposed to be parallel. They were 4 supposed to have no advantages over each other and have 5 all the same powers. 6 The question for this Court is: Why would 7 Congress -- although it used a different language across 8 multiple powers -- why would it have wanted Freddie Mac 9 to have the same mortgage acquisition powers, the same 10 securitization powers, the same tax exemptions and SEC 11 exceptions, the same access to treasury lines of credit, 12 but have different Federal court litigating powers? 13 There\\'s no answer to that. 14 And all we know is that in terms of the 15 Federal interest in access to the Federal courts, what 16 we know is that Fannie is the same as Freddie Mac, only 17 much, much bigger. So it doesn\\'t make a lot of sense to 18 imagine that a $3 trillion dollar company, the largest 19 company in the United States by assets, creating housing 20 across the country just like Freddie Mac would have been 21 intended not to be protected by Federal court 22 jurisdiction. 23 JUSTICE BREYER: Did you look it up? I 24 mean, is there -- did you try to find out where this 25 language really came from? I mean, somebody wrote it.\\nAlderson Reporting Company\\n\\n\\x0cOfficial - Subject to Final Review\\n47 1 It didn\\'t just have computers write it. I mean, there 2 is a human being who wrote it. 3 MR. BROOKS: Yeah. 4 JUSTICE BREYER: But who? Where did he come 5 from? Who did he work for? Does anybody know? 6 CHIEF JUSTICE ROBERTS: He was fired. 7 JUSTICE BREYER: He was fired. 8 MR. BROOKS: It\\'s possible it was a former 9 staffer for Senator Buckley, although I certainly hope 10 not. 11 Your Honor, the -- here is what we know. We 12 know the language pre-existed. We know it wasn\\'t 13 created in nineteen -14 JUSTICE BREYER: Are those words, 15 \"competent\" -- you know, in any \"court of competent 16 jurisdiction\" -17 MR. BROOKS: \"State or Federal.\" 18 JUSTICE BREYER: Yeah, \"State or Federal.\" 19 You know, I\\'ve got that point. I just want to know who 20 did this. 21 MR. BROOKS: If I find them, I will let you 22 know. 23 Your Honor, here\\'s what we do know: We know 24 the language was not de novo in 1954. We know it was 25 written in the \\'30s for the Federal Housing\\nAlderson Reporting Company\\n\\n\\x0cOfficial - Subject to Final Review\\n48 1 Administration. That\\'s what we know. That\\'s where the 2 phrase first came from. And we know that that language 3 had been repeatedly held to mean one thing, and Congress 4 had no indication it could have meant anything else. We 5 know from Ferguson, from George H. Evans, and from the 6 Seven Oaks case at a minimum, okay, that that phrase, 7 \"competent jurisdiction,\" State or Federal, conferred 8 jurisdiction. 9 Here\\'s what else we know: We know that in 10 briefing before this Court in the \\'80s, looking at this 11 exact language at Section 1702 of the National Housing 12 Act, the Solicitor General filed a brief in opposition 13 to certiorari in this Court in the Portsmouth 14 Redevelopment case. And in that brief citing Ferguson, 15 the Solicitor General\\'s office said that phrase creates 16 jurisdiction in the district courts. Okay? That\\'s what 17 we know. That has always been the understanding. 18 And if we didn\\'t have that history and we 19 didn\\'t have that case law, we might write it differently 20 on a blank slate. But writing 200 years after Osborn 21 and in the wake of all of that New Deal era case law, we 22 know what it means. 23 The disruption that would be created in the 24 markets, would this Court suddenly reverse the lower 25 courts -- and there are multiple of them all coming to\\nAlderson Reporting Company\\n\\n\\x0cOfficial - Subject to Final Review\\n1 the same result, at least three in the courts of\\n\\n49\\n\\n2 appeals -- and hold that Freddie Mac has different\\n\\n3 powers than Fannie Mae has would be significant?\\n\\n4 CHIEF JUSTICE ROBERTS: Well, there is a\\n\\n5 reason -- your -- your friend on the other side suggests\\n\\n6 there was a reason for treating them differently, which\\n\\n7 is that the board -- the Freddie board is -- consists of\\n\\n8 Federal officers, while the idea, of course, is that\\n\\n9 Fannie\\'s board, two-thirds of it does not.\\n\\n10 MR. BROOKS: Right. But the Fannie board,\\n\\n11 unlike the Freddie board, was one-third appointed by the\\n\\n12 President of the United States until conservatorship in\\n\\n13 2008, and at the same time had the same special Treasury\\n\\n14 access, the same tax exemptions, the same SEC\\n\\n15 registration exemptions. I mean, Your Honor, there is\\n\\n16 no material policy different between these two agencies,\\n\\n17 and again, we have the legislative history that shows an\\n\\n18 intent to treat these the same.\\n\\n19 I will say that since 1974, every GSE\\n\\n20 statute, and there have been many, have simultaneously\\n\\n21 imposed identical amendments to both the Fannie Mae and\\n\\n22 the Freddie Mac charter. So since Freddie was created,\\n\\n23 Congress has never treated one differently, not in the\\n\\n24 \\'70s and not today. So there\\'s no plausible reason why\\n\\n25 they would have wanted these treated differently.\\n\\nAlderson Reporting Company\\n\\n\\x0cOfficial - Subject to Final Review\\n50 1 CHIEF JUSTICE ROBERTS: Do you know why they 2 have that different structure on the board of directors? 3 MR. BROOKS: Well, again, Your Honor, and 4 it\\'s interesting, I\\'ve actually personally spoken to 5 some of the original Fannie Mae directors from the late 6 \\'60s, okay? They were all former government officials, 7 because Fannie was, in \\'68, being extricated from its 8 Federal agency role. 9 Freddie Mac was a clean sheet of paper. 10 Freddie Mac was created the way that the Congress of 11 1970 would have wanted it. Fannie Mae wasn\\'t. Fannie 12 Mae was inherited from generations earlier and had to be 13 torn apart from Ginnie Mae. That\\'s why the original 14 board of the private Fannie Mae in 1968 consisted of 15 Paul Volcker, who at the time was a former HUD 16 Undersecretary. It consisted of a former general 17 counsel of HUD. They were all Federal officials at that 18 time, and it took multiple years before they could be 19 extricated. There is just a history here, which makes 20 it different. 21 But I would re-emphasize, Fannie Mae is the 22 largest participant in the largest market in the U.S. 23 economy. Holding that Fannie Mae has different powers 24 and lesser powers than Freddie Mac has, simply because 25 the language of the \\'50s and a complicated history\\nAlderson Reporting Company\\n\\n\\x0cOfficial - Subject to Final Review\\n1 differed a little bit from the language of the \\'70s,\\n\\n51\\n\\n2 would be a significant policy shift that we would argue\\n\\n3 isn\\'t justified by either history or policy or text.\\n\\n4 If there are no further questions, thank\\n\\n5 you.\\n\\n6 CHIEF JUSTICE ROBERTS: Thank you, counsel.\\n\\n7 Mr. Rosenkranz, three minutes.\\n\\n8 REBUTTAL ARGUMENT OF E. JOSHUA ROSENKRANZ\\n\\n9 ON BEHALF OF THE PETITIONERS\\n\\n10 MR. ROSENKRANZ: Thank you, Your Honor.\\n\\n11 Just a couple of points.\\n\\n12 First, Justice Breyer wanted to know: What\\n\\n13 do you do when the language points one way and the cases\\n\\n14 seem to point another? I would -- I\\'d dispute the \"the\\n\\n15 cases seem to point another,\" but my direct answer is:\\n\\n16 This Court has never gone wrong by going with the\\n\\n17 language, and in those previous cases, what the Court\\n\\n18 was trying to do in each case was go with the language,\\n\\n19 right down to Red Cross where the operative principle\\n\\n20 was: What did this very language mean last time this\\n\\n21 Court addressed it?\\n\\n22 Justice Breyer, you also asked: Which is\\n\\n23 simpler for lawyers? Now -- now, Fannie doesn\\'t dispute\\n\\n24 that our reading is a natural reading of the language.\\n\\n25 Fannie doesn\\'t even dispute that it\\'s the most natural\\n\\nAlderson Reporting Company\\n\\n\\x0cOfficial - Subject to Final Review\\n52 1 reading. Instead, its entire argument revolves around 2 this proposition that it might actually mean other 3 things, but I still don\\'t know what Fannie thinks it 4 means. 5 Fannie says it could mean personal 6 jurisdiction. It could mean -- it could mean venue. It 7 could mean general jurisdiction. Plug each of those 8 words into the statute, and it just doesn\\'t parse. But 9 the bottom line is you need to commit to what that 10 meaning is, and this Court can\\'t go wrong by 11 interpreting those words to mean what this Court has 12 said of competent jurisdiction. 13 JUSTICE KAGAN: Well, suppose it means 14 personal jurisdiction. Why doesn\\'t it parse? 15 MR. ROSENKRANZ: Okay. So now the statute 16 says, Fannie can sue or be sued in any court that has 17 personal jurisdiction over the parties, State or 18 Federal. 19 Well, the Federal Court of Claims has 20 personal jurisdiction over Fannie, but this was not a 21 grant of jurisdiction, because the -- the whole idea is 22 that this now turns into a grant of Federal 23 subject-matter jurisdiction. It\\'s not a grant of 24 jurisdiction to Fannie. 25 So what about the court of appeals cases\\nAlderson Reporting Company\\n\\n\\x0cOfficial - Subject to Final Review\\n1 that Mr. Brooks has addressed? Those cases did not\\n\\n53\\n\\n2 interpret the phrase of \"competent jurisdiction,\" and\\n\\n3 they were not about Federal jurisdiction. Everyone\\n\\n4 understood in those cases, Ferguson and so on, that\\n\\n5 there was Federal jurisdiction. The question was\\n\\n6 whether something about the Tucker Act trumped district\\n\\n7 court jurisdiction to move the cases to the Federal\\n\\n8 court -- excuse me, to the Court of Federal Claims.\\n\\n9 JUSTICE SOTOMAYOR: Isn\\'t that USG\\'s\\n\\n10 position in Portsmouth?\\n\\n11 MR. ROSENKRANZ: Well, Your Honor, I can\\'t\\n\\n12 explain the position that the government has taken, but\\n\\n13 the government has said that those were also kind of\\n\\n14 drive-by jurisdictional references in cases that simply\\n\\n15 did not involve the question of what is the source of\\n\\n16 Federal jurisdiction.\\n\\n17 If I may, one last point on Fannie and\\n\\n18 Freddie. Why -- why did Congress treat them\\n\\n19 differently? The answer is different era, 32 years\\n\\n20 apart, and better lobbyists. Freddie was being\\n\\n21 supported and pressed by the Federal Home Loan Board,\\n\\n22 what used to be called the Home Loan Bank Board. They\\n\\n23 were ardent that Fannie was going to stop protecting\\n\\n24 Federal interests. They wanted an advantage.\\n\\n25 So Congress said, we are not giving them any\\n\\nAlderson Reporting Company\\n\\n\\x0cOfficial - Subject to Final Review\\n1 advantage. But case after case has held that, of\\n\\n54\\n\\n2 course, Freddie has jurisdiction. And if I may, just\\n\\n3 one more sentence, but the vast majority of cases have\\n\\n4 held, before this case came along -- the vast majority\\n\\n5 of cases have held that there was no automatic\\n\\n6 jurisdiction for Fannie.\\n\\n7 Thank you, Your Honors.\\n\\n8 CHIEF JUSTICE ROBERTS: Thank you, counsel.\\n\\n9 The case is submitted.\\n\\n10 (Whereupon, at 12:02 p.m., the case in the\\n\\n11 above-entitled matter was submitted.)\\n\\n12\\n\\n13\\n\\n14\\n\\n15\\n\\n16\\n\\n17\\n\\n18\\n\\n19\\n\\n20\\n\\n21\\n\\n22\\n\\n23\\n\\n24\\n\\n25\\n\\nAlderson Reporting Company\\n\\n\\x0cOfficial - Subject to Final Review\\n\\n55\\n\\nA\\na.m 1:17 3:2 ability 40:5 able 17:6 abolishing 26:22 above-entitled\\n1:15 54:11 absolutely 7:25 accept 7:9 access 27:25\\n42:4,8,11,16 43:5 46:11,15 49:14 account 39:9 accretion 45:2 acquisition 46:9 act 9:8 28:7,22 30:8 31:23 37:20 43:4 48:12 53:6 action 4:9 9:7 18:25 ADA 9:11,16 add 13:6 14:3 30:11 38:5 45:12 added 7:16 11:11 24:6 33:22 adding 26:20 31:20 address 18:24 41:23 addressed 31:8 51:21 53:1 ADEA 9:18 Administration 41:13 48:1 admits 10:10 admittedly 42:17 adopt 28:20 adopted 27:16 32:7 38:17,18 adopting 41:11 advantage 19:8\\n\\n35:12 53:24 54:1 advantages 46:4 advocating 20:5 Affairs 18:1 afresh 13:14 Age 9:8 agencies 17:24 18:4 44:23 49:16 agency 11:20 13:6 18:12,13 19:16 26:20 27:15,23 28:15 35:23 39:23 43:4,10 44:11 50:8 agreed 4:19 ahead 13:9,10 33:19 45:16 AL 1:4,9 amended 11:16 amendments 35:24 49:21 amicus 1:23 2:7 15:24 amount 25:7 analysis 21:19 analyze 8:23 ancient 23:5 ANN 1:21 2:6 15:23 answer 9:15 14:25 33:23,25 34:1,11 38:22 46:13 51:15 53:19 answers 33:24 anybody 14:22 47:5 apart 50:13 53:20 appeals 21:9 30:6 49:2 52:25 APPEARAN... 1:18\\n\\nappellate 4:10 27:14,17\\napplied 24:24 appointed 49:11 approach 20:5 appropriately\\n12:7 ardent 53:23 arguably 12:1 argue 51:2 argues 29:8 arguing 12:14 argument 1:16\\n2:2,5,9,12 3:4 3:7 5:19 15:23 26:2 42:6 43:17 45:7 51:8 52:1 arises 43:13 arising-under 9:3 Article 39:18 asked 32:16 36:6 51:22 asking 21:18 23:15 24:24 assessed 11:10 assets 46:19 Assistant 1:21 associations 37:22 assume 38:10 assured 11:2 attempt 44:25 authority 4:24 5:16 7:19 8:4 31:10 authorization 44:13 authorize 5:24 19:12 authorized 16:25 25:12 37:21 authorizes 9:9 16:5,8 authorizing 5:20\\n\\n21:16 23:14 25:11 automatic 54:5 aware 17:8,13\\nB\\nB 17:9 back 13:22 26:7\\n39:1 40:4 backdrop 45:20 bad 45:25 baggage 42:19 Bank 35:17 42:9\\n42:12 53:22 Bank\\'s 20:2 Bankers\\' 6:23\\n8:18 bankruptcy\\n21:13 25:3 barred 30:22 based 33:3 baseline 26:8 basically 46:1 basis 12:12\\n16:14 24:8 27:2 32:9 began 11:9 behalf 1:19,24 2:4,11,14 3:8 26:3 51:9 believe 23:1 belt 44:6 belt-and-susp... 12:19 34:15 best 16:7 better 14:16,17 53:20 beyond 5:21 big 45:2 bigger 46:17 bit 10:5 39:1 51:1 Blackmar 40:17 blank 35:21 48:20 board 49:7,7,9 49:10,11 50:2\\n\\n50:14 53:21,22 borrowed 32:2\\n41:12 borrower 18:20\\n19:9 borrowing\\n27:23 bothering 13:12 bottom 52:9 Breyer 6:18 7:1\\n7:7,11,20 8:15 8:17 13:9,11 14:11,20 15:7 20:9,13,25 23:17 24:5,14 24:22 36:2,20 36:21,25 38:8 46:23 47:4,7 47:14,18 51:12 51:22 Breyer\\'s 11:2 BRIAN 1:24 2:10 26:2 brief 48:12,14 briefed 12:13 briefing 30:13 30:14 37:16 48:10 briefly 41:24 bring 18:5 22:16 22:25 23:3,15 25:5 Brooks 1:24 2:10 26:1,2,4 27:5 28:4,8 29:22 31:3,12 32:24 33:1,18 33:24 34:5,9 34:11,24 36:20 36:25 38:10 39:10 40:8 41:9 43:14 44:1,18 47:3,8 47:17,21 49:10 50:3 53:1 brought 12:7 18:8,12 21:17\\n\\nAlderson Reporting Company\\n\\n\\x0cOfficial - Subject to Final Review\\n\\n56\\n\\n21:17 22:9,20 25:12 Buckley 47:9 Bulkley 38:5,22 burden 39:3\\nC\\nC 2:1 3:1 Califano 29:6 called 53:22 campaign 38:7 capacity 5:22\\n31:7 capital 37:24 careful 39:13 carry 39:3 case 3:4 7:22\\n12:13 14:12 15:8 16:23 18:6,8,19,23 19:1,7,8,13 20:18 21:1,9 22:15,19 23:3 23:5 24:7 27:8 27:20,21,21 28:23 29:5 30:11,15,19 34:12 36:12,12 37:6 38:12 39:15 40:17,18 41:2,10,15,18 45:19,19,20 48:6,14,19,21 51:18 54:1,1,4 54:9,10 cases 4:14,16,20 6:20 7:21 8:7 13:13,21 14:14 15:15,16,19 18:10,11,17,18 21:22 22:4,6,8 22:24,24 23:1 28:25 29:3,3 31:11,17,18 33:12,21 34:6 34:8 40:16,22 45:14 51:13,15\\n\\n51:17 52:25 53:1,4,7,14 54:3,5 category 31:11 cause 9:7 causes 18:25 Cendant 1:7 3:4 centuries 42:14 cert 4:10 certainly 14:4 31:3 47:9 certiorari 48:13 cetera 41:2 change 45:11 changed 11:22 21:7 28:12 characterized 8:6 charter 11:17,23 13:1,7,8 16:8 18:7 19:3 20:6 21:3 25:17 32:7 34:14 35:16,18 38:13 38:14,16 44:4 44:7,20,20 49:22 charter\\'s 6:6 chartered 16:5 19:19 26:12 check 25:11 Chicago 38:2 Chief 3:3,9 12:18 15:21 16:1 25:24 26:1,4 33:17 33:20 35:2 38:25 39:10,10 47:6 49:4 50:1 51:6 54:8 choose 3:22 chooses 26:9 chose 11:1 28:5 circuit 8:12 19:23 20:17,20 21:22 30:20 41:18,19\\n\\ncircumstances 42:23\\ncites 37:16 citing 40:16\\n48:14 citizenship 25:7 claim 23:15 25:5\\n43:13 claims 10:14,15\\n30:9,24 52:19 53:8 clause 5:12 6:15 9:3,18,19 10:11 11:21 12:17 13:2 16:14 17:15 19:11,24 20:3 20:8 21:1,4 31:7 clauses 32:18 clean 33:15 50:9 clear 7:25 9:2 25:21 34:14,19 35:10 36:4 39:25 42:16 clearer 37:11,14 clearly 20:19 clerk 17:5 32:19 closed 35:1 collaterally 22:22 23:8 colloquy 13:16 37:10,11,12 45:7 Columbia 11:24 combined 33:9 come 8:19 37:24 40:1 47:4 comes 6:23 7:1,3 coming 48:25 commit 52:9 companies 43:20 45:23 46:3 company 42:4,8 42:10 46:18,19 compare 12:23\\n\\ncompared 40:3 competence\\n40:5 41:6,6,7 43:24 competency 5:3 competent 3:12 3:19,23,25 4:5 4:11,22,25 5:2 5:9,13 7:14,23 8:12 9:10,23 10:11,15 11:11 15:8,10 16:6 17:1 19:4 20:10,10,16,21 20:25 21:10,14 23:13,22 24:6 24:16,18,19 25:9 26:21,25 27:2,4,6,9,11 27:18 29:1,4,9 29:14,17,19,24 30:1,16 31:5,6 31:8,14,19 32:8,11 33:2,4 33:6 36:13 37:4,5 40:3,4 40:11,22,25 44:9 45:12 47:15,15 48:7 52:12 53:2 complete 25:6 completely 16:15 complicated 50:25 comprehensive 31:23 comprised 44:24 computers 47:1 concedes 5:12 concept 42:1 concerned 15:13 concession 12:20 concluded 12:10 confer 5:22 6:1 6:7 20:19\\n\\n25:17,22 28:23 31:16 32:3 37:7 41:16 conferred 21:6 27:19 48:7 conferring 30:13 confers 26:13 45:14 confines 10:7 confirms 10:23 Congress 5:7 11:1,5,8,9,16 11:22 12:25 13:6 15:6,12 16:13,18,21,23 20:19 21:7 25:16,22 26:9 26:11,16,17,19 27:16,22 34:20 34:25 35:20,21 37:20 39:16,22 41:12,22 42:2 42:7 43:1 46:1 46:7 48:3 49:23 50:10 53:18,25 Congress\\' 41:10 Congress\\'s 31:21 35:10 congressional 6:6 38:13,14 connected 44:22 conscious 28:6 43:7 conservatorship 49:12 consideration 39:8 consisted 50:14 50:16 consistently 12:11 consists 40:6 49:7 construction 7:17 39:15\\n\\nAlderson Reporting Company\\n\\n\\x0cOfficial - Subject to Final Review\\n\\n57\\n\\nconsummated 11:16\\ncontemporary 30:2\\ncontext 9:23 29:23 30:17 32:10 40:12,19\\ncontrary 31:18 43:2\\ncontrast 28:16 control 16:16 controversy 4:5\\n25:8 conversation\\n6:11 15:4 corporate 3:18\\n5:21 26:10 corporation 1:8\\n3:5 11:24 16:5 16:8 17:11 25:20 26:12 28:12 31:7 corporation\\'s 25:19 corporations 19:19,19 36:7 correct 22:23 23:9 41:9 counsel 15:21 25:24 28:16,25 29:8 37:16 41:25 50:17 51:6 54:8 count 32:18 country 46:20 couple 34:25 51:11 coupled 32:13 course 42:18 49:8 54:2 court 1:1,16 3:10,12,13,14 3:19,21,22,22 3:23,25,25 4:1 4:5,11,17,21 4:25 5:3,9,13 5:14,15,21,25\\n\\n6:1,15 7:16 8:13,22,23,25 9:9 10:2,7,11 10:13,14,15 11:12 12:9,11 13:18,20 15:5 15:7,10,11,17 15:17,19 16:2 16:6,9,19,20 16:23,25 17:3 18:5,6,7,9,9,12 18:13,17,18,21 18:23 19:2,4,7 20:17,18,21,25 21:5,8,10,12 21:12,13,14,18 22:7,9,10 23:12,14,18,20 23:23,23,25 24:1,3,8,9,16 24:18,18,20 25:3,6,9,11 26:5,13 27:1 27:18,25 29:1 29:2,19 30:9 30:13,23,23,23 31:1,9,10,14 32:8 33:8 34:6 36:8,18 38:21 38:23 39:21 40:1,2,3,6,10 40:14 41:21 43:12,17,24 44:8,15 46:6 46:12,21 47:15 48:10,13,24 51:16,17,21 52:10,11,16,19 52:25 53:7,8,8 Court\\'s 7:13 24:3 29:12 41:6 courthouse 34:17 35:3 courts 5:5 6:9,10 6:12 8:1,2,11 8:14 9:13,20\\n\\n12:14 16:22 18:24 20:1,16 20:20,22,23 21:16,19,23 23:16 24:25 25:2,2,4,4 30:6 30:10,18,19 32:14 39:1,1 39:11,12 41:1 42:5,17 43:5,8 46:15 48:16,25 49:1 create 19:25 35:11 created 20:7 35:8 37:13,17 38:14,15 42:15 47:13 48:23 49:22 50:10 creates 48:15 creating 4:1 9:7 16:21 19:7 38:2 46:19 creation 37:21 credit 46:11 critical 10:24 41:11 Cross 5:18,20 6:3,4,16 7:2 11:6,6 14:2 16:4,17 20:1 21:2 24:4 26:6 26:14 29:12 33:11,13 35:16 38:16,24 40:23 43:16,17,18,23 51:19 crystal 1:3 34:19 35:10 curiae 1:23 2:7 15:24\\nD\\nD 3:1 D\\'Oench 6:24\\n7:22 8:17,21 8:24,25 11:1,4\\n\\n11:7,9,10 13:24 20:24 21:6 23:19 24:3 26:7,14 38:17,18,21,23 D.C 1:12,22,24 12:2,4,5 DBA 1:8 de 47:24 deal 9:11 29:23 30:3,7 48:21 debate 30:6 decades 45:2 decided 11:5 14:15 40:18,19 decision 26:6 decisions 24:3 27:14,17 deemed 39:23 44:11 deeply 14:12 15:12 defendant 18:21 defined 11:13 definitely 20:4 delay 19:7 deny 7:7 Department 1:22 17:25 18:1 44:23 depending 5:10 10:20 40:12 depends 11:13 Depression 37:23 deprive 42:4 describing 6:5 determine 24:17 determined 5:4 Deveaux 6:20,23 develop 35:12 Development 17:25 44:24 dicta 45:15 differed 51:1 difference 9:6 different 5:10\\n\\n10:20,21 14:13 21:7 27:13 28:6 32:5 35:16,17,19,24 37:4,21 38:12 40:12 42:17,18 42:19 45:24 46:7,12 49:2 49:16 50:2,20 50:23 53:19 differently 10:19 48:19 49:6,23,25 53:19 dilemma 14:20 direct 23:7 51:15 direction 9:19 30:17 directly 7:21 directors 50:2,5 disagree 8:5 10:1 Discrimination 9:8 discussion 43:16 displace 26:16 dispute 51:14,23 51:25 disruption 48:23 distinct 44:14 distinction 28:1 distinguish 8:13 district 9:9 11:23 20:1 21:19,23 23:16 24:25 25:2,4,6 30:10 41:21 48:16 53:6 diversity 11:17 11:22 12:8,10 12:12,15,16,20 13:7 25:7 43:13,18 44:2 docket 33:22 doing 13:14\\n\\nAlderson Reporting Company\\n\\n\\x0cOfficial - Subject to Final Review\\n\\n58\\n\\n21:10 30:2 dollar 46:18 dozen 12:12 drafting 35:14 drive-by 9:1\\n53:14 Duhme 6:24\\n7:22 8:17,22 8:24 13:24 20:24 21:6 23:19 24:4 26:8,14 38:17 38:18,21,23 40:24\\nE\\nE 1:19 2:1,3,13 3:1,1,7 51:8\\nearlier 32:16 40:17 50:12\\nearly 30:3 33:4 easier 34:8 easiest 33:25\\n34:1,11 Easy 10:3 economy 50:23 eight 17:6 23:21 either 10:13\\n38:20 51:3 eliminate 16:13\\n26:18 embodied 33:10 emphasize 37:6 Employment\\n9:8 enactment 10:25 ended 40:9 English 24:11\\n24:13 entered 21:21 entire 27:12\\n31:14 52:1 entirely 37:21\\n42:15 entirety 41:15 entities 17:24\\n30:7\\n\\nentity 11:16 16:18 17:17 35:11 39:21\\nequity 8:22 16:19 23:18,25\\nera 29:23 42:18 48:21 53:19\\nESQ 1:19,21,24 2:3,6,10,13\\nessentially 45:1 establish 39:3 established\\n25:16 et 1:4,9 41:2 evaluated 12:9 Evans 27:20\\n48:5 eventually 28:18 evidence 44:5 evolution 10:23 exact 30:14,21\\n43:15 48:11 exactly 21:5\\n36:5 41:9 examine 4:1 example 11:13\\n18:15 exceptions 46:11 excuse 5:1 9:15\\n10:14 53:8 exemptions\\n46:10 49:14,15 existed 26:23 exists 33:5 explain 53:12 explained 10:18\\n20:15 21:3 explanation\\n16:15 explicitly 7:5 expressly 5:20\\n26:11 extended 16:4 extends 5:21 extricate 35:22 extricated 50:7\\n50:19\\n\\neye 39:13\\nF\\nfact 9:11 17:10 17:23 35:2 44:2\\nfailed 38:22 fails 42:25,25 fair 31:22 Fannie 4:15\\n5:12 8:10 10:9 10:10,18 11:19 12:11,14 13:4 13:18 15:13,15 16:7 17:11 18:8 20:6 21:3 25:20 26:12,20 27:16,25 28:10 28:16 30:22 32:3,7,20 34:13,16,20,22 35:4,13 36:7 37:13,17 38:13 38:15 41:14 42:3,20 43:2,3 43:8 44:17 45:11 46:16 49:3,10,21 50:5,7,11,11 50:14,21,23 51:23,25 52:3 52:5,16,20,24 53:17,23 54:6 Fannie\\'s 5:6,8 11:23 13:8 18:7 49:9 Fast-forward 42:14 FDIC\\'s 21:5 Federal 3:19,21 3:23 5:5,20,22 5:25 6:1,1,7,8 6:10,12,16,17 8:20,23 9:2,9 9:12 10:3,12 10:13,14,15 11:18 12:11,14\\n\\n12:17,21,24 13:5,6,18,20 14:9 15:3,4,5 15:18,19 16:9 16:14,20,22,25 17:24 18:2,4,5 18:6,9,9,12,13 19:4,5,7,12,16 19:18,25 20:2 20:6,22 21:6 21:12,19,25 22:9,10 23:16 23:19,20 24:1 24:1,3,8,24 25:1,3,3,6,11 25:18 26:9,13 26:18 27:12,19 27:25 28:11,13 28:15 29:5,11 29:15,15,18,19 30:23 31:15,24 32:13 33:5,10 33:22 34:17 35:3 36:8,12 36:18 37:6 38:25 39:6,21 39:23 40:1 41:13 42:4,17 43:4,5,8,12,13 43:25 44:8,15 46:12,15,15,21 47:17,18,25 48:7 49:8 50:8 50:17 52:18,19 52:22 53:3,5,7 53:8,16,21,24 Federal-questi... 9:17 federally 16:5 19:19 26:12 42:22 Ferguson 27:20 30:11,20 48:5 48:14 53:4 FHA 28:20 figure 8:25 12:6 file 21:11\\n\\nfiled 48:12 final 22:21 23:7 find 3:24 6:18\\n15:7 16:15 46:24 47:21 Finish 13:9 finished 13:21 22:5 fired 47:6,7 first 12:13 30:5 31:13,20 35:7 37:2 48:2 51:12 five 3:15 4:21 6:19 19:14 28:25 29:3 follow 26:9 followed 38:23 foreclosure 15:18 18:17,24 19:9 foreclosures 34:7,16 35:3 forget 14:14,15 forgot 23:4 form 26:10 former 47:8 50:6,15,16 forward 22:7 found 23:21,24 four 44:14 Fourth 30:20 41:18,19 Framers 44:20 Freddie 3:17 34:13,14,15,21 34:25 35:4,7 39:22,22 42:15 44:4,6,8,9,10 44:10,11,12,14 45:3,4,22,23 46:8,16,20 49:2,7,11,22 49:22 50:9,10 50:24 53:18,20 54:2 Freddy 35:8\\n\\nAlderson Reporting Company\\n\\n\\x0cOfficial - Subject to Final Review\\n\\n59\\n\\nfree 29:16 frequently 18:20 Friday 12:14 friend 33:20\\n49:5 friends 4:14 FSLIC 28:11,14 full 27:18 fully 17:11 fundamentally\\n39:14 further 11:16\\n16:24 51:4\\nG\\nG 3:1 general 1:21 8:2\\n8:3 12:21 25:2 25:16 30:12,18 31:2,4 32:14 33:11 41:1,6 48:12 50:16 52:7 General\\'s 48:15 generally 9:12 30:10 31:6 generations 50:12 generic 33:7 George 27:20 48:5 getting 24:9 44:15 Ginnie 12:23,24 13:3,5 28:3,4,9 35:23 44:25 50:13 Ginnie\\'s 13:7 Ginsburg 4:3 5:17 6:3 22:16 22:20 23:4,10 26:25 29:13 31:1,4 34:18 35:6 39:19 41:5 43:11,23 give 16:23 18:15 36:21\\n\\ngiven 18:15 26:23 39:6 45:19\\ngives 31:7 giving 8:3 36:7\\n53:25 go 3:21 9:20\\n13:9,10,18 24:9 32:24 33:19 36:8,18 40:4 45:16 51:18 52:10 God 8:17 24:10 going 7:3,13 11:8 13:21 14:9,13 15:13 15:14 21:23 22:7,25 26:7 26:24 32:24 33:18,22 34:20 42:3 51:16 53:23 good 45:24 government 25:17 36:5 43:4 50:6 53:12,13 government\\'s 16:3 grafted 41:14 grant 5:14,21 6:17 10:10,12 11:3 12:8,10 12:15 33:9,13 36:18 52:21,22 52:23 granting 4:1 grants 3:17 12:17 great 8:12 grounds 43:18 43:21 44:15 GSE 35:25 49:19 Guerre 40:18 guess 23:17 guidance 16:24\\n\\nH\\nH 27:20 48:5 happen 45:8,9 happened 11:6\\n12:23 32:1 42:2 happens 18:19 21:20,24 hard 14:7 34:3 44:18 harder 10:6 harmonize 40:21 hear 3:3 4:5 30:19 heard 27:8 30:8 30:9,22 held 3:15 4:17 4:25 15:9,11 27:18 28:23 30:17 31:16 32:2 40:10,14 41:16 48:3 54:1,4,5 help 13:12 14:22 helps 7:8 Hill 45:8,10 historically 28:10 history 7:4,8,10 13:16 14:5,16 26:23 28:1 30:2 35:9,22 36:4,23 37:18 38:1,6 41:25 48:18 49:17 50:19,25 51:3 hold 4:17 49:2 Holding 50:23 holdings 33:12 holds 37:7 41:3 home 20:2 29:16 53:21,22 Honor 6:25 7:6 8:5,21 9:14,25 12:3,23 14:10\\n\\n14:19,24 27:5 29:22 31:12 32:18 33:18,25 34:11,24 40:8 43:14 47:11,23 49:15 50:3 51:10 53:11 Honors 15:20 54:7 hope 37:23 38:11 47:9 House 35:9 46:2 housing 17:25 27:14 31:24 37:20 41:13 42:22 44:24 46:19 47:25 48:11 Houston 38:1 HUD 18:10,10 18:15,16,21,22 18:22 19:10,13 19:16 50:15,17 HUD\\'s 19:3 human 47:2 hurts 23:18\\nI\\nidea 27:9,22 28:18 49:8 52:21\\nidentical 8:18,18 17:9 28:10 35:11 49:21\\nidentify 17:6 III 39:18 imagine 45:9\\n46:18 immunity 19:11\\n19:24 implication 44:3 important 25:15\\n42:11,22 imposed 49:21 inception 42:16 include 4:3,6 included 40:23\\n\\nincluding 32:19 incompetent\\n6:21 17:7 independent\\n3:13 indication 25:21\\n48:4 inherited 50:12 instrumentalit...\\n42:21 Insurance 28:11 intended 36:10\\n36:10 46:21 intent 49:18 intention 35:10\\n35:13 41:11 intentions 44:19 interest 18:22\\n46:15 interesting 50:4 interests 53:24 interpret 53:2 interpret\\'s 18:7 interpretation\\n5:6,8 7:13 interpreted 4:21\\n7:16 19:23 27:13,24 28:21 29:1,4 30:12 41:15 interpreting 52:11 interprets 19:10 involve 19:15 53:15 involved 15:16 involving 17:16 18:8,10 19:13 issue 3:12 7:23 21:1 30:24 35:6 41:24 43:15,19 45:22\\nJ\\nJohn 7:24 JOSHUA 1:19\\n2:3,13 3:7 51:8\\n\\nAlderson Reporting Company\\n\\n\\x0cOfficial - Subject to Final Review\\n\\n60\\n\\njudges 14:17 judgment 22:21\\n23:7 43:8 judgments\\n21:21,24 judicata 22:5,12 jurisdiction 3:13\\n3:14,20,24,25 4:2,4,6,7,9,10 4:11,12,13,15 4:17,19,20,22 5:1,2,5,10,13 5:14,15,23 6:1 6:7,17,22 7:14 7:23 8:3,12 9:2 9:10,12,16,17 9:18,22,23,24 10:2,3,5,11,12 10:16 11:3,12 11:18,19,20,22 11:25 12:8,10 12:12,15,16,17 12:20,21,24 13:5 14:6 15:4 15:8,10,18 16:6,10,14,21 17:3,7 19:5,12 19:25 20:7,10 20:11,16,19,21 20:25 21:6,10 21:14,23,25 22:8,13,17 23:1,13,22 24:7,16,18,19 25:2,4,10,18 25:23 26:13,21 26:22 27:1,2,3 27:3,4,6,10,12 27:19,19 28:24 29:2,4,9,10,11 29:14,17,20,24 30:2,13,16,18 30:19 31:2,4,5 31:8,15,16,20 31:25 32:3,8 32:10,12,14,15 33:3,5,6,10,11\\n\\n33:12,13 34:15 36:14,18 37:4 37:5,8 39:2,6 39:12,13 40:4 40:5,11,15,16 40:20,22,25 41:1,2,17 44:2 44:9 45:12,15 45:17 46:22 47:16 48:7,8 48:16 52:6,7 52:12,14,17,20 52:21,23,24 53:2,3,5,7,16 54:2,6 jurisdiction,\\' 3:19 17:1 jurisdictional 4:23 9:1 10:16 33:14 39:23 53:14 Justice 1:22 3:3 3:10 4:3 5:17 5:18 6:2,5,18 7:1,7,11,20,24 8:15,17 9:5,21 11:2 12:1,18 13:9,11 14:11 14:20 15:7,21 16:1 17:4,18 17:20 18:2 19:14,20 20:9 20:13,25 21:20 22:2,11,16,20 23:4,9,17 24:5 24:14,22 25:24 26:1,4,25 28:2 28:5,8 29:13 31:1,4 32:16 32:21 33:17,20 34:2,5,8,18 35:6 36:2,20 36:21,25 38:8 38:25 39:10,19 41:5 43:11,23 44:16,19 45:6 46:23 47:4,6,7\\n\\n47:14,18 49:4 50:1 51:6,12 51:22 52:13 53:9 54:8 Justice\\'s 35:2 justified 51:3\\nK\\nKAGAN 52:13 Kagan\\'s 45:6 keep 12:2 14:15 Kennedy 34:2,5\\n34:8 kind 53:13 know 7:24 13:12\\n13:22 14:11,25 17:16 19:22 22:6 23:2 32:6 33:1 34:24 35:4,7,13 36:11 37:10 42:8,14 44:19 45:23 46:14,16 47:5,11,12,12 47:15,19,19,22 47:23,23,24 48:1,2,5,9,9,17 48:22 50:1 51:12 52:3\\nL\\nladder 22:17 language 3:12\\n3:16 5:7 7:25 8:9 10:9,19 11:1 12:9 13:2 13:3 16:18,24 17:7 19:2 20:15,21,22,24 23:17 24:11,13 25:9 27:15,23 28:6,10,12,21 28:21,23 38:18 38:19 41:12,16 42:17 43:24 44:21,25 45:2 45:11,12,24\\n\\n46:7,25 47:12 47:24 48:2,11 50:25 51:1,13 51:17,18,20,24 language/Osb... 40:24 largest 46:18 50:22,22 late 29:23 50:5 Laughter 23:11 32:23,25 34:4 34:10 38:9 law 8:22 11:14 16:11,19 17:2 18:25 23:18,25 25:5 40:17 41:2 43:13 45:20 48:19,21 lawyers 14:17 51:23 leading 7:22 leave 18:23 left 11:8 legacy 35:23 legislative 7:4,8 7:10 8:9 13:15 14:5,16 35:8 36:4,23 37:18 38:1,6 43:7 49:17 lender 18:20 lesser 50:24 let\\'s 3:15 9:7 Lexis 33:3 light 15:1 27:7 Lightfoot 1:4 3:4 likes 18:16 limitations 44:14 limited 25:4 30:8 39:2,11 limiting 4:7,8 9:12 line 52:9 lines 46:11 liquidity 38:3\\n\\nlist 17:14 listen 45:10 litigants 11:17 litigate 18:16 litigating 46:12 little 10:5 24:11\\n31:24 51:1 Loan 20:2 28:11\\n53:21,22 lobbyists 53:20 long 29:14 long-standing\\n26:7 longer 11:20\\n22:9 look 5:8 6:3,4\\n12:6 14:12 15:2 17:2 21:15 23:13 24:17 25:10 35:25 36:11,23 39:12 46:23 looked 21:4 29:6 32:8 45:13 looking 25:21 45:8 48:10 lost 38:6 lot 7:12 26:17 29:24 46:17 lots 43:20,21 love 23:22 lower 48:24 luxury 35:20\\nM\\nMac 34:13,14,15 34:21 35:1,4,7 39:22,22 42:15 44:4,6 45:3,4 45:22,23 46:8 46:16,20 49:2 49:22 50:9,10 50:24\\nMae 12:24 17:12 25:21 26:12,20 27:16 28:3,9 28:11,16 30:22\\n\\nAlderson Reporting Company\\n\\n\\x0cOfficial - Subject to Final Review\\n\\n61\\n\\n32:3,7,20 34:13,16,20,22 35:5,13,23 37:13,17 38:13 38:15 41:14 42:3,20 43:2,3 44:17,25 49:3 49:21 50:5,11 50:12,13,14,21 50:23 Mae\\'s 16:8 20:6 21:3 27:25 45:11 main 21:8 major 6:19 majority 54:3,4 making 44:2 map 5:7 10:19 mapping 10:8 market 15:14 37:24 50:22 markets 48:24 Marshall 7:24 13:22 match 11:7,9 matched 11:10 material 49:16 matter 1:15 19:5 19:12 23:5 24:10,12 33:7 36:8,9 40:6 41:7 42:25 43:11 44:5 54:11 mean 3:15 4:22 5:10 6:18 9:22 10:12 11:13 12:4 13:16 16:20 17:21 18:7 20:9 21:7 22:24 23:17,19 24:10 28:20 29:17,21,25,25 30:17 32:11 36:3,7,13 39:16 44:18 46:24,25 47:1\\n\\n48:3 49:15 51:20 52:2,5,6 52:6,7,11 meaning 36:15 36:16 52:10 meanings 40:12 means 5:2 8:1,3 10:2 12:5 15:10,11 17:1 19:5 24:16 27:4,6 29:12 31:6 32:12,12 32:14 39:25 40:1,24 41:1 48:22 52:4,13 meant 5:3 29:24 32:4 46:2 48:4 mechanism 43:1 mention 6:10 mentioned 28:25 mentioning 5:25 mentions 6:8 middle 37:23 minimum 4:11 48:6 minute 4:18 minutes 51:7 mixed 14:7 modifies 5:11 10:21,21 moments 41:25 MONIQUE 1:3 morning 33:4 mortgage 1:7,9 3:5 15:14 18:17,22,24 19:9 37:22 46:9 Morton 40:13 move 53:7 moved 43:18 moving 15:19 multiple 40:12 44:22 46:8 48:25 50:18\\n\\nN\\nN 2:1,1 3:1 N.Y 1:19 name 3:18 23:4 named 18:21 National 48:11 natural 3:11\\n24:15 36:15,16 37:2,3,5 51:24 51:25 naturally 42:7 nature 30:6 need 6:10 12:16 15:3 35:4,22 39:9 52:9 needs 4:20 29:2 29:9 negative 44:3 never 10:18 22:12 37:22 42:7 49:23 51:16 new 1:19 28:17 29:23 30:3,7,7 38:2,4 48:21 nine 32:19,24 33:6 nineteen 47:13 Ninth 21:22 normally 40:25 notwithstandi... 44:13 November 1:13 novo 47:24 number 17:8 29:3 33:2\\nO\\nO 2:1 3:1 O\\'Connell 1:21\\n2:6 15:22,23 16:1 17:13,19 17:22 18:4 19:18,22 20:12 20:14 22:1,4 22:14,19,23 23:9,12 24:2\\n\\n24:12,15,23 25:25 Oaks 27:21 41:18 48:6 observed 24:20 obviously 26:16 45:22,23 occurs 33:7 office 48:15 officers 49:8 officials 50:6,17 oh 13:22 okay 8:16 10:5 30:15 32:22 37:19 40:11 48:6,16 50:6 52:15 old 14:3 21:24 once 22:19 24:6 34:6 one-third 49:11 operative 51:19 opinion 15:6 43:19 opposed 12:2 opposite 11:5 28:19 opposition 48:12 oral 1:15 2:2,5,9 3:7 15:23 26:2 43:17 order 6:11 15:3 organization 35:5 original 4:9 10:25 44:20 50:5,13 Osborn 6:21 8:8 8:10 20:11,14 20:15 26:8,14 42:9 48:20 outcome 35:18 outside 4:23,23 7:18 owned 25:20 42:8,10,12,15\\n\\n42:21 43:3 ownership\\n28:18 owns 25:19\\nP\\nP 1:24 2:10 3:1 26:2\\np.m 54:10 page 2:2 5:19\\n7:4 13:15 14:4 14:16 36:3 paper 50:9 parallel 35:12 46:3 parse 52:8,14 parses 8:9 part 44:23 participant 50:22 particular 14:12 21:18 particularly 13:15 26:23 43:20 parties 52:17 party 18:10,11 18:14 19:6 passage 3:20 passed 38:4 Paul 50:15 percent 15:16 25:19 42:12 perfectly 15:2 permissible 12:5 person 10:6 personal 4:6,13 4:15,20 9:22 9:24 10:1,4 27:3 32:10,14 33:11 40:7,15 40:20 41:1,8 52:5,14,17,20 personally 50:4 perspective 31:21 Petitioners 1:5\\n\\nAlderson Reporting Company\\n\\n\\x0cOfficial - Subject to Final Review\\n\\n62\\n\\n1:20,23 2:4,8 2:14 3:8 15:25 28:20 29:25 51:9 Petitioners\\' 27:8 PHH 1:8 Phoenix 4:24 11:13 29:6 phrase 5:9 7:14 7:17 16:7 21:13 24:16 27:7,9,10,11 27:12,18 29:1 29:5,8,11 30:21 31:14 32:2,8 33:2,4 40:10,20,23 41:20 48:2,6 48:15 53:2 phrases 29:7 places 37:25 38:1 plain 3:16 plausible 16:12 45:18 49:24 play 6:12 please 3:10 13:10 16:2 26:5 Plug 52:7 point 5:15 7:18 7:22 12:19 16:17 24:13 25:14,15 36:3 36:17 43:15,16 44:1 45:21 47:19 51:14,15 53:17 pointed 43:19 points 25:13 37:1 51:11,13 policy 26:10 31:24 41:24 49:16 51:2,3 poor 45:9 Portsmouth 30:15 48:13\\n\\n53:10 position 29:14\\n53:10,12 possible 47:8 power 3:18 18:5\\n18:6 powerful 15:7\\n44:4 powers 35:11\\n46:5,8,9,10,12 49:3 50:23,24 pre-existed 41:13 47:12 precedent 14:15 precise 15:9 30:10 prepared 36:23 prescribed 5:4 presented 27:8 30:11 President 49:12 pressed 53:21 presuming 9:22 presumption 39:6 42:6 pretty 6:19 13:13 25:21 26:21 prevail 38:20 previous 51:17 previously 11:12 30:12 principle 51:19 prior 45:19 private 11:15,19 13:4 15:14 17:11 19:6 28:18 34:20 37:21,24 42:3 42:12 50:14 privately 25:20 42:7,10,15,21 43:3 privatization 35:23 42:1 privatize 43:2 probably 8:1\\n\\nprobative 37:18 problem 38:3\\n42:24 45:3 proceed 31:10 prodigy 26:15 progenitors\\n33:14 proposition 52:2 protected 46:21 protecting 53:23 provide 11:17 provides 9:19\\n26:11 provision 5:21\\n6:7 7:15,16 8:9 8:10,23 9:6,7 9:15 11:7,9 13:7 16:10 17:2,15 provisions 11:14 12:6 13:3 public 13:5 pure 25:5 purely 36:9 purpose 11:21 17:16 42:22 purposes 11:24 12:4 39:24 44:12 pursuant 37:24 pursue 26:9 pursuing 42:22 put 30:20 32:3 puts 23:20 puzzling 30:21\\nQ\\nqualify 42:23 question 10:4\\n11:2 18:2 28:9 30:11 32:17 35:2 37:9 39:11,17 42:21 45:24 46:6 53:5,15 questions 18:18 18:24 51:4\\n\\nquickly 13:13 14:25\\nquintessential 18:18\\nquite 36:15 quote 3:17 4:22\\n5:2 6:6 11:13 11:24 quoted 38:6\\nR\\nR 3:1 race 34:17 35:3 raised 43:15 rationales 21:8 re-election 38:7 re-emphasize\\n50:21 reach 10:20 read 3:11 5:9,14\\n6:7 9:23 19:20 22:2,3 37:25 reading 13:13 13:21 15:6 16:7 21:21 24:15 37:3,3,5 51:24,24 52:1 reads 10:9 reaffirmed 26:6 really 13:11 36:11,12 39:16 46:25 reason 17:23 21:13 28:14 32:4 35:19 38:8 49:5,6,24 REBUTTAL 2:12 51:8 recall 34:5 rechartered 26:20 Red 5:18,20 6:3 6:4,16 7:2 11:6 11:6 14:2 16:4 16:17 20:1 21:2 24:4 26:6 26:14 29:12\\n\\n33:10,13 35:16 38:16,23 40:23 43:16,17,18,23 51:19 Redevelopment 48:14 refer 25:1 reference 3:20 4:25 5:1 6:12 9:1 25:16 references 53:14 referred 6:4 20:22 32:9 40:20 referring 5:12 refers 8:1 40:5 40:14,15 reform 31:23 registration 49:15 reinforce 25:14 related 37:12 relevant 43:20 rely 4:14 12:20 remained 43:4 remember 11:6 reminded 45:6 removal 39:24 45:1 remove 18:6 19:6 28:13 40:1 43:20 44:13 removed 18:9,13 22:10 removing 45:17 reopen 23:2 repeatedly 27:24 40:10 43:18 48:3 report 14:3 35:9 35:9 reports 46:2 require 5:9 24:9 requirements 10:16 requisite 25:7\\n\\nAlderson Reporting Company\\n\\n\\x0cOfficial - Subject to Final Review\\n\\n63\\n\\nres 22:5,12 research 33:3 resolution 19:8 resolved 30:24 respect 5:5\\n20:23 37:11,12 respectfully 8:6 Respondents\\n1:10,25 2:11 25:1 26:3 rest 37:25 restrict 27:25 restrictive 41:20 result 14:4,13 49:1 results 10:20,21 reverse 48:24 review 23:8,8 reviewed 38:15 revolves 52:1 right 7:5,11 11:11 13:14,18 13:19 17:19 20:12 27:5 28:17 29:10,25 31:2,16 36:8 39:4 41:9 49:10 51:19 right-to-sue 9:6 ROBERTS 3:3 12:18 15:21 25:24 26:1 33:17,20 38:25 47:6 49:4 50:1 51:6 54:8 role 50:8 Rosenkranz 1:19 2:3,13 3:6 3:7,9 4:8 6:2 6:25 7:6,9,12 8:5,16,21 9:14 9:25 12:3,22 13:10 14:10,19 14:24 20:15 21:3 51:7,8,10 52:15 53:11 rule 6:4,5 13:23\\n\\n16:3,17 23:16 24:24 25:16 26:7,16 29:12 33:7,9,15 rules 5:4\\nS\\nS 2:1 3:1 Sanders 29:6 sat 35:21 satisfied 10:17 satisfying 16:15 Savings 28:11 saying 8:25 31:5 says 6:15 7:4\\n8:11,22 10:11 11:8 15:7,17 17:16 20:15 28:16 33:21 36:5,5,5,14 44:7,8,10,10 44:12 52:5,16 scares 33:21 scheme 35:24 scratch 45:5 search 15:15 SEC 46:10 49:14 second 30:25 35:17 42:9,12 Section 25:15 48:11 securitization 46:10 see 7:3 14:6,9 17:2 21:16 23:14 24:22,22 36:11 Senate 35:9 46:2 Senator 38:5,6 38:22 47:9 senators 13:17 sense 13:24 46:17 sentence 5:8 54:3 separate 13:3\\n\\n29:9,10 45:1 separately 44:12 serious 39:17 sets 26:8 setting 7:17 seven 17:14\\n27:21 41:18 48:6 Seventh 19:22 severalfold 35:7 SG\\'s 30:14 shareholders 42:13 sheet 50:9 shift 11:15 51:2 Shoshone 4:24 29:6 show 10:2,4 28:6 shows 28:1,19 49:17 side 14:1 33:21 45:25,25 49:5 significant 39:3 49:3 51:2 similar 19:16 simple 15:2 simpler 14:18 51:23 simply 5:6 32:1 35:24 50:24 53:14 simultaneously 49:20 sister 27:14 35:5 45:23 sit 34:9 35:24 situation 9:2 six 35:24 38:17 41:18 slate 35:21 42:19 48:20 Solicitor 1:21 30:12 48:12,15 solution 26:22 solve 38:3 somebody 13:16\\n\\n38:20 46:25 sorry 33:17 sort 14:3 37:23 Sotomayor 9:5\\n9:21 12:1 17:4 17:18,20 18:2 19:14,20 21:20 22:2,11 28:2,5 28:8 32:16,21 44:16,19 53:9 sound 45:18 source 3:13 7:18 11:17,18,20 29:9,10 53:15 sources 4:23 44:3 Souter 6:5 Souter\\'s 5:18 sovereign 19:11 19:24 special 42:4,8,11 43:5 49:13 specialized 21:11,16 30:19 specific 8:1 16:18 34:18 41:7 specifically 5:25 6:8 43:16 spent 41:25 split 20:1 21:22 spoken 50:4 staffer 45:8,10 47:9 stand 22:6 standalone 32:9 standing 37:4 40:11 start 3:15 38:2 starting 45:4 State 3:19,22,23 5:13,14,15,16 6:16 8:11,14 8:20,22 10:12 14:8 15:5,17 16:9,19,25 18:17,18,21,23\\n\\n18:23,25 19:4 20:16,23 21:12 23:18,23,23,25 24:9 25:5 27:12,19 29:5 29:11,15 30:22 31:15 32:13 33:5 36:9,12 37:6 40:2 43:24 44:8 47:17,18 48:7 52:17 statement 5:18 5:19 8:2 States 1:1,16,23 2:7 8:13 15:24 20:17,20 25:19 35:18 40:13 41:21 42:9 46:19 49:12 status 43:10 statute 3:17 10:10 16:4,16 19:21 23:13 26:19 27:15,24 28:13 34:19 36:17 37:13,15 37:16,19,25 38:4,13 40:19 41:11,19 45:8 49:20 52:8,15 statutes 4:1 17:6 17:9,10,14 19:15 21:15 23:14,21 24:21 25:11 32:17 33:2 statutory 5:7,16 7:17 10:23 39:15 44:13 Step 10:25 11:4 11:15 stepping 39:1 steps 10:24 stock 25:19 stop 53:23 story 16:12\\n\\nAlderson Reporting Company\\n\\n\\x0cOfficial - Subject to Final Review\\n\\n64\\n\\nstraight 22:17 strong 26:6 stronger 14:1 strongest 24:13 strongly 41:17 structure 28:17\\n50:2 study 17:5 subject 19:5,12\\n23:5 40:6 41:7 subject-matter\\n3:14 4:4,7,9,12 4:16,18 10:1,3 16:21 19:25 20:6 21:25 22:8,12,17 23:1 25:18,22 27:3 31:16 33:13 39:13 40:14 41:17 52:23 subjective 44:19 submitted 54:9 54:11 subtract 24:10 sudden 15:17 suddenly 48:24 sue 3:18 5:22 6:15 8:4,11 16:5,9,19 18:20 19:3 26:12 31:8 40:1 44:7 52:16 sue-and-be-su... 6:6 13:1 16:13 17:15 19:10,23 20:2,7 21:1,4 31:7 32:17 sue-or-be-sued 9:18 11:21 12:16 sue-to-be 9:6 sued 3:18 6:15 8:4,11 16:6,9 16:19 19:4 26:13 31:8\\n\\n40:2 44:7 52:16 suffices 5:22 6:1 sufficient 6:13 41:16 sufficiently 42:11 suggests 49:5 suit 5:20,24 9:9 12:7 16:25 17:16 18:5 19:6,9 21:11 21:17 25:12 suits 12:2,4 support 14:3 supported 53:21 supporting 1:23 2:8 15:25 suppose 52:13 supposed 46:3,4 Supreme 1:1,16 38:21 sure 6:15 10:6 14:24 28:9 35:1 39:20 surely 43:9 surgery 45:1 surprising 6:22 suspect 39:7 suspenders 44:7\\nT\\nT 2:1,1 tagged 29:20 take 5:15 10:19\\n16:20 39:9 43:8 taken 36:15 53:12 takes 11:8 talk 4:15 36:3 44:6 talked 31:17 41:24 talking 5:19 7:21 22:14 27:20 41:25\\n\\ntapestry 41:21 tax 46:10 49:14 tea 26:21 tell 16:17 17:20\\n21:14 23:13 25:10 34:2 telling 21:11 tells 6:16 35:4 terms 30:7 46:14 Texas 38:1 text 16:16 41:24 51:3 textual 25:13 thank 3:9 15:20 15:21 23:9 25:24,25 26:4 51:4,6,10 54:7 54:8 theoretical 42:25 theory 42:24 theretofore 5:4 thing 14:2 15:13 28:3 30:5,25 34:22 35:7 45:25,25 48:3 things 5:10 14:7 22:2 30:1,4 31:13 34:25 40:6,25 52:3 think 4:12 6:3 6:14,19 13:8 13:14,25 16:12 17:23 19:25 20:14,18 22:1 22:4,7 24:12 25:14 28:13,19 30:1 31:13,21 32:1,4,12 35:25 38:22 39:3,5,7,7,17 40:21 45:15 thinking 31:22 thinks 34:13 52:3 thought 13:17 34:25\\n\\nthree 6:20 7:15 10:24 27:13,13 30:1,4 32:21 45:13 49:1 51:7\\ntime 12:25 13:19 18:16,25 27:17 28:15,22 30:17 30:21 31:18,21 32:10 34:6 35:20 39:21 41:22 43:9,21 44:22 45:20 49:13 50:15,18 51:20\\ntimes 3:15 4:21 7:15 12:13 27:13 33:6,7 42:10 45:13\\ntoday 33:8 38:15 49:24\\ntomorrow 15:19 torn 50:13 total 32:19 tough 6:18,19\\n24:11 traffic 21:12 transitioning\\n28:17 treasury 46:11\\n49:13 treat 42:3 49:18\\n53:18 treated 13:4\\n34:21 49:23,25 treating 49:6 trillion 46:18 troubled 17:10\\n17:22 true 7:20 9:20\\n43:14 44:1 truly 28:15 trumped 53:6 truth 43:1 try 46:24 trying 22:21\\n25:14 45:9\\n\\n51:18 Tucker 30:8\\n53:6 Tuesday 1:13 turn 11:8,11 turns 37:15\\n52:22 twice 7:17 two 6:20 17:23\\n19:17 29:7 32:6 36:25,25 40:6,18 42:14 49:16 two-thirds 49:9 twofold 31:20 typically 25:5\\nU\\nU.S 50:22 unanimously\\n31:15 32:2 38:21 Undersecretary 50:16 understand 28:9 29:2 37:10 41:12 understanding 31:19 48:17 understood 6:2 12:22 27:7 28:14 53:4 undisputed 34:12,14 42:16 unfolded 10:24 United 1:1,16,22 2:7 8:13 15:24 20:17,20 25:18 35:18 40:13 41:21 42:9 46:19 49:12 unquestionably 5:3 35:15 unrelated 37:19 Urban 17:25 44:24 urge 33:8 37:3\\n\\nAlderson Reporting Company\\n\\n\\x0cOfficial - Subject to Final Review\\n\\n65\\n\\nuse 16:18 17:6 20:20,24 22:21 29:18 45:16\\nuses 6:21 16:24 USG\\'s 53:9 utterly 37:19\\nV\\nv 1:6 3:4 29:6 40:13,17\\nV.A.\\'s 19:23 VA 18:11 various 24:20 vast 54:3,4 venue 11:25\\n12:4,5,6 52:6 verbatim 41:15 versions 32:22 vested 16:10\\n17:3 Veterans 18:1\\n19:16 view 16:3 46:1 viewed 9:12 vigorous 30:6 Volcker 50:15\\nW\\nWait 4:17 waive 19:24 waiver 19:11 wake 48:21 walks 12:11 want 7:7 13:17\\n13:19 18:22 22:3 23:21,23 24:1 36:2,19 39:20 42:7 45:12 47:19 wanted 8:8 16:13 20:19 25:22 28:20 34:20 46:8 49:25 50:11 51:12 53:24 wants 14:22 26:17\\n\\nWashington 1:12,22,24\\nwasn\\'t 21:24 38:14 47:12 50:11\\nway 3:11,24 6:3 6:14,23 7:1,3 8:9,19 10:9 15:12 17:11 19:21 21:21 22:3 23:2 24:4 26:8,18 30:20 31:12 34:21 40:21 43:22 45:17 50:10 51:13\\nways 21:23 26:17 39:19\\nwe\\'re 11:8 34:2 weak 26:21 weaker 6:24 7:2\\n14:4 weaving 41:22 welcome 14:23 went 11:19 weren\\'t 31:22 white 15:1 wholly 23:6 win 39:5,7 word 5:11 6:21\\n7:23 8:20 10:20,22 15:3 20:10 26:18 28:13 29:15,18 33:10 40:10 words 3:15 4:22 7:15 11:11 15:9,10 23:12 24:6,7,10 26:21 29:16,20 29:23 30:14 32:13 35:15,16 35:17,19 36:13 37:7 41:20 47:14 52:8,11 work 21:9 31:13 43:9 47:5\\n\\nworking 34:3 write 8:8,10\\n47:1 48:19 writing 35:21\\n42:18,19 48:20 written 44:21,22\\n47:25 wrong 45:16\\n51:16 52:10 wrote 5:7 13:16\\n46:25 47:2\\nX x 1:2,11 7:24\\nY Yeah 47:3,18 year 34:6 38:5\\n38:16 years 32:6 35:22\\n38:17 40:18 41:14,19 48:20 50:18 53:19 York 1:19 38:2\\nZ zero 29:5\\n0\\n1 1 10:25 11:04 1:17 3:2 12:02 54:10 1331 10:4 1345 43:6 44:11 1349 25:15 14-1055 1:5 3:4 1442 44:14 15 2:8 150 34:6 150-page 31:23 1702 48:11 1816 13:22 1934 37:10,15\\n37:20,23 1938 38:4,12,14 1940s 27:14\\n\\n1948 38:16,18 41:18\\n1954 11:4 15:12 16:13 21:7 26:19 27:16,22 31:23 32:7 39:16 43:2,3 45:8 47:24\\n1968 50:14 1970 35:8,20\\n42:14 46:2 50:11 1974 11:15 12:25 13:6 49:19 1984 40:13\\n2 2 11:4 20 41:14 200 48:20 2008 49:13 2016 1:13 257 5:19 26 2:11\\n3 3 2:4 11:15\\n46:18 30s 44:21 47:25 32 53:19\\n4 40s 28:22 30:3\\n44:21\\n5 50 25:19 50s 30:3 42:2\\n50:25 51 2:14 51/49 39:6,8 54 28:12,22\\n6 60 35:22 60,000 15:15,16\\n33:21\\n\\n60s 50:6 68 50:7\\n7 70 15:16 70s 49:24 51:1 781 33:4,7\\n8 8 1:13 80 42:12 80s 48:10\\n9\\n\\nAlderson Reporting Company\\n\\n\\x0c'"
      ]
     },
     "execution_count": 4,
     "metadata": {},
     "output_type": "execute_result"
    }
   ],
   "source": [
    "#Take a look at the text file\n",
    "sample_transcript"
   ]
  },
  {
   "cell_type": "code",
   "execution_count": null,
   "metadata": {
    "collapsed": true
   },
   "outputs": [],
   "source": []
  },
  {
   "cell_type": "code",
   "execution_count": 5,
   "metadata": {
    "collapsed": true
   },
   "outputs": [],
   "source": [
    "def parse_transcript(the_text):\n",
    "    remove_alderson = re.sub(r\"Alderson Reporting Company\", \"\", the_text, flags = re.IGNORECASE)\n",
    "    remove_official = re.sub(r'Official - Subject to Final Review', \"\", remove_alderson, flags = re.IGNORECASE)\n",
    "    remove_numbers = re.sub(r\"\\b([1-9]|1[0-9]|2[0-5])\\b\", \" \", remove_official) \n",
    "    new_split = re.split(r\"PROCEEDINGS\", remove_numbers)\n",
    "    new_clean = new_split[1]\n",
    "    edit_bottom = re.split(r\"above-entitled\", new_clean)\n",
    "    isolated_middle = edit_bottom[0]\n",
    "    edit_n = re.sub(r\"\\n\", \" \", isolated_middle)\n",
    "    edit_x = re.sub(r\"\\x0c\", \"\", edit_n) \n",
    "    replace1 = re.sub(r\"\\w+ ARGUMENT[^a-z]+THE PETITIONERS\", \"\", edit_x)\n",
    "    replace2 = re.sub(r\"\\w+ ARGUMENT[^a-z]+THE PETITIONER\", \"\", replace1)\n",
    "    replace3 = re.sub(r\"\\w+ ARGUMENT[^a-z]+THE RESPONDENTS\", \"\", replace2)\n",
    "    replace4 = re.sub(r\"\\w+ ARGUMENT[^a-z]+ (PETITIONER|RESPONDENT)S?\", \"\", replace3)\n",
    "    speakers = re.split(r\"([A-Z][A-Z.\\s]+):\", replace4)\n",
    "    del speakers[:3]\n",
    "    full_list = list(zip(speakers[0::2], speakers[1::2]))\n",
    "    return full_list"
   ]
  },
  {
   "cell_type": "code",
   "execution_count": 6,
   "metadata": {},
   "outputs": [
    {
     "ename": "NameError",
     "evalue": "name 're' is not defined",
     "output_type": "error",
     "traceback": [
      "\u001b[0;31m---------------------------------------------------------------------------\u001b[0m",
      "\u001b[0;31mNameError\u001b[0m                                 Traceback (most recent call last)",
      "\u001b[0;32m<ipython-input-6-b27227c5735f>\u001b[0m in \u001b[0;36m<module>\u001b[0;34m()\u001b[0m\n\u001b[0;32m----> 1\u001b[0;31m \u001b[0mparse_transcript\u001b[0m\u001b[0;34m(\u001b[0m\u001b[0msample_transcript\u001b[0m\u001b[0;34m)\u001b[0m\u001b[0;34m\u001b[0m\u001b[0m\n\u001b[0m",
      "\u001b[0;32m<ipython-input-5-f09f98166bd3>\u001b[0m in \u001b[0;36mparse_transcript\u001b[0;34m(the_text)\u001b[0m\n\u001b[1;32m      1\u001b[0m \u001b[0;32mdef\u001b[0m \u001b[0mparse_transcript\u001b[0m\u001b[0;34m(\u001b[0m\u001b[0mthe_text\u001b[0m\u001b[0;34m)\u001b[0m\u001b[0;34m:\u001b[0m\u001b[0;34m\u001b[0m\u001b[0m\n\u001b[0;32m----> 2\u001b[0;31m     \u001b[0mremove_alderson\u001b[0m \u001b[0;34m=\u001b[0m \u001b[0mre\u001b[0m\u001b[0;34m.\u001b[0m\u001b[0msub\u001b[0m\u001b[0;34m(\u001b[0m\u001b[0;34mr\"Alderson Reporting Company\"\u001b[0m\u001b[0;34m,\u001b[0m \u001b[0;34m\"\"\u001b[0m\u001b[0;34m,\u001b[0m \u001b[0mthe_text\u001b[0m\u001b[0;34m,\u001b[0m \u001b[0mflags\u001b[0m \u001b[0;34m=\u001b[0m \u001b[0mre\u001b[0m\u001b[0;34m.\u001b[0m\u001b[0mIGNORECASE\u001b[0m\u001b[0;34m)\u001b[0m\u001b[0;34m\u001b[0m\u001b[0m\n\u001b[0m\u001b[1;32m      3\u001b[0m     \u001b[0mremove_official\u001b[0m \u001b[0;34m=\u001b[0m \u001b[0mre\u001b[0m\u001b[0;34m.\u001b[0m\u001b[0msub\u001b[0m\u001b[0;34m(\u001b[0m\u001b[0;34mr'Official - Subject to Final Review'\u001b[0m\u001b[0;34m,\u001b[0m \u001b[0;34m\"\"\u001b[0m\u001b[0;34m,\u001b[0m \u001b[0mremove_alderson\u001b[0m\u001b[0;34m,\u001b[0m \u001b[0mflags\u001b[0m \u001b[0;34m=\u001b[0m \u001b[0mre\u001b[0m\u001b[0;34m.\u001b[0m\u001b[0mIGNORECASE\u001b[0m\u001b[0;34m)\u001b[0m\u001b[0;34m\u001b[0m\u001b[0m\n\u001b[1;32m      4\u001b[0m     \u001b[0mremove_numbers\u001b[0m \u001b[0;34m=\u001b[0m \u001b[0mre\u001b[0m\u001b[0;34m.\u001b[0m\u001b[0msub\u001b[0m\u001b[0;34m(\u001b[0m\u001b[0;34mr\"\\b([1-9]|1[0-9]|2[0-5])\\b\"\u001b[0m\u001b[0;34m,\u001b[0m \u001b[0;34m\" \"\u001b[0m\u001b[0;34m,\u001b[0m \u001b[0mremove_official\u001b[0m\u001b[0;34m)\u001b[0m\u001b[0;34m\u001b[0m\u001b[0m\n\u001b[1;32m      5\u001b[0m     \u001b[0mnew_split\u001b[0m \u001b[0;34m=\u001b[0m \u001b[0mre\u001b[0m\u001b[0;34m.\u001b[0m\u001b[0msplit\u001b[0m\u001b[0;34m(\u001b[0m\u001b[0;34mr\"PROCEEDINGS\"\u001b[0m\u001b[0;34m,\u001b[0m \u001b[0mremove_numbers\u001b[0m\u001b[0;34m)\u001b[0m\u001b[0;34m\u001b[0m\u001b[0m\n",
      "\u001b[0;31mNameError\u001b[0m: name 're' is not defined"
     ]
    }
   ],
   "source": [
    "parse_transcript(sample_transcript)"
   ]
  },
  {
   "cell_type": "code",
   "execution_count": 7,
   "metadata": {
    "scrolled": true
   },
   "outputs": [
    {
     "ename": "NameError",
     "evalue": "name 'array' is not defined",
     "output_type": "error",
     "traceback": [
      "\u001b[0;31m---------------------------------------------------------------------------\u001b[0m",
      "\u001b[0;31mNameError\u001b[0m                                 Traceback (most recent call last)",
      "\u001b[0;32m<ipython-input-7-b2bb34d72d28>\u001b[0m in \u001b[0;36m<module>\u001b[0;34m()\u001b[0m\n\u001b[1;32m      2\u001b[0m \u001b[0mlist_of_cases\u001b[0m \u001b[0;34m=\u001b[0m \u001b[0;34m[\u001b[0m\u001b[0;34m]\u001b[0m\u001b[0;34m\u001b[0m\u001b[0m\n\u001b[1;32m      3\u001b[0m \u001b[0mpath\u001b[0m \u001b[0;34m=\u001b[0m \u001b[0;34m'pdfs/'\u001b[0m\u001b[0;34m\u001b[0m\u001b[0m\n\u001b[0;32m----> 4\u001b[0;31m \u001b[0;32mfor\u001b[0m \u001b[0mfile_name\u001b[0m \u001b[0;32min\u001b[0m \u001b[0marray\u001b[0m\u001b[0;34m:\u001b[0m\u001b[0;34m\u001b[0m\u001b[0m\n\u001b[0m\u001b[1;32m      5\u001b[0m     \u001b[0mprint\u001b[0m\u001b[0;34m(\u001b[0m\u001b[0mfile_name\u001b[0m\u001b[0;34m)\u001b[0m\u001b[0;34m\u001b[0m\u001b[0m\n\u001b[1;32m      6\u001b[0m     \u001b[0;32mif\u001b[0m \u001b[0mfile_name\u001b[0m \u001b[0;34m!=\u001b[0m \u001b[0;34m'15-1358_7648'\u001b[0m \u001b[0;32mand\u001b[0m \u001b[0mfile_name\u001b[0m \u001b[0;34m!=\u001b[0m \u001b[0;34m'15-577_l64n'\u001b[0m \u001b[0;32mand\u001b[0m \u001b[0mfile_name\u001b[0m \u001b[0;34m!=\u001b[0m \u001b[0;34m'15-866_j426'\u001b[0m \u001b[0;32mand\u001b[0m \u001b[0mfile_name\u001b[0m \u001b[0;34m!=\u001b[0m \u001b[0;34m'16-32_mlho'\u001b[0m \u001b[0;32mand\u001b[0m \u001b[0mfile_name\u001b[0m\u001b[0;34m!=\u001b[0m \u001b[0;34m'16-466_4g15'\u001b[0m \u001b[0;32mand\u001b[0m \u001b[0mfile_name\u001b[0m \u001b[0;34m!=\u001b[0m\u001b[0;34m'16-529_21p3'\u001b[0m\u001b[0;34m:\u001b[0m\u001b[0;34m\u001b[0m\u001b[0m\n",
      "\u001b[0;31mNameError\u001b[0m: name 'array' is not defined"
     ]
    }
   ],
   "source": [
    "#looping through several cases\n",
    "list_of_cases = []\n",
    "path = 'pdfs/'\n",
    "for file_name in array:\n",
    "    print(file_name)\n",
    "    if file_name != '15-1358_7648' and file_name != '15-577_l64n' and file_name != '15-866_j426' and file_name != '16-32_mlho' and file_name!= '16-466_4g15' and file_name !='16-529_21p3':\n",
    "        f = open(path + file_name + '.txt', 'r')\n",
    "        sample_transcript = f.read()\n",
    "        this_list = parse_transcript(sample_transcript)   \n",
    "        better_list = []\n",
    "        for each in this_list:\n",
    "            entry = list(each)\n",
    "            entry.append(file_name)\n",
    "            better_list.append(entry)\n",
    "        this_list.append(file_name)\n",
    "        list_of_cases.extend(better_list)"
   ]
  },
  {
   "cell_type": "code",
   "execution_count": 8,
   "metadata": {},
   "outputs": [
    {
     "data": {
      "text/html": [
       "<div>\n",
       "<style>\n",
       "    .dataframe thead tr:only-child th {\n",
       "        text-align: right;\n",
       "    }\n",
       "\n",
       "    .dataframe thead th {\n",
       "        text-align: left;\n",
       "    }\n",
       "\n",
       "    .dataframe tbody tr th {\n",
       "        vertical-align: top;\n",
       "    }\n",
       "</style>\n",
       "<table border=\"1\" class=\"dataframe\">\n",
       "  <thead>\n",
       "    <tr style=\"text-align: right;\">\n",
       "      <th></th>\n",
       "      <th>Speaker</th>\n",
       "      <th>Speech</th>\n",
       "      <th>PDF</th>\n",
       "    </tr>\n",
       "  </thead>\n",
       "  <tbody>\n",
       "  </tbody>\n",
       "</table>\n",
       "</div>"
      ],
      "text/plain": [
       "Empty DataFrame\n",
       "Columns: [Speaker, Speech, PDF]\n",
       "Index: []"
      ]
     },
     "execution_count": 8,
     "metadata": {},
     "output_type": "execute_result"
    }
   ],
   "source": [
    "import pandas as pd\n",
    "col_names = ['Speaker','Speech', 'PDF']\n",
    "df2 = pd.DataFrame.from_records(list_of_cases, columns=col_names)\n",
    "df2.head()"
   ]
  },
  {
   "cell_type": "markdown",
   "metadata": {},
   "source": [
    "MERGING THE TWO DATAFRAMES "
   ]
  },
  {
   "cell_type": "code",
   "execution_count": 9,
   "metadata": {},
   "outputs": [
    {
     "ename": "NameError",
     "evalue": "name 'df' is not defined",
     "output_type": "error",
     "traceback": [
      "\u001b[0;31m---------------------------------------------------------------------------\u001b[0m",
      "\u001b[0;31mNameError\u001b[0m                                 Traceback (most recent call last)",
      "\u001b[0;32m<ipython-input-9-38ddbb26b2af>\u001b[0m in \u001b[0;36m<module>\u001b[0;34m()\u001b[0m\n\u001b[0;32m----> 1\u001b[0;31m \u001b[0mcombined_df\u001b[0m \u001b[0;34m=\u001b[0m \u001b[0mdf2\u001b[0m\u001b[0;34m.\u001b[0m\u001b[0mmerge\u001b[0m\u001b[0;34m(\u001b[0m\u001b[0mdf\u001b[0m\u001b[0;34m,\u001b[0m \u001b[0mleft_on\u001b[0m\u001b[0;34m=\u001b[0m\u001b[0;34m'PDF'\u001b[0m\u001b[0;34m,\u001b[0m \u001b[0mright_on\u001b[0m\u001b[0;34m=\u001b[0m\u001b[0;34m'case_id'\u001b[0m\u001b[0;34m)\u001b[0m\u001b[0;34m\u001b[0m\u001b[0m\n\u001b[0m\u001b[1;32m      2\u001b[0m \u001b[0mcombined_df\u001b[0m\u001b[0;34m.\u001b[0m\u001b[0mshape\u001b[0m\u001b[0;34m\u001b[0m\u001b[0m\n",
      "\u001b[0;31mNameError\u001b[0m: name 'df' is not defined"
     ]
    }
   ],
   "source": [
    "combined_df = df2.merge(df, left_on='PDF', right_on='case_id')\n",
    "combined_df.shape"
   ]
  },
  {
   "cell_type": "code",
   "execution_count": 10,
   "metadata": {
    "scrolled": true
   },
   "outputs": [
    {
     "ename": "NameError",
     "evalue": "name 'combined_df' is not defined",
     "output_type": "error",
     "traceback": [
      "\u001b[0;31m---------------------------------------------------------------------------\u001b[0m",
      "\u001b[0;31mNameError\u001b[0m                                 Traceback (most recent call last)",
      "\u001b[0;32m<ipython-input-10-734955c2a693>\u001b[0m in \u001b[0;36m<module>\u001b[0;34m()\u001b[0m\n\u001b[0;32m----> 1\u001b[0;31m \u001b[0mcombined_df\u001b[0m\u001b[0;34m[\u001b[0m\u001b[0;34m'Speaker'\u001b[0m\u001b[0;34m]\u001b[0m\u001b[0;34m.\u001b[0m\u001b[0mvalue_counts\u001b[0m\u001b[0;34m(\u001b[0m\u001b[0;34m)\u001b[0m\u001b[0;34m\u001b[0m\u001b[0m\n\u001b[0m",
      "\u001b[0;31mNameError\u001b[0m: name 'combined_df' is not defined"
     ]
    }
   ],
   "source": [
    "combined_df['Speaker'].value_counts()\n"
   ]
  },
  {
   "cell_type": "code",
   "execution_count": 11,
   "metadata": {},
   "outputs": [
    {
     "ename": "NameError",
     "evalue": "name 'combined_df' is not defined",
     "output_type": "error",
     "traceback": [
      "\u001b[0;31m---------------------------------------------------------------------------\u001b[0m",
      "\u001b[0;31mNameError\u001b[0m                                 Traceback (most recent call last)",
      "\u001b[0;32m<ipython-input-11-4058de89bba6>\u001b[0m in \u001b[0;36m<module>\u001b[0;34m()\u001b[0m\n\u001b[0;32m----> 1\u001b[0;31m \u001b[0mcombined_df\u001b[0m\u001b[0;34m.\u001b[0m\u001b[0mshape\u001b[0m\u001b[0;34m\u001b[0m\u001b[0m\n\u001b[0m",
      "\u001b[0;31mNameError\u001b[0m: name 'combined_df' is not defined"
     ]
    }
   ],
   "source": [
    "combined_df.shape"
   ]
  },
  {
   "cell_type": "code",
   "execution_count": 12,
   "metadata": {},
   "outputs": [
    {
     "ename": "NameError",
     "evalue": "name 'combined_df' is not defined",
     "output_type": "error",
     "traceback": [
      "\u001b[0;31m---------------------------------------------------------------------------\u001b[0m",
      "\u001b[0;31mNameError\u001b[0m                                 Traceback (most recent call last)",
      "\u001b[0;32m<ipython-input-12-a6d91fd4085f>\u001b[0m in \u001b[0;36m<module>\u001b[0;34m()\u001b[0m\n\u001b[1;32m      2\u001b[0m \u001b[0;32mimport\u001b[0m \u001b[0mre\u001b[0m\u001b[0;34m\u001b[0m\u001b[0m\n\u001b[1;32m      3\u001b[0m \u001b[0;31m#https://docs.python.org/2/library/collections.html\u001b[0m\u001b[0;34m\u001b[0m\u001b[0;34m\u001b[0m\u001b[0m\n\u001b[0;32m----> 4\u001b[0;31m \u001b[0mwordcount\u001b[0m \u001b[0;34m=\u001b[0m \u001b[0mcombined_df\u001b[0m\u001b[0;34m.\u001b[0m\u001b[0mgroupby\u001b[0m\u001b[0;34m(\u001b[0m\u001b[0;34m[\u001b[0m\u001b[0;34m\"Speaker\"\u001b[0m\u001b[0;34m]\u001b[0m\u001b[0;34m)\u001b[0m\u001b[0;34m.\u001b[0m\u001b[0msum\u001b[0m\u001b[0;34m(\u001b[0m\u001b[0;34m)\u001b[0m\u001b[0;34m.\u001b[0m\u001b[0mapplymap\u001b[0m\u001b[0;34m(\u001b[0m\u001b[0;32mlambda\u001b[0m \u001b[0mwords\u001b[0m\u001b[0;34m:\u001b[0m \u001b[0mCounter\u001b[0m\u001b[0;34m(\u001b[0m\u001b[0mre\u001b[0m\u001b[0;34m.\u001b[0m\u001b[0mfindall\u001b[0m\u001b[0;34m(\u001b[0m\u001b[0;34mr\"\\b\\w{6,}\\b\"\u001b[0m\u001b[0;34m,\u001b[0m\u001b[0mwords\u001b[0m\u001b[0;34m.\u001b[0m\u001b[0mlower\u001b[0m\u001b[0;34m(\u001b[0m\u001b[0;34m)\u001b[0m\u001b[0;34m)\u001b[0m\u001b[0;34m)\u001b[0m\u001b[0;34m.\u001b[0m\u001b[0mmost_common\u001b[0m\u001b[0;34m(\u001b[0m\u001b[0;34m)\u001b[0m\u001b[0;34m)\u001b[0m\u001b[0;34m\u001b[0m\u001b[0m\n\u001b[0m",
      "\u001b[0;31mNameError\u001b[0m: name 'combined_df' is not defined"
     ]
    }
   ],
   "source": [
    "from collections import Counter\n",
    "import re\n",
    "#https://docs.python.org/2/library/collections.html\n",
    "wordcount = combined_df.groupby([\"Speaker\"]).sum().applymap(lambda words: Counter(re.findall(r\"\\b\\w{6,}\\b\",words.lower())).most_common())"
   ]
  },
  {
   "cell_type": "code",
   "execution_count": 13,
   "metadata": {},
   "outputs": [
    {
     "ename": "NameError",
     "evalue": "name 'wordcount' is not defined",
     "output_type": "error",
     "traceback": [
      "\u001b[0;31m---------------------------------------------------------------------------\u001b[0m",
      "\u001b[0;31mNameError\u001b[0m                                 Traceback (most recent call last)",
      "\u001b[0;32m<ipython-input-13-3e36e5f566a8>\u001b[0m in \u001b[0;36m<module>\u001b[0;34m()\u001b[0m\n\u001b[0;32m----> 1\u001b[0;31m \u001b[0mwordcount\u001b[0m\u001b[0;34m\u001b[0m\u001b[0m\n\u001b[0m",
      "\u001b[0;31mNameError\u001b[0m: name 'wordcount' is not defined"
     ]
    }
   ],
   "source": [
    "wordcount"
   ]
  },
  {
   "cell_type": "code",
   "execution_count": 14,
   "metadata": {},
   "outputs": [
    {
     "ename": "NameError",
     "evalue": "name 'combined_df' is not defined",
     "output_type": "error",
     "traceback": [
      "\u001b[0;31m---------------------------------------------------------------------------\u001b[0m",
      "\u001b[0;31mNameError\u001b[0m                                 Traceback (most recent call last)",
      "\u001b[0;32m<ipython-input-14-8689736e65d9>\u001b[0m in \u001b[0;36m<module>\u001b[0;34m()\u001b[0m\n\u001b[0;32m----> 1\u001b[0;31m \u001b[0mlen\u001b[0m\u001b[0;34m(\u001b[0m\u001b[0mcombined_df\u001b[0m\u001b[0;34m[\u001b[0m\u001b[0;34m'Speaker'\u001b[0m\u001b[0;34m]\u001b[0m\u001b[0;34m)\u001b[0m\u001b[0;34m\u001b[0m\u001b[0m\n\u001b[0m",
      "\u001b[0;31mNameError\u001b[0m: name 'combined_df' is not defined"
     ]
    }
   ],
   "source": [
    "len(combined_df['Speaker'])"
   ]
  },
  {
   "cell_type": "code",
   "execution_count": 15,
   "metadata": {
    "scrolled": true
   },
   "outputs": [
    {
     "ename": "NameError",
     "evalue": "name 'combined_df' is not defined",
     "output_type": "error",
     "traceback": [
      "\u001b[0;31m---------------------------------------------------------------------------\u001b[0m",
      "\u001b[0;31mNameError\u001b[0m                                 Traceback (most recent call last)",
      "\u001b[0;32m<ipython-input-15-08931e07f73a>\u001b[0m in \u001b[0;36m<module>\u001b[0;34m()\u001b[0m\n\u001b[0;32m----> 1\u001b[0;31m \u001b[0mcombined_df\u001b[0m\u001b[0;34m.\u001b[0m\u001b[0mgroupby\u001b[0m\u001b[0;34m(\u001b[0m\u001b[0;34m'Speaker'\u001b[0m\u001b[0;34m)\u001b[0m\u001b[0;34m[\u001b[0m\u001b[0;34m'Speech'\u001b[0m\u001b[0;34m]\u001b[0m\u001b[0;34m.\u001b[0m\u001b[0mnunique\u001b[0m\u001b[0;34m(\u001b[0m\u001b[0;34m)\u001b[0m\u001b[0;34m.\u001b[0m\u001b[0msort_values\u001b[0m\u001b[0;34m(\u001b[0m\u001b[0mascending\u001b[0m\u001b[0;34m=\u001b[0m\u001b[0;32mTrue\u001b[0m\u001b[0;34m)\u001b[0m\u001b[0;34m\u001b[0m\u001b[0m\n\u001b[0m",
      "\u001b[0;31mNameError\u001b[0m: name 'combined_df' is not defined"
     ]
    }
   ],
   "source": [
    "combined_df.groupby('Speaker')['Speech'].nunique().sort_values(ascending=True)"
   ]
  },
  {
   "cell_type": "code",
   "execution_count": 16,
   "metadata": {
    "collapsed": true
   },
   "outputs": [],
   "source": [
    "#combined_df['Speaker'].str.contains('ROBERTS').value_counts()\n",
    "#combined_df['Speaker'].str.contains('ALITO').value_counts()\n",
    "#combined_df['Speaker'].str.contains('THOMAS').value_counts()\n",
    "#combined_df['Speaker'].str.contains('KENNEDY').value_counts()\n",
    "#combined_df['Speaker'].str.contains('KAGAN').value_counts()\n",
    "#combined_df['Speaker'].str.contains('ROBERTS').value_counts()\n",
    "#combined_df['Speaker'].str.contains('SOTOMAYOR').value_counts()\n",
    "#combined_df['Speaker'].str.contains('JUSTICE').value_counts()\n",
    "#combined_df['Speaker'].str.contains('MR').value_counts()\n",
    "#combined_df['Speaker'].str.contains('MS').value_counts()"
   ]
  },
  {
   "cell_type": "code",
   "execution_count": 17,
   "metadata": {
    "scrolled": true
   },
   "outputs": [
    {
     "data": {
      "text/html": [
       "<div>\n",
       "<style>\n",
       "    .dataframe thead tr:only-child th {\n",
       "        text-align: right;\n",
       "    }\n",
       "\n",
       "    .dataframe thead th {\n",
       "        text-align: left;\n",
       "    }\n",
       "\n",
       "    .dataframe tbody tr th {\n",
       "        vertical-align: top;\n",
       "    }\n",
       "</style>\n",
       "<table border=\"1\" class=\"dataframe\">\n",
       "  <thead>\n",
       "    <tr style=\"text-align: right;\">\n",
       "      <th></th>\n",
       "      <th>Docket Number</th>\n",
       "      <th>State</th>\n",
       "      <th>Date Argued</th>\n",
       "      <th>Date Decided</th>\n",
       "      <th>Area*</th>\n",
       "      <th>Decision</th>\n",
       "      <th>Status</th>\n",
       "      <th>Court Leaning</th>\n",
       "      <th>Previous Court</th>\n",
       "      <th>City</th>\n",
       "      <th>Latitude</th>\n",
       "      <th>Longitude</th>\n",
       "    </tr>\n",
       "  </thead>\n",
       "  <tbody>\n",
       "    <tr>\n",
       "      <th>0</th>\n",
       "      <td>14-1055</td>\n",
       "      <td>California</td>\n",
       "      <td>06/28/16</td>\n",
       "      <td>01/18/17</td>\n",
       "      <td>Economic Activity</td>\n",
       "      <td>8-0</td>\n",
       "      <td>affirmed</td>\n",
       "      <td>Major Majority</td>\n",
       "      <td>9th Circuit</td>\n",
       "      <td>Pasadena, California</td>\n",
       "      <td>34.147785</td>\n",
       "      <td>-118.144516</td>\n",
       "    </tr>\n",
       "    <tr>\n",
       "      <th>1</th>\n",
       "      <td>14-1538</td>\n",
       "      <td>Wisconsin</td>\n",
       "      <td>06/27/16</td>\n",
       "      <td>02/22/17</td>\n",
       "      <td>Economic Activity</td>\n",
       "      <td>7-0</td>\n",
       "      <td>reversed</td>\n",
       "      <td>Major Majority</td>\n",
       "      <td>District Court for the Western District of Wis...</td>\n",
       "      <td>Madison, Wisconsin</td>\n",
       "      <td>43.073052</td>\n",
       "      <td>-89.401230</td>\n",
       "    </tr>\n",
       "    <tr>\n",
       "      <th>2</th>\n",
       "      <td>14-9496</td>\n",
       "      <td>Illinois</td>\n",
       "      <td>01/15/16</td>\n",
       "      <td>03/21/17</td>\n",
       "      <td>Civil Rights</td>\n",
       "      <td>6-2</td>\n",
       "      <td>affirmed</td>\n",
       "      <td>Major Majority</td>\n",
       "      <td>7th Circuit</td>\n",
       "      <td>Joilet, Illinois</td>\n",
       "      <td>41.525031</td>\n",
       "      <td>-88.081725</td>\n",
       "    </tr>\n",
       "    <tr>\n",
       "      <th>3</th>\n",
       "      <td>15-118</td>\n",
       "      <td>Texas</td>\n",
       "      <td>10/11/16</td>\n",
       "      <td>06/26/17</td>\n",
       "      <td>Immigration</td>\n",
       "      <td>NaN</td>\n",
       "      <td>vacated</td>\n",
       "      <td>Vacated</td>\n",
       "      <td>5th Circuit</td>\n",
       "      <td>San Antonio, Texas</td>\n",
       "      <td>29.424122</td>\n",
       "      <td>-98.493628</td>\n",
       "    </tr>\n",
       "    <tr>\n",
       "      <th>4</th>\n",
       "      <td>15-214</td>\n",
       "      <td>Wisconsin</td>\n",
       "      <td>01/15/16</td>\n",
       "      <td>06/23/17</td>\n",
       "      <td>Economic Activity</td>\n",
       "      <td>5-3</td>\n",
       "      <td>affirmed</td>\n",
       "      <td>Liberal</td>\n",
       "      <td>Wisconsin Court Of Appeals District III</td>\n",
       "      <td>St. Croix County, Wisconsin</td>\n",
       "      <td>45.049784</td>\n",
       "      <td>-92.387569</td>\n",
       "    </tr>\n",
       "    <tr>\n",
       "      <th>5</th>\n",
       "      <td>15-423</td>\n",
       "      <td>Washington, D.C.</td>\n",
       "      <td>06/28/16</td>\n",
       "      <td>05/01/17</td>\n",
       "      <td>Economic Activity</td>\n",
       "      <td>8-0</td>\n",
       "      <td>reversed</td>\n",
       "      <td>Major Majority</td>\n",
       "      <td>United States District Court for the District ...</td>\n",
       "      <td>Washington, D.C.</td>\n",
       "      <td>38.907192</td>\n",
       "      <td>-77.036871</td>\n",
       "    </tr>\n",
       "    <tr>\n",
       "      <th>6</th>\n",
       "      <td>15-457</td>\n",
       "      <td>California</td>\n",
       "      <td>01/15/16</td>\n",
       "      <td>06/12/17</td>\n",
       "      <td>Economic Activity</td>\n",
       "      <td>8-0</td>\n",
       "      <td>reversed</td>\n",
       "      <td>Major Majority</td>\n",
       "      <td>9th Circuit</td>\n",
       "      <td>Seattle, Washington</td>\n",
       "      <td>47.606209</td>\n",
       "      <td>-122.332071</td>\n",
       "    </tr>\n",
       "    <tr>\n",
       "      <th>7</th>\n",
       "      <td>15-497</td>\n",
       "      <td>Michigan</td>\n",
       "      <td>06/28/16</td>\n",
       "      <td>02/22/17</td>\n",
       "      <td>Civil Rights</td>\n",
       "      <td>8-0</td>\n",
       "      <td>affirmed</td>\n",
       "      <td>Major Majority</td>\n",
       "      <td>6th Circuit</td>\n",
       "      <td>Detriot, Michigan</td>\n",
       "      <td>42.331427</td>\n",
       "      <td>-83.045754</td>\n",
       "    </tr>\n",
       "    <tr>\n",
       "      <th>8</th>\n",
       "      <td>15-513</td>\n",
       "      <td>Louisiana</td>\n",
       "      <td>11/01/16</td>\n",
       "      <td>Pending</td>\n",
       "      <td>Economic Activity</td>\n",
       "      <td>8-0</td>\n",
       "      <td>reversed</td>\n",
       "      <td>Major Majority</td>\n",
       "      <td>5th Circuit</td>\n",
       "      <td>Gulf Port, Mississippi</td>\n",
       "      <td>30.367420</td>\n",
       "      <td>-89.092816</td>\n",
       "    </tr>\n",
       "    <tr>\n",
       "      <th>9</th>\n",
       "      <td>15-537</td>\n",
       "      <td>Puerto Rico</td>\n",
       "      <td>10/04/16</td>\n",
       "      <td>11/29/16</td>\n",
       "      <td>Criminal Procedure</td>\n",
       "      <td>8-0</td>\n",
       "      <td>reversed</td>\n",
       "      <td>Major Majority</td>\n",
       "      <td>1st Circuit</td>\n",
       "      <td>Puerto Rico</td>\n",
       "      <td>18.220833</td>\n",
       "      <td>-66.590149</td>\n",
       "    </tr>\n",
       "    <tr>\n",
       "      <th>10</th>\n",
       "      <td>15-577</td>\n",
       "      <td>Missouri</td>\n",
       "      <td>04/19/17</td>\n",
       "      <td>06/26/17</td>\n",
       "      <td>First Amendment</td>\n",
       "      <td>7–2</td>\n",
       "      <td>affirmed</td>\n",
       "      <td>Conservative</td>\n",
       "      <td>8th Circuit</td>\n",
       "      <td>Columumbia, Missouri</td>\n",
       "      <td>38.951705</td>\n",
       "      <td>-92.334072</td>\n",
       "    </tr>\n",
       "    <tr>\n",
       "      <th>11</th>\n",
       "      <td>15-606</td>\n",
       "      <td>Colorado</td>\n",
       "      <td>10/11/16</td>\n",
       "      <td>03/06/17</td>\n",
       "      <td>Civil Rights</td>\n",
       "      <td>5-3</td>\n",
       "      <td>affirmed</td>\n",
       "      <td>Liberal</td>\n",
       "      <td>Supreme Court for the State of Colorado</td>\n",
       "      <td>Denver, Colorado</td>\n",
       "      <td>39.739236</td>\n",
       "      <td>-104.990251</td>\n",
       "    </tr>\n",
       "    <tr>\n",
       "      <th>12</th>\n",
       "      <td>15-628</td>\n",
       "      <td>California</td>\n",
       "      <td>10/05/16</td>\n",
       "      <td>12/06/17</td>\n",
       "      <td>Economic Activity</td>\n",
       "      <td>8-0</td>\n",
       "      <td>reversed</td>\n",
       "      <td>Major Majority</td>\n",
       "      <td>9th Circuit</td>\n",
       "      <td>San Carlos, California</td>\n",
       "      <td>37.507159</td>\n",
       "      <td>-122.260522</td>\n",
       "    </tr>\n",
       "    <tr>\n",
       "      <th>13</th>\n",
       "      <td>15-649</td>\n",
       "      <td>New Jersey</td>\n",
       "      <td>12/07/16</td>\n",
       "      <td>03/27/17</td>\n",
       "      <td>Economic Activity</td>\n",
       "      <td>6-2</td>\n",
       "      <td>reversed</td>\n",
       "      <td>Liberal</td>\n",
       "      <td>3rd Circuit</td>\n",
       "      <td>Wilmington, Deleware</td>\n",
       "      <td>39.739072</td>\n",
       "      <td>-75.539788</td>\n",
       "    </tr>\n",
       "    <tr>\n",
       "      <th>14</th>\n",
       "      <td>15-680</td>\n",
       "      <td>Virginia</td>\n",
       "      <td>12/05/16</td>\n",
       "      <td>03/01/17</td>\n",
       "      <td>Civil Rights</td>\n",
       "      <td>8-0</td>\n",
       "      <td>affirmed</td>\n",
       "      <td>Major Majority</td>\n",
       "      <td>District Court of Virginia</td>\n",
       "      <td>Richmond, Virginia</td>\n",
       "      <td>37.540725</td>\n",
       "      <td>-77.436048</td>\n",
       "    </tr>\n",
       "    <tr>\n",
       "      <th>15</th>\n",
       "      <td>15-777</td>\n",
       "      <td>California</td>\n",
       "      <td>10/11/16</td>\n",
       "      <td>12/06/16</td>\n",
       "      <td>Economic Activity</td>\n",
       "      <td>8-0</td>\n",
       "      <td>affirmed</td>\n",
       "      <td>Major Majority</td>\n",
       "      <td>Court of Appeals for the Federal Court</td>\n",
       "      <td>San Francisco, California</td>\n",
       "      <td>37.774929</td>\n",
       "      <td>-122.419416</td>\n",
       "    </tr>\n",
       "    <tr>\n",
       "      <th>16</th>\n",
       "      <td>15-797</td>\n",
       "      <td>Texas</td>\n",
       "      <td>11/29/16</td>\n",
       "      <td>03/28/17</td>\n",
       "      <td>Criminal Procedure</td>\n",
       "      <td>5-3</td>\n",
       "      <td>Affirmed</td>\n",
       "      <td>Liberal</td>\n",
       "      <td>Criminal Court of Appeals of Texas</td>\n",
       "      <td>Houston, Texas</td>\n",
       "      <td>29.760427</td>\n",
       "      <td>-95.369803</td>\n",
       "    </tr>\n",
       "    <tr>\n",
       "      <th>17</th>\n",
       "      <td>15-827</td>\n",
       "      <td>Colorado</td>\n",
       "      <td>01/11/17</td>\n",
       "      <td>03/22/17</td>\n",
       "      <td>Civil Rights</td>\n",
       "      <td>8-0</td>\n",
       "      <td>Vacated and Remanded</td>\n",
       "      <td>Major Majority</td>\n",
       "      <td>10th Circuit</td>\n",
       "      <td>Castle Rock, Colorado</td>\n",
       "      <td>39.372212</td>\n",
       "      <td>-104.856090</td>\n",
       "    </tr>\n",
       "    <tr>\n",
       "      <th>18</th>\n",
       "      <td>15-866</td>\n",
       "      <td>Tennessee</td>\n",
       "      <td>10/31/16</td>\n",
       "      <td>03/22/17</td>\n",
       "      <td>Economic Activity</td>\n",
       "      <td>6-2</td>\n",
       "      <td>Affirmed</td>\n",
       "      <td>Mixed</td>\n",
       "      <td>6th Circuit</td>\n",
       "      <td>Memphis, Tennessee</td>\n",
       "      <td>35.149534</td>\n",
       "      <td>-90.048980</td>\n",
       "    </tr>\n",
       "    <tr>\n",
       "      <th>19</th>\n",
       "      <td>15-927</td>\n",
       "      <td>Washington, D.C.</td>\n",
       "      <td>11/01/16</td>\n",
       "      <td>03/21/17</td>\n",
       "      <td>Economic Activity</td>\n",
       "      <td>7-1</td>\n",
       "      <td>Affirmed</td>\n",
       "      <td>Major Majority</td>\n",
       "      <td>Court of Appeals for the Federal Court</td>\n",
       "      <td>Philadelphia, Pennyslvania</td>\n",
       "      <td>39.952584</td>\n",
       "      <td>-75.165222</td>\n",
       "    </tr>\n",
       "    <tr>\n",
       "      <th>20</th>\n",
       "      <td>15-1031</td>\n",
       "      <td>Arizona</td>\n",
       "      <td>03/20/17</td>\n",
       "      <td>05/15/17</td>\n",
       "      <td>Economic Activity</td>\n",
       "      <td>8-0</td>\n",
       "      <td>Reversed and Remanded</td>\n",
       "      <td>Major Majority</td>\n",
       "      <td>Supreme Court of the State of Arizona</td>\n",
       "      <td>Pheonix, Arizona</td>\n",
       "      <td>33.453821</td>\n",
       "      <td>-112.069434</td>\n",
       "    </tr>\n",
       "    <tr>\n",
       "      <th>21</th>\n",
       "      <td>15-1039</td>\n",
       "      <td>Washington, D.C.</td>\n",
       "      <td>04/26/17</td>\n",
       "      <td>06/12/17</td>\n",
       "      <td>Economic Activity</td>\n",
       "      <td>8-0</td>\n",
       "      <td>Vacated in part, Reversed in part and Remanded</td>\n",
       "      <td>Major Majority</td>\n",
       "      <td>Federal Court of Appeals</td>\n",
       "      <td>Thousand Oaks, California</td>\n",
       "      <td>34.170561</td>\n",
       "      <td>-118.837594</td>\n",
       "    </tr>\n",
       "    <tr>\n",
       "      <th>22</th>\n",
       "      <td>15-1111</td>\n",
       "      <td>Florida</td>\n",
       "      <td>11/08/16</td>\n",
       "      <td>05/01/17</td>\n",
       "      <td>Economic Activity</td>\n",
       "      <td>5-3</td>\n",
       "      <td>Vacated and Remanded</td>\n",
       "      <td>Liberal</td>\n",
       "      <td>11th Circuit</td>\n",
       "      <td>Miami, Florida</td>\n",
       "      <td>25.761680</td>\n",
       "      <td>-80.191790</td>\n",
       "    </tr>\n",
       "    <tr>\n",
       "      <th>23</th>\n",
       "      <td>15-1189</td>\n",
       "      <td>Washington, D.C.</td>\n",
       "      <td>03/21/17</td>\n",
       "      <td>05/30/17</td>\n",
       "      <td>Economic Activity</td>\n",
       "      <td>8-0</td>\n",
       "      <td>Reversed and Remanded on international exhaustion</td>\n",
       "      <td>Major Majority</td>\n",
       "      <td>Federal Court of Appeals</td>\n",
       "      <td>Chicago, Illinois</td>\n",
       "      <td>41.878114</td>\n",
       "      <td>-87.629798</td>\n",
       "    </tr>\n",
       "    <tr>\n",
       "      <th>24</th>\n",
       "      <td>15-1191</td>\n",
       "      <td>Virginia</td>\n",
       "      <td>11/09/16</td>\n",
       "      <td>07/12/17</td>\n",
       "      <td>Immigration</td>\n",
       "      <td>7-1</td>\n",
       "      <td>affirmed in part, reversed in part, and remanded,</td>\n",
       "      <td>Major Majority</td>\n",
       "      <td>2nd Circuit</td>\n",
       "      <td>New York, New York</td>\n",
       "      <td>40.712784</td>\n",
       "      <td>-74.005941</td>\n",
       "    </tr>\n",
       "    <tr>\n",
       "      <th>25</th>\n",
       "      <td>15-1194</td>\n",
       "      <td>North Carolina</td>\n",
       "      <td>02/19/17</td>\n",
       "      <td>06/19/17</td>\n",
       "      <td>First Amendment</td>\n",
       "      <td>8-0</td>\n",
       "      <td>Reversed and remanded,</td>\n",
       "      <td>Major Majority</td>\n",
       "      <td>Supreme Court of North Carolina</td>\n",
       "      <td>Durham, North Carolina</td>\n",
       "      <td>35.994033</td>\n",
       "      <td>-78.898619</td>\n",
       "    </tr>\n",
       "    <tr>\n",
       "      <th>26</th>\n",
       "      <td>15-1204</td>\n",
       "      <td>California</td>\n",
       "      <td>06/20/16</td>\n",
       "      <td>11/30/16</td>\n",
       "      <td>Immigration</td>\n",
       "      <td>Pending</td>\n",
       "      <td>Pending</td>\n",
       "      <td>Pending</td>\n",
       "      <td>9th Circuit</td>\n",
       "      <td>Pasadena, California</td>\n",
       "      <td>34.147785</td>\n",
       "      <td>-118.144516</td>\n",
       "    </tr>\n",
       "    <tr>\n",
       "      <th>27</th>\n",
       "      <td>15-1248</td>\n",
       "      <td>Arizona</td>\n",
       "      <td>02/20/17</td>\n",
       "      <td>04/03/17</td>\n",
       "      <td>Civil Rights</td>\n",
       "      <td>7-1</td>\n",
       "      <td>Vacated and remanded</td>\n",
       "      <td>Major Majority</td>\n",
       "      <td>9th Circuit</td>\n",
       "      <td>Pheonix, Arizona</td>\n",
       "      <td>33.448377</td>\n",
       "      <td>-112.074037</td>\n",
       "    </tr>\n",
       "    <tr>\n",
       "      <th>28</th>\n",
       "      <td>15-1251</td>\n",
       "      <td>Washington, D.C.</td>\n",
       "      <td>11/07/17</td>\n",
       "      <td>03/21/17</td>\n",
       "      <td>Employment</td>\n",
       "      <td>6-2</td>\n",
       "      <td>Affirmed</td>\n",
       "      <td>Major Majority</td>\n",
       "      <td>Court of Appeals of DC</td>\n",
       "      <td>Washington, D.C.</td>\n",
       "      <td>38.907192</td>\n",
       "      <td>-77.036871</td>\n",
       "    </tr>\n",
       "    <tr>\n",
       "      <th>29</th>\n",
       "      <td>15-1256</td>\n",
       "      <td>Colorado</td>\n",
       "      <td>01/09/17</td>\n",
       "      <td>04/19/17</td>\n",
       "      <td>Crime</td>\n",
       "      <td>6-1</td>\n",
       "      <td>Affirmed</td>\n",
       "      <td>Major Majority</td>\n",
       "      <td>Colorado Supreme Court</td>\n",
       "      <td>Broomfield, Colorado</td>\n",
       "      <td>39.920541</td>\n",
       "      <td>-105.086650</td>\n",
       "    </tr>\n",
       "    <tr>\n",
       "      <th>...</th>\n",
       "      <td>...</td>\n",
       "      <td>...</td>\n",
       "      <td>...</td>\n",
       "      <td>...</td>\n",
       "      <td>...</td>\n",
       "      <td>...</td>\n",
       "      <td>...</td>\n",
       "      <td>...</td>\n",
       "      <td>...</td>\n",
       "      <td>...</td>\n",
       "      <td>...</td>\n",
       "      <td>...</td>\n",
       "    </tr>\n",
       "    <tr>\n",
       "      <th>34</th>\n",
       "      <td>15-1406</td>\n",
       "      <td>Arizona</td>\n",
       "      <td>01/10/17</td>\n",
       "      <td>04/18/17</td>\n",
       "      <td>Miscellaneous</td>\n",
       "      <td>8-0</td>\n",
       "      <td>Reversed and remanded</td>\n",
       "      <td>Major Majority</td>\n",
       "      <td>9th Circuit</td>\n",
       "      <td>Pasadena, California</td>\n",
       "      <td>34.147785</td>\n",
       "      <td>-118.144516</td>\n",
       "    </tr>\n",
       "    <tr>\n",
       "      <th>35</th>\n",
       "      <td>15-1498</td>\n",
       "      <td>California</td>\n",
       "      <td>01/17/17</td>\n",
       "      <td>Pending</td>\n",
       "      <td>Due Process</td>\n",
       "      <td>Pending</td>\n",
       "      <td>Pending</td>\n",
       "      <td>Pending</td>\n",
       "      <td>9th Circuit</td>\n",
       "      <td>Pasadena, California</td>\n",
       "      <td>34.083680</td>\n",
       "      <td>-118.094560</td>\n",
       "    </tr>\n",
       "    <tr>\n",
       "      <th>36</th>\n",
       "      <td>15-1500</td>\n",
       "      <td>Connecticut</td>\n",
       "      <td>01/09/17</td>\n",
       "      <td>04/25/17</td>\n",
       "      <td>Civil Rights</td>\n",
       "      <td>8-0</td>\n",
       "      <td>Reversed and remanded</td>\n",
       "      <td>Major Majority</td>\n",
       "      <td>Connecticut Supreme Court</td>\n",
       "      <td>Norwalk, Connecticut</td>\n",
       "      <td>41.063910</td>\n",
       "      <td>-73.235940</td>\n",
       "    </tr>\n",
       "    <tr>\n",
       "      <th>37</th>\n",
       "      <td>15-1503</td>\n",
       "      <td>Washington, D.C.</td>\n",
       "      <td>03/29/17</td>\n",
       "      <td>06/22/17</td>\n",
       "      <td>Criminal Procedure</td>\n",
       "      <td>6-2</td>\n",
       "      <td>Affirmed</td>\n",
       "      <td>Conservative</td>\n",
       "      <td>District of Columbia Court of Appeals</td>\n",
       "      <td>Washington, D.C.</td>\n",
       "      <td>38.533920</td>\n",
       "      <td>-77.010720</td>\n",
       "    </tr>\n",
       "    <tr>\n",
       "      <th>38</th>\n",
       "      <td>15-5991</td>\n",
       "      <td>California</td>\n",
       "      <td>08/04/16</td>\n",
       "      <td>12/12/16</td>\n",
       "      <td>Economic Activity</td>\n",
       "      <td>8-0</td>\n",
       "      <td>Vacated and Remanded</td>\n",
       "      <td>Major Majority</td>\n",
       "      <td>9th Circuit</td>\n",
       "      <td>Los Angeles, California</td>\n",
       "      <td>34.031870</td>\n",
       "      <td>-118.142910</td>\n",
       "    </tr>\n",
       "    <tr>\n",
       "      <th>39</th>\n",
       "      <td>15-7250</td>\n",
       "      <td>Florida</td>\n",
       "      <td>08/11/16</td>\n",
       "      <td>04/19/17</td>\n",
       "      <td>Criminal Procedure</td>\n",
       "      <td>6-2</td>\n",
       "      <td>Reversed and Remanded</td>\n",
       "      <td>Major Majority</td>\n",
       "      <td>7th Circuit</td>\n",
       "      <td>Miami, Florida</td>\n",
       "      <td>25.464240</td>\n",
       "      <td>-80.113280</td>\n",
       "    </tr>\n",
       "    <tr>\n",
       "      <th>40</th>\n",
       "      <td>15-8049</td>\n",
       "      <td>Texas</td>\n",
       "      <td>08/05/16</td>\n",
       "      <td>02/22/17</td>\n",
       "      <td>Criminal Procedure</td>\n",
       "      <td>6-2</td>\n",
       "      <td>Reversed and remanded</td>\n",
       "      <td>Mixed</td>\n",
       "      <td>5th Circuit</td>\n",
       "      <td>Houston, Texas</td>\n",
       "      <td>29.454000</td>\n",
       "      <td>-95.220290</td>\n",
       "    </tr>\n",
       "    <tr>\n",
       "      <th>41</th>\n",
       "      <td>15-8544</td>\n",
       "      <td>Florida</td>\n",
       "      <td>11/28/16</td>\n",
       "      <td>03/06/17</td>\n",
       "      <td>Criminal Procedure</td>\n",
       "      <td>7-0</td>\n",
       "      <td>Affirmed</td>\n",
       "      <td>Major Majority</td>\n",
       "      <td>11th Circuit</td>\n",
       "      <td>Miami, Florida</td>\n",
       "      <td>25.464240</td>\n",
       "      <td>-80.113280</td>\n",
       "    </tr>\n",
       "    <tr>\n",
       "      <th>42</th>\n",
       "      <td>15-9260</td>\n",
       "      <td>Iowa</td>\n",
       "      <td>02/28/17</td>\n",
       "      <td>04/03/17</td>\n",
       "      <td>Criminal Procedure</td>\n",
       "      <td>8-0</td>\n",
       "      <td>Reversed and Remanded</td>\n",
       "      <td>Major Majority</td>\n",
       "      <td>8th Circuit</td>\n",
       "      <td>Sioux City, Iowa</td>\n",
       "      <td>42.291260</td>\n",
       "      <td>-96.214790</td>\n",
       "    </tr>\n",
       "    <tr>\n",
       "      <th>43</th>\n",
       "      <td>16-32</td>\n",
       "      <td>Kentucky</td>\n",
       "      <td>10/28/16</td>\n",
       "      <td>05/15/17</td>\n",
       "      <td>Economic Activity</td>\n",
       "      <td>7-1</td>\n",
       "      <td>affirmed</td>\n",
       "      <td>Major Majority</td>\n",
       "      <td>Kentucky Supreme Court</td>\n",
       "      <td>Lexington, Kentucky</td>\n",
       "      <td>38.005560</td>\n",
       "      <td>-84.124580</td>\n",
       "    </tr>\n",
       "    <tr>\n",
       "      <th>44</th>\n",
       "      <td>16-54</td>\n",
       "      <td>Washington, D.C.</td>\n",
       "      <td>10/28/16</td>\n",
       "      <td>05/30/17</td>\n",
       "      <td>Immigration</td>\n",
       "      <td>8-0</td>\n",
       "      <td>affirmed</td>\n",
       "      <td>Major Majority</td>\n",
       "      <td>6th Circuit</td>\n",
       "      <td>Cincinnati, Ohio</td>\n",
       "      <td>39.103118</td>\n",
       "      <td>-84.512020</td>\n",
       "    </tr>\n",
       "    <tr>\n",
       "      <th>45</th>\n",
       "      <td>16-74</td>\n",
       "      <td>Illinois</td>\n",
       "      <td>12/02/16</td>\n",
       "      <td>06/05/16</td>\n",
       "      <td>Economic Activity</td>\n",
       "      <td>8-0</td>\n",
       "      <td>affirmed</td>\n",
       "      <td>Major Majority</td>\n",
       "      <td>7th Circuit</td>\n",
       "      <td>Downers Grove, Illinois</td>\n",
       "      <td>41.808919</td>\n",
       "      <td>-88.011175</td>\n",
       "    </tr>\n",
       "    <tr>\n",
       "      <th>46</th>\n",
       "      <td>16-142</td>\n",
       "      <td>Tennessee</td>\n",
       "      <td>12/09/16</td>\n",
       "      <td>06/05/16</td>\n",
       "      <td>Criminal Procedure</td>\n",
       "      <td>8-0</td>\n",
       "      <td>affirmed part, reversed part</td>\n",
       "      <td>Major Majority</td>\n",
       "      <td>6th Circuit</td>\n",
       "      <td>Chattanooga, Tennessee</td>\n",
       "      <td>35.045630</td>\n",
       "      <td>-85.309680</td>\n",
       "    </tr>\n",
       "    <tr>\n",
       "      <th>47</th>\n",
       "      <td>16-149</td>\n",
       "      <td>Missouri</td>\n",
       "      <td>03/01/17</td>\n",
       "      <td>04/18/17</td>\n",
       "      <td>Criminal Procedure</td>\n",
       "      <td>8-0</td>\n",
       "      <td>Affirmed</td>\n",
       "      <td>Major Majority</td>\n",
       "      <td>Supreme Court of Missouri</td>\n",
       "      <td>St. Louis, Missouri</td>\n",
       "      <td>38.627003</td>\n",
       "      <td>-90.199404</td>\n",
       "    </tr>\n",
       "    <tr>\n",
       "      <th>48</th>\n",
       "      <td>16-240</td>\n",
       "      <td>Massachusetts</td>\n",
       "      <td>04/19/17</td>\n",
       "      <td>06/22/17</td>\n",
       "      <td>Criminal Procedure</td>\n",
       "      <td>7–2</td>\n",
       "      <td>Reversed</td>\n",
       "      <td>can not tell</td>\n",
       "      <td>Supreme Court of Massachusetts</td>\n",
       "      <td>Dorchester, Massachusetts</td>\n",
       "      <td>42.301630</td>\n",
       "      <td>-71.067605</td>\n",
       "    </tr>\n",
       "    <tr>\n",
       "      <th>49</th>\n",
       "      <td>16-254</td>\n",
       "      <td>Texas</td>\n",
       "      <td>02/12/17</td>\n",
       "      <td>03/22/17</td>\n",
       "      <td>Economic Activity</td>\n",
       "      <td>8-0</td>\n",
       "      <td>Affirmed</td>\n",
       "      <td>Major Majority</td>\n",
       "      <td>14th Court of Appeals of Texas</td>\n",
       "      <td>Galveston County, Texas</td>\n",
       "      <td>29.376350</td>\n",
       "      <td>-94.852064</td>\n",
       "    </tr>\n",
       "    <tr>\n",
       "      <th>50</th>\n",
       "      <td>16-309</td>\n",
       "      <td>Ohio</td>\n",
       "      <td>04/26/17</td>\n",
       "      <td>06/22/17</td>\n",
       "      <td>Civil Rights</td>\n",
       "      <td>9-0</td>\n",
       "      <td>Affirmed</td>\n",
       "      <td>Major Majority</td>\n",
       "      <td>6th Circuit</td>\n",
       "      <td>Akron, Ohio</td>\n",
       "      <td>41.081445</td>\n",
       "      <td>-81.519005</td>\n",
       "    </tr>\n",
       "    <tr>\n",
       "      <th>51</th>\n",
       "      <td>16-327</td>\n",
       "      <td>Tennessee</td>\n",
       "      <td>03/28/17</td>\n",
       "      <td>06/23/17</td>\n",
       "      <td>Criminal Procedure</td>\n",
       "      <td>6-2</td>\n",
       "      <td>Reversed</td>\n",
       "      <td>can not tell</td>\n",
       "      <td>6th Circuit</td>\n",
       "      <td>Memphis, Tennessee</td>\n",
       "      <td>35.149534</td>\n",
       "      <td>-90.048980</td>\n",
       "    </tr>\n",
       "    <tr>\n",
       "      <th>52</th>\n",
       "      <td>16-341</td>\n",
       "      <td>Delaware</td>\n",
       "      <td>03/27/17</td>\n",
       "      <td>05/22/17</td>\n",
       "      <td>Interstate Relations</td>\n",
       "      <td>8-0</td>\n",
       "      <td>Affirmed</td>\n",
       "      <td>Major Majority</td>\n",
       "      <td>Court of Appeals for the Federal Court</td>\n",
       "      <td>Dover, Delaware</td>\n",
       "      <td>39.158168</td>\n",
       "      <td>-75.524368</td>\n",
       "    </tr>\n",
       "    <tr>\n",
       "      <th>53</th>\n",
       "      <td>16-348</td>\n",
       "      <td>Alabama</td>\n",
       "      <td>01/17/17</td>\n",
       "      <td>05/15/17</td>\n",
       "      <td>Private Action</td>\n",
       "      <td>5-3</td>\n",
       "      <td>Affirmed</td>\n",
       "      <td>Conservative</td>\n",
       "      <td>11th Circuit</td>\n",
       "      <td>Mobile, Alabama</td>\n",
       "      <td>30.695366</td>\n",
       "      <td>-88.039891</td>\n",
       "    </tr>\n",
       "    <tr>\n",
       "      <th>54</th>\n",
       "      <td>16-349</td>\n",
       "      <td>Texas</td>\n",
       "      <td>01/12/17</td>\n",
       "      <td>04/18/17</td>\n",
       "      <td>Economic Activity</td>\n",
       "      <td>9-0</td>\n",
       "      <td>Reversed</td>\n",
       "      <td>Major Majority</td>\n",
       "      <td>4th Circuit</td>\n",
       "      <td>Dallas, Texas</td>\n",
       "      <td>32.776664</td>\n",
       "      <td>-96.796988</td>\n",
       "    </tr>\n",
       "    <tr>\n",
       "      <th>55</th>\n",
       "      <td>16-369</td>\n",
       "      <td>California</td>\n",
       "      <td>03/17/17</td>\n",
       "      <td>05/30/17</td>\n",
       "      <td>Civil Rights</td>\n",
       "      <td>8-0</td>\n",
       "      <td>Affirmed</td>\n",
       "      <td>Major Majority</td>\n",
       "      <td>9th Circuit</td>\n",
       "      <td>Los Angeles, California</td>\n",
       "      <td>34.052234</td>\n",
       "      <td>-118.243685</td>\n",
       "    </tr>\n",
       "    <tr>\n",
       "      <th>56</th>\n",
       "      <td>16-373</td>\n",
       "      <td>California</td>\n",
       "      <td>04/17/17</td>\n",
       "      <td>06/26/17</td>\n",
       "      <td>Economic Activity</td>\n",
       "      <td>5-4</td>\n",
       "      <td>Affirmed</td>\n",
       "      <td>Conservative</td>\n",
       "      <td>2nd Circuit</td>\n",
       "      <td>New York, New York</td>\n",
       "      <td>36.102371</td>\n",
       "      <td>-115.174556</td>\n",
       "    </tr>\n",
       "    <tr>\n",
       "      <th>57</th>\n",
       "      <td>16-399</td>\n",
       "      <td>Washington, D.C.</td>\n",
       "      <td>04/17/17</td>\n",
       "      <td>06/23/17</td>\n",
       "      <td>Civil Rights</td>\n",
       "      <td>7-2</td>\n",
       "      <td>Reversed</td>\n",
       "      <td>Liberal</td>\n",
       "      <td>District of Columbia Court of Appeals</td>\n",
       "      <td>Washington, D.C.</td>\n",
       "      <td>38.907192</td>\n",
       "      <td>-77.036871</td>\n",
       "    </tr>\n",
       "    <tr>\n",
       "      <th>58</th>\n",
       "      <td>16-405</td>\n",
       "      <td>Montana</td>\n",
       "      <td>04/25/17</td>\n",
       "      <td>05/30/17</td>\n",
       "      <td>Due Process</td>\n",
       "      <td>8-1</td>\n",
       "      <td>Reversed</td>\n",
       "      <td>Major Majority</td>\n",
       "      <td>Montana Supreme Court</td>\n",
       "      <td>Missoula, Montana</td>\n",
       "      <td>46.878718</td>\n",
       "      <td>-113.996586</td>\n",
       "    </tr>\n",
       "    <tr>\n",
       "      <th>59</th>\n",
       "      <td>16-466</td>\n",
       "      <td>California</td>\n",
       "      <td>04/25/17</td>\n",
       "      <td>06/19/17</td>\n",
       "      <td>Judicial Power</td>\n",
       "      <td>8-1</td>\n",
       "      <td>Reversed</td>\n",
       "      <td>Major Majority</td>\n",
       "      <td>Supreme Court of California</td>\n",
       "      <td>San Francisco, California</td>\n",
       "      <td>37.774929</td>\n",
       "      <td>-122.419416</td>\n",
       "    </tr>\n",
       "    <tr>\n",
       "      <th>60</th>\n",
       "      <td>16-529</td>\n",
       "      <td>New Mexico</td>\n",
       "      <td>04/18/17</td>\n",
       "      <td>06/05/17</td>\n",
       "      <td>Economic Activity</td>\n",
       "      <td>9-0</td>\n",
       "      <td>Reversed</td>\n",
       "      <td>Major Majority</td>\n",
       "      <td>District Court for the District of New Mexico</td>\n",
       "      <td>Albuquerque, New Mexico</td>\n",
       "      <td>35.085334</td>\n",
       "      <td>-106.605553</td>\n",
       "    </tr>\n",
       "    <tr>\n",
       "      <th>61</th>\n",
       "      <td>16-605</td>\n",
       "      <td>New York</td>\n",
       "      <td>04/17/17</td>\n",
       "      <td>06/05/17</td>\n",
       "      <td>Judicial Power</td>\n",
       "      <td>9-0</td>\n",
       "      <td>Vacated</td>\n",
       "      <td>Major Majority</td>\n",
       "      <td>2nd Circuit</td>\n",
       "      <td>Chester, New York</td>\n",
       "      <td>41.362594</td>\n",
       "      <td>-74.271261</td>\n",
       "    </tr>\n",
       "    <tr>\n",
       "      <th>62</th>\n",
       "      <td>16-5294</td>\n",
       "      <td>Alabama</td>\n",
       "      <td>04/24/17</td>\n",
       "      <td>06/19/17</td>\n",
       "      <td>Due Process</td>\n",
       "      <td>5-4</td>\n",
       "      <td>Reversed</td>\n",
       "      <td>Liberal</td>\n",
       "      <td>11th Circuit</td>\n",
       "      <td>Birmingham, Alabama</td>\n",
       "      <td>33.520661</td>\n",
       "      <td>-86.802490</td>\n",
       "    </tr>\n",
       "    <tr>\n",
       "      <th>63</th>\n",
       "      <td>16-6219</td>\n",
       "      <td>Texas</td>\n",
       "      <td>04/24/17</td>\n",
       "      <td>06/26/17</td>\n",
       "      <td>Criminal Procedure</td>\n",
       "      <td>5-4</td>\n",
       "      <td>Affirmed</td>\n",
       "      <td>Conservative</td>\n",
       "      <td>5th Circuit</td>\n",
       "      <td>Fort Worth, Texas</td>\n",
       "      <td>32.755488</td>\n",
       "      <td>-97.330766</td>\n",
       "    </tr>\n",
       "  </tbody>\n",
       "</table>\n",
       "<p>64 rows × 12 columns</p>\n",
       "</div>"
      ],
      "text/plain": [
       "   Docket Number             State Date Argued Date Decided   \\\n",
       "0        14-1055        California    06/28/16      01/18/17   \n",
       "1        14-1538         Wisconsin    06/27/16      02/22/17   \n",
       "2        14-9496          Illinois    01/15/16      03/21/17   \n",
       "3         15-118             Texas    10/11/16      06/26/17   \n",
       "4         15-214         Wisconsin    01/15/16      06/23/17   \n",
       "5         15-423  Washington, D.C.    06/28/16      05/01/17   \n",
       "6         15-457        California    01/15/16      06/12/17   \n",
       "7         15-497          Michigan    06/28/16      02/22/17   \n",
       "8         15-513         Louisiana    11/01/16       Pending   \n",
       "9         15-537       Puerto Rico    10/04/16      11/29/16   \n",
       "10        15-577          Missouri    04/19/17      06/26/17   \n",
       "11        15-606          Colorado    10/11/16      03/06/17   \n",
       "12        15-628        California    10/05/16      12/06/17   \n",
       "13        15-649        New Jersey    12/07/16      03/27/17   \n",
       "14        15-680          Virginia    12/05/16      03/01/17   \n",
       "15        15-777        California    10/11/16      12/06/16   \n",
       "16        15-797             Texas    11/29/16      03/28/17   \n",
       "17        15-827          Colorado    01/11/17      03/22/17   \n",
       "18        15-866         Tennessee    10/31/16      03/22/17   \n",
       "19        15-927  Washington, D.C.    11/01/16      03/21/17   \n",
       "20       15-1031           Arizona    03/20/17      05/15/17   \n",
       "21       15-1039  Washington, D.C.    04/26/17      06/12/17   \n",
       "22       15-1111           Florida    11/08/16      05/01/17   \n",
       "23       15-1189  Washington, D.C.    03/21/17      05/30/17   \n",
       "24       15-1191          Virginia    11/09/16      07/12/17   \n",
       "25       15-1194   North Carolina     02/19/17      06/19/17   \n",
       "26       15-1204        California    06/20/16      11/30/16   \n",
       "27       15-1248           Arizona    02/20/17      04/03/17   \n",
       "28       15-1251  Washington, D.C.    11/07/17      03/21/17   \n",
       "29       15-1256          Colorado    01/09/17      04/19/17   \n",
       "..           ...               ...         ...           ...   \n",
       "34       15-1406           Arizona    01/10/17      04/18/17   \n",
       "35       15-1498        California    01/17/17       Pending   \n",
       "36       15-1500       Connecticut    01/09/17      04/25/17   \n",
       "37       15-1503  Washington, D.C.    03/29/17      06/22/17   \n",
       "38       15-5991        California    08/04/16      12/12/16   \n",
       "39       15-7250           Florida    08/11/16      04/19/17   \n",
       "40       15-8049             Texas    08/05/16      02/22/17   \n",
       "41       15-8544           Florida    11/28/16      03/06/17   \n",
       "42       15-9260              Iowa    02/28/17      04/03/17   \n",
       "43         16-32          Kentucky    10/28/16      05/15/17   \n",
       "44         16-54  Washington, D.C.    10/28/16      05/30/17   \n",
       "45         16-74          Illinois    12/02/16      06/05/16   \n",
       "46        16-142         Tennessee    12/09/16      06/05/16   \n",
       "47        16-149          Missouri    03/01/17      04/18/17   \n",
       "48        16-240     Massachusetts    04/19/17      06/22/17   \n",
       "49        16-254             Texas    02/12/17      03/22/17   \n",
       "50        16-309              Ohio    04/26/17      06/22/17   \n",
       "51        16-327         Tennessee    03/28/17      06/23/17   \n",
       "52        16-341          Delaware    03/27/17      05/22/17   \n",
       "53        16-348           Alabama    01/17/17      05/15/17   \n",
       "54        16-349             Texas    01/12/17      04/18/17   \n",
       "55        16-369        California    03/17/17      05/30/17   \n",
       "56        16-373        California    04/17/17      06/26/17   \n",
       "57        16-399  Washington, D.C.    04/17/17      06/23/17   \n",
       "58        16-405           Montana    04/25/17      05/30/17   \n",
       "59        16-466        California    04/25/17      06/19/17   \n",
       "60        16-529        New Mexico    04/18/17      06/05/17   \n",
       "61        16-605          New York    04/17/17      06/05/17   \n",
       "62       16-5294           Alabama    04/24/17      06/19/17   \n",
       "63       16-6219             Texas    04/24/17      06/26/17   \n",
       "\n",
       "                   Area* Decision  \\\n",
       "0      Economic Activity      8-0   \n",
       "1      Economic Activity      7-0   \n",
       "2           Civil Rights      6-2   \n",
       "3            Immigration      NaN   \n",
       "4      Economic Activity      5-3   \n",
       "5      Economic Activity      8-0   \n",
       "6      Economic Activity      8-0   \n",
       "7           Civil Rights      8-0   \n",
       "8      Economic Activity      8-0   \n",
       "9     Criminal Procedure      8-0   \n",
       "10      First Amendment      7–2    \n",
       "11         Civil Rights       5-3   \n",
       "12     Economic Activity      8-0   \n",
       "13     Economic Activity      6-2   \n",
       "14          Civil Rights      8-0   \n",
       "15     Economic Activity      8-0   \n",
       "16    Criminal Procedure      5-3   \n",
       "17          Civil Rights      8-0   \n",
       "18     Economic Activity      6-2   \n",
       "19     Economic Activity      7-1   \n",
       "20     Economic Activity      8-0   \n",
       "21     Economic Activity      8-0   \n",
       "22     Economic Activity      5-3   \n",
       "23     Economic Activity      8-0   \n",
       "24           Immigration      7-1   \n",
       "25      First Amendment       8-0   \n",
       "26           Immigration  Pending   \n",
       "27         Civil Rights       7-1   \n",
       "28            Employment      6-2   \n",
       "29                 Crime      6-1   \n",
       "..                   ...      ...   \n",
       "34         Miscellaneous      8-0   \n",
       "35           Due Process  Pending   \n",
       "36          Civil Rights      8-0   \n",
       "37    Criminal Procedure      6-2   \n",
       "38     Economic Activity      8-0   \n",
       "39    Criminal Procedure      6-2   \n",
       "40    Criminal Procedure      6-2   \n",
       "41    Criminal Procedure      7-0   \n",
       "42    Criminal Procedure      8-0   \n",
       "43     Economic Activity      7-1   \n",
       "44           Immigration      8-0   \n",
       "45     Economic Activity      8-0   \n",
       "46    Criminal Procedure      8-0   \n",
       "47    Criminal Procedure      8-0   \n",
       "48    Criminal Procedure     7–2    \n",
       "49    Economic Activity       8-0   \n",
       "50          Civil Rights      9-0   \n",
       "51    Criminal Procedure      6-2   \n",
       "52  Interstate Relations      8-0   \n",
       "53        Private Action      5-3   \n",
       "54    Economic Activity       9-0   \n",
       "55          Civil Rights      8-0   \n",
       "56    Economic Activity       5-4   \n",
       "57          Civil Rights      7-2   \n",
       "58           Due Process      8-1   \n",
       "59        Judicial Power      8-1   \n",
       "60    Economic Activity       9-0   \n",
       "61        Judicial Power      9-0   \n",
       "62           Due Process      5-4   \n",
       "63    Criminal Procedure      5-4   \n",
       "\n",
       "                                               Status   Court Leaning  \\\n",
       "0                                            affirmed  Major Majority   \n",
       "1                                            reversed  Major Majority   \n",
       "2                                            affirmed  Major Majority   \n",
       "3                                             vacated         Vacated   \n",
       "4                                            affirmed         Liberal   \n",
       "5                                            reversed  Major Majority   \n",
       "6                                            reversed  Major Majority   \n",
       "7                                            affirmed  Major Majority   \n",
       "8                                            reversed  Major Majority   \n",
       "9                                            reversed  Major Majority   \n",
       "10                                           affirmed    Conservative   \n",
       "11                                           affirmed         Liberal   \n",
       "12                                           reversed  Major Majority   \n",
       "13                                           reversed         Liberal   \n",
       "14                                           affirmed  Major Majority   \n",
       "15                                           affirmed  Major Majority   \n",
       "16                                           Affirmed         Liberal   \n",
       "17                               Vacated and Remanded  Major Majority   \n",
       "18                                          Affirmed            Mixed   \n",
       "19                                           Affirmed  Major Majority   \n",
       "20                              Reversed and Remanded  Major Majority   \n",
       "21     Vacated in part, Reversed in part and Remanded  Major Majority   \n",
       "22                               Vacated and Remanded         Liberal   \n",
       "23  Reversed and Remanded on international exhaustion  Major Majority   \n",
       "24  affirmed in part, reversed in part, and remanded,  Major Majority   \n",
       "25                             Reversed and remanded,  Major Majority   \n",
       "26                                            Pending         Pending   \n",
       "27                               Vacated and remanded  Major Majority   \n",
       "28                                           Affirmed  Major Majority   \n",
       "29                                           Affirmed  Major Majority   \n",
       "..                                                ...             ...   \n",
       "34                              Reversed and remanded  Major Majority   \n",
       "35                                            Pending         Pending   \n",
       "36                              Reversed and remanded  Major Majority   \n",
       "37                                           Affirmed    Conservative   \n",
       "38                               Vacated and Remanded  Major Majority   \n",
       "39                              Reversed and Remanded  Major Majority   \n",
       "40                              Reversed and remanded           Mixed   \n",
       "41                                           Affirmed  Major Majority   \n",
       "42                              Reversed and Remanded  Major Majority   \n",
       "43                                           affirmed  Major Majority   \n",
       "44                                           affirmed  Major Majority   \n",
       "45                                           affirmed  Major Majority   \n",
       "46                       affirmed part, reversed part  Major Majority   \n",
       "47                                           Affirmed  Major Majority   \n",
       "48                                           Reversed    can not tell   \n",
       "49                                           Affirmed  Major Majority   \n",
       "50                                           Affirmed  Major Majority   \n",
       "51                                           Reversed    can not tell   \n",
       "52                                           Affirmed  Major Majority   \n",
       "53                                          Affirmed     Conservative   \n",
       "54                                           Reversed  Major Majority   \n",
       "55                                          Affirmed   Major Majority   \n",
       "56                                          Affirmed     Conservative   \n",
       "57                                           Reversed         Liberal   \n",
       "58                                           Reversed  Major Majority   \n",
       "59                                           Reversed  Major Majority   \n",
       "60                                           Reversed  Major Majority   \n",
       "61                                           Vacated   Major Majority   \n",
       "62                                           Reversed         Liberal   \n",
       "63                                          Affirmed     Conservative   \n",
       "\n",
       "                                       Previous Court  \\\n",
       "0                                         9th Circuit   \n",
       "1   District Court for the Western District of Wis...   \n",
       "2                                         7th Circuit   \n",
       "3                                         5th Circuit   \n",
       "4             Wisconsin Court Of Appeals District III   \n",
       "5   United States District Court for the District ...   \n",
       "6                                         9th Circuit   \n",
       "7                                        6th Circuit    \n",
       "8                                         5th Circuit   \n",
       "9                                         1st Circuit   \n",
       "10                                        8th Circuit   \n",
       "11            Supreme Court for the State of Colorado   \n",
       "12                                        9th Circuit   \n",
       "13                                        3rd Circuit   \n",
       "14                         District Court of Virginia   \n",
       "15             Court of Appeals for the Federal Court   \n",
       "16                 Criminal Court of Appeals of Texas   \n",
       "17                                       10th Circuit   \n",
       "18                                        6th Circuit   \n",
       "19             Court of Appeals for the Federal Court   \n",
       "20              Supreme Court of the State of Arizona   \n",
       "21                          Federal Court of Appeals    \n",
       "22                                       11th Circuit   \n",
       "23                          Federal Court of Appeals    \n",
       "24                                        2nd Circuit   \n",
       "25                    Supreme Court of North Carolina   \n",
       "26                                        9th Circuit   \n",
       "27                                        9th Circuit   \n",
       "28                             Court of Appeals of DC   \n",
       "29                             Colorado Supreme Court   \n",
       "..                                                ...   \n",
       "34                                        9th Circuit   \n",
       "35                                        9th Circuit   \n",
       "36                          Connecticut Supreme Court   \n",
       "37              District of Columbia Court of Appeals   \n",
       "38                                        9th Circuit   \n",
       "39                                        7th Circuit   \n",
       "40                                        5th Circuit   \n",
       "41                                       11th Circuit   \n",
       "42                                        8th Circuit   \n",
       "43                             Kentucky Supreme Court   \n",
       "44                                        6th Circuit   \n",
       "45                                        7th Circuit   \n",
       "46                                        6th Circuit   \n",
       "47                          Supreme Court of Missouri   \n",
       "48                    Supreme Court of Massachusetts    \n",
       "49                     14th Court of Appeals of Texas   \n",
       "50                                        6th Circuit   \n",
       "51                                        6th Circuit   \n",
       "52             Court of Appeals for the Federal Court   \n",
       "53                                       11th Circuit   \n",
       "54                                        4th Circuit   \n",
       "55                                        9th Circuit   \n",
       "56                                        2nd Circuit   \n",
       "57              District of Columbia Court of Appeals   \n",
       "58                              Montana Supreme Court   \n",
       "59                        Supreme Court of California   \n",
       "60      District Court for the District of New Mexico   \n",
       "61                                        2nd Circuit   \n",
       "62                                       11th Circuit   \n",
       "63                                        5th Circuit   \n",
       "\n",
       "                           City   Latitude   Longitude  \n",
       "0          Pasadena, California  34.147785 -118.144516  \n",
       "1            Madison, Wisconsin  43.073052  -89.401230  \n",
       "2              Joilet, Illinois  41.525031  -88.081725  \n",
       "3            San Antonio, Texas  29.424122  -98.493628  \n",
       "4   St. Croix County, Wisconsin  45.049784  -92.387569  \n",
       "5              Washington, D.C.  38.907192  -77.036871  \n",
       "6           Seattle, Washington  47.606209 -122.332071  \n",
       "7            Detriot, Michigan   42.331427  -83.045754  \n",
       "8        Gulf Port, Mississippi  30.367420  -89.092816  \n",
       "9                   Puerto Rico  18.220833  -66.590149  \n",
       "10         Columumbia, Missouri  38.951705  -92.334072  \n",
       "11             Denver, Colorado  39.739236 -104.990251  \n",
       "12      San Carlos, California   37.507159 -122.260522  \n",
       "13         Wilmington, Deleware  39.739072  -75.539788  \n",
       "14           Richmond, Virginia  37.540725  -77.436048  \n",
       "15    San Francisco, California  37.774929 -122.419416  \n",
       "16               Houston, Texas  29.760427  -95.369803  \n",
       "17        Castle Rock, Colorado  39.372212 -104.856090  \n",
       "18           Memphis, Tennessee  35.149534  -90.048980  \n",
       "19   Philadelphia, Pennyslvania  39.952584  -75.165222  \n",
       "20             Pheonix, Arizona  33.453821 -112.069434  \n",
       "21    Thousand Oaks, California  34.170561 -118.837594  \n",
       "22               Miami, Florida  25.761680  -80.191790  \n",
       "23            Chicago, Illinois  41.878114  -87.629798  \n",
       "24           New York, New York  40.712784  -74.005941  \n",
       "25       Durham, North Carolina  35.994033  -78.898619  \n",
       "26         Pasadena, California  34.147785 -118.144516  \n",
       "27             Pheonix, Arizona  33.448377 -112.074037  \n",
       "28             Washington, D.C.  38.907192  -77.036871  \n",
       "29         Broomfield, Colorado  39.920541 -105.086650  \n",
       "..                          ...        ...         ...  \n",
       "34         Pasadena, California  34.147785 -118.144516  \n",
       "35         Pasadena, California  34.083680 -118.094560  \n",
       "36         Norwalk, Connecticut  41.063910  -73.235940  \n",
       "37             Washington, D.C.  38.533920  -77.010720  \n",
       "38      Los Angeles, California  34.031870 -118.142910  \n",
       "39               Miami, Florida  25.464240  -80.113280  \n",
       "40               Houston, Texas  29.454000  -95.220290  \n",
       "41               Miami, Florida  25.464240  -80.113280  \n",
       "42             Sioux City, Iowa  42.291260  -96.214790  \n",
       "43          Lexington, Kentucky  38.005560  -84.124580  \n",
       "44             Cincinnati, Ohio  39.103118  -84.512020  \n",
       "45      Downers Grove, Illinois  41.808919  -88.011175  \n",
       "46       Chattanooga, Tennessee  35.045630  -85.309680  \n",
       "47          St. Louis, Missouri  38.627003  -90.199404  \n",
       "48    Dorchester, Massachusetts  42.301630  -71.067605  \n",
       "49      Galveston County, Texas  29.376350  -94.852064  \n",
       "50                  Akron, Ohio  41.081445  -81.519005  \n",
       "51           Memphis, Tennessee  35.149534  -90.048980  \n",
       "52              Dover, Delaware  39.158168  -75.524368  \n",
       "53              Mobile, Alabama  30.695366  -88.039891  \n",
       "54                Dallas, Texas  32.776664  -96.796988  \n",
       "55      Los Angeles, California  34.052234 -118.243685  \n",
       "56           New York, New York  36.102371 -115.174556  \n",
       "57             Washington, D.C.  38.907192  -77.036871  \n",
       "58           Missoula, Montana   46.878718 -113.996586  \n",
       "59    San Francisco, California  37.774929 -122.419416  \n",
       "60      Albuquerque, New Mexico  35.085334 -106.605553  \n",
       "61            Chester, New York  41.362594  -74.271261  \n",
       "62          Birmingham, Alabama  33.520661  -86.802490  \n",
       "63            Fort Worth, Texas  32.755488  -97.330766  \n",
       "\n",
       "[64 rows x 12 columns]"
      ]
     },
     "execution_count": 17,
     "metadata": {},
     "output_type": "execute_result"
    }
   ],
   "source": [
    "scotus_df = pd.read_csv('Updated Supreme Court State Information - Sheet1.csv')\n",
    "scotus_df"
   ]
  },
  {
   "cell_type": "code",
   "execution_count": 18,
   "metadata": {},
   "outputs": [
    {
     "data": {
      "text/plain": [
       "California          10\n",
       "Washington, D.C.     9\n",
       "Texas                6\n",
       "Arizona              3\n",
       "Florida              3\n",
       "Name: State, dtype: int64"
      ]
     },
     "execution_count": 18,
     "metadata": {},
     "output_type": "execute_result"
    }
   ],
   "source": [
    "scotus_df['State'].value_counts().head()"
   ]
  },
  {
   "cell_type": "code",
   "execution_count": 19,
   "metadata": {},
   "outputs": [
    {
     "data": {
      "text/plain": [
       "Economic Activity       19\n",
       "Criminal Procedure      12\n",
       "Civil Rights             9\n",
       "Immigration              4\n",
       "Economic Activity        4\n",
       "Due Process              4\n",
       "First Amendment          3\n",
       "Judicial Power           2\n",
       "Civil Rights             2\n",
       "Employment               1\n",
       "Private Action           1\n",
       "Crime                    1\n",
       "Miscellaneous            1\n",
       "Interstate Relations     1\n",
       "Name: Area*, dtype: int64"
      ]
     },
     "execution_count": 19,
     "metadata": {},
     "output_type": "execute_result"
    }
   ],
   "source": [
    "scotus_df['Area*'].value_counts()"
   ]
  },
  {
   "cell_type": "code",
   "execution_count": 20,
   "metadata": {},
   "outputs": [
    {
     "data": {
      "text/plain": [
       "Major Majority    43\n",
       "Liberal            8\n",
       "Conservative       6\n",
       "can not tell       2\n",
       "Mixed              2\n",
       "Pending            2\n",
       "Vacated            1\n",
       "Name: Court Leaning, dtype: int64"
      ]
     },
     "execution_count": 20,
     "metadata": {},
     "output_type": "execute_result"
    }
   ],
   "source": [
    "scotus_df['Court Leaning'].value_counts()"
   ]
  },
  {
   "cell_type": "markdown",
   "metadata": {},
   "source": [
    "MERGING DF AND SCOTUS_DF DATAFRAMES TOGETHER \n"
   ]
  },
  {
   "cell_type": "code",
   "execution_count": 21,
   "metadata": {
    "scrolled": true
   },
   "outputs": [
    {
     "ename": "NameError",
     "evalue": "name 'df' is not defined",
     "output_type": "error",
     "traceback": [
      "\u001b[0;31m---------------------------------------------------------------------------\u001b[0m",
      "\u001b[0;31mNameError\u001b[0m                                 Traceback (most recent call last)",
      "\u001b[0;32m<ipython-input-21-c3364e8c52fe>\u001b[0m in \u001b[0;36m<module>\u001b[0;34m()\u001b[0m\n\u001b[0;32m----> 1\u001b[0;31m \u001b[0mfull_df\u001b[0m \u001b[0;34m=\u001b[0m \u001b[0mpd\u001b[0m\u001b[0;34m.\u001b[0m\u001b[0mmerge\u001b[0m\u001b[0;34m(\u001b[0m\u001b[0mdf\u001b[0m\u001b[0;34m,\u001b[0m \u001b[0mscotus_df\u001b[0m\u001b[0;34m,\u001b[0m \u001b[0mon\u001b[0m\u001b[0;34m=\u001b[0m\u001b[0;34m'Docket Number'\u001b[0m\u001b[0;34m)\u001b[0m\u001b[0;34m\u001b[0m\u001b[0m\n\u001b[0m\u001b[1;32m      2\u001b[0m \u001b[0mfull_df\u001b[0m\u001b[0;34m.\u001b[0m\u001b[0mhead\u001b[0m\u001b[0;34m(\u001b[0m\u001b[0;34m)\u001b[0m\u001b[0;34m\u001b[0m\u001b[0m\n",
      "\u001b[0;31mNameError\u001b[0m: name 'df' is not defined"
     ]
    }
   ],
   "source": [
    "full_df = pd.merge(df, scotus_df, on='Docket Number')\n",
    "full_df.head()"
   ]
  },
  {
   "cell_type": "markdown",
   "metadata": {},
   "source": [
    "ANOTHER MERGED - ON 2ND AND 3RD DATAFRAME"
   ]
  },
  {
   "cell_type": "code",
   "execution_count": 22,
   "metadata": {},
   "outputs": [
    {
     "ename": "NameError",
     "evalue": "name 'combined_df' is not defined",
     "output_type": "error",
     "traceback": [
      "\u001b[0;31m---------------------------------------------------------------------------\u001b[0m",
      "\u001b[0;31mNameError\u001b[0m                                 Traceback (most recent call last)",
      "\u001b[0;32m<ipython-input-22-48bf1a629197>\u001b[0m in \u001b[0;36m<module>\u001b[0;34m()\u001b[0m\n\u001b[0;32m----> 1\u001b[0;31m \u001b[0mdf_speech\u001b[0m \u001b[0;34m=\u001b[0m \u001b[0mpd\u001b[0m\u001b[0;34m.\u001b[0m\u001b[0mmerge\u001b[0m\u001b[0;34m(\u001b[0m\u001b[0mcombined_df\u001b[0m\u001b[0;34m,\u001b[0m \u001b[0mscotus_df\u001b[0m\u001b[0;34m,\u001b[0m \u001b[0mon\u001b[0m\u001b[0;34m=\u001b[0m\u001b[0;34m'Docket Number'\u001b[0m\u001b[0;34m)\u001b[0m\u001b[0;34m\u001b[0m\u001b[0m\n\u001b[0m\u001b[1;32m      2\u001b[0m \u001b[0mdf_speech\u001b[0m\u001b[0;34m\u001b[0m\u001b[0m\n",
      "\u001b[0;31mNameError\u001b[0m: name 'combined_df' is not defined"
     ]
    }
   ],
   "source": [
    "df_speech = pd.merge(combined_df, scotus_df, on='Docket Number')\n",
    "df_speech"
   ]
  },
  {
   "cell_type": "code",
   "execution_count": 23,
   "metadata": {},
   "outputs": [
    {
     "ename": "NameError",
     "evalue": "name 'df_speech' is not defined",
     "output_type": "error",
     "traceback": [
      "\u001b[0;31m---------------------------------------------------------------------------\u001b[0m",
      "\u001b[0;31mNameError\u001b[0m                                 Traceback (most recent call last)",
      "\u001b[0;32m<ipython-input-23-cbd53ee6f0f5>\u001b[0m in \u001b[0;36m<module>\u001b[0;34m()\u001b[0m\n\u001b[0;32m----> 1\u001b[0;31m \u001b[0mdf_civil\u001b[0m \u001b[0;34m=\u001b[0m \u001b[0mdf_speech\u001b[0m\u001b[0;34m[\u001b[0m\u001b[0;34m'Area*'\u001b[0m\u001b[0;34m]\u001b[0m \u001b[0;34m==\u001b[0m \u001b[0;34m'Civil Rights'\u001b[0m\u001b[0;34m\u001b[0m\u001b[0m\n\u001b[0m\u001b[1;32m      2\u001b[0m \u001b[0mdf_civil\u001b[0m\u001b[0;34m.\u001b[0m\u001b[0mvalue_counts\u001b[0m\u001b[0;34m(\u001b[0m\u001b[0;34m)\u001b[0m\u001b[0;34m\u001b[0m\u001b[0m\n",
      "\u001b[0;31mNameError\u001b[0m: name 'df_speech' is not defined"
     ]
    }
   ],
   "source": [
    "df_civil = df_speech['Area*'] == 'Civil Rights'\n",
    "df_civil.value_counts()"
   ]
  },
  {
   "cell_type": "code",
   "execution_count": 24,
   "metadata": {},
   "outputs": [
    {
     "ename": "NameError",
     "evalue": "name 'df_speech' is not defined",
     "output_type": "error",
     "traceback": [
      "\u001b[0;31m---------------------------------------------------------------------------\u001b[0m",
      "\u001b[0;31mNameError\u001b[0m                                 Traceback (most recent call last)",
      "\u001b[0;32m<ipython-input-24-88e99ebc35e2>\u001b[0m in \u001b[0;36m<module>\u001b[0;34m()\u001b[0m\n\u001b[0;32m----> 1\u001b[0;31m \u001b[0mdf_speech\u001b[0m\u001b[0;34m[\u001b[0m\u001b[0;34m'Area*'\u001b[0m\u001b[0;34m]\u001b[0m\u001b[0;34m.\u001b[0m\u001b[0mvalue_counts\u001b[0m\u001b[0;34m(\u001b[0m\u001b[0;34m)\u001b[0m\u001b[0;34m\u001b[0m\u001b[0m\n\u001b[0m",
      "\u001b[0;31mNameError\u001b[0m: name 'df_speech' is not defined"
     ]
    }
   ],
   "source": [
    "df_speech['Area*'].value_counts()"
   ]
  },
  {
   "cell_type": "markdown",
   "metadata": {},
   "source": [
    "ISOLATING CIVIL RIGHTS CASES"
   ]
  },
  {
   "cell_type": "code",
   "execution_count": 25,
   "metadata": {
    "scrolled": true
   },
   "outputs": [
    {
     "ename": "NameError",
     "evalue": "name 'df_speech' is not defined",
     "output_type": "error",
     "traceback": [
      "\u001b[0;31m---------------------------------------------------------------------------\u001b[0m",
      "\u001b[0;31mNameError\u001b[0m                                 Traceback (most recent call last)",
      "\u001b[0;32m<ipython-input-25-1fdf75f3144d>\u001b[0m in \u001b[0;36m<module>\u001b[0;34m()\u001b[0m\n\u001b[0;32m----> 1\u001b[0;31m \u001b[0mdf_speech\u001b[0m\u001b[0;34m.\u001b[0m\u001b[0mgroupby\u001b[0m\u001b[0;34m(\u001b[0m\u001b[0;34m'Area*'\u001b[0m\u001b[0;34m)\u001b[0m\u001b[0;34m[\u001b[0m\u001b[0;34m'Speaker'\u001b[0m\u001b[0;34m]\u001b[0m\u001b[0;34m.\u001b[0m\u001b[0mvalue_counts\u001b[0m\u001b[0;34m(\u001b[0m\u001b[0;34m)\u001b[0m\u001b[0;34m\u001b[0m\u001b[0m\n\u001b[0m",
      "\u001b[0;31mNameError\u001b[0m: name 'df_speech' is not defined"
     ]
    }
   ],
   "source": [
    "df_speech.groupby('Area*')['Speaker'].value_counts() "
   ]
  },
  {
   "cell_type": "code",
   "execution_count": 26,
   "metadata": {},
   "outputs": [
    {
     "ename": "NameError",
     "evalue": "name 'df_speech' is not defined",
     "output_type": "error",
     "traceback": [
      "\u001b[0;31m---------------------------------------------------------------------------\u001b[0m",
      "\u001b[0;31mNameError\u001b[0m                                 Traceback (most recent call last)",
      "\u001b[0;32m<ipython-input-26-fb2412ab8ba8>\u001b[0m in \u001b[0;36m<module>\u001b[0;34m()\u001b[0m\n\u001b[0;32m----> 1\u001b[0;31m \u001b[0mdf_civil\u001b[0m \u001b[0;34m=\u001b[0m \u001b[0mdf_speech\u001b[0m\u001b[0;34m.\u001b[0m\u001b[0mloc\u001b[0m\u001b[0;34m[\u001b[0m\u001b[0mdf_speech\u001b[0m\u001b[0;34m[\u001b[0m\u001b[0;34m'Area*'\u001b[0m\u001b[0;34m]\u001b[0m \u001b[0;34m==\u001b[0m \u001b[0;34m'Civil Rights'\u001b[0m\u001b[0;34m]\u001b[0m\u001b[0;34m\u001b[0m\u001b[0m\n\u001b[0m\u001b[1;32m      2\u001b[0m \u001b[0mdf_civil\u001b[0m\u001b[0;34m\u001b[0m\u001b[0m\n",
      "\u001b[0;31mNameError\u001b[0m: name 'df_speech' is not defined"
     ]
    }
   ],
   "source": [
    "df_civil = df_speech.loc[df_speech['Area*'] == 'Civil Rights']\n",
    "df_civil\n"
   ]
  },
  {
   "cell_type": "markdown",
   "metadata": {},
   "source": [
    "COUNT NUMBER OF LINES PER CASE PER SPEAKER"
   ]
  },
  {
   "cell_type": "code",
   "execution_count": 27,
   "metadata": {
    "scrolled": true
   },
   "outputs": [
    {
     "ename": "NameError",
     "evalue": "name 'df_civil' is not defined",
     "output_type": "error",
     "traceback": [
      "\u001b[0;31m---------------------------------------------------------------------------\u001b[0m",
      "\u001b[0;31mNameError\u001b[0m                                 Traceback (most recent call last)",
      "\u001b[0;32m<ipython-input-27-fa3115ff92f1>\u001b[0m in \u001b[0;36m<module>\u001b[0;34m()\u001b[0m\n\u001b[0;32m----> 1\u001b[0;31m \u001b[0mdf_new\u001b[0m \u001b[0;34m=\u001b[0m \u001b[0mdf_civil\u001b[0m\u001b[0;34m.\u001b[0m\u001b[0mgroupby\u001b[0m\u001b[0;34m(\u001b[0m\u001b[0;34m'Speaker'\u001b[0m\u001b[0;34m)\u001b[0m\u001b[0;34m[\u001b[0m\u001b[0;34m'Case Name'\u001b[0m\u001b[0;34m]\u001b[0m\u001b[0;34m.\u001b[0m\u001b[0mvalue_counts\u001b[0m\u001b[0;34m(\u001b[0m\u001b[0;34m)\u001b[0m\u001b[0;34m.\u001b[0m\u001b[0msort_values\u001b[0m\u001b[0;34m(\u001b[0m\u001b[0mascending\u001b[0m\u001b[0;34m=\u001b[0m\u001b[0;32mFalse\u001b[0m\u001b[0;34m)\u001b[0m\u001b[0;34m.\u001b[0m\u001b[0mreset_index\u001b[0m\u001b[0;34m(\u001b[0m\u001b[0mname\u001b[0m\u001b[0;34m=\u001b[0m\u001b[0;34m'count'\u001b[0m\u001b[0;34m)\u001b[0m\u001b[0;34m\u001b[0m\u001b[0m\n\u001b[0m\u001b[1;32m      2\u001b[0m \u001b[0mdf_new\u001b[0m\u001b[0;34m\u001b[0m\u001b[0m\n",
      "\u001b[0;31mNameError\u001b[0m: name 'df_civil' is not defined"
     ]
    }
   ],
   "source": [
    "df_new = df_civil.groupby('Speaker')['Case Name'].value_counts().sort_values(ascending=False).reset_index(name='count')\n",
    "df_new"
   ]
  },
  {
   "cell_type": "code",
   "execution_count": 28,
   "metadata": {
    "scrolled": true
   },
   "outputs": [
    {
     "ename": "NameError",
     "evalue": "name 'df_new' is not defined",
     "output_type": "error",
     "traceback": [
      "\u001b[0;31m---------------------------------------------------------------------------\u001b[0m",
      "\u001b[0;31mNameError\u001b[0m                                 Traceback (most recent call last)",
      "\u001b[0;32m<ipython-input-28-1be765c859ea>\u001b[0m in \u001b[0;36m<module>\u001b[0;34m()\u001b[0m\n\u001b[1;32m      1\u001b[0m \u001b[0;31m#sort by case number\u001b[0m\u001b[0;34m\u001b[0m\u001b[0;34m\u001b[0m\u001b[0m\n\u001b[0;32m----> 2\u001b[0;31m \u001b[0mdf_new\u001b[0m\u001b[0;34m.\u001b[0m\u001b[0msort_values\u001b[0m\u001b[0;34m(\u001b[0m\u001b[0;34m\"Case Name\"\u001b[0m\u001b[0;34m)\u001b[0m\u001b[0;34m\u001b[0m\u001b[0m\n\u001b[0m",
      "\u001b[0;31mNameError\u001b[0m: name 'df_new' is not defined"
     ]
    }
   ],
   "source": [
    "#sort by case number\n",
    "df_new.sort_values(\"Case Name\")"
   ]
  },
  {
   "cell_type": "code",
   "execution_count": 29,
   "metadata": {},
   "outputs": [
    {
     "ename": "NameError",
     "evalue": "name 'df_new' is not defined",
     "output_type": "error",
     "traceback": [
      "\u001b[0;31m---------------------------------------------------------------------------\u001b[0m",
      "\u001b[0;31mNameError\u001b[0m                                 Traceback (most recent call last)",
      "\u001b[0;32m<ipython-input-29-9ba75a4eb17f>\u001b[0m in \u001b[0;36m<module>\u001b[0;34m()\u001b[0m\n\u001b[1;32m      1\u001b[0m \u001b[0;31m#Number of speakers per Civil Rights Case\u001b[0m\u001b[0;34m\u001b[0m\u001b[0;34m\u001b[0m\u001b[0m\n\u001b[1;32m      2\u001b[0m \u001b[0;31m#df_new['Total # of Speakers'] =\u001b[0m\u001b[0;34m\u001b[0m\u001b[0;34m\u001b[0m\u001b[0m\n\u001b[0;32m----> 3\u001b[0;31m \u001b[0mdf_new\u001b[0m\u001b[0;34m[\u001b[0m\u001b[0;34m'Case Name'\u001b[0m\u001b[0;34m]\u001b[0m\u001b[0;34m.\u001b[0m\u001b[0mvalue_counts\u001b[0m\u001b[0;34m(\u001b[0m\u001b[0;34m)\u001b[0m\u001b[0;34m\u001b[0m\u001b[0m\n\u001b[0m",
      "\u001b[0;31mNameError\u001b[0m: name 'df_new' is not defined"
     ]
    }
   ],
   "source": [
    "#Number of speakers per Civil Rights Case \n",
    "#df_new['Total # of Speakers'] = \n",
    "df_new['Case Name'].value_counts()"
   ]
  },
  {
   "cell_type": "code",
   "execution_count": 30,
   "metadata": {
    "scrolled": true
   },
   "outputs": [
    {
     "ename": "NameError",
     "evalue": "name 'df_civil' is not defined",
     "output_type": "error",
     "traceback": [
      "\u001b[0;31m---------------------------------------------------------------------------\u001b[0m",
      "\u001b[0;31mNameError\u001b[0m                                 Traceback (most recent call last)",
      "\u001b[0;32m<ipython-input-30-28f6df78e093>\u001b[0m in \u001b[0;36m<module>\u001b[0;34m()\u001b[0m\n\u001b[0;32m----> 1\u001b[0;31m \u001b[0mdf_civil\u001b[0m\u001b[0;34m.\u001b[0m\u001b[0mhead\u001b[0m\u001b[0;34m(\u001b[0m\u001b[0;34m)\u001b[0m\u001b[0;34m\u001b[0m\u001b[0m\n\u001b[0m",
      "\u001b[0;31mNameError\u001b[0m: name 'df_civil' is not defined"
     ]
    }
   ],
   "source": [
    "df_civil.head()"
   ]
  },
  {
   "cell_type": "code",
   "execution_count": 31,
   "metadata": {},
   "outputs": [
    {
     "ename": "NameError",
     "evalue": "name 'df_civil' is not defined",
     "output_type": "error",
     "traceback": [
      "\u001b[0;31m---------------------------------------------------------------------------\u001b[0m",
      "\u001b[0;31mNameError\u001b[0m                                 Traceback (most recent call last)",
      "\u001b[0;32m<ipython-input-31-4489893a082e>\u001b[0m in \u001b[0;36m<module>\u001b[0;34m()\u001b[0m\n\u001b[1;32m      1\u001b[0m \u001b[0;31m#lenght of lines of each Civil Rights Case\u001b[0m\u001b[0;34m\u001b[0m\u001b[0;34m\u001b[0m\u001b[0m\n\u001b[0;32m----> 2\u001b[0;31m \u001b[0mdf_civil\u001b[0m\u001b[0;34m[\u001b[0m\u001b[0;34m'Docket Number'\u001b[0m\u001b[0;34m]\u001b[0m\u001b[0;34m.\u001b[0m\u001b[0mvalue_counts\u001b[0m\u001b[0;34m(\u001b[0m\u001b[0;34m)\u001b[0m\u001b[0;34m\u001b[0m\u001b[0m\n\u001b[0m",
      "\u001b[0;31mNameError\u001b[0m: name 'df_civil' is not defined"
     ]
    }
   ],
   "source": [
    "#lenght of lines of each Civil Rights Case \n",
    "df_civil['Docket Number'].value_counts()"
   ]
  },
  {
   "cell_type": "code",
   "execution_count": 32,
   "metadata": {
    "scrolled": false
   },
   "outputs": [
    {
     "ename": "NameError",
     "evalue": "name 'df_civil' is not defined",
     "output_type": "error",
     "traceback": [
      "\u001b[0;31m---------------------------------------------------------------------------\u001b[0m",
      "\u001b[0;31mNameError\u001b[0m                                 Traceback (most recent call last)",
      "\u001b[0;32m<ipython-input-32-7bf7fb712a54>\u001b[0m in \u001b[0;36m<module>\u001b[0;34m()\u001b[0m\n\u001b[1;32m      2\u001b[0m \u001b[0;32mimport\u001b[0m \u001b[0mre\u001b[0m\u001b[0;34m\u001b[0m\u001b[0m\n\u001b[1;32m      3\u001b[0m \u001b[0;32mfrom\u001b[0m \u001b[0mcollections\u001b[0m \u001b[0;32mimport\u001b[0m \u001b[0mCounter\u001b[0m\u001b[0;34m\u001b[0m\u001b[0m\n\u001b[0;32m----> 4\u001b[0;31m \u001b[0mwordcount_case\u001b[0m \u001b[0;34m=\u001b[0m \u001b[0mdf_civil\u001b[0m\u001b[0;34m.\u001b[0m\u001b[0mgroupby\u001b[0m\u001b[0;34m(\u001b[0m\u001b[0;34m[\u001b[0m\u001b[0;34m\"Case Name\"\u001b[0m\u001b[0;34m]\u001b[0m\u001b[0;34m)\u001b[0m\u001b[0;34m.\u001b[0m\u001b[0msum\u001b[0m\u001b[0;34m(\u001b[0m\u001b[0;34m)\u001b[0m\u001b[0;34m.\u001b[0m\u001b[0mapplymap\u001b[0m\u001b[0;34m(\u001b[0m\u001b[0;32mlambda\u001b[0m \u001b[0mwords\u001b[0m\u001b[0;34m:\u001b[0m \u001b[0mCounter\u001b[0m\u001b[0;34m(\u001b[0m\u001b[0mre\u001b[0m\u001b[0;34m.\u001b[0m\u001b[0mfindall\u001b[0m\u001b[0;34m(\u001b[0m\u001b[0;34mr\"\\b\\w{6,}\\b\"\u001b[0m\u001b[0;34m,\u001b[0m\u001b[0mwords\u001b[0m\u001b[0;34m.\u001b[0m\u001b[0mlower\u001b[0m\u001b[0;34m(\u001b[0m\u001b[0;34m)\u001b[0m\u001b[0;34m)\u001b[0m\u001b[0;34m)\u001b[0m\u001b[0;34m.\u001b[0m\u001b[0mmost_common\u001b[0m\u001b[0;34m(\u001b[0m\u001b[0;34m)\u001b[0m\u001b[0;34m)\u001b[0m\u001b[0;34m\u001b[0m\u001b[0m\n\u001b[0m",
      "\u001b[0;31mNameError\u001b[0m: name 'df_civil' is not defined"
     ]
    }
   ],
   "source": [
    "#most frequent words used in each civil rights case \n",
    "import re\n",
    "from collections import Counter\n",
    "wordcount_case = df_civil.groupby([\"Case Name\"]).sum().applymap(lambda words: Counter(re.findall(r\"\\b\\w{6,}\\b\",words.lower())).most_common())"
   ]
  },
  {
   "cell_type": "code",
   "execution_count": 33,
   "metadata": {},
   "outputs": [
    {
     "ename": "NameError",
     "evalue": "name 'wordcount_case' is not defined",
     "output_type": "error",
     "traceback": [
      "\u001b[0;31m---------------------------------------------------------------------------\u001b[0m",
      "\u001b[0;31mNameError\u001b[0m                                 Traceback (most recent call last)",
      "\u001b[0;32m<ipython-input-33-df0b6e7a65c0>\u001b[0m in \u001b[0;36m<module>\u001b[0;34m()\u001b[0m\n\u001b[0;32m----> 1\u001b[0;31m \u001b[0mwordcount_case\u001b[0m\u001b[0;34m\u001b[0m\u001b[0m\n\u001b[0m",
      "\u001b[0;31mNameError\u001b[0m: name 'wordcount_case' is not defined"
     ]
    }
   ],
   "source": [
    "wordcount_case"
   ]
  },
  {
   "cell_type": "code",
   "execution_count": 34,
   "metadata": {
    "scrolled": true
   },
   "outputs": [
    {
     "ename": "NameError",
     "evalue": "name 'wordcount_case' is not defined",
     "output_type": "error",
     "traceback": [
      "\u001b[0;31m---------------------------------------------------------------------------\u001b[0m",
      "\u001b[0;31mNameError\u001b[0m                                 Traceback (most recent call last)",
      "\u001b[0;32m<ipython-input-34-41bc940bed09>\u001b[0m in \u001b[0;36m<module>\u001b[0;34m()\u001b[0m\n\u001b[0;32m----> 1\u001b[0;31m \u001b[0mdf_another\u001b[0m \u001b[0;34m=\u001b[0m \u001b[0mwordcount_case\u001b[0m\u001b[0;34m[\u001b[0m\u001b[0;34m[\u001b[0m\u001b[0;34m'Case Name'\u001b[0m\u001b[0;34m,\u001b[0m \u001b[0;34m'Speech'\u001b[0m\u001b[0;34m,\u001b[0m \u001b[0;34m'Docket Number'\u001b[0m\u001b[0;34m]\u001b[0m\u001b[0;34m]\u001b[0m\u001b[0;34m\u001b[0m\u001b[0m\n\u001b[0m\u001b[1;32m      2\u001b[0m \u001b[0mdf_another\u001b[0m\u001b[0;34m\u001b[0m\u001b[0m\n\u001b[1;32m      3\u001b[0m \u001b[0;34m\u001b[0m\u001b[0m\n",
      "\u001b[0;31mNameError\u001b[0m: name 'wordcount_case' is not defined"
     ]
    }
   ],
   "source": [
    "df_another = wordcount_case[['Case Name', 'Speech', 'Docket Number']]\n",
    "df_another\n",
    "                            "
   ]
  },
  {
   "cell_type": "code",
   "execution_count": 35,
   "metadata": {
    "collapsed": true
   },
   "outputs": [],
   "source": [
    "#make a new column with readable speech\n",
    "#lamba function \n",
    "#wordcount['Speech']"
   ]
  },
  {
   "cell_type": "code",
   "execution_count": 36,
   "metadata": {
    "collapsed": true
   },
   "outputs": [],
   "source": [
    "#combined_df = df2.merge(df, left_on='PDF', right_on='case_id')\n",
    "#df_speech = pd.merge(combined_df, scotus_df, on='Docket Number')"
   ]
  },
  {
   "cell_type": "code",
   "execution_count": null,
   "metadata": {
    "collapsed": true
   },
   "outputs": [],
   "source": [
    "#df_final = pd.merge(wordcount_case, df_new, on='Docket Number')"
   ]
  },
  {
   "cell_type": "code",
   "execution_count": null,
   "metadata": {
    "collapsed": true
   },
   "outputs": [],
   "source": [
    "df_new.groupby('Case Name')"
   ]
  },
  {
   "cell_type": "code",
   "execution_count": null,
   "metadata": {
    "collapsed": true,
    "scrolled": true
   },
   "outputs": [],
   "source": [
    "#Number of lines per case \n",
    "#df_final = pd.merge(wordcount_case, df_new, on='Docket Number')\n",
    "new_full = df_new.groupby([\"Case Name\"]).sum()"
   ]
  },
  {
   "cell_type": "code",
   "execution_count": null,
   "metadata": {
    "collapsed": true,
    "scrolled": true
   },
   "outputs": [],
   "source": [
    "new_full.reset_index(inplace = True)\n",
    "new_full"
   ]
  },
  {
   "cell_type": "code",
   "execution_count": null,
   "metadata": {
    "collapsed": true,
    "scrolled": true
   },
   "outputs": [],
   "source": [
    "first_merge = pd.merge(new_full, df_new, on = 'Case Name')\n",
    "first_merge"
   ]
  },
  {
   "cell_type": "code",
   "execution_count": null,
   "metadata": {
    "collapsed": true,
    "scrolled": true
   },
   "outputs": [],
   "source": [
    "new_merge = pd.merge(new_full, full_df, on='Case Name')\n",
    "new_merge"
   ]
  },
  {
   "cell_type": "code",
   "execution_count": null,
   "metadata": {
    "collapsed": true
   },
   "outputs": [],
   "source": [
    "new_merge.drop(new_merge.columns[[4, 5, 6, 7, 8, 12]], axis=1, inplace = True)"
   ]
  },
  {
   "cell_type": "code",
   "execution_count": null,
   "metadata": {
    "collapsed": true
   },
   "outputs": [],
   "source": [
    "new_merge.rename(columns={'count': '# Of Lines', 'Date Argued_x': 'Date'}, inplace=True)\n"
   ]
  },
  {
   "cell_type": "code",
   "execution_count": null,
   "metadata": {
    "collapsed": true
   },
   "outputs": [],
   "source": [
    "new_merge"
   ]
  },
  {
   "cell_type": "code",
   "execution_count": null,
   "metadata": {
    "collapsed": true
   },
   "outputs": [],
   "source": [
    "def unpack(freq_words):\n",
    "    string = \"\"\n",
    "    for pair in freq_words[0:5]:\n",
    "        string += pair[0] + \": \" + str(pair[1]) + \" \"\n",
    "    return string"
   ]
  },
  {
   "cell_type": "code",
   "execution_count": null,
   "metadata": {
    "collapsed": true
   },
   "outputs": [],
   "source": [
    "wordcount_case['WordsString'] = wordcount_case['Speech'].apply(lambda x: unpack(x)) "
   ]
  },
  {
   "cell_type": "code",
   "execution_count": null,
   "metadata": {
    "collapsed": true,
    "scrolled": true
   },
   "outputs": [],
   "source": [
    "wordcount_cases"
   ]
  },
  {
   "cell_type": "code",
   "execution_count": null,
   "metadata": {
    "collapsed": true
   },
   "outputs": [],
   "source": [
    "wordcount_case.drop(wordcount_case.columns[[1,2,3,4,5,6,7,8,9,10,11,12,13]], axis=1, inplace = True)"
   ]
  },
  {
   "cell_type": "code",
   "execution_count": null,
   "metadata": {
    "collapsed": true
   },
   "outputs": [],
   "source": [
    "wordcount_case"
   ]
  },
  {
   "cell_type": "code",
   "execution_count": null,
   "metadata": {
    "collapsed": true
   },
   "outputs": [],
   "source": [
    "wordcount_case.rename(columns={'WordsString': 'Most Frequent Word'}, inplace=True)\n",
    "wordcount_case"
   ]
  },
  {
   "cell_type": "code",
   "execution_count": null,
   "metadata": {
    "collapsed": true
   },
   "outputs": [],
   "source": [
    "df_withmore = pd.merge(wordcount_case, new_merge, on='Case Name')"
   ]
  },
  {
   "cell_type": "code",
   "execution_count": null,
   "metadata": {
    "collapsed": true
   },
   "outputs": [],
   "source": [
    "df_withmore"
   ]
  },
  {
   "cell_type": "code",
   "execution_count": null,
   "metadata": {
    "collapsed": true
   },
   "outputs": [],
   "source": [
    "#now make sure to get the most frequent speaker "
   ]
  },
  {
   "cell_type": "code",
   "execution_count": null,
   "metadata": {
    "collapsed": true
   },
   "outputs": [],
   "source": [
    "def unpack(freq_words):\n",
    "    string = \"\"\n",
    "    for pair in freq_words[0:5]:\n",
    "        string += pair[0] + \": \" + str(pair[1]) + \" \"\n",
    "    return string"
   ]
  },
  {
   "cell_type": "code",
   "execution_count": null,
   "metadata": {
    "collapsed": true
   },
   "outputs": [],
   "source": [
    "wordcount_case['Frequent Speaker'] = wordcount_case['Speaker'].apply(lambda x: unpack(x)) "
   ]
  },
  {
   "cell_type": "code",
   "execution_count": null,
   "metadata": {
    "collapsed": true
   },
   "outputs": [],
   "source": []
  },
  {
   "cell_type": "code",
   "execution_count": null,
   "metadata": {
    "collapsed": true
   },
   "outputs": [],
   "source": []
  }
 ],
 "metadata": {
  "kernelspec": {
   "display_name": "Python 3",
   "language": "python",
   "name": "python3"
  },
  "language_info": {
   "codemirror_mode": {
    "name": "ipython",
    "version": 3
   },
   "file_extension": ".py",
   "mimetype": "text/x-python",
   "name": "python",
   "nbconvert_exporter": "python",
   "pygments_lexer": "ipython3",
   "version": "3.6.1"
  }
 },
 "nbformat": 4,
 "nbformat_minor": 2
}

{
 "cells": [
  {
   "cell_type": "markdown",
   "metadata": {},
   "source": [
    "**matplotlib likes to whine in this one, so I'm turning off warnings**"
   ]
  },
  {
   "cell_type": "code",
   "execution_count": null,
   "metadata": {
    "collapsed": true
   },
   "outputs": [],
   "source": [
    "import warnings\n",
    "warnings.filterwarnings(\"ignore\")"
   ]
  },
  {
   "cell_type": "markdown",
   "metadata": {},
   "source": [
    "# Four: Beautiful maps with Basemap\n",
    "\n",
    "**MOST OF THIS ONE IS READING**, you only have to do a little work down at the end. Since you probably didn't install Basemap during class, you'll need to run this:\n",
    "\n",
    "* `pip3 install https://github.com/matplotlib/basemap/archive/v1.0.7rel.tar.gz`\n",
    "\n",
    "# Part Zero: Importing Basemap and making simple maps\n",
    "\n",
    "After the trash we've been dealing with, Basemap is insane. Check this out:"
   ]
  },
  {
   "cell_type": "code",
   "execution_count": null,
   "metadata": {},
   "outputs": [],
   "source": [
    "from mpl_toolkits.basemap import Basemap\n",
    "import matplotlib.pyplot as plt\n",
    "\n",
    "# Set the size of the map\n",
    "plt.figure(figsize=(8,8))\n",
    "\n",
    "# Set the projection and the center\n",
    "map = Basemap(projection='ortho', lat_0=50, lon_0=-100, resolution='l', area_thresh=1000.0)\n",
    "\n",
    "# Draw some coastlines\n",
    "map.drawcoastlines()\n",
    "\n",
    "# Show the map\n",
    "plt.show()"
   ]
  },
  {
   "cell_type": "markdown",
   "metadata": {},
   "source": [
    "Oh is that boring trash to you? Do you want something better?"
   ]
  },
  {
   "cell_type": "code",
   "execution_count": null,
   "metadata": {
    "collapsed": true
   },
   "outputs": [],
   "source": [
    "from mpl_toolkits.basemap import Basemap\n",
    "import matplotlib.pyplot as plt\n",
    "\n",
    "# Set the size of the map\n",
    "plt.figure(figsize=(8,8))\n",
    "\n",
    "# Set the projection and the center\n",
    "# Options stolen from https://matplotlib.org/basemap/users/merc.html\n",
    "map = Basemap(projection='merc', llcrnrlat=-80,urcrnrlat=80, llcrnrlon=-180,urcrnrlon=180,lat_ts=20,resolution='c')\n",
    "\n",
    "# Draw some other stuff\n",
    "map.drawcoastlines()\n",
    "map.drawcountries()\n",
    "map.drawrivers()\n",
    "\n",
    "# Color some stuff in\n",
    "map.fillcontinents(color='orange')\n",
    "\n",
    "# Show the map\n",
    "plt.show()"
   ]
  },
  {
   "cell_type": "markdown",
   "metadata": {},
   "source": [
    "Still sleeping?"
   ]
  },
  {
   "cell_type": "code",
   "execution_count": null,
   "metadata": {
    "collapsed": true
   },
   "outputs": [],
   "source": [
    "from mpl_toolkits.basemap import Basemap\n",
    "import matplotlib.pyplot as plt\n",
    "\n",
    "# Set the size of the map\n",
    "plt.figure(figsize=(8,8))\n",
    "\n",
    "# Set the projection and the center\n",
    "# Adjusted options from above because you can't do -180 to 180 with longitude\n",
    "map = Basemap(projection='merc', llcrnrlat=-80,urcrnrlat=80, llcrnrlon=-140,urcrnrlon=140,lat_ts=20,resolution='c')\n",
    "\n",
    "# Blue marble\n",
    "# https://visibleearth.nasa.gov/view_cat.php?categoryID=1484\n",
    "map.bluemarble()\n",
    "\n",
    "# Show the map\n",
    "plt.show()"
   ]
  },
  {
   "cell_type": "markdown",
   "metadata": {},
   "source": [
    "*Whistles softly*"
   ]
  },
  {
   "cell_type": "code",
   "execution_count": null,
   "metadata": {
    "collapsed": true
   },
   "outputs": [],
   "source": [
    "from mpl_toolkits.basemap import Basemap\n",
    "import matplotlib.pyplot as plt\n",
    "# setup Lambert Conformal basemap.\n",
    "# set resolution=None to skip processing of boundary datasets.\n",
    "m = Basemap(width=12000000,height=9000000,projection='lcc',\n",
    "            resolution=None,lat_1=45.,lat_2=55,lat_0=50,lon_0=-107.)\n",
    "m.shadedrelief()\n",
    "plt.show()\n"
   ]
  },
  {
   "cell_type": "markdown",
   "metadata": {},
   "source": [
    "You can find more at [https://matplotlib.org/basemap/users/geography.html](https://matplotlib.org/basemap/users/geography.html) (although it's sometimes kinda tough to understand the options)."
   ]
  },
  {
   "cell_type": "markdown",
   "metadata": {},
   "source": [
    "# Part One: Plotting points from geopandas on Basemap\n",
    "\n",
    "First of all, let's import our data."
   ]
  },
  {
   "cell_type": "code",
   "execution_count": null,
   "metadata": {
    "collapsed": true
   },
   "outputs": [],
   "source": [
    "import pandas as pd\n",
    "import geopandas as gpd\n",
    "from shapely.geometry import Point\n",
    "from mpl_toolkits.basemap import Basemap\n",
    "import matplotlib.pyplot as plt\n",
    "\n",
    "%matplotlib inline"
   ]
  },
  {
   "cell_type": "code",
   "execution_count": null,
   "metadata": {
    "collapsed": true
   },
   "outputs": [],
   "source": [
    "df = pd.read_csv('worldcapitals.csv')\n",
    "points = df.apply(lambda z: Point(z.Longitude, z.Latitude), axis=1)\n",
    "capitals = gpd.GeoDataFrame(df, geometry=points)\n",
    "capitals.crs = {'init': 'epsg:4326'}\n",
    "capitals.head(2)"
   ]
  },
  {
   "cell_type": "markdown",
   "metadata": {},
   "source": [
    "So we know how to plot them using geopandas..."
   ]
  },
  {
   "cell_type": "code",
   "execution_count": null,
   "metadata": {
    "collapsed": true
   },
   "outputs": [],
   "source": [
    "capitals.plot()"
   ]
  },
  {
   "cell_type": "markdown",
   "metadata": {},
   "source": [
    "### CONVERTING A SINGLE POINT TO BASEMAP'S COORDINATE SYSTEM"
   ]
  },
  {
   "cell_type": "markdown",
   "metadata": {},
   "source": [
    "...but using Basemap makes things a little different.\n",
    "\n",
    "Your map has a `.plot` method that can plot a single point on the map, but it won't accept latitude and longitude! Using the latitude and longitude of NYC, look at where the red dot ends up on the map below."
   ]
  },
  {
   "cell_type": "code",
   "execution_count": null,
   "metadata": {
    "collapsed": true
   },
   "outputs": [],
   "source": [
    "map = Basemap(projection='ortho', lat_0=50, lon_0=-100, resolution='l', area_thresh=1000.0)\n",
    "map.drawcoastlines()\n",
    "map.drawcountries()\n",
    "\n",
    "# Try to plot NYC\n",
    "map.plot(-74.0059, 40.7128, 'bo', markersize=12, color='red')\n",
    "\n",
    "plt.show()"
   ]
  },
  {
   "cell_type": "markdown",
   "metadata": {},
   "source": [
    "But! If you ask nicely, your map will convert lon/lat pairs into x/y coordinates for you."
   ]
  },
  {
   "cell_type": "code",
   "execution_count": null,
   "metadata": {
    "collapsed": true
   },
   "outputs": [],
   "source": [
    "map = Basemap(projection='ortho', lat_0=50, lon_0=-100, resolution='l', area_thresh=1000.0)\n",
    "# \"Where do you think -74.0059, 40.7128 belongs?\"\n",
    "map(-74.0059, 40.7128)"
   ]
  },
  {
   "cell_type": "markdown",
   "metadata": {},
   "source": [
    "Great, an x of 8487507 and a y of 5717052. What if we plug those coordinates into `.plot`?"
   ]
  },
  {
   "cell_type": "code",
   "execution_count": null,
   "metadata": {
    "collapsed": true
   },
   "outputs": [],
   "source": [
    "map = Basemap(projection='ortho', lat_0=50, lon_0=-100, resolution='l', area_thresh=1000.0)\n",
    "map.drawcoastlines()\n",
    "map.drawcountries()\n",
    "\n",
    "# Try to plot NYC using the new x/y coords\n",
    "map.plot(8487507.138926657, 5717052.2505567875, 'bo', markersize=12, color='red')\n",
    "\n",
    "plt.show()"
   ]
  },
  {
   "cell_type": "markdown",
   "metadata": {},
   "source": [
    "Perfect! But **we want to do this automatically**, so it should look something like this..."
   ]
  },
  {
   "cell_type": "code",
   "execution_count": null,
   "metadata": {
    "collapsed": true
   },
   "outputs": [],
   "source": [
    "map = Basemap(projection='ortho', lat_0=50, lon_0=-100, resolution='l', area_thresh=1000.0)\n",
    "map.drawcoastlines()\n",
    "map.drawcountries()\n",
    "\n",
    "# Convert lon/lat into x/y\n",
    "x, y = map(-74.0059, 40.7128)\n",
    "\n",
    "# Try to plot NYC using the new x/y coords\n",
    "map.plot(x, y, 'bo', markersize=12, color='red')\n",
    "\n",
    "plt.show()"
   ]
  },
  {
   "cell_type": "markdown",
   "metadata": {},
   "source": [
    "### BUT: A caveat\n",
    "\n",
    "**If we're going to be honest here**, you *can technically sometimes also* plot latitude and longitude on the map directly, you just need to send `latlon=True` when plotting.\n",
    "\n",
    "**BUT:** It's buggy, and when you have big data or data that goes outside of the map or crosses the back of the map or a hundred other little edge cases, it'll freak out on you and give an error. So we're doing it the hard way.\n",
    "\n",
    "I'm sorry, yes, but that's life. You can see it in action below, and you're free to use it (until you come across the errors, at which point you'll know to switch to reprojecting)."
   ]
  },
  {
   "cell_type": "code",
   "execution_count": null,
   "metadata": {
    "collapsed": true
   },
   "outputs": [],
   "source": [
    "map = Basemap(projection='ortho', lat_0=50, lon_0=-100, resolution='l', area_thresh=1000.0)\n",
    "map.drawcoastlines()\n",
    "map.drawcountries()\n",
    "\n",
    "# Just use lon/lat and pass latlon=True when plotting\n",
    "lon = -74.0059\n",
    "lat = 40.7128\n",
    "map.plot(lon, lat, 'bo', markersize=12, color='red', latlon=True)\n",
    "\n",
    "plt.show()"
   ]
  },
  {
   "cell_type": "markdown",
   "metadata": {},
   "source": [
    "## CONVERTING MANY POINTS TO BASEMAP'S COORDINATE SYSTEM\n",
    "\n",
    "So we did it with *one* point, how about doing it with many? First let's move the map show more of the world. I'm going to use [http://geojson.io/](http://geojson.io/) to find out the coordinates I want to use for the lower left and upper right of the map. You feed these to `llcrnrlat` (lower left corner right latitude), `llcrnrlon`, `urcrnrlat` and `urcrnrlon` (upper right corner longitude)."
   ]
  },
  {
   "cell_type": "code",
   "execution_count": null,
   "metadata": {
    "collapsed": true
   },
   "outputs": [],
   "source": [
    "map = Basemap(projection='merc', llcrnrlat=-56, llcrnrlon=-145, urcrnrlat=73, urcrnrlon=177)\n",
    "map.drawcoastlines()\n",
    "map.drawcountries()\n",
    "plt.show()"
   ]
  },
  {
   "cell_type": "markdown",
   "metadata": {},
   "source": [
    "What are a few capitals?"
   ]
  },
  {
   "cell_type": "code",
   "execution_count": null,
   "metadata": {
    "collapsed": true
   },
   "outputs": [],
   "source": [
    "capitals.head(5)"
   ]
  },
  {
   "cell_type": "markdown",
   "metadata": {},
   "source": [
    "If you give `map` a list of longitudes and latitudes, it'll convert them just as nicely for you!"
   ]
  },
  {
   "cell_type": "code",
   "execution_count": null,
   "metadata": {
    "collapsed": true
   },
   "outputs": [],
   "source": [
    "map = Basemap(projection='merc', llcrnrlat=-56, llcrnrlon=-145, urcrnrlat=73, urcrnrlon=177)\n",
    "# I wrote up lists of longitudes and latitudes from above\n",
    "lons = [54.36667, 7.48976, 7.48976, -130.10147, 38.74689]\n",
    "lats = [24.46667, 9.05735, 5.55602, -25.06597, 9.02497]\n",
    "# Feed them to the map to have them converted\n",
    "map(lons, lats)"
   ]
  },
  {
   "cell_type": "markdown",
   "metadata": {},
   "source": [
    "Additionally, `.plot` accepts lists of x and y coordinates. Now, just like we did before, we'll convert them using `map()` and display them using `.plot` all in one cell."
   ]
  },
  {
   "cell_type": "code",
   "execution_count": null,
   "metadata": {
    "collapsed": true
   },
   "outputs": [],
   "source": [
    "map = Basemap(projection='merc', llcrnrlat=-56, llcrnrlon=-145, urcrnrlat=73, urcrnrlon=177)\n",
    "map.drawcoastlines()\n",
    "map.drawcountries()\n",
    "\n",
    "# Here are our longitudes and latitudes\n",
    "lons = [54.36667, 7.48976, 7.48976, -130.10147, 38.74689]\n",
    "lats = [24.46667, 9.05735, 5.55602, -25.06597, 9.02497]\n",
    "# Convert them to Basemap's x and y values\n",
    "x, y = map(lons, lats)\n",
    "# Plot them on the map\n",
    "map.plot(x, y, 'bo', markersize=3, color='red')\n",
    "\n",
    "plt.show()"
   ]
  },
  {
   "cell_type": "markdown",
   "metadata": {},
   "source": [
    "And yes, Adamstown is located way over there in the middle of the ocean.\n",
    "\n",
    "**Now we just need to do this with our dataframe.** Seems like it should be easy enough - instead of making a list of latitudes and longitudes, we should be able to just do `capitals.Latitude` and `capitals.Longitude`, right?"
   ]
  },
  {
   "cell_type": "code",
   "execution_count": null,
   "metadata": {
    "collapsed": true
   },
   "outputs": [],
   "source": [
    "capitals.Latitude.head()"
   ]
  },
  {
   "cell_type": "markdown",
   "metadata": {},
   "source": [
    "Seems like it'll work. Let's try it!"
   ]
  },
  {
   "cell_type": "code",
   "execution_count": null,
   "metadata": {
    "collapsed": true
   },
   "outputs": [],
   "source": [
    "map = Basemap(projection='merc', llcrnrlat=-56, llcrnrlon=-145, urcrnrlat=73, urcrnrlon=177)\n",
    "map.drawcoastlines()\n",
    "map.drawcountries()\n",
    "\n",
    "lons = capitals['Longitude']\n",
    "lats = capitals['Latitude']\n",
    "x, y = map(lons, lats)\n",
    "map.plot(x, y, 'bo', markersize=2, color='red')\n",
    "\n",
    "plt.show()"
   ]
  },
  {
   "cell_type": "markdown",
   "metadata": {},
   "source": [
    "**IT DOES NOT WORK.** It's because `capitals['Longitude']` is technically a *Series*, and Basemap only understands *lists*. It doesn't get what pandas is talking about.\n",
    "\n",
    "So all we gotta do is convert it to a list!"
   ]
  },
  {
   "cell_type": "code",
   "execution_count": null,
   "metadata": {
    "collapsed": true
   },
   "outputs": [],
   "source": [
    "# Convert to a list, look at the first five...\n",
    "capitals['Longitude'].tolist()[:5]"
   ]
  },
  {
   "cell_type": "markdown",
   "metadata": {},
   "source": [
    "Now let's actually do it!"
   ]
  },
  {
   "cell_type": "code",
   "execution_count": null,
   "metadata": {
    "collapsed": true
   },
   "outputs": [],
   "source": [
    "map = Basemap(projection='merc', llcrnrlat=-56, llcrnrlon=-145, urcrnrlat=73, urcrnrlon=177)\n",
    "map.drawcoastlines()\n",
    "map.drawcountries()\n",
    "\n",
    "# Pull lons and lats from our dataframe\n",
    "# Convert to list\n",
    "lons = capitals['Longitude'].tolist()\n",
    "lats = capitals['Latitude'].tolist()\n",
    "# Convert to Basemap's coordinate system\n",
    "x, y = map(lons, lats)\n",
    "# and plot them\n",
    "map.plot(x, y, 'bo', markersize=3, color='red')\n",
    "\n",
    "plt.show()"
   ]
  },
  {
   "cell_type": "markdown",
   "metadata": {},
   "source": [
    "There we go! **Success!**"
   ]
  },
  {
   "cell_type": "markdown",
   "metadata": {},
   "source": [
    "## YOUR WORK: \n",
    "\n",
    "Read in `volcanoes.csv` and plot them on top of a shaded relief map **of Iceland**.\n",
    "\n",
    "**If your Iceland looks ugly,** try upping the resolution of your coastlines by passing `resolution='i'` (intermediate) or `resolution='h'` (high) to your Basemap."
   ]
  },
  {
   "cell_type": "code",
   "execution_count": 4,
   "metadata": {
    "collapsed": true
   },
   "outputs": [],
   "source": [
    "import pandas as pd\n",
    "import geopandas as gpd\n",
    "from mpl_toolkits.basemap import Basemap\n",
    "import matplotlib.pyplot as plt"
   ]
  },
  {
   "cell_type": "code",
   "execution_count": 5,
   "metadata": {},
   "outputs": [
    {
     "data": {
      "text/html": [
       "<div>\n",
       "<table border=\"1\" class=\"dataframe\">\n",
       "  <thead>\n",
       "    <tr style=\"text-align: right;\">\n",
       "      <th></th>\n",
       "      <th>X</th>\n",
       "      <th>Y</th>\n",
       "      <th>VOLCANX020</th>\n",
       "      <th>NUMBER</th>\n",
       "      <th>NAME</th>\n",
       "      <th>LOCATION</th>\n",
       "      <th>STATUS</th>\n",
       "      <th>ELEV</th>\n",
       "      <th>TYPE</th>\n",
       "      <th>TIMEFRAME</th>\n",
       "      <th>LAT</th>\n",
       "      <th>LONG</th>\n",
       "    </tr>\n",
       "  </thead>\n",
       "  <tbody>\n",
       "    <tr>\n",
       "      <th>0</th>\n",
       "      <td>120.349998</td>\n",
       "      <td>15.130000</td>\n",
       "      <td>1</td>\n",
       "      <td>0703-083</td>\n",
       "      <td>Pinatubo</td>\n",
       "      <td>Luzon-Philippines</td>\n",
       "      <td>Historical</td>\n",
       "      <td>1486</td>\n",
       "      <td>Stratovolcano</td>\n",
       "      <td>D1</td>\n",
       "      <td>15.13</td>\n",
       "      <td>120.35</td>\n",
       "    </tr>\n",
       "    <tr>\n",
       "      <th>1</th>\n",
       "      <td>120.550003</td>\n",
       "      <td>16.330002</td>\n",
       "      <td>2</td>\n",
       "      <td>0703-086</td>\n",
       "      <td>Santo Tomas</td>\n",
       "      <td>Luzon-Philippines</td>\n",
       "      <td>Uncertain</td>\n",
       "      <td>2260</td>\n",
       "      <td>Stratovolcano</td>\n",
       "      <td>?</td>\n",
       "      <td>16.33</td>\n",
       "      <td>120.55</td>\n",
       "    </tr>\n",
       "  </tbody>\n",
       "</table>\n",
       "</div>"
      ],
      "text/plain": [
       "            X          Y  VOLCANX020    NUMBER         NAME  \\\n",
       "0  120.349998  15.130000           1  0703-083     Pinatubo   \n",
       "1  120.550003  16.330002           2  0703-086  Santo Tomas   \n",
       "\n",
       "            LOCATION      STATUS  ELEV           TYPE TIMEFRAME    LAT    LONG  \n",
       "0  Luzon-Philippines  Historical  1486  Stratovolcano        D1  15.13  120.35  \n",
       "1  Luzon-Philippines   Uncertain  2260  Stratovolcano         ?  16.33  120.55  "
      ]
     },
     "execution_count": 5,
     "metadata": {},
     "output_type": "execute_result"
    }
   ],
   "source": []
  },
  {
   "cell_type": "code",
   "execution_count": 6,
   "metadata": {},
   "outputs": [
    {
     "name": "stderr",
     "output_type": "stream",
     "text": [
      "/usr/local/lib/python3.6/site-packages/mpl_toolkits/basemap/__init__.py:3296: MatplotlibDeprecationWarning: The ishold function was deprecated in version 2.0.\n",
      "  b = ax.ishold()\n",
      "/usr/local/lib/python3.6/site-packages/mpl_toolkits/basemap/__init__.py:3305: MatplotlibDeprecationWarning: axes.hold is deprecated.\n",
      "    See the API Changes document (http://matplotlib.org/api/api_changes.html)\n",
      "    for more details.\n",
      "  ax.hold(b)\n",
      "/usr/local/lib/python3.6/site-packages/mpl_toolkits/basemap/__init__.py:3260: MatplotlibDeprecationWarning: The ishold function was deprecated in version 2.0.\n",
      "  b = ax.ishold()\n",
      "/usr/local/lib/python3.6/site-packages/mpl_toolkits/basemap/__init__.py:3269: MatplotlibDeprecationWarning: axes.hold is deprecated.\n",
      "    See the API Changes document (http://matplotlib.org/api/api_changes.html)\n",
      "    for more details.\n",
      "  ax.hold(b)\n"
     ]
    },
    {
     "data": {
      "image/png": "[encoded data removed]",
      "text/plain": [
       "<matplotlib.figure.Figure at 0x112e15518>"
      ]
     },
     "metadata": {},
     "output_type": "display_data"
    }
   ],
   "source": []
  },
  {
   "cell_type": "markdown",
   "metadata": {},
   "source": [
    "Kind of cool, right?"
   ]
  },
  {
   "cell_type": "code",
   "execution_count": null,
   "metadata": {
    "collapsed": true
   },
   "outputs": [],
   "source": []
  }
 ],
 "metadata": {
  "kernelspec": {
   "display_name": "Python 3",
   "language": "python",
   "name": "python3"
  },
  "language_info": {
   "codemirror_mode": {
    "name": "ipython",
    "version": 3
   },
   "file_extension": ".py",
   "mimetype": "text/x-python",
   "name": "python",
   "nbconvert_exporter": "python",
   "pygments_lexer": "ipython3",
   "version": "3.6.1"
  }
 },
 "nbformat": 4,
 "nbformat_minor": 2
}

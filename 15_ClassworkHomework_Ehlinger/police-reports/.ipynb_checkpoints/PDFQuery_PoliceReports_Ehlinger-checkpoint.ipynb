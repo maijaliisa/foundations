{
 "cells": [
  {
   "cell_type": "code",
   "execution_count": 1,
   "metadata": {},
   "outputs": [
    {
     "name": "stdout",
     "output_type": "stream",
     "text": [
      "PDFQuery_PoliceReports_Ehlinger.ipynb dillon.pdf\r\n",
      "becerra.pdf                           dillon.txt\r\n"
     ]
    }
   ],
   "source": [
    "!ls"
   ]
  },
  {
   "cell_type": "code",
   "execution_count": 2,
   "metadata": {
    "collapsed": true
   },
   "outputs": [],
   "source": [
    "# open PDFQuery homepage - http://jonathansoma.com/lede/foundations-2017/classes/dealing-with-pdfs/tools-and-tips/ "
   ]
  },
  {
   "cell_type": "code",
   "execution_count": 3,
   "metadata": {
    "collapsed": true
   },
   "outputs": [],
   "source": [
    "import pdfquery"
   ]
  },
  {
   "cell_type": "code",
   "execution_count": 5,
   "metadata": {},
   "outputs": [],
   "source": [
    "pdf = pdfquery.PDFQuery(\"becerra.pdf\")\n",
    "pdf.load()"
   ]
  },
  {
   "cell_type": "code",
   "execution_count": 6,
   "metadata": {},
   "outputs": [
    {
     "data": {
      "text/plain": [
       "[<LTTextLineHorizontal>, <LTTextLineHorizontal>, <LTTextLineHorizontal>]"
      ]
     },
     "execution_count": 6,
     "metadata": {},
     "output_type": "execute_result"
    }
   ],
   "source": [
    "label = pdf.pq('LTTextLineHorizontal:contains(\"BOOKING\")')\n",
    "label"
   ]
  },
  {
   "cell_type": "code",
   "execution_count": 8,
   "metadata": {},
   "outputs": [
    {
     "data": {
      "text/plain": [
       "'BOOKING NO. BOOKING DATE/ TIME BOOKING DEPUTY/ ID'"
      ]
     },
     "execution_count": 8,
     "metadata": {},
     "output_type": "execute_result"
    }
   ],
   "source": [
    "label.text()"
   ]
  },
  {
   "cell_type": "code",
   "execution_count": 11,
   "metadata": {},
   "outputs": [
    {
     "data": {
      "text/plain": [
       "{'Unnamed0': 'ARRESTING AGENCY',\n",
       " 'Unnamed1': 'LASTNAME, FIRSTNAME MIDDLE',\n",
       " 'Unnamed2': 'HAIR STYLE 01'}"
      ]
     },
     "execution_count": 11,
     "metadata": {},
     "output_type": "execute_result"
    }
   ],
   "source": [
    "\n",
    "pdf = pdfquery.PDFQuery('becerra.pdf')\n",
    "\n",
    "pdf.extract([\n",
    "\t('with_formatter', 'text'),\n",
    "\t('Unnamed0', 'LTPage[pageid=\\'1\\'] LTTextLineHorizontal:overlaps_bbox(\"278,629,396,646\")'),\n",
    "\t('Unnamed1', 'LTPage[pageid=\\'1\\'] LTTextLineHorizontal:overlaps_bbox(\"8,573,196,591\")'),\n",
    "\t('Unnamed2', 'LTPage[pageid=\\'1\\'] LTTextLineHorizontal:overlaps_bbox(\"222,487,304,508\")')\n",
    "])"
   ]
  },
  {
   "cell_type": "code",
   "execution_count": null,
   "metadata": {
    "collapsed": true
   },
   "outputs": [],
   "source": []
  }
 ],
 "metadata": {
  "kernelspec": {
   "display_name": "Python 3",
   "language": "python",
   "name": "python3"
  },
  "language_info": {
   "codemirror_mode": {
    "name": "ipython",
    "version": 3
   },
   "file_extension": ".py",
   "mimetype": "text/x-python",
   "name": "python",
   "nbconvert_exporter": "python",
   "pygments_lexer": "ipython3",
   "version": "3.6.1"
  }
 },
 "nbformat": 4,
 "nbformat_minor": 2
}

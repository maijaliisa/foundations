{
 "cells": [
  {
   "cell_type": "code",
   "execution_count": null,
   "metadata": {
    "collapsed": true
   },
   "outputs": [],
   "source": [
    "import pandas as pd\n",
    "import geopandas as gpd\n",
    "import numpy as np\n",
    "from shapely.geometry import Point\n",
    "%matplotlib inline"
   ]
  },
  {
   "cell_type": "code",
   "execution_count": null,
   "metadata": {
    "collapsed": true
   },
   "outputs": [],
   "source": [
    "import numpy as np\n",
    "import matplotlib.pyplot as plt"
   ]
  },
  {
   "cell_type": "markdown",
   "metadata": {},
   "source": [
    "GROUP ONE QUESTIONS:\n",
    "\n",
    "1) Make a map of power plants in the US, color coded by type\n",
    "2) Make a map of air quality stations, color coded by average air quality\n",
    "3) Make a map of air quality stations, color coded by worst air quality ever \n",
    "4) Map the power plants owned by the top 5 most common energy companies as red. Map the rest of the plants as dark grey.\n",
    "5) Map all of the nuclear power plants in red, with the rest of the plants as dark grey.\n",
    "6) Map power plants that produce energy through both natural gas and oil."
   ]
  },
  {
   "cell_type": "code",
   "execution_count": null,
   "metadata": {},
   "outputs": [],
   "source": [
    "states = gpd.read_file(\"cb_2016_us_state_500k\")\n",
    "states"
   ]
  },
  {
   "cell_type": "code",
   "execution_count": null,
   "metadata": {
    "collapsed": true
   },
   "outputs": [],
   "source": [
    "# Or could do something like: states = states[~states.NAME.isin(['Hawaii', 'Alaska'])]\n",
    "states.drop(states.index[[32,33,53,54,55]], inplace = True)"
   ]
  },
  {
   "cell_type": "code",
   "execution_count": null,
   "metadata": {
    "collapsed": true
   },
   "outputs": [],
   "source": [
    "states.crs = {'init': 'epsg:5071'}"
   ]
  },
  {
   "cell_type": "code",
   "execution_count": null,
   "metadata": {},
   "outputs": [],
   "source": [
    "states.plot(scheme='quantiles')"
   ]
  },
  {
   "cell_type": "code",
   "execution_count": null,
   "metadata": {
    "scrolled": true
   },
   "outputs": [],
   "source": [
    "powerplants = pd.read_csv('powerplants.csv')\n",
    "powerplants.head()"
   ]
  },
  {
   "cell_type": "code",
   "execution_count": null,
   "metadata": {
    "collapsed": true
   },
   "outputs": [],
   "source": []
  },
  {
   "cell_type": "code",
   "execution_count": null,
   "metadata": {
    "scrolled": true
   },
   "outputs": [],
   "source": [
    "def make_point(row):\n",
    "    return Point(row.Longitude, row.Latitude)\n",
    "points = powerplants.apply(make_point, axis=1)\n",
    "powerplants = gpd.GeoDataFrame(powerplants, geometry=points)\n",
    "powerplants.crs = {'init': 'epsg:5071'}\n",
    "powerplants.head()"
   ]
  },
  {
   "cell_type": "code",
   "execution_count": null,
   "metadata": {},
   "outputs": [],
   "source": [
    "powerplants.plot(figsize=(50,50))"
   ]
  },
  {
   "cell_type": "code",
   "execution_count": null,
   "metadata": {},
   "outputs": [],
   "source": [
    "states.crs"
   ]
  },
  {
   "cell_type": "code",
   "execution_count": null,
   "metadata": {},
   "outputs": [],
   "source": [
    "powerplants.crs"
   ]
  },
  {
   "cell_type": "code",
   "execution_count": null,
   "metadata": {},
   "outputs": [],
   "source": [
    "#Map of US powerplants by type \n",
    "ax = states.plot(figsize=(50,50), color='grey', edgecolor='white')\n",
    "powerplants.plot(markersize=2, ax=ax, color='red', column='PrimSource') \n",
    "ax.axis('off') \n",
    "ax.set_xlim = ([-130, -60])\n",
    "ax.set_ylim = ([25,50]) "
   ]
  },
  {
   "cell_type": "code",
   "execution_count": null,
   "metadata": {
    "collapsed": true
   },
   "outputs": [],
   "source": [
    "#2) Make a map of air quality stations, color coded by average air quality "
   ]
  },
  {
   "cell_type": "code",
   "execution_count": null,
   "metadata": {},
   "outputs": [],
   "source": [
    "air_quality = pd.read_csv('pm25_annual_fixed.csv')\n",
    "air_quality.head() "
   ]
  },
  {
   "cell_type": "code",
   "execution_count": null,
   "metadata": {},
   "outputs": [],
   "source": [
    "def make_point(row):\n",
    "    return Point(row.Longitude, row.Latitude)\n",
    "points = air_quality.apply(make_point, axis=1)\n",
    "air_quality = gpd.GeoDataFrame(air_quality, geometry=points)\n",
    "air_quality.crs = {'init': 'epsg:5071'}\n",
    "air_quality.head() "
   ]
  },
  {
   "cell_type": "code",
   "execution_count": null,
   "metadata": {},
   "outputs": [],
   "source": [
    "ax = states.plot(color='lightgrey', linewidth=0.5, edgecolor='white', figsize=(50,20))\n",
    "air_quality.plot(markersize=5, alpha=0.5, ax=ax, column='50th Percentile', cmap='plasma') \n",
    "ax.axis('off') "
   ]
  },
  {
   "cell_type": "code",
   "execution_count": null,
   "metadata": {
    "collapsed": true
   },
   "outputs": [],
   "source": [
    "# Map all of the nuclear power plants in red, with the rest of the plants as dark grey."
   ]
  },
  {
   "cell_type": "code",
   "execution_count": null,
   "metadata": {
    "collapsed": true
   },
   "outputs": [],
   "source": [
    "powerplants.columns"
   ]
  },
  {
   "cell_type": "code",
   "execution_count": null,
   "metadata": {
    "collapsed": true
   },
   "outputs": [],
   "source": [
    "powerplants['PrimSource'].value_counts() "
   ]
  },
  {
   "cell_type": "code",
   "execution_count": null,
   "metadata": {
    "collapsed": true
   },
   "outputs": [],
   "source": [
    "df_nuclear = powerplants[powerplants['PrimSource'] == 'nuclear']\n",
    "df_nuclear"
   ]
  },
  {
   "cell_type": "code",
   "execution_count": null,
   "metadata": {
    "collapsed": true
   },
   "outputs": [],
   "source": [
    "#This is mapping just the nuclear plants in the contiguous USA \n",
    "ax = states.plot(color='lightgrey', linewidth=0.5, edgecolor='white', figsize=(70,70))\n",
    "powerplants.plot(markersize=2, alpha=0.5, ax=ax, legend=True, color='grey')\n",
    "df_nuclear.plot(markersize=3, ax=ax, legend=True, color='red') \n",
    "ax.axis('off') "
   ]
  },
  {
   "cell_type": "code",
   "execution_count": null,
   "metadata": {
    "collapsed": true,
    "scrolled": true
   },
   "outputs": [],
   "source": [
    "#not_nuclear = powerplants[powerplants['PrimSource'] != 'nuclear']\n",
    "#not_nuclear.head()\n"
   ]
  },
  {
   "cell_type": "code",
   "execution_count": null,
   "metadata": {
    "collapsed": true
   },
   "outputs": [],
   "source": [
    "# 3) Make a map of air quality stations, color coded by worst air quality ever  "
   ]
  },
  {
   "cell_type": "code",
   "execution_count": null,
   "metadata": {
    "collapsed": true
   },
   "outputs": [],
   "source": [
    "#air_quality.columns"
   ]
  },
  {
   "cell_type": "code",
   "execution_count": null,
   "metadata": {
    "collapsed": true
   },
   "outputs": [],
   "source": [
    "#4) Map the power plants owned by the top 5 most common energy companies as red. Map the rest of the plants as dark grey."
   ]
  },
  {
   "cell_type": "code",
   "execution_count": null,
   "metadata": {
    "collapsed": true
   },
   "outputs": [],
   "source": [
    "powerplants.columns"
   ]
  },
  {
   "cell_type": "code",
   "execution_count": null,
   "metadata": {
    "collapsed": true
   },
   "outputs": [],
   "source": [
    "#so we get the company names with Utility_Na "
   ]
  },
  {
   "cell_type": "code",
   "execution_count": null,
   "metadata": {
    "collapsed": true
   },
   "outputs": [],
   "source": [
    "powerplants['Utility_Na'].value_counts().head()"
   ]
  },
  {
   "cell_type": "code",
   "execution_count": null,
   "metadata": {
    "collapsed": true
   },
   "outputs": [],
   "source": [
    "#most_companies = powerplants[powerplants['Utility_Na'] == ['Pacific Gas & Electric Co', 'Erie Boulevard Hydropower LP']]  \n",
    "#most_companies"
   ]
  },
  {
   "cell_type": "code",
   "execution_count": null,
   "metadata": {
    "collapsed": true
   },
   "outputs": [],
   "source": [
    "df_pacificorp = powerplants[powerplants['Utility_Na'] == 'PacifiCorp'] "
   ]
  },
  {
   "cell_type": "code",
   "execution_count": null,
   "metadata": {
    "collapsed": true
   },
   "outputs": [],
   "source": [
    "df_socal = powerplants[powerplants['Utility_Na'] == 'Southern California Edison Co'] "
   ]
  },
  {
   "cell_type": "code",
   "execution_count": null,
   "metadata": {
    "collapsed": true
   },
   "outputs": [],
   "source": [
    "df_sustainable = powerplants[powerplants['Utility_Na'] == 'Sustainable Power Group, LLC'] "
   ]
  },
  {
   "cell_type": "code",
   "execution_count": null,
   "metadata": {
    "collapsed": true
   },
   "outputs": [],
   "source": [
    "df_erie = powerplants[powerplants['Utility_Na'] == 'Erie Boulevard Hydropower LP'] "
   ]
  },
  {
   "cell_type": "code",
   "execution_count": null,
   "metadata": {
    "collapsed": true
   },
   "outputs": [],
   "source": [
    "df_pacific = powerplants[powerplants['Utility_Na'] == 'Pacific Gas & Electric Co']"
   ]
  },
  {
   "cell_type": "code",
   "execution_count": null,
   "metadata": {
    "collapsed": true
   },
   "outputs": [],
   "source": [
    "ax = states.plot(color='lightgrey', linewidth=0.5, edgecolor='white', figsize=(30,30))\n",
    "powerplants.plot(markersize=2, ax=ax, color='grey')\n",
    "df_pacificorp.plot(markersize=3, ax=ax, color='red') \n",
    "df_socal.plot(markersize=3, ax=ax,color='red') \n",
    "df_sustainable.plot(markersize=3, ax=ax, color='red') \n",
    "df_erie.plot(markersize=3, ax=ax, color='red') \n",
    "df_pacific.plot(markersize=3, ax=ax, color='red') \n",
    "\n",
    "ax.axis('off') "
   ]
  },
  {
   "cell_type": "code",
   "execution_count": null,
   "metadata": {
    "collapsed": true
   },
   "outputs": [],
   "source": [
    "#another, faster way to do the above "
   ]
  },
  {
   "cell_type": "code",
   "execution_count": null,
   "metadata": {
    "collapsed": true
   },
   "outputs": [],
   "source": [
    "companies = ['Pacific Gas & Electric Co', 'Erie Boulevard Hydropower LP', 'Sustainable Power Group, LLC', 'Southern California Edison Co', 'PacifiCorp']\n",
    "new_companies = powerplants[powerplants['Utility_Na'].isin(companies)]\n",
    "new_companies"
   ]
  },
  {
   "cell_type": "code",
   "execution_count": null,
   "metadata": {
    "collapsed": true
   },
   "outputs": [],
   "source": [
    "ax = states.plot(color='lightgrey', linewidth=0.5, edgecolor='white', figsize=(30,5))\n",
    "powerplants.plot(markersize=2, alpha=0.5, ax=ax, color='grey')\n",
    "new_companies.plot(markersize=3, ax=ax, color='red') "
   ]
  },
  {
   "cell_type": "code",
   "execution_count": null,
   "metadata": {
    "collapsed": true
   },
   "outputs": [],
   "source": []
  },
  {
   "cell_type": "code",
   "execution_count": null,
   "metadata": {
    "collapsed": true
   },
   "outputs": [],
   "source": [
    "#  6) Map power plants that produce energy through both natural gas and oil."
   ]
  },
  {
   "cell_type": "code",
   "execution_count": null,
   "metadata": {
    "collapsed": true
   },
   "outputs": [],
   "source": [
    "pd.set_option('display.max_columns', 29)\n",
    "powerplants.head(100)"
   ]
  },
  {
   "cell_type": "markdown",
   "metadata": {},
   "source": [
    "# GROUP TWO: For most of these you'll need a spatial join\n",
    "\n",
    "Which power plants are in New York?\n",
    "\n",
    "Which state produces the most energy from coal?\n",
    "\n",
    "Map states with nuclear power plants in red, and states without in grey. Do the same thing for solar.\n",
    "\n",
    "Make a map of total wind (or solar or coal) energy produced by each state, with little being a light color and high emissions being a brighter/darker color.\n",
    "\n",
    "Make a map of worst air quality measured in each state, with high quality being light red and low quality being dark red\n",
    "\n",
    "Which states have the most renewable plants, as a % of total plants? (include hydro, wind, solar)"
   ]
  },
  {
   "cell_type": "code",
   "execution_count": null,
   "metadata": {
    "collapsed": true
   },
   "outputs": [],
   "source": [
    "states.head()"
   ]
  },
  {
   "cell_type": "code",
   "execution_count": null,
   "metadata": {
    "collapsed": true,
    "scrolled": true
   },
   "outputs": [],
   "source": [
    "powerplants.head()"
   ]
  },
  {
   "cell_type": "code",
   "execution_count": null,
   "metadata": {},
   "outputs": [],
   "source": [
    "new_states = states[states['NAME'] == 'New York'] \n",
    "new_states.plot(color='white')"
   ]
  },
  {
   "cell_type": "code",
   "execution_count": null,
   "metadata": {
    "scrolled": true
   },
   "outputs": [],
   "source": [
    "plants_with_states = gpd.sjoin(powerplants, states, how='inner', op='within')\n",
    "plants_with_states.head(25)"
   ]
  },
  {
   "cell_type": "code",
   "execution_count": null,
   "metadata": {
    "scrolled": true
   },
   "outputs": [],
   "source": [
    "plants_with_states['NAME'].value_counts().head()"
   ]
  },
  {
   "cell_type": "code",
   "execution_count": null,
   "metadata": {},
   "outputs": [],
   "source": [
    "#Which state produces the most energy from coal?\n",
    "\n",
    "coal_plants = plants_with_states[plants_with_states['PrimSource'] == 'coal']\n",
    "coal_plants['NAME'].value_counts().head(1)"
   ]
  },
  {
   "cell_type": "code",
   "execution_count": null,
   "metadata": {
    "collapsed": true
   },
   "outputs": [],
   "source": [
    "# Map states with nuclear power plants in red, and states without in grey. Do the same thing for solar.\n",
    " "
   ]
  },
  {
   "cell_type": "code",
   "execution_count": null,
   "metadata": {
    "collapsed": true
   },
   "outputs": [],
   "source": [
    "nuclear_plant_states = plants_with_states[plants_with_states['PrimSource'] == 'nuclear']"
   ]
  },
  {
   "cell_type": "code",
   "execution_count": null,
   "metadata": {},
   "outputs": [],
   "source": [
    "ax = states.plot(color='lightgrey', linewidth=0.5, edgecolor='white', figsize=(50,50))\n",
    "nuclear_plant_states.plot(markersize=2, alpha=0.5, ax=ax, color='red')\n",
    "ax.axis('off')"
   ]
  },
  {
   "cell_type": "code",
   "execution_count": null,
   "metadata": {
    "scrolled": true
   },
   "outputs": [],
   "source": [
    "solar_plant_states = plants_with_states[plants_with_states['PrimSource'] == 'solar']\n",
    "solar_plant_states"
   ]
  },
  {
   "cell_type": "code",
   "execution_count": null,
   "metadata": {},
   "outputs": [],
   "source": [
    "ax = states.plot(color='lightgrey', linewidth=0.5, edgecolor='white', figsize=(50,50))\n",
    "solar_plant_states.plot(markersize=2, alpha=0.5, ax=ax, color='red')\n",
    "ax.axis('off') "
   ]
  },
  {
   "cell_type": "code",
   "execution_count": null,
   "metadata": {
    "collapsed": true
   },
   "outputs": [],
   "source": [
    "# Make a map of total wind (or solar or coal) energy produced by each state, \n",
    "#with little being a light color and high emissions being a brighter/darker color."
   ]
  },
  {
   "cell_type": "code",
   "execution_count": null,
   "metadata": {
    "collapsed": true
   },
   "outputs": [],
   "source": [
    "df_wind = powerplants[powerplants['PrimSource'] == 'wind']"
   ]
  },
  {
   "cell_type": "code",
   "execution_count": null,
   "metadata": {
    "collapsed": true
   },
   "outputs": [],
   "source": [
    "import numpy as np\n",
    "import matplotlib.pyplot as plt"
   ]
  },
  {
   "cell_type": "code",
   "execution_count": null,
   "metadata": {},
   "outputs": [],
   "source": [
    "df_wind_new = df_wind.sort_values(by = 'Wind_MW', ascending=False)\n",
    "df_wind_new"
   ]
  },
  {
   "cell_type": "code",
   "execution_count": null,
   "metadata": {},
   "outputs": [],
   "source": [
    "#alpha will show where things are densely populated \n",
    "ax = states.plot(color='lightgrey', linewidth=0.5, edgecolor='white', figsize=(30,5))\n",
    "df_wind_new.plot(markersize=2, alpha=0.5, ax=ax, color='blue')\n",
    "ax.axis('off')\n",
    "ax.set_xlim = ([-130, -50])\n",
    "ax.set_ylim = ([25,50]) "
   ]
  },
  {
   "cell_type": "code",
   "execution_count": null,
   "metadata": {
    "collapsed": true
   },
   "outputs": [],
   "source": [
    "# Make a map of worst air quality measured in each state, with high quality being light red and low quality being dark red\n"
   ]
  },
  {
   "cell_type": "code",
   "execution_count": null,
   "metadata": {},
   "outputs": [],
   "source": [
    "ax = states.plot(color='lightgrey', linewidth=0.5, edgecolor='white', figsize=(30,30))\n",
    "air_quality.plot(markersize=2, alpha=0.5, ax=ax, color='red', legend=False)\n",
    "ax.axis('off') \n",
    "ax.set_xlim = ([-125, -60])\n",
    "ax.set_ylim = ([25,40]) "
   ]
  },
  {
   "cell_type": "code",
   "execution_count": null,
   "metadata": {
    "collapsed": true
   },
   "outputs": [],
   "source": []
  },
  {
   "cell_type": "code",
   "execution_count": null,
   "metadata": {
    "collapsed": true
   },
   "outputs": [],
   "source": []
  },
  {
   "cell_type": "code",
   "execution_count": null,
   "metadata": {
    "collapsed": true
   },
   "outputs": [],
   "source": []
  }
 ],
 "metadata": {
  "kernelspec": {
   "display_name": "Python 3",
   "language": "python",
   "name": "python3"
  },
  "language_info": {
   "codemirror_mode": {
    "name": "ipython",
    "version": 3
   },
   "file_extension": ".py",
   "mimetype": "text/x-python",
   "name": "python",
   "nbconvert_exporter": "python",
   "pygments_lexer": "ipython3",
   "version": "3.6.1"
  }
 },
 "nbformat": 4,
 "nbformat_minor": 2
}

{
 "cells": [
  {
   "cell_type": "markdown",
   "metadata": {},
   "source": [
    "# Dark Sky API (Weather)\n",
    "\n",
    "Answer the following questions using the [Dark Sky API](https://darksky.net/dev/). I've added three cells for each question but you're free to use more or less! Hold `Shift` and hit `Enter` to run a cell, and use the `+` on the top left to add a new cell to a notebook.\n",
    "\n",
    "If you spend some time reading the documentation your life will probably be a little bit easier!\n",
    "\n",
    "## 0) Import any libraries you might need\n",
    "\n",
    "- *Tip: We're going to be downloading things from the internet, so we probably need `requests`.*"
   ]
  },
  {
   "cell_type": "code",
   "execution_count": 73,
   "metadata": {
    "collapsed": true
   },
   "outputs": [],
   "source": [
    "import requests\n",
    "url = \"https://api.darksky.net/forecast/1232cf77ea8ed7d13a4b459f6da54317/34.170561,-118.837594\"\n",
    "response = requests.get(url) \n"
   ]
  },
  {
   "cell_type": "markdown",
   "metadata": {
    "collapsed": true
   },
   "source": [
    "## 1) Make a request from the Dark Sky API for where you were born (or lived, or want to visit!).\n",
    "\n",
    "- *Tip: The URL we used in class was for a place near San Francisco. What was the format of the endpoint that made this happen?*\n",
    "- *Tip: Save the URL as a separate variable, and be sure to not have `[` and `]` inside.*\n",
    "- *Tip: How is north vs. south and east vs. west latitude/longitude represented? Is it the normal North/South/East/West?*\n",
    "- *Tip: You know it's JSON, but Python doesn't! Make sure you aren't trying to deal with plain text.* - *Tip: Once you've imported the JSON into a variable, check the timezone's name to make sure it seems like it got the right part of the world!*"
   ]
  },
  {
   "cell_type": "code",
   "execution_count": 5,
   "metadata": {},
   "outputs": [
    {
     "name": "stdout",
     "output_type": "stream",
     "text": [
      "<Response [200]>\n"
     ]
    }
   ],
   "source": [
    "##This is for Thousand Oaks, California \n",
    "url = \"https://api.darksky.net/forecast/1232cf77ea8ed7d13a4b459f6da54317/34.170561,-118.837594\"\n",
    "response = requests.get(url)\n",
    "print(response)\n",
    "data = response.json()"
   ]
  },
  {
   "cell_type": "code",
   "execution_count": 6,
   "metadata": {},
   "outputs": [
    {
     "data": {
      "text/plain": [
       "dict_keys(['latitude', 'longitude', 'timezone', 'offset', 'currently', 'minutely', 'hourly', 'daily', 'flags'])"
      ]
     },
     "execution_count": 6,
     "metadata": {},
     "output_type": "execute_result"
    }
   ],
   "source": [
    "type(data)\n",
    "data.keys()"
   ]
  },
  {
   "cell_type": "code",
   "execution_count": 74,
   "metadata": {},
   "outputs": [
    {
     "data": {
      "text/plain": [
       "{'apparentTemperature': 41.5,\n",
       " 'cloudCover': 0,\n",
       " 'dewPoint': 1.8,\n",
       " 'humidity': 0.15,\n",
       " 'icon': 'clear-day',\n",
       " 'precipIntensity': 0,\n",
       " 'precipProbability': 0,\n",
       " 'pressure': 1025.15,\n",
       " 'summary': 'Clear',\n",
       " 'temperature': 46.57,\n",
       " 'time': 1198540800,\n",
       " 'visibility': 10,\n",
       " 'windBearing': 359,\n",
       " 'windSpeed': 10.8}"
      ]
     },
     "execution_count": 74,
     "metadata": {},
     "output_type": "execute_result"
    }
   ],
   "source": [
    "data['currently']"
   ]
  },
  {
   "cell_type": "markdown",
   "metadata": {},
   "source": [
    "## 2) What's the current wind speed? How much warmer does it feel than it actually is?\n",
    "\n",
    "- *Tip: You can do this by browsing through the dictionaries, but it might be easier to read the documentation*\n",
    "- *Tip: For the second half: it **is** one temperature, and it **feels** a different temperature. Calculate the difference.*"
   ]
  },
  {
   "cell_type": "code",
   "execution_count": 75,
   "metadata": {},
   "outputs": [
    {
     "data": {
      "text/plain": [
       "dict_keys(['time', 'summary', 'icon', 'precipIntensity', 'precipProbability', 'temperature', 'apparentTemperature', 'dewPoint', 'humidity', 'windSpeed', 'windBearing', 'visibility', 'cloudCover', 'pressure'])"
      ]
     },
     "execution_count": 75,
     "metadata": {},
     "output_type": "execute_result"
    }
   ],
   "source": [
    "hourly_forecast = data['currently']\n",
    "type(hourly_forecast)\n",
    "hourly_forecast.keys() "
   ]
  },
  {
   "cell_type": "code",
   "execution_count": 76,
   "metadata": {},
   "outputs": [
    {
     "name": "stdout",
     "output_type": "stream",
     "text": [
      "10.8\n"
     ]
    }
   ],
   "source": [
    "##THIS IS THE CURRENT WIND SPEED IN THOUSAND OAKS, CALIFORNIA \n",
    "windspeed = hourly_forecast['windSpeed']\n",
    "print(windspeed)"
   ]
  },
  {
   "cell_type": "code",
   "execution_count": 77,
   "metadata": {},
   "outputs": [
    {
     "data": {
      "text/plain": [
       "5.07"
      ]
     },
     "execution_count": 77,
     "metadata": {},
     "output_type": "execute_result"
    }
   ],
   "source": [
    "##HOW MUCH WARMER IS IT THAN IT ACTUALLY FEELS (apparentTemperature - temperature)\n",
    "\n",
    "real_temp = hourly_forecast['temperature']\n",
    "app_temp = hourly_forecast['apparentTemperature']\n",
    "\n",
    "real_temp - app_temp\n"
   ]
  },
  {
   "cell_type": "markdown",
   "metadata": {},
   "source": [
    "## 3) Today's forecast is the FIRST daily forecast. For the place you decided on above, how much of the moon is currently visible?\n",
    "\n",
    "- *Tip: This does **not** use the `currently` key.*\n",
    "- *Tip: It might be helpful to save the forecast into its own variable*"
   ]
  },
  {
   "cell_type": "code",
   "execution_count": 79,
   "metadata": {
    "scrolled": false
   },
   "outputs": [
    {
     "data": {
      "text/plain": [
       "{'data': [{'apparentTemperatureMax': 57.26,\n",
       "   'apparentTemperatureMaxTime': 1198537200,\n",
       "   'apparentTemperatureMin': 33.69,\n",
       "   'apparentTemperatureMinTime': 1198504800,\n",
       "   'cloudCover': 0.17,\n",
       "   'dewPoint': 22.62,\n",
       "   'humidity': 0.41,\n",
       "   'icon': 'wind',\n",
       "   'moonPhase': 0.53,\n",
       "   'precipIntensity': 0,\n",
       "   'precipIntensityMax': 0,\n",
       "   'precipProbability': 0,\n",
       "   'pressure': 1020.76,\n",
       "   'summary': 'Partly cloudy in the morning and breezy overnight.',\n",
       "   'sunriseTime': 1198507826,\n",
       "   'sunsetTime': 1198542755,\n",
       "   'temperatureMax': 57.26,\n",
       "   'temperatureMaxTime': 1198537200,\n",
       "   'temperatureMin': 37.54,\n",
       "   'temperatureMinTime': 1198504800,\n",
       "   'time': 1198483200,\n",
       "   'visibility': 9.98,\n",
       "   'windBearing': 342,\n",
       "   'windSpeed': 2.11}]}"
      ]
     },
     "execution_count": 79,
     "metadata": {},
     "output_type": "execute_result"
    }
   ],
   "source": [
    "data['daily']"
   ]
  },
  {
   "cell_type": "code",
   "execution_count": 80,
   "metadata": {},
   "outputs": [
    {
     "data": {
      "text/plain": [
       "dict"
      ]
     },
     "execution_count": 80,
     "metadata": {},
     "output_type": "execute_result"
    }
   ],
   "source": [
    "forecast = data['daily']\n",
    "type(forecast)"
   ]
  },
  {
   "cell_type": "code",
   "execution_count": 81,
   "metadata": {},
   "outputs": [
    {
     "data": {
      "text/plain": [
       "0.53"
      ]
     },
     "execution_count": 81,
     "metadata": {},
     "output_type": "execute_result"
    }
   ],
   "source": [
    "#printing moonPhase\n",
    "\n",
    "forecast.keys() \n",
    "mooninfo_dayone = forecast['data']\n",
    "type(mooninfo_dayone)\n",
    "mooninfo_dayone[0]\n",
    "\n",
    "type(mooninfo_dayone)\n",
    "mooninfo_dayone[0]['moonPhase'] "
   ]
  },
  {
   "cell_type": "markdown",
   "metadata": {},
   "source": [
    "## 4) What's the difference between the high and low temperatures for today?"
   ]
  },
  {
   "cell_type": "code",
   "execution_count": 82,
   "metadata": {},
   "outputs": [
    {
     "data": {
      "text/plain": [
       "{'apparentTemperatureMax': 57.26,\n",
       " 'apparentTemperatureMaxTime': 1198537200,\n",
       " 'apparentTemperatureMin': 33.69,\n",
       " 'apparentTemperatureMinTime': 1198504800,\n",
       " 'cloudCover': 0.17,\n",
       " 'dewPoint': 22.62,\n",
       " 'humidity': 0.41,\n",
       " 'icon': 'wind',\n",
       " 'moonPhase': 0.53,\n",
       " 'precipIntensity': 0,\n",
       " 'precipIntensityMax': 0,\n",
       " 'precipProbability': 0,\n",
       " 'pressure': 1020.76,\n",
       " 'summary': 'Partly cloudy in the morning and breezy overnight.',\n",
       " 'sunriseTime': 1198507826,\n",
       " 'sunsetTime': 1198542755,\n",
       " 'temperatureMax': 57.26,\n",
       " 'temperatureMaxTime': 1198537200,\n",
       " 'temperatureMin': 37.54,\n",
       " 'temperatureMinTime': 1198504800,\n",
       " 'time': 1198483200,\n",
       " 'visibility': 9.98,\n",
       " 'windBearing': 342,\n",
       " 'windSpeed': 2.11}"
      ]
     },
     "execution_count": 82,
     "metadata": {},
     "output_type": "execute_result"
    }
   ],
   "source": [
    "data['daily'] \n",
    "change_temp = data['daily'] \n",
    "type(change_temp) \n",
    "\n",
    "change_temp.keys() \n",
    "change = change_temp['data']   \n",
    "type(change) \n",
    "change[0]  \n"
   ]
  },
  {
   "cell_type": "code",
   "execution_count": 83,
   "metadata": {},
   "outputs": [
    {
     "data": {
      "text/plain": [
       "19.72"
      ]
     },
     "execution_count": 83,
     "metadata": {},
     "output_type": "execute_result"
    }
   ],
   "source": [
    "high = change[0]['temperatureMax'] \n",
    "low = change[0]['temperatureMin']    \n",
    "\n",
    "high - low "
   ]
  },
  {
   "cell_type": "markdown",
   "metadata": {},
   "source": [
    "## 5) Go through the daily forecasts, printing out the next week's worth of predictions.\n",
    "\n",
    "I'd like to know the **high temperature** for each day, and whether it's **hot, warm, or cold** (based on what temperatures you think are hot, warm or cold).\n",
    "\n",
    "- *Tip: Is it returning F or C? You can change them by adding `?units=us` or `?units=si` onto the end of the URL.* \n",
    "- *Tip: You'll need to use an `if` statement to say whether it is hot, warm or cold.*"
   ]
  },
  {
   "cell_type": "code",
   "execution_count": 84,
   "metadata": {},
   "outputs": [
    {
     "data": {
      "text/plain": [
       "dict"
      ]
     },
     "execution_count": 84,
     "metadata": {},
     "output_type": "execute_result"
    }
   ],
   "source": [
    "predictions = data['daily']\n",
    "type(predictions) "
   ]
  },
  {
   "cell_type": "code",
   "execution_count": 85,
   "metadata": {},
   "outputs": [
    {
     "data": {
      "text/plain": [
       "list"
      ]
     },
     "execution_count": 85,
     "metadata": {},
     "output_type": "execute_result"
    }
   ],
   "source": [
    "predictions.keys()   \n",
    "next_week = predictions['data']   \n",
    "type(next_week) "
   ]
  },
  {
   "cell_type": "code",
   "execution_count": 91,
   "metadata": {
    "scrolled": true
   },
   "outputs": [
    {
     "name": "stdout",
     "output_type": "stream",
     "text": [
      "57.26\n",
      "It will be a cool day in Thousand Oaks\n"
     ]
    }
   ],
   "source": [
    "for things in next_week: \n",
    "    print(things['temperatureMax'])\n",
    "    if (things['temperatureMax'])< 65:\n",
    "        print(\"It will be a cool day in Thousand Oaks\") \n",
    "    elif (things['temperatureMax']) > 80:\n",
    "        print(\"It will be a hot day in Thousand Oaks\")\n",
    "    else: \n",
    "        print(\"It will be a warm day in Thousand Oaks\")  "
   ]
  },
  {
   "cell_type": "markdown",
   "metadata": {},
   "source": [
    "# 6) What will be the hottest day in the next week? What is the high temperature on that day?\n",
    "\n",
    "It's okay if your result looks like `1453363200`. If you want to be extra-fancy, though, format it as a **real date** - the weird number is called a **UNIX timestamp**, which might help in googling.\n",
    "\n",
    "- *Tip: It's okay to skip this if it seems too difficult!*"
   ]
  },
  {
   "cell_type": "markdown",
   "metadata": {},
   "source": [
    "## 7) What's the weather looking like for the next 24+ hours in Miami, Florida?\n",
    "\n",
    "I'd like to know the temperature for every hour, and if it's going to have cloud cover of more than 50% say \"{temperature} and cloudy\" instead of just the temperature. \n",
    "\n",
    "\n",
    "- *Tip: Be sure to remember how latitude and longitude are done with positive and negative numbers*\n",
    "- *Tip: How do you represent \"50%\" for cloud cover?*"
   ]
  },
  {
   "cell_type": "code",
   "execution_count": 19,
   "metadata": {},
   "outputs": [
    {
     "name": "stdout",
     "output_type": "stream",
     "text": [
      "<Response [200]>\n"
     ]
    }
   ],
   "source": [
    "url = \"https://api.darksky.net/forecast/1232cf77ea8ed7d13a4b459f6da54317/25.7617,-80.191790\"\n",
    "response = requests.get(url)\n",
    "print(response)\n",
    "data = response.json() "
   ]
  },
  {
   "cell_type": "code",
   "execution_count": 59,
   "metadata": {},
   "outputs": [
    {
     "data": {
      "text/plain": [
       "dict"
      ]
     },
     "execution_count": 59,
     "metadata": {},
     "output_type": "execute_result"
    }
   ],
   "source": [
    "miami = data['hourly']\n",
    "type(miami)  "
   ]
  },
  {
   "cell_type": "code",
   "execution_count": 61,
   "metadata": {},
   "outputs": [
    {
     "data": {
      "text/plain": [
       "list"
      ]
     },
     "execution_count": 61,
     "metadata": {},
     "output_type": "execute_result"
    }
   ],
   "source": [
    "miami.keys()   \n",
    "every_hour = miami['data']   \n",
    "type(every_hour) "
   ]
  },
  {
   "cell_type": "code",
   "execution_count": 64,
   "metadata": {},
   "outputs": [
    {
     "name": "stdout",
     "output_type": "stream",
     "text": [
      "86.65\n",
      "87.23\n",
      "87.23 and cloudy\n",
      "87.12\n",
      "87.12 and cloudy\n",
      "88.61\n",
      "88.61 and cloudy\n",
      "89.74\n",
      "89.74 and cloudy\n",
      "91.48\n",
      "91.48 and cloudy\n",
      "93.03\n",
      "93.03 and cloudy\n",
      "89.64\n",
      "89.64 and cloudy\n",
      "87.08\n",
      "87.08 and cloudy\n",
      "85.48\n",
      "85.48 and cloudy\n",
      "84.55\n",
      "84.55 and cloudy\n",
      "79.66\n",
      "79.66 and cloudy\n",
      "79.47\n",
      "79.47 and cloudy\n",
      "79.27\n",
      "79.27 and cloudy\n",
      "78.85\n",
      "78.85 and cloudy\n",
      "78.29\n",
      "78.29 and cloudy\n",
      "77.68\n",
      "77.68 and cloudy\n",
      "77.23\n",
      "77.23 and cloudy\n",
      "77.96\n",
      "77.96 and cloudy\n",
      "79\n",
      "79 and cloudy\n",
      "85.4\n",
      "85.4 and cloudy\n",
      "88.95\n",
      "88.95 and cloudy\n",
      "92.46\n",
      "92.46 and cloudy\n",
      "94.54\n",
      "94.54 and cloudy\n",
      "95.99\n",
      "95.99 and cloudy\n",
      "98.71\n",
      "98.71 and cloudy\n",
      "101.48\n",
      "101.48 and cloudy\n",
      "103.82\n",
      "103.82 and cloudy\n",
      "105.11\n",
      "105.11 and cloudy\n",
      "103.86\n",
      "103.86 and cloudy\n",
      "100.2\n",
      "100.2 and cloudy\n",
      "96.59\n",
      "96.59 and cloudy\n",
      "94.72\n",
      "94.72 and cloudy\n",
      "93.26\n",
      "91.98\n",
      "90.83\n",
      "89.83\n",
      "89.01\n",
      "87.84\n",
      "87.84 and cloudy\n",
      "85.55\n",
      "85.55 and cloudy\n",
      "79.5\n",
      "79.5 and cloudy\n",
      "79.15\n",
      "79.15 and cloudy\n",
      "84.57\n",
      "84.57 and cloudy\n",
      "87.49\n",
      "87.49 and cloudy\n",
      "90.45\n",
      "90.45 and cloudy\n",
      "92.67\n",
      "92.67 and cloudy\n",
      "94.42\n",
      "94.42 and cloudy\n",
      "95.42\n",
      "95.42 and cloudy\n",
      "96.6\n",
      "96.6 and cloudy\n"
     ]
    }
   ],
   "source": [
    "#I don't know why I am getting more than 24 'hourly' answers...or I don't know how to limit them! \n",
    "for hour in every_hour:\n",
    "    print(hour['apparentTemperature']) \n",
    "    if hour['cloudCover'] > 0.5:\n",
    "        print (hour['apparentTemperature'],\"and cloudy\") "
   ]
  },
  {
   "cell_type": "markdown",
   "metadata": {},
   "source": [
    "# 8) For the next 24-ish hours in Miami, what percent of the time is the temperature above 85 degrees?\n",
    "\n",
    "If they give you 48 hours instead of 24, that's okay.\n",
    "\n",
    "- *Tip: You might want to read up on [looping patterns](http://jonathansoma.com/lede/foundations-2017/classes/data%20structures/looping-patterns/)*"
   ]
  },
  {
   "cell_type": "code",
   "execution_count": null,
   "metadata": {},
   "outputs": [],
   "source": [
    "url = \"https://api.darksky.net/forecast/1232cf77ea8ed7d13a4b459f6da54317/25.7617,-80.191790\"\n",
    "response = requests.get(url)\n",
    "print(response)\n",
    "data = response.json() "
   ]
  },
  {
   "cell_type": "code",
   "execution_count": null,
   "metadata": {},
   "outputs": [],
   "source": [
    "hourly_miami = data['hourly']  \n",
    "type(hourly_miami) \n",
    "\n",
    "hourly_miami.keys() \n",
    "each_hour = hourly_miami['data'] \n",
    "type(each_hour) \n",
    "\n",
    "high_temp_count = 0\n",
    "total = 0\n",
    "for hours in each_hour:\n",
    "    if hours['temperature'] > 85:\n",
    "        high_temp_count = high_temp_count + 1\n",
    "    total = total + 1 \n",
    "    \n",
    "print(round(high_temp_count / total * 100),'%')\n",
    "\n"
   ]
  },
  {
   "cell_type": "markdown",
   "metadata": {},
   "source": [
    "## 9) What was the temperature in Central Park on Christmas Day, 2012? How about 2007? 2005? How far back does the API allow you to go?\n",
    "\n",
    "- *Tip: You'll need to use UNIX time, which is the number of seconds since January 1, 1970. Google can help you convert a normal date!*\n",
    "- *Tip: You'll want to use Forecast.io's \"time machine\" API, [documentation here](https://darksky.net/dev/docs/time-machine)*"
   ]
  },
  {
   "cell_type": "code",
   "execution_count": 65,
   "metadata": {},
   "outputs": [
    {
     "name": "stdout",
     "output_type": "stream",
     "text": [
      "<Response [200]>\n"
     ]
    }
   ],
   "source": [
    "url = \"https://api.darksky.net/forecast/1232cf77ea8ed7d13a4b459f6da54317/36.102371,-115.174556,1356393600\"\n",
    "response = requests.get(url)\n",
    "print(response)\n",
    "data = response.json() "
   ]
  },
  {
   "cell_type": "code",
   "execution_count": 72,
   "metadata": {},
   "outputs": [
    {
     "name": "stdout",
     "output_type": "stream",
     "text": [
      "The temperature was 46.57\n"
     ]
    }
   ],
   "source": [
    "#Temperature for Christmas 2012 \n",
    "data['currently'] \n",
    "\n",
    "christmas_temp = data['currently']\n",
    "type(christmas_temp) \n",
    "\n",
    "christmas_temp.keys()\n",
    "\n",
    "central_park_temp = christmas_temp['temperature']\n",
    "print(\"The temperature was\",central_park_temp)\n",
    "\n"
   ]
  },
  {
   "cell_type": "code",
   "execution_count": 67,
   "metadata": {},
   "outputs": [
    {
     "name": "stdout",
     "output_type": "stream",
     "text": [
      "<Response [200]>\n"
     ]
    }
   ],
   "source": [
    "#Temperature for Christmas 2007 \n",
    "url = \"https://api.darksky.net/forecast/1232cf77ea8ed7d13a4b459f6da54317/36.102371,-115.174556,1198540800\"\n",
    "response = requests.get(url)\n",
    "print(response)\n",
    "data = response.json() \n"
   ]
  },
  {
   "cell_type": "code",
   "execution_count": 68,
   "metadata": {},
   "outputs": [
    {
     "data": {
      "text/plain": [
       "dict"
      ]
     },
     "execution_count": 68,
     "metadata": {},
     "output_type": "execute_result"
    }
   ],
   "source": [
    "data['currently'] \n",
    "\n",
    "new_temp = data['currently'] \n",
    "type(new_temp)  \n"
   ]
  },
  {
   "cell_type": "code",
   "execution_count": 69,
   "metadata": {},
   "outputs": [
    {
     "data": {
      "text/plain": [
       "dict_keys(['time', 'summary', 'icon', 'precipIntensity', 'precipProbability', 'temperature', 'apparentTemperature', 'dewPoint', 'humidity', 'windSpeed', 'windBearing', 'visibility', 'cloudCover', 'pressure'])"
      ]
     },
     "execution_count": 69,
     "metadata": {},
     "output_type": "execute_result"
    }
   ],
   "source": [
    "new_temp.keys() \n"
   ]
  },
  {
   "cell_type": "code",
   "execution_count": 71,
   "metadata": {},
   "outputs": [
    {
     "name": "stdout",
     "output_type": "stream",
     "text": [
      "The temperature was 46.57\n"
     ]
    }
   ],
   "source": [
    "temp = new_temp['temperature'] \n",
    "print(\"The temperature was\",temp) "
   ]
  },
  {
   "cell_type": "code",
   "execution_count": null,
   "metadata": {
    "collapsed": true
   },
   "outputs": [],
   "source": []
  }
 ],
 "metadata": {
  "kernelspec": {
   "display_name": "Python 3",
   "language": "python",
   "name": "python3"
  },
  "language_info": {
   "codemirror_mode": {
    "name": "ipython",
    "version": 3
   },
   "file_extension": ".py",
   "mimetype": "text/x-python",
   "name": "python",
   "nbconvert_exporter": "python",
   "pygments_lexer": "ipython3",
   "version": "3.6.1"
  }
 },
 "nbformat": 4,
 "nbformat_minor": 1
}

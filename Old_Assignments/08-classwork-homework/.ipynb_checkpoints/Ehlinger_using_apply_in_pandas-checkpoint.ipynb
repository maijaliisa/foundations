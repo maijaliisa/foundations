{
 "cells": [
  {
   "cell_type": "code",
   "execution_count": 1,
   "metadata": {
    "collapsed": true
   },
   "outputs": [],
   "source": [
    "import pandas as pd"
   ]
  },
  {
   "cell_type": "code",
   "execution_count": 5,
   "metadata": {},
   "outputs": [
    {
     "data": {
      "text/html": [
       "<div>\n",
       "<style>\n",
       "    .dataframe thead tr:only-child th {\n",
       "        text-align: right;\n",
       "    }\n",
       "\n",
       "    .dataframe thead th {\n",
       "        text-align: left;\n",
       "    }\n",
       "\n",
       "    .dataframe tbody tr th {\n",
       "        vertical-align: top;\n",
       "    }\n",
       "</style>\n",
       "<table border=\"1\" class=\"dataframe\">\n",
       "  <thead>\n",
       "    <tr style=\"text-align: right;\">\n",
       "      <th></th>\n",
       "      <th>borough</th>\n",
       "      <th>cats</th>\n",
       "      <th>population</th>\n",
       "    </tr>\n",
       "  </thead>\n",
       "  <tbody>\n",
       "    <tr>\n",
       "      <th>0</th>\n",
       "      <td>Manhattan</td>\n",
       "      <td>107</td>\n",
       "      <td>1400</td>\n",
       "    </tr>\n",
       "    <tr>\n",
       "      <th>1</th>\n",
       "      <td>Brooklyn</td>\n",
       "      <td>205</td>\n",
       "      <td>3412</td>\n",
       "    </tr>\n",
       "    <tr>\n",
       "      <th>2</th>\n",
       "      <td>Bronx</td>\n",
       "      <td>33</td>\n",
       "      <td>323</td>\n",
       "    </tr>\n",
       "  </tbody>\n",
       "</table>\n",
       "</div>"
      ],
      "text/plain": [
       "     borough  cats  population\n",
       "0  Manhattan   107        1400\n",
       "1   Brooklyn   205        3412\n",
       "2      Bronx    33         323"
      ]
     },
     "execution_count": 5,
     "metadata": {},
     "output_type": "execute_result"
    }
   ],
   "source": [
    "df = pd.read_csv('boros.csv')\n",
    "df.head() "
   ]
  },
  {
   "cell_type": "code",
   "execution_count": 8,
   "metadata": {},
   "outputs": [
    {
     "data": {
      "text/html": [
       "<div>\n",
       "<style>\n",
       "    .dataframe thead tr:only-child th {\n",
       "        text-align: right;\n",
       "    }\n",
       "\n",
       "    .dataframe thead th {\n",
       "        text-align: left;\n",
       "    }\n",
       "\n",
       "    .dataframe tbody tr th {\n",
       "        vertical-align: top;\n",
       "    }\n",
       "</style>\n",
       "<table border=\"1\" class=\"dataframe\">\n",
       "  <thead>\n",
       "    <tr style=\"text-align: right;\">\n",
       "      <th></th>\n",
       "      <th>borough</th>\n",
       "      <th>cats</th>\n",
       "      <th>population</th>\n",
       "      <th>cats_per_capita</th>\n",
       "    </tr>\n",
       "  </thead>\n",
       "  <tbody>\n",
       "    <tr>\n",
       "      <th>0</th>\n",
       "      <td>Manhattan</td>\n",
       "      <td>107</td>\n",
       "      <td>1400</td>\n",
       "      <td>0.076429</td>\n",
       "    </tr>\n",
       "    <tr>\n",
       "      <th>1</th>\n",
       "      <td>Brooklyn</td>\n",
       "      <td>205</td>\n",
       "      <td>3412</td>\n",
       "      <td>0.060082</td>\n",
       "    </tr>\n",
       "    <tr>\n",
       "      <th>2</th>\n",
       "      <td>Bronx</td>\n",
       "      <td>33</td>\n",
       "      <td>323</td>\n",
       "      <td>0.102167</td>\n",
       "    </tr>\n",
       "  </tbody>\n",
       "</table>\n",
       "</div>"
      ],
      "text/plain": [
       "     borough  cats  population  cats_per_capita\n",
       "0  Manhattan   107        1400         0.076429\n",
       "1   Brooklyn   205        3412         0.060082\n",
       "2      Bronx    33         323         0.102167"
      ]
     },
     "execution_count": 8,
     "metadata": {},
     "output_type": "execute_result"
    }
   ],
   "source": [
    "df['cats_per_capita'] = df['cats'] / df['population'] \n",
    "df.head()"
   ]
  },
  {
   "cell_type": "code",
   "execution_count": 9,
   "metadata": {},
   "outputs": [
    {
     "name": "stdout",
     "output_type": "stream",
     "text": [
      "low\n"
     ]
    }
   ],
   "source": [
    "cats_per_capita = 0.07\n",
    "\n",
    "if cats_per_capita < 0.10:\n",
    "    print('low')\n",
    "else:\n",
    "    print('high')"
   ]
  },
  {
   "cell_type": "code",
   "execution_count": 14,
   "metadata": {
    "collapsed": true
   },
   "outputs": [],
   "source": [
    "#HERE WE GO...FUNCTIONS with pandas! \n",
    "\n",
    "#max, len etc are functions. So we are going to create our own \n",
    "\n",
    "#we are going to be returing something. Type the work return and you'll get something back "
   ]
  },
  {
   "cell_type": "code",
   "execution_count": 16,
   "metadata": {},
   "outputs": [
    {
     "name": "stdout",
     "output_type": "stream",
     "text": [
      "I am looking at Manhattan\n",
      "I am looking at Brooklyn\n",
      "I am looking at Bronx\n"
     ]
    },
    {
     "data": {
      "text/plain": [
       "0    0.076429\n",
       "1    0.060082\n",
       "2    0.102167\n",
       "dtype: float64"
      ]
     },
     "execution_count": 16,
     "metadata": {},
     "output_type": "execute_result"
    }
   ],
   "source": [
    "def cats_per_capita(row):\n",
    "    print(\"I am looking at\", row['borough'])\n",
    "    return row['cats'] /row['population']\n",
    "df.apply(cats_per_capita, axis=1)\n",
    "\n",
    "#hey database...we want to work with a specific row of data "
   ]
  },
  {
   "cell_type": "code",
   "execution_count": 19,
   "metadata": {},
   "outputs": [
    {
     "name": "stdout",
     "output_type": "stream",
     "text": [
      "I am looking at borough            Manhattan\n",
      "cats                     107\n",
      "population              1400\n",
      "cats_per_capita    0.0764286\n",
      "Name: 0, dtype: object\n",
      "I am looking at borough             Brooklyn\n",
      "cats                     205\n",
      "population              3412\n",
      "cats_per_capita    0.0600821\n",
      "Name: 1, dtype: object\n",
      "I am looking at borough               Bronx\n",
      "cats                     33\n",
      "population              323\n",
      "cats_per_capita    0.102167\n",
      "Name: 2, dtype: object\n"
     ]
    },
    {
     "data": {
      "text/plain": [
       "0    None\n",
       "1    None\n",
       "2    None\n",
       "dtype: object"
      ]
     },
     "execution_count": 19,
     "metadata": {},
     "output_type": "execute_result"
    }
   ],
   "source": [
    "def looking_at_something(row):\n",
    "    print(\"I am looking at\", row)\n",
    "df.apply(looking_at_something, axis = 1)\n",
    "\n",
    "#axis=1 WILL GIVE YOU THE ROWS!!!! \n",
    "\n",
    "\n",
    "#this is the same thing as:\n",
    "#numbers = [1,2,3]\n",
    "#for num in numbers:\n",
    "    #print(\"I am looking at\", num) "
   ]
  },
  {
   "cell_type": "code",
   "execution_count": 22,
   "metadata": {},
   "outputs": [
    {
     "data": {
      "text/plain": [
       "0     low\n",
       "1     low\n",
       "2    high\n",
       "dtype: object"
      ]
     },
     "execution_count": 22,
     "metadata": {},
     "output_type": "execute_result"
    }
   ],
   "source": [
    "def calculate_cats(row):\n",
    "    if row['cats_per_capita'] < 0.1:\n",
    "        return \"low\"\n",
    "    else:\n",
    "        return \"high\"\n",
    "df.apply(calculate_cats, axis = 1) "
   ]
  },
  {
   "cell_type": "code",
   "execution_count": 23,
   "metadata": {},
   "outputs": [
    {
     "data": {
      "text/html": [
       "<div>\n",
       "<style>\n",
       "    .dataframe thead tr:only-child th {\n",
       "        text-align: right;\n",
       "    }\n",
       "\n",
       "    .dataframe thead th {\n",
       "        text-align: left;\n",
       "    }\n",
       "\n",
       "    .dataframe tbody tr th {\n",
       "        vertical-align: top;\n",
       "    }\n",
       "</style>\n",
       "<table border=\"1\" class=\"dataframe\">\n",
       "  <thead>\n",
       "    <tr style=\"text-align: right;\">\n",
       "      <th></th>\n",
       "      <th>borough</th>\n",
       "      <th>cats</th>\n",
       "      <th>population</th>\n",
       "      <th>cats_per_capita</th>\n",
       "      <th>cat_words</th>\n",
       "    </tr>\n",
       "  </thead>\n",
       "  <tbody>\n",
       "    <tr>\n",
       "      <th>0</th>\n",
       "      <td>Manhattan</td>\n",
       "      <td>107</td>\n",
       "      <td>1400</td>\n",
       "      <td>0.076429</td>\n",
       "      <td>low</td>\n",
       "    </tr>\n",
       "    <tr>\n",
       "      <th>1</th>\n",
       "      <td>Brooklyn</td>\n",
       "      <td>205</td>\n",
       "      <td>3412</td>\n",
       "      <td>0.060082</td>\n",
       "      <td>low</td>\n",
       "    </tr>\n",
       "    <tr>\n",
       "      <th>2</th>\n",
       "      <td>Bronx</td>\n",
       "      <td>33</td>\n",
       "      <td>323</td>\n",
       "      <td>0.102167</td>\n",
       "      <td>high</td>\n",
       "    </tr>\n",
       "  </tbody>\n",
       "</table>\n",
       "</div>"
      ],
      "text/plain": [
       "     borough  cats  population  cats_per_capita cat_words\n",
       "0  Manhattan   107        1400         0.076429       low\n",
       "1   Brooklyn   205        3412         0.060082       low\n",
       "2      Bronx    33         323         0.102167      high"
      ]
     },
     "execution_count": 23,
     "metadata": {},
     "output_type": "execute_result"
    }
   ],
   "source": [
    "df['cat_words'] = df.apply(calculate_cats, axis =1)\n",
    "df.head()"
   ]
  },
  {
   "cell_type": "code",
   "execution_count": 24,
   "metadata": {
    "collapsed": true
   },
   "outputs": [],
   "source": [
    "def scrape_some_stuff(row):\n",
    "    print(\"I am about to scrape\", row['borough'])\n",
    "    url = 'http://www.cats.com/population/' + row['borough']\n",
    "    print(\"Visiting\", url)\n",
    "    print()"
   ]
  },
  {
   "cell_type": "code",
   "execution_count": 25,
   "metadata": {
    "collapsed": true
   },
   "outputs": [],
   "source": [
    "#time.sleep()\n",
    "#This will slow down your search if the website is slow \n"
   ]
  },
  {
   "cell_type": "code",
   "execution_count": 26,
   "metadata": {
    "collapsed": true
   },
   "outputs": [],
   "source": [
    "#Now...we've pip3 install selenium. It is technically a java install \n",
    "import selenium"
   ]
  },
  {
   "cell_type": "code",
   "execution_count": 27,
   "metadata": {
    "collapsed": true
   },
   "outputs": [],
   "source": [
    "#Chrome webdriver...google this an install \n"
   ]
  },
  {
   "cell_type": "code",
   "execution_count": null,
   "metadata": {
    "collapsed": true
   },
   "outputs": [],
   "source": []
  }
 ],
 "metadata": {
  "kernelspec": {
   "display_name": "Python 3",
   "language": "python",
   "name": "python3"
  },
  "language_info": {
   "codemirror_mode": {
    "name": "ipython",
    "version": 3
   },
   "file_extension": ".py",
   "mimetype": "text/x-python",
   "name": "python",
   "nbconvert_exporter": "python",
   "pygments_lexer": "ipython3",
   "version": "3.6.1"
  }
 },
 "nbformat": 4,
 "nbformat_minor": 2
}

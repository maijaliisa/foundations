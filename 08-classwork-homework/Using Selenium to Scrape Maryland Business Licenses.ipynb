{
 "cells": [
  {
   "cell_type": "markdown",
   "metadata": {},
   "source": [
    "# Scraping Maryland Business Licenses with Selenium\n",
    "\n",
    "Maryland has a [great portal](https://jportal.mdcourts.gov/license/pbPublicSearch.jsp) for searching business licenses, but the only problem is you have to check a box in order to get in.\n",
    "\n",
    "1. Try to visit [the public search page](https://jportal.mdcourts.gov/license/pbPublicSearch.jsp)\n",
    "2. Get redirected to a \"I agree to this\" page. Click that you've read the disclaimer, click Enter the Site.\n",
    "3. Click \"Search License Records\" down at the bottom of the page\n",
    "4. You're now on the search page! From the \"Jurisdiction\" dropdown, select \"Statewide\"\n",
    "5. In the \"Trade Name\" field, type \"Vap%\" to try to find vape shops\n",
    "6. Click \"Next\" in the bottom right-hand corner to go to the next page\n",
    "7. Click \"Click for detail\" to see the details for a specific business license.\n",
    "\n",
    "That's a lot of stuff! **Let's get to work.**"
   ]
  },
  {
   "cell_type": "markdown",
   "metadata": {},
   "source": [
    "## Preparation\n",
    "\n",
    "### When you search for a business license, what URL should Selenium try to visit first?"
   ]
  },
  {
   "cell_type": "code",
   "execution_count": 224,
   "metadata": {
    "collapsed": true
   },
   "outputs": [],
   "source": [
    "import selenium"
   ]
  },
  {
   "cell_type": "code",
   "execution_count": 225,
   "metadata": {
    "collapsed": true
   },
   "outputs": [],
   "source": [
    "from selenium import webdriver"
   ]
  },
  {
   "cell_type": "code",
   "execution_count": 226,
   "metadata": {
    "collapsed": true
   },
   "outputs": [],
   "source": [
    "driver = webdriver.Chrome()"
   ]
  },
  {
   "cell_type": "code",
   "execution_count": 227,
   "metadata": {
    "collapsed": true
   },
   "outputs": [],
   "source": [
    "driver.get('https://jportal.mdcourts.gov/license/index_disclaimer.jsp')"
   ]
  },
  {
   "cell_type": "markdown",
   "metadata": {},
   "source": [
    "**It isn't going to work, though! It's going to redirect to that intro page.** You can use *Incognito mode* to go back through the \"Check the box, etc\" series of pages.\n",
    "\n",
    "### How will you identify the checkbox to check it?\n",
    "\n",
    "Selenium can find elements by:\n",
    "\n",
    "- name\n",
    "- Class\n",
    "- ID\n",
    "- CSS selector (**ASK ME WHAT THIS IS** if you don't know)\n",
    "- XPath (**ASK ME WHAT THIS IS** because you definitely don't know)\n",
    "- Link text\n",
    "- Partial link text\n",
    "\n",
    "So in other words, what's unique about this element?\n",
    "\n",
    "- *TIP: I have a secret awesome way to do this, but you have to ask.*"
   ]
  },
  {
   "cell_type": "code",
   "execution_count": 228,
   "metadata": {
    "collapsed": true
   },
   "outputs": [],
   "source": [
    "check_box = driver.find_element_by_xpath('//*[@id=\"checkbox\"]')\n",
    "check_box.click()"
   ]
  },
  {
   "cell_type": "code",
   "execution_count": 229,
   "metadata": {
    "collapsed": true
   },
   "outputs": [],
   "source": [
    "enter_site = driver.find_element_by_xpath('/html/body/table/tbody/tr[7]/td/form/div/input[2]')\n",
    "enter_site.click()"
   ]
  },
  {
   "cell_type": "markdown",
   "metadata": {},
   "source": [
    "### How will you identify the button to select it, or the form to submit it?\n",
    "\n",
    "Selenium can submit forms by either\n",
    "\n",
    "- Selecting the form and using `.submit()`, or\n",
    "- Selecting the button and using `.click()`\n",
    "\n",
    "You only need to be able to get **one, not both.**"
   ]
  },
  {
   "cell_type": "markdown",
   "metadata": {},
   "source": [
    "### Once you're on the next page, how will you click the \"SEARCH LICENSE RECORDS\" link or follow its URL?"
   ]
  },
  {
   "cell_type": "code",
   "execution_count": 230,
   "metadata": {
    "collapsed": true
   },
   "outputs": [],
   "source": [
    "search_license_records = driver.find_element_by_xpath('/html/body/table[1]/tbody/tr[2]/td[2]/table/tbody/tr/td[3]/a/img')\n",
    "search_license_records.click()"
   ]
  },
  {
   "cell_type": "markdown",
   "metadata": {},
   "source": [
    "### Now you're on the form page. How do you pick \"Statewide\" for the jurisdiction dropdown?"
   ]
  },
  {
   "cell_type": "code",
   "execution_count": 231,
   "metadata": {
    "collapsed": true
   },
   "outputs": [],
   "source": [
    "from selenium.webdriver.support.ui import Select"
   ]
  },
  {
   "cell_type": "code",
   "execution_count": 232,
   "metadata": {
    "collapsed": true
   },
   "outputs": [],
   "source": [
    "jurisdiction = driver.find_element_by_xpath('//*[@id=\"slcJurisdiction\"]')\n",
    "select = Select(jurisdiction)\n",
    "select.select_by_visible_text('Statewide')"
   ]
  },
  {
   "cell_type": "markdown",
   "metadata": {},
   "source": [
    "### How do you type \"vap%\" into the Trade Name field?"
   ]
  },
  {
   "cell_type": "code",
   "execution_count": 233,
   "metadata": {
    "collapsed": true
   },
   "outputs": [],
   "source": [
    "trade_name = driver.find_element_by_xpath('//*[@id=\"txtTradeName\"]')\n",
    "trade_name.click()"
   ]
  },
  {
   "cell_type": "code",
   "execution_count": 234,
   "metadata": {
    "collapsed": true
   },
   "outputs": [],
   "source": [
    "trade_name.send_keys(\"vap%\")"
   ]
  },
  {
   "cell_type": "markdown",
   "metadata": {},
   "source": [
    "### How do you click the submit button or submit the form?"
   ]
  },
  {
   "cell_type": "code",
   "execution_count": 235,
   "metadata": {},
   "outputs": [],
   "source": [
    "submit = driver.find_element_by_xpath('/html/body/table[2]/tbody/tr[4]/td[2]/form/table/tbody/tr[14]/td/input[1]')\n",
    "submit.click()"
   ]
  },
  {
   "cell_type": "markdown",
   "metadata": {},
   "source": [
    "### How can you find and click the 'Next' button on the search results page?"
   ]
  },
  {
   "cell_type": "code",
   "execution_count": 236,
   "metadata": {
    "collapsed": true
   },
   "outputs": [],
   "source": [
    "# next = driver.find_element_by_xpath('/html/body/table[2]/tbody/tr[4]/td[2]/table[2]/tbody/tr/td[3]/a/nobr')\n",
    "# next.click()"
   ]
  },
  {
   "cell_type": "markdown",
   "metadata": {},
   "source": [
    "# Okay, let's scrape!\n",
    "\n",
    "### Use Selenium to search for vape shops statewide, and then click through until it reaches the last page.\n",
    "\n",
    "Don't scrape yet!"
   ]
  },
  {
   "cell_type": "code",
   "execution_count": 237,
   "metadata": {
    "collapsed": true
   },
   "outputs": [],
   "source": [
    "# count = 0\n",
    "\n",
    "# while True:\n",
    "#     try:\n",
    "#         next = driver.find_element_by_xpath('/html/body/table[2]/tbody/tr[4]/td[2]/table[2]/tbody/tr/td[3]/a/nobr')\n",
    "#         next.click()\n",
    "#     except: \n",
    "#         break"
   ]
  },
  {
   "cell_type": "markdown",
   "metadata": {},
   "source": [
    "### Use Selenium to scrape the first page of search results for vape shops statewide (well, we'll try).\n",
    "\n",
    "- *TIP: You can find elements/text using Selenium, or use BeautifulSoup with `doc = BeautifulSoup(driver.page_source)`*\n",
    "\n",
    "I've included some BeautifulSoup code that might be helpful. If you use it, **ask me how I made it.** It's important."
   ]
  },
  {
   "cell_type": "code",
   "execution_count": 238,
   "metadata": {
    "collapsed": true
   },
   "outputs": [],
   "source": [
    "import requests\n",
    "from bs4 import BeautifulSoup\n",
    "doc = BeautifulSoup(driver.page_source, 'html.parser')"
   ]
  },
  {
   "cell_type": "code",
   "execution_count": 239,
   "metadata": {},
   "outputs": [
    {
     "data": {
      "text/plain": [
       "5"
      ]
     },
     "execution_count": 239,
     "metadata": {},
     "output_type": "execute_result"
    }
   ],
   "source": [
    "# IF YOU ARE USING BEAUTIFULSOUP, HERE IS SOME SAMPLE CODE\n",
    "# IF YOU USE THIS CODE, ASK ME HOW I MADE IT. IT'S IMPORTANT.\n",
    "business_headers = doc.find_all('tr',class_='searchfieldtitle')\n",
    "len(business_headers)"
   ]
  },
  {
   "cell_type": "code",
   "execution_count": 240,
   "metadata": {},
   "outputs": [],
   "source": [
    "# You'll probably need to find specific tds inside\n",
    "# of the rows instead of looking at the whole thing.\n",
    "\n",
    "#while True:\n",
    " #   doc = BeautifulSoup(driver.page_source, 'html.parser')\n",
    "  #  business_headers = doc.find_all('tr',class_='searchfieldtitle')\n",
    "   # for header in business_headers:\n",
    "    #    rows = header.find_next_siblings('tr')\n",
    "     #   print(\"HEADER is\", header.text.strip())\n",
    "      #  print(\"ROW 0 IS\", rows[0].text.strip())\n",
    "       # print(\"ROW 1 IS\", rows[1].text.strip())\n",
    "       # print(\"ROW 2 IS\", rows[2].text.strip())\n",
    "       # print(\"ROW 3 IS\", rows[3].text.strip())\n",
    "        #print(\"----\")\n",
    "    #try:\n",
    "     #   next = driver.find_element_by_xpath('/html/body/table[2]/tbody/tr[4]/td[2]/table[2]/tbody/tr/td[3]/a/nobr')\n",
    "     #   next.click()\n",
    "    #except: \n",
    "     #   break"
   ]
  },
  {
   "cell_type": "markdown",
   "metadata": {},
   "source": [
    "### Save these into `vape-results.csv`"
   ]
  },
  {
   "cell_type": "code",
   "execution_count": 241,
   "metadata": {
    "collapsed": true
   },
   "outputs": [],
   "source": [
    "results = [] \n",
    "while True:\n",
    "    doc = BeautifulSoup(driver.page_source, 'html.parser')\n",
    "    business_headers = doc.find_all('tr',class_='searchfieldtitle')\n",
    "    for header in business_headers:\n",
    "        current = {} \n",
    "        rows = header.find_next_siblings('tr')\n",
    "        current['company'] = header.find_all('td')[1].text.strip()\n",
    "        current['link'] = header.find_all('td')[2].find('a')\n",
    "        current['name'] = rows[0].find_all('td')[1].text.strip()\n",
    "        current['address'] = rows[1].find_all('td')[1].text.strip()\n",
    "        current['license'] = rows[1].find_all('td')[2].text.strip()\n",
    "        current['city'] = rows[2].find_all('td')[1].text.strip()\n",
    "        current['county'] = rows[3].text.strip()\n",
    "        results.append(current) \n",
    "    try:\n",
    "        next_button = driver.find_element_by_xpath('/html/body/table[2]/tbody/tr[4]/td[2]/table[2]/tbody/tr/td[3]/a/nobr')\n",
    "        next_button.click()\n",
    "    except: \n",
    "        break    "
   ]
  },
  {
   "cell_type": "code",
   "execution_count": 242,
   "metadata": {},
   "outputs": [
    {
     "name": "stdout",
     "output_type": "stream",
     "text": [
      "[{'company': 'VAPE IT STORE II', 'link': <a href=\"pbLicenseDetail.jsp?owi=c9l4Hc%2FAuto%3D\"><img alt=\"Click for Detail of VAPE IT STORE II\" src=\"images/link_click-detail.gif\"/></a>, 'name': 'AMIN NARGIS', 'address': '1015 S SALISBURY BLVD', 'license': 'License: 22173808', 'city': 'SALISBURY, MD 21801', 'county': 'Wicomico County'}, {'company': 'VAPE IT STORE I', 'link': <a href=\"pbLicenseDetail.jsp?owi=pe9i6XrCMFE%3D\"><img alt=\"Click for Detail of VAPE IT STORE I\" src=\"images/link_click-detail.gif\"/></a>, 'name': 'AMIN NARGIS', 'address': '1724 N SALISBURY BLVD UNIT 2', 'license': 'License: 22173807', 'city': 'SALISBURY, MD 21801', 'county': 'Wicomico County'}, {'company': 'VAPEPAD THE', 'link': <a href=\"pbLicenseDetail.jsp?owi=lycWL7%2FzX%2F0%3D\"><img alt=\"Click for Detail of VAPEPAD THE\" src=\"images/link_click-detail.gif\"/></a>, 'name': 'ANJ DISTRIBUTIONS LLC', 'address': '2299 JOHNS HOPKINS ROAD', 'license': 'License: 02104436', 'city': 'GAMBRILLS, MD 21054', 'county': 'Anne Arundel County'}, {'company': 'VAPE FROG', 'link': <a href=\"pbLicenseDetail.jsp?owi=fDi%2F1AXSsHo%3D\"><img alt=\"Click for Detail of VAPE FROG\" src=\"images/link_click-detail.gif\"/></a>, 'name': 'COX TRADING COMPANY L L C', 'address': '110 S. PINEY RD', 'license': 'License: 17165957', 'city': 'CHESTER, MD 21619', 'county': \"Queen Anne's County\"}, {'company': 'VAPE FROG', 'link': None, 'name': 'COX TRADING LLC', 'address': '346 RITCHIE HIGHWAY', 'license': '', 'city': 'SEVERNA PARK, MD 21146', 'county': 'Anne Arundel County'}, {'company': 'VAPE LOFT (THE)', 'link': <a href=\"pbLicenseDetail.jsp?owi=0O2QDqy%2BGjo%3D\"><img alt=\"Click for Detail of VAPE LOFT (THE)\" src=\"images/link_click-detail.gif\"/></a>, 'name': 'DISBROW II EMERSON HARRINGTON', 'address': '185 MITCHELLS CHANCE RD', 'license': 'License: 02102408', 'city': 'EDGEWATER, MD 21037', 'county': 'Anne Arundel County'}, {'company': 'VAPE N CIGAR', 'link': <a href=\"pbLicenseDetail.jsp?owi=K9U7pDIwbkU%3D\"><img alt=\"Click for Detail of VAPE N CIGAR\" src=\"images/link_click-detail.gif\"/></a>, 'name': 'DISCOUNT TOBACCO ESSEX LLC', 'address': '7104 MINSTREL UNIT #7', 'license': 'License: 13141786', 'city': 'COLUMBIA, MD 21045', 'county': 'Howard County'}, {'company': 'VAPE DOJO', 'link': <a href=\"pbLicenseDetail.jsp?owi=G6rN8X7s%2BA4%3D\"><img alt=\"Click for Detail of VAPE DOJO\" src=\"images/link_click-detail.gif\"/></a>, 'name': 'FAIRGROUND VILLAGE LLC', 'address': '330 ONE FORTY VILLAGE ROAD', 'license': 'License: 06126253', 'city': 'WESTMINSTER, MD 21157', 'county': 'Carroll County'}, {'company': 'VAPE HAVEN', 'link': None, 'name': 'GRIMM JENNIFER', 'address': '29890 THREE NOTCH ROAD', 'license': '', 'city': 'CHARLOTTE HALL, MD 20622', 'county': \"St. Mary's County\"}, {'company': 'VAPE BIRD', 'link': <a href=\"pbLicenseDetail.jsp?owi=eEFXW3k6AEE%3D\"><img alt=\"Click for Detail of VAPE BIRD\" src=\"images/link_click-detail.gif\"/></a>, 'name': 'HUTCH VAPES LLC', 'address': '356 ROMANCOKE ROAD', 'license': 'License: 17166688', 'city': 'STEVENSVILLE, MD 21666', 'county': \"Queen Anne's County\"}, {'company': 'VAPE FROG', 'link': None, 'name': 'HUTCHINS COX LLP', 'address': '110 S PINEY ROAD  STE 106', 'license': '', 'city': 'CHESTER, MD 21619', 'county': \"Queen Anne's County\"}, {'company': 'VAPORS LOUNGE', 'link': <a href=\"pbLicenseDetail.jsp?owi=sRGZjM9T2%2Bg%3D\"><img alt=\"Click for Detail of VAPORS LOUNGE\" src=\"images/link_click-detail.gif\"/></a>, 'name': 'JAMESON WILLIAM', 'address': '28943 THREE NOTCH ROAD', 'license': 'License: 18167503', 'city': 'MECHANICSVILLE, MD 20659', 'county': \"St. Mary's County\"}, {'company': 'VAPORS LOUNGE', 'link': None, 'name': 'JAMESON WILLIAM E', 'address': '6843 CRAIN HIGHWAY', 'license': '', 'city': 'LA PLATA, MD 20646', 'county': 'Charles County'}, {'company': 'VAPIST MD', 'link': None, 'name': 'JEFFERS MICHAEL', 'address': '6321 OLD BRANCH AVE', 'license': '', 'city': 'CAMP SPRINGS, MD 20748', 'county': \"St. Mary's County\"}, {'company': 'VAPIST MD LLC', 'link': None, 'name': 'JEFFERS MICHAEL W', 'address': '6321 OLD BRANCH AVE', 'license': '', 'city': 'CAMP SPRINGS, MD 20748', 'county': \"Prince George's County\"}, {'company': 'VAPERTETMD', 'link': None, 'name': 'SHIN JENNY Y', 'address': '7954 B AND A BLVD', 'license': '', 'city': 'GLEN BURNIE, MD 21060', 'county': 'Anne Arundel County'}, {'company': 'VAPERTEKMD', 'link': None, 'name': 'SHIN JENNY YOUNG', 'address': '6325 WASHINGTON BLVD', 'license': '', 'city': 'ELKRIDGE, MD 21075', 'county': 'Howard County'}, {'company': 'VAPORIOT', 'link': None, 'name': 'TAYLOR TRAVIS', 'address': '3203 NORTH POINT RD', 'license': '', 'city': 'BALTIMORE, MD 21222', 'county': 'Baltimore County'}, {'company': 'VAPE PLUS', 'link': <a href=\"pbLicenseDetail.jsp?owi=DG18IqZbXM0%3D\"><img alt=\"Click for Detail of VAPE PLUS\" src=\"images/link_click-detail.gif\"/></a>, 'name': 'TRUE ENTERPRISE INC', 'address': '519 LINDEN AVENUE UNIT 6', 'license': 'License: 23178140', 'city': 'POCOMOKE CITY, MD 21851', 'county': 'Worcester County'}, {'company': 'VAPE  SOCIAL', 'link': <a href=\"pbLicenseDetail.jsp?owi=pCgFHE%2BlPxU%3D\"><img alt=\"Click for Detail of VAPE  SOCIAL\" src=\"images/link_click-detail.gif\"/></a>, 'name': 'VAPE  SOCIAL  LLC', 'address': '16521 S FREDERICK AVE', 'license': 'License: 15155429', 'city': 'GAITHERSBURG, MD 20877', 'county': 'Montgomery County'}, {'company': 'VAPE JUNGLE', 'link': <a href=\"pbLicenseDetail.jsp?owi=6rPvUlyCC%2Bk%3D\"><img alt=\"Click for Detail of VAPE JUNGLE\" src=\"images/link_click-detail.gif\"/></a>, 'name': 'VAPE JUNGLE LLC', 'address': '2070 CRAIN HIGHWAY  UNIT F', 'license': 'License: 08131285', 'city': 'WALDORF, MD 20601', 'county': 'Charles County'}, {'company': 'VAPE TIME', 'link': None, 'name': 'VAPE TIME LLC', 'address': '4130 E JOPPA RD UNIT 109', 'license': '', 'city': 'NOTTINGHAM, MD 21236', 'county': 'Baltimore County'}, {'company': 'VAPEBAR EXPESS', 'link': None, 'name': 'VAPEBAR EXPRESS LLC', 'address': '11110 MALL CIRCLE', 'license': '', 'city': 'WALDORF, MD 20603', 'county': 'Charles County'}, {'company': 'VAPOR 99', 'link': <a href=\"pbLicenseDetail.jsp?owi=BuQGto8YzcQ%3D\"><img alt=\"Click for Detail of VAPOR 99\" src=\"images/link_click-detail.gif\"/></a>, 'name': 'VAPOR 99 LLC', 'address': '3524 CRAIN HWY', 'license': 'License: 16165362', 'city': 'BOWIE, MD 20716', 'county': \"Prince George's County\"}, {'company': 'VAPOR ALLEY', 'link': <a href=\"pbLicenseDetail.jsp?owi=Qt8JZTKoUHI%3D\"><img alt=\"Click for Detail of VAPOR ALLEY\" src=\"images/link_click-detail.gif\"/></a>, 'name': 'VAPOR ALLEY LLC', 'address': '8117 OCEAN GATEWAY UNIT #4', 'license': 'License: 20170900', 'city': 'EASTON, MD 21601', 'county': 'Talbot County'}, {'company': 'VAPOR EMPORIUM', 'link': <a href=\"pbLicenseDetail.jsp?owi=MWnS87qH7Q8%3D\"><img alt=\"Click for Detail of VAPOR EMPORIUM\" src=\"images/link_click-detail.gif\"/></a>, 'name': 'VAPOR EMPORIUM MD LLC', 'address': '11717 OLD NATIONAL PIKE', 'license': 'License: 10135432', 'city': 'NEW MARKET, MD 21774', 'county': 'Frederick County'}, {'company': 'VAPOR VILLA', 'link': <a href=\"pbLicenseDetail.jsp?owi=uf0CaYWDvFc%3D\"><img alt=\"Click for Detail of VAPOR VILLA\" src=\"images/link_click-detail.gif\"/></a>, 'name': 'VAPOR VILLA CORP', 'address': '1913 LANSDOWNE ROAD SUITE E', 'license': 'License: 03121958', 'city': 'BALTIMORE, MD 21227', 'county': 'Baltimore County'}, {'company': 'VAPOR VILLA', 'link': <a href=\"pbLicenseDetail.jsp?owi=G5PbWpmQkDs%3D\"><img alt=\"Click for Detail of VAPOR VILLA\" src=\"images/link_click-detail.gif\"/></a>, 'name': 'VAPOR VILLA CORP', 'address': '730 FREDERICK ROAD', 'license': 'License: 03121959', 'city': 'CATONSVILLE, MD 21228', 'county': 'Baltimore County'}, {'company': 'VAPE DOJO', 'link': <a href=\"pbLicenseDetail.jsp?owi=M%2BN66WfqgYY%3D\"><img alt=\"Click for Detail of VAPE DOJO\" src=\"images/link_click-detail.gif\"/></a>, 'name': 'WALKER TRADING CO INC', 'address': '138 N BOND STREET', 'license': 'License: 12140135', 'city': 'BEL AIR, MD 21014', 'county': 'Harford County'}, {'company': 'VAPE DOJO', 'link': None, 'name': 'WALKER TRADING COMPANY INC', 'address': '11600 CROSSROAD CIR  STE E', 'license': '', 'city': 'BALTIMORE, MD 21220', 'county': 'Baltimore County'}, {'company': 'VAPE DOJO', 'link': <a href=\"pbLicenseDetail.jsp?owi=bFIUYgB%2Fd1E%3D\"><img alt=\"Click for Detail of VAPE DOJO\" src=\"images/link_click-detail.gif\"/></a>, 'name': 'WALKER TRADING COMPANY INC', 'address': '3570 SAINT JOHNS LANE, SUITE 109', 'license': 'License: 13144108', 'city': 'ELLICOTT CITY, MD 21042', 'county': 'Howard County'}, {'company': 'VAPEZ YARDHOUSE', 'link': None, 'name': 'YARKHOUSE EMPIRE INC', 'address': '3315 PLAZA WAY', 'license': '', 'city': 'WALDORF, MD 20603', 'county': 'Charles County'}]\n"
     ]
    }
   ],
   "source": [
    "print(results) "
   ]
  },
  {
   "cell_type": "code",
   "execution_count": 243,
   "metadata": {},
   "outputs": [
    {
     "data": {
      "text/html": [
       "<div>\n",
       "<style>\n",
       "    .dataframe thead tr:only-child th {\n",
       "        text-align: right;\n",
       "    }\n",
       "\n",
       "    .dataframe thead th {\n",
       "        text-align: left;\n",
       "    }\n",
       "\n",
       "    .dataframe tbody tr th {\n",
       "        vertical-align: top;\n",
       "    }\n",
       "</style>\n",
       "<table border=\"1\" class=\"dataframe\">\n",
       "  <thead>\n",
       "    <tr style=\"text-align: right;\">\n",
       "      <th></th>\n",
       "      <th>address</th>\n",
       "      <th>city</th>\n",
       "      <th>company</th>\n",
       "      <th>county</th>\n",
       "      <th>license</th>\n",
       "      <th>link</th>\n",
       "      <th>name</th>\n",
       "    </tr>\n",
       "  </thead>\n",
       "  <tbody>\n",
       "    <tr>\n",
       "      <th>0</th>\n",
       "      <td>1015 S SALISBURY BLVD</td>\n",
       "      <td>SALISBURY, MD 21801</td>\n",
       "      <td>VAPE IT STORE II</td>\n",
       "      <td>Wicomico County</td>\n",
       "      <td>License: 22173808</td>\n",
       "      <td>&lt;a href=\"pbLicenseDetail.jsp?owi=c9l4Hc%2FAuto...</td>\n",
       "      <td>AMIN NARGIS</td>\n",
       "    </tr>\n",
       "    <tr>\n",
       "      <th>1</th>\n",
       "      <td>1724 N SALISBURY BLVD UNIT 2</td>\n",
       "      <td>SALISBURY, MD 21801</td>\n",
       "      <td>VAPE IT STORE I</td>\n",
       "      <td>Wicomico County</td>\n",
       "      <td>License: 22173807</td>\n",
       "      <td>&lt;a href=\"pbLicenseDetail.jsp?owi=pe9i6XrCMFE%3...</td>\n",
       "      <td>AMIN NARGIS</td>\n",
       "    </tr>\n",
       "    <tr>\n",
       "      <th>2</th>\n",
       "      <td>2299 JOHNS HOPKINS ROAD</td>\n",
       "      <td>GAMBRILLS, MD 21054</td>\n",
       "      <td>VAPEPAD THE</td>\n",
       "      <td>Anne Arundel County</td>\n",
       "      <td>License: 02104436</td>\n",
       "      <td>&lt;a href=\"pbLicenseDetail.jsp?owi=lycWL7%2FzX%2...</td>\n",
       "      <td>ANJ DISTRIBUTIONS LLC</td>\n",
       "    </tr>\n",
       "    <tr>\n",
       "      <th>3</th>\n",
       "      <td>110 S. PINEY RD</td>\n",
       "      <td>CHESTER, MD 21619</td>\n",
       "      <td>VAPE FROG</td>\n",
       "      <td>Queen Anne's County</td>\n",
       "      <td>License: 17165957</td>\n",
       "      <td>&lt;a href=\"pbLicenseDetail.jsp?owi=fDi%2F1AXSsHo...</td>\n",
       "      <td>COX TRADING COMPANY L L C</td>\n",
       "    </tr>\n",
       "    <tr>\n",
       "      <th>4</th>\n",
       "      <td>346 RITCHIE HIGHWAY</td>\n",
       "      <td>SEVERNA PARK, MD 21146</td>\n",
       "      <td>VAPE FROG</td>\n",
       "      <td>Anne Arundel County</td>\n",
       "      <td></td>\n",
       "      <td>None</td>\n",
       "      <td>COX TRADING LLC</td>\n",
       "    </tr>\n",
       "    <tr>\n",
       "      <th>5</th>\n",
       "      <td>185 MITCHELLS CHANCE RD</td>\n",
       "      <td>EDGEWATER, MD 21037</td>\n",
       "      <td>VAPE LOFT (THE)</td>\n",
       "      <td>Anne Arundel County</td>\n",
       "      <td>License: 02102408</td>\n",
       "      <td>&lt;a href=\"pbLicenseDetail.jsp?owi=0O2QDqy%2BGjo...</td>\n",
       "      <td>DISBROW II EMERSON HARRINGTON</td>\n",
       "    </tr>\n",
       "    <tr>\n",
       "      <th>6</th>\n",
       "      <td>7104 MINSTREL UNIT #7</td>\n",
       "      <td>COLUMBIA, MD 21045</td>\n",
       "      <td>VAPE N CIGAR</td>\n",
       "      <td>Howard County</td>\n",
       "      <td>License: 13141786</td>\n",
       "      <td>&lt;a href=\"pbLicenseDetail.jsp?owi=K9U7pDIwbkU%3...</td>\n",
       "      <td>DISCOUNT TOBACCO ESSEX LLC</td>\n",
       "    </tr>\n",
       "    <tr>\n",
       "      <th>7</th>\n",
       "      <td>330 ONE FORTY VILLAGE ROAD</td>\n",
       "      <td>WESTMINSTER, MD 21157</td>\n",
       "      <td>VAPE DOJO</td>\n",
       "      <td>Carroll County</td>\n",
       "      <td>License: 06126253</td>\n",
       "      <td>&lt;a href=\"pbLicenseDetail.jsp?owi=G6rN8X7s%2BA4...</td>\n",
       "      <td>FAIRGROUND VILLAGE LLC</td>\n",
       "    </tr>\n",
       "    <tr>\n",
       "      <th>8</th>\n",
       "      <td>29890 THREE NOTCH ROAD</td>\n",
       "      <td>CHARLOTTE HALL, MD 20622</td>\n",
       "      <td>VAPE HAVEN</td>\n",
       "      <td>St. Mary's County</td>\n",
       "      <td></td>\n",
       "      <td>None</td>\n",
       "      <td>GRIMM JENNIFER</td>\n",
       "    </tr>\n",
       "    <tr>\n",
       "      <th>9</th>\n",
       "      <td>356 ROMANCOKE ROAD</td>\n",
       "      <td>STEVENSVILLE, MD 21666</td>\n",
       "      <td>VAPE BIRD</td>\n",
       "      <td>Queen Anne's County</td>\n",
       "      <td>License: 17166688</td>\n",
       "      <td>&lt;a href=\"pbLicenseDetail.jsp?owi=eEFXW3k6AEE%3...</td>\n",
       "      <td>HUTCH VAPES LLC</td>\n",
       "    </tr>\n",
       "    <tr>\n",
       "      <th>10</th>\n",
       "      <td>110 S PINEY ROAD  STE 106</td>\n",
       "      <td>CHESTER, MD 21619</td>\n",
       "      <td>VAPE FROG</td>\n",
       "      <td>Queen Anne's County</td>\n",
       "      <td></td>\n",
       "      <td>None</td>\n",
       "      <td>HUTCHINS COX LLP</td>\n",
       "    </tr>\n",
       "    <tr>\n",
       "      <th>11</th>\n",
       "      <td>28943 THREE NOTCH ROAD</td>\n",
       "      <td>MECHANICSVILLE, MD 20659</td>\n",
       "      <td>VAPORS LOUNGE</td>\n",
       "      <td>St. Mary's County</td>\n",
       "      <td>License: 18167503</td>\n",
       "      <td>&lt;a href=\"pbLicenseDetail.jsp?owi=sRGZjM9T2%2Bg...</td>\n",
       "      <td>JAMESON WILLIAM</td>\n",
       "    </tr>\n",
       "    <tr>\n",
       "      <th>12</th>\n",
       "      <td>6843 CRAIN HIGHWAY</td>\n",
       "      <td>LA PLATA, MD 20646</td>\n",
       "      <td>VAPORS LOUNGE</td>\n",
       "      <td>Charles County</td>\n",
       "      <td></td>\n",
       "      <td>None</td>\n",
       "      <td>JAMESON WILLIAM E</td>\n",
       "    </tr>\n",
       "    <tr>\n",
       "      <th>13</th>\n",
       "      <td>6321 OLD BRANCH AVE</td>\n",
       "      <td>CAMP SPRINGS, MD 20748</td>\n",
       "      <td>VAPIST MD</td>\n",
       "      <td>St. Mary's County</td>\n",
       "      <td></td>\n",
       "      <td>None</td>\n",
       "      <td>JEFFERS MICHAEL</td>\n",
       "    </tr>\n",
       "    <tr>\n",
       "      <th>14</th>\n",
       "      <td>6321 OLD BRANCH AVE</td>\n",
       "      <td>CAMP SPRINGS, MD 20748</td>\n",
       "      <td>VAPIST MD LLC</td>\n",
       "      <td>Prince George's County</td>\n",
       "      <td></td>\n",
       "      <td>None</td>\n",
       "      <td>JEFFERS MICHAEL W</td>\n",
       "    </tr>\n",
       "    <tr>\n",
       "      <th>15</th>\n",
       "      <td>7954 B AND A BLVD</td>\n",
       "      <td>GLEN BURNIE, MD 21060</td>\n",
       "      <td>VAPERTETMD</td>\n",
       "      <td>Anne Arundel County</td>\n",
       "      <td></td>\n",
       "      <td>None</td>\n",
       "      <td>SHIN JENNY Y</td>\n",
       "    </tr>\n",
       "    <tr>\n",
       "      <th>16</th>\n",
       "      <td>6325 WASHINGTON BLVD</td>\n",
       "      <td>ELKRIDGE, MD 21075</td>\n",
       "      <td>VAPERTEKMD</td>\n",
       "      <td>Howard County</td>\n",
       "      <td></td>\n",
       "      <td>None</td>\n",
       "      <td>SHIN JENNY YOUNG</td>\n",
       "    </tr>\n",
       "    <tr>\n",
       "      <th>17</th>\n",
       "      <td>3203 NORTH POINT RD</td>\n",
       "      <td>BALTIMORE, MD 21222</td>\n",
       "      <td>VAPORIOT</td>\n",
       "      <td>Baltimore County</td>\n",
       "      <td></td>\n",
       "      <td>None</td>\n",
       "      <td>TAYLOR TRAVIS</td>\n",
       "    </tr>\n",
       "    <tr>\n",
       "      <th>18</th>\n",
       "      <td>519 LINDEN AVENUE UNIT 6</td>\n",
       "      <td>POCOMOKE CITY, MD 21851</td>\n",
       "      <td>VAPE PLUS</td>\n",
       "      <td>Worcester County</td>\n",
       "      <td>License: 23178140</td>\n",
       "      <td>&lt;a href=\"pbLicenseDetail.jsp?owi=DG18IqZbXM0%3...</td>\n",
       "      <td>TRUE ENTERPRISE INC</td>\n",
       "    </tr>\n",
       "    <tr>\n",
       "      <th>19</th>\n",
       "      <td>16521 S FREDERICK AVE</td>\n",
       "      <td>GAITHERSBURG, MD 20877</td>\n",
       "      <td>VAPE  SOCIAL</td>\n",
       "      <td>Montgomery County</td>\n",
       "      <td>License: 15155429</td>\n",
       "      <td>&lt;a href=\"pbLicenseDetail.jsp?owi=pCgFHE%2BlPxU...</td>\n",
       "      <td>VAPE  SOCIAL  LLC</td>\n",
       "    </tr>\n",
       "    <tr>\n",
       "      <th>20</th>\n",
       "      <td>2070 CRAIN HIGHWAY  UNIT F</td>\n",
       "      <td>WALDORF, MD 20601</td>\n",
       "      <td>VAPE JUNGLE</td>\n",
       "      <td>Charles County</td>\n",
       "      <td>License: 08131285</td>\n",
       "      <td>&lt;a href=\"pbLicenseDetail.jsp?owi=6rPvUlyCC%2Bk...</td>\n",
       "      <td>VAPE JUNGLE LLC</td>\n",
       "    </tr>\n",
       "    <tr>\n",
       "      <th>21</th>\n",
       "      <td>4130 E JOPPA RD UNIT 109</td>\n",
       "      <td>NOTTINGHAM, MD 21236</td>\n",
       "      <td>VAPE TIME</td>\n",
       "      <td>Baltimore County</td>\n",
       "      <td></td>\n",
       "      <td>None</td>\n",
       "      <td>VAPE TIME LLC</td>\n",
       "    </tr>\n",
       "    <tr>\n",
       "      <th>22</th>\n",
       "      <td>11110 MALL CIRCLE</td>\n",
       "      <td>WALDORF, MD 20603</td>\n",
       "      <td>VAPEBAR EXPESS</td>\n",
       "      <td>Charles County</td>\n",
       "      <td></td>\n",
       "      <td>None</td>\n",
       "      <td>VAPEBAR EXPRESS LLC</td>\n",
       "    </tr>\n",
       "    <tr>\n",
       "      <th>23</th>\n",
       "      <td>3524 CRAIN HWY</td>\n",
       "      <td>BOWIE, MD 20716</td>\n",
       "      <td>VAPOR 99</td>\n",
       "      <td>Prince George's County</td>\n",
       "      <td>License: 16165362</td>\n",
       "      <td>&lt;a href=\"pbLicenseDetail.jsp?owi=BuQGto8YzcQ%3...</td>\n",
       "      <td>VAPOR 99 LLC</td>\n",
       "    </tr>\n",
       "    <tr>\n",
       "      <th>24</th>\n",
       "      <td>8117 OCEAN GATEWAY UNIT #4</td>\n",
       "      <td>EASTON, MD 21601</td>\n",
       "      <td>VAPOR ALLEY</td>\n",
       "      <td>Talbot County</td>\n",
       "      <td>License: 20170900</td>\n",
       "      <td>&lt;a href=\"pbLicenseDetail.jsp?owi=Qt8JZTKoUHI%3...</td>\n",
       "      <td>VAPOR ALLEY LLC</td>\n",
       "    </tr>\n",
       "    <tr>\n",
       "      <th>25</th>\n",
       "      <td>11717 OLD NATIONAL PIKE</td>\n",
       "      <td>NEW MARKET, MD 21774</td>\n",
       "      <td>VAPOR EMPORIUM</td>\n",
       "      <td>Frederick County</td>\n",
       "      <td>License: 10135432</td>\n",
       "      <td>&lt;a href=\"pbLicenseDetail.jsp?owi=MWnS87qH7Q8%3...</td>\n",
       "      <td>VAPOR EMPORIUM MD LLC</td>\n",
       "    </tr>\n",
       "    <tr>\n",
       "      <th>26</th>\n",
       "      <td>1913 LANSDOWNE ROAD SUITE E</td>\n",
       "      <td>BALTIMORE, MD 21227</td>\n",
       "      <td>VAPOR VILLA</td>\n",
       "      <td>Baltimore County</td>\n",
       "      <td>License: 03121958</td>\n",
       "      <td>&lt;a href=\"pbLicenseDetail.jsp?owi=uf0CaYWDvFc%3...</td>\n",
       "      <td>VAPOR VILLA CORP</td>\n",
       "    </tr>\n",
       "    <tr>\n",
       "      <th>27</th>\n",
       "      <td>730 FREDERICK ROAD</td>\n",
       "      <td>CATONSVILLE, MD 21228</td>\n",
       "      <td>VAPOR VILLA</td>\n",
       "      <td>Baltimore County</td>\n",
       "      <td>License: 03121959</td>\n",
       "      <td>&lt;a href=\"pbLicenseDetail.jsp?owi=G5PbWpmQkDs%3...</td>\n",
       "      <td>VAPOR VILLA CORP</td>\n",
       "    </tr>\n",
       "    <tr>\n",
       "      <th>28</th>\n",
       "      <td>138 N BOND STREET</td>\n",
       "      <td>BEL AIR, MD 21014</td>\n",
       "      <td>VAPE DOJO</td>\n",
       "      <td>Harford County</td>\n",
       "      <td>License: 12140135</td>\n",
       "      <td>&lt;a href=\"pbLicenseDetail.jsp?owi=M%2BN66WfqgYY...</td>\n",
       "      <td>WALKER TRADING CO INC</td>\n",
       "    </tr>\n",
       "    <tr>\n",
       "      <th>29</th>\n",
       "      <td>11600 CROSSROAD CIR  STE E</td>\n",
       "      <td>BALTIMORE, MD 21220</td>\n",
       "      <td>VAPE DOJO</td>\n",
       "      <td>Baltimore County</td>\n",
       "      <td></td>\n",
       "      <td>None</td>\n",
       "      <td>WALKER TRADING COMPANY INC</td>\n",
       "    </tr>\n",
       "    <tr>\n",
       "      <th>30</th>\n",
       "      <td>3570 SAINT JOHNS LANE, SUITE 109</td>\n",
       "      <td>ELLICOTT CITY, MD 21042</td>\n",
       "      <td>VAPE DOJO</td>\n",
       "      <td>Howard County</td>\n",
       "      <td>License: 13144108</td>\n",
       "      <td>&lt;a href=\"pbLicenseDetail.jsp?owi=bFIUYgB%2Fd1E...</td>\n",
       "      <td>WALKER TRADING COMPANY INC</td>\n",
       "    </tr>\n",
       "    <tr>\n",
       "      <th>31</th>\n",
       "      <td>3315 PLAZA WAY</td>\n",
       "      <td>WALDORF, MD 20603</td>\n",
       "      <td>VAPEZ YARDHOUSE</td>\n",
       "      <td>Charles County</td>\n",
       "      <td></td>\n",
       "      <td>None</td>\n",
       "      <td>YARKHOUSE EMPIRE INC</td>\n",
       "    </tr>\n",
       "  </tbody>\n",
       "</table>\n",
       "</div>"
      ],
      "text/plain": [
       "                             address                      city  \\\n",
       "0              1015 S SALISBURY BLVD       SALISBURY, MD 21801   \n",
       "1       1724 N SALISBURY BLVD UNIT 2       SALISBURY, MD 21801   \n",
       "2            2299 JOHNS HOPKINS ROAD       GAMBRILLS, MD 21054   \n",
       "3                    110 S. PINEY RD         CHESTER, MD 21619   \n",
       "4                346 RITCHIE HIGHWAY    SEVERNA PARK, MD 21146   \n",
       "5            185 MITCHELLS CHANCE RD       EDGEWATER, MD 21037   \n",
       "6              7104 MINSTREL UNIT #7        COLUMBIA, MD 21045   \n",
       "7         330 ONE FORTY VILLAGE ROAD     WESTMINSTER, MD 21157   \n",
       "8             29890 THREE NOTCH ROAD  CHARLOTTE HALL, MD 20622   \n",
       "9                 356 ROMANCOKE ROAD    STEVENSVILLE, MD 21666   \n",
       "10         110 S PINEY ROAD  STE 106         CHESTER, MD 21619   \n",
       "11            28943 THREE NOTCH ROAD  MECHANICSVILLE, MD 20659   \n",
       "12                6843 CRAIN HIGHWAY        LA PLATA, MD 20646   \n",
       "13               6321 OLD BRANCH AVE    CAMP SPRINGS, MD 20748   \n",
       "14               6321 OLD BRANCH AVE    CAMP SPRINGS, MD 20748   \n",
       "15                 7954 B AND A BLVD     GLEN BURNIE, MD 21060   \n",
       "16              6325 WASHINGTON BLVD        ELKRIDGE, MD 21075   \n",
       "17               3203 NORTH POINT RD       BALTIMORE, MD 21222   \n",
       "18          519 LINDEN AVENUE UNIT 6   POCOMOKE CITY, MD 21851   \n",
       "19             16521 S FREDERICK AVE    GAITHERSBURG, MD 20877   \n",
       "20        2070 CRAIN HIGHWAY  UNIT F         WALDORF, MD 20601   \n",
       "21          4130 E JOPPA RD UNIT 109      NOTTINGHAM, MD 21236   \n",
       "22                 11110 MALL CIRCLE         WALDORF, MD 20603   \n",
       "23                    3524 CRAIN HWY           BOWIE, MD 20716   \n",
       "24        8117 OCEAN GATEWAY UNIT #4          EASTON, MD 21601   \n",
       "25           11717 OLD NATIONAL PIKE      NEW MARKET, MD 21774   \n",
       "26       1913 LANSDOWNE ROAD SUITE E       BALTIMORE, MD 21227   \n",
       "27                730 FREDERICK ROAD     CATONSVILLE, MD 21228   \n",
       "28                 138 N BOND STREET         BEL AIR, MD 21014   \n",
       "29        11600 CROSSROAD CIR  STE E       BALTIMORE, MD 21220   \n",
       "30  3570 SAINT JOHNS LANE, SUITE 109   ELLICOTT CITY, MD 21042   \n",
       "31                    3315 PLAZA WAY         WALDORF, MD 20603   \n",
       "\n",
       "             company                  county            license  \\\n",
       "0   VAPE IT STORE II         Wicomico County  License: 22173808   \n",
       "1    VAPE IT STORE I         Wicomico County  License: 22173807   \n",
       "2        VAPEPAD THE     Anne Arundel County  License: 02104436   \n",
       "3          VAPE FROG     Queen Anne's County  License: 17165957   \n",
       "4          VAPE FROG     Anne Arundel County                      \n",
       "5    VAPE LOFT (THE)     Anne Arundel County  License: 02102408   \n",
       "6       VAPE N CIGAR           Howard County  License: 13141786   \n",
       "7          VAPE DOJO          Carroll County  License: 06126253   \n",
       "8         VAPE HAVEN       St. Mary's County                      \n",
       "9          VAPE BIRD     Queen Anne's County  License: 17166688   \n",
       "10         VAPE FROG     Queen Anne's County                      \n",
       "11     VAPORS LOUNGE       St. Mary's County  License: 18167503   \n",
       "12     VAPORS LOUNGE          Charles County                      \n",
       "13         VAPIST MD       St. Mary's County                      \n",
       "14     VAPIST MD LLC  Prince George's County                      \n",
       "15        VAPERTETMD     Anne Arundel County                      \n",
       "16        VAPERTEKMD           Howard County                      \n",
       "17          VAPORIOT        Baltimore County                      \n",
       "18         VAPE PLUS        Worcester County  License: 23178140   \n",
       "19      VAPE  SOCIAL       Montgomery County  License: 15155429   \n",
       "20       VAPE JUNGLE          Charles County  License: 08131285   \n",
       "21         VAPE TIME        Baltimore County                      \n",
       "22    VAPEBAR EXPESS          Charles County                      \n",
       "23          VAPOR 99  Prince George's County  License: 16165362   \n",
       "24       VAPOR ALLEY           Talbot County  License: 20170900   \n",
       "25    VAPOR EMPORIUM        Frederick County  License: 10135432   \n",
       "26       VAPOR VILLA        Baltimore County  License: 03121958   \n",
       "27       VAPOR VILLA        Baltimore County  License: 03121959   \n",
       "28         VAPE DOJO          Harford County  License: 12140135   \n",
       "29         VAPE DOJO        Baltimore County                      \n",
       "30         VAPE DOJO           Howard County  License: 13144108   \n",
       "31   VAPEZ YARDHOUSE          Charles County                      \n",
       "\n",
       "                                                 link  \\\n",
       "0   <a href=\"pbLicenseDetail.jsp?owi=c9l4Hc%2FAuto...   \n",
       "1   <a href=\"pbLicenseDetail.jsp?owi=pe9i6XrCMFE%3...   \n",
       "2   <a href=\"pbLicenseDetail.jsp?owi=lycWL7%2FzX%2...   \n",
       "3   <a href=\"pbLicenseDetail.jsp?owi=fDi%2F1AXSsHo...   \n",
       "4                                                None   \n",
       "5   <a href=\"pbLicenseDetail.jsp?owi=0O2QDqy%2BGjo...   \n",
       "6   <a href=\"pbLicenseDetail.jsp?owi=K9U7pDIwbkU%3...   \n",
       "7   <a href=\"pbLicenseDetail.jsp?owi=G6rN8X7s%2BA4...   \n",
       "8                                                None   \n",
       "9   <a href=\"pbLicenseDetail.jsp?owi=eEFXW3k6AEE%3...   \n",
       "10                                               None   \n",
       "11  <a href=\"pbLicenseDetail.jsp?owi=sRGZjM9T2%2Bg...   \n",
       "12                                               None   \n",
       "13                                               None   \n",
       "14                                               None   \n",
       "15                                               None   \n",
       "16                                               None   \n",
       "17                                               None   \n",
       "18  <a href=\"pbLicenseDetail.jsp?owi=DG18IqZbXM0%3...   \n",
       "19  <a href=\"pbLicenseDetail.jsp?owi=pCgFHE%2BlPxU...   \n",
       "20  <a href=\"pbLicenseDetail.jsp?owi=6rPvUlyCC%2Bk...   \n",
       "21                                               None   \n",
       "22                                               None   \n",
       "23  <a href=\"pbLicenseDetail.jsp?owi=BuQGto8YzcQ%3...   \n",
       "24  <a href=\"pbLicenseDetail.jsp?owi=Qt8JZTKoUHI%3...   \n",
       "25  <a href=\"pbLicenseDetail.jsp?owi=MWnS87qH7Q8%3...   \n",
       "26  <a href=\"pbLicenseDetail.jsp?owi=uf0CaYWDvFc%3...   \n",
       "27  <a href=\"pbLicenseDetail.jsp?owi=G5PbWpmQkDs%3...   \n",
       "28  <a href=\"pbLicenseDetail.jsp?owi=M%2BN66WfqgYY...   \n",
       "29                                               None   \n",
       "30  <a href=\"pbLicenseDetail.jsp?owi=bFIUYgB%2Fd1E...   \n",
       "31                                               None   \n",
       "\n",
       "                             name  \n",
       "0                     AMIN NARGIS  \n",
       "1                     AMIN NARGIS  \n",
       "2           ANJ DISTRIBUTIONS LLC  \n",
       "3       COX TRADING COMPANY L L C  \n",
       "4                 COX TRADING LLC  \n",
       "5   DISBROW II EMERSON HARRINGTON  \n",
       "6      DISCOUNT TOBACCO ESSEX LLC  \n",
       "7          FAIRGROUND VILLAGE LLC  \n",
       "8                  GRIMM JENNIFER  \n",
       "9                 HUTCH VAPES LLC  \n",
       "10               HUTCHINS COX LLP  \n",
       "11                JAMESON WILLIAM  \n",
       "12              JAMESON WILLIAM E  \n",
       "13                JEFFERS MICHAEL  \n",
       "14              JEFFERS MICHAEL W  \n",
       "15                   SHIN JENNY Y  \n",
       "16               SHIN JENNY YOUNG  \n",
       "17                  TAYLOR TRAVIS  \n",
       "18            TRUE ENTERPRISE INC  \n",
       "19              VAPE  SOCIAL  LLC  \n",
       "20                VAPE JUNGLE LLC  \n",
       "21                  VAPE TIME LLC  \n",
       "22            VAPEBAR EXPRESS LLC  \n",
       "23                   VAPOR 99 LLC  \n",
       "24                VAPOR ALLEY LLC  \n",
       "25          VAPOR EMPORIUM MD LLC  \n",
       "26               VAPOR VILLA CORP  \n",
       "27               VAPOR VILLA CORP  \n",
       "28          WALKER TRADING CO INC  \n",
       "29     WALKER TRADING COMPANY INC  \n",
       "30     WALKER TRADING COMPANY INC  \n",
       "31           YARKHOUSE EMPIRE INC  "
      ]
     },
     "execution_count": 243,
     "metadata": {},
     "output_type": "execute_result"
    }
   ],
   "source": [
    "import pandas as pd\n",
    "df = pd.DataFrame(results)\n",
    "df"
   ]
  },
  {
   "cell_type": "markdown",
   "metadata": {},
   "source": [
    "### Open `vape-results.csv` to make sure there aren't any extra weird columns"
   ]
  },
  {
   "cell_type": "code",
   "execution_count": 245,
   "metadata": {
    "collapsed": true
   },
   "outputs": [],
   "source": [
    "df.to_csv(\"../vape_results.csv\", index=False)"
   ]
  },
  {
   "cell_type": "markdown",
   "metadata": {},
   "source": [
    "## Use Selenium to scrape ALL pages of results, save the results into `vape-results-all.csv`."
   ]
  },
  {
   "cell_type": "code",
   "execution_count": null,
   "metadata": {
    "collapsed": true
   },
   "outputs": [],
   "source": [
    "#this is happening above! \n"
   ]
  }
 ],
 "metadata": {
  "kernelspec": {
   "display_name": "Python 3",
   "language": "python",
   "name": "python3"
  },
  "language_info": {
   "codemirror_mode": {
    "name": "ipython",
    "version": 3
   },
   "file_extension": ".py",
   "mimetype": "text/x-python",
   "name": "python",
   "nbconvert_exporter": "python",
   "pygments_lexer": "ipython3",
   "version": "3.6.1"
  }
 },
 "nbformat": 4,
 "nbformat_minor": 2
}

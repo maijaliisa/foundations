{
 "cells": [
  {
   "cell_type": "markdown",
   "metadata": {},
   "source": [
    "# Exercise: Climate\n",
    "\n",
    "#### Summary\n",
    "\n",
    "Do nothing very useful with climate data from the US government.\n",
    "\n",
    "#### Data Source(s)\n",
    "\n",
    "Data from NOAA, https://www7.ncdc.noaa.gov/CDO/CDODivisionalSelect.jsp\n",
    "\n",
    "#### Files\n",
    "\n",
    "- CDODiv8449537379627.txt, climate data from 1985-2017\n",
    "- florida.txt, california.txt, virginia.txt, minnesota.txt, nebraska.txt, same as above but for specific states\n",
    "\n",
    "#### Data dictionary\n",
    "\n",
    "- **PCP** - Precipitation Index\n",
    "- **TAVG** - Temperature Index\n",
    "- **TMIN** - Minimum Temperature Index\n",
    "- **TMAX** - Maximum Temperature Index\n",
    "- **PDSI** - Palmer Drought Severity Index\n",
    "- **PHDI** - Palmer Hydrological Drought Index\n",
    "- **ZNDX** - Palmer Z-Index\n",
    "- **PMDI** - Modified Palmer Drought Severity Index\n",
    "- **CDD** - Cooling Degree Days\n",
    "- **HDD** - Heating Degree Days\n",
    "- **SPnn** - Standard Precipitation Index\n",
    "\n",
    "#### Skills\n",
    "\n",
    "- Cleaning column names\n",
    "- NaN values\n",
    "- Date time manipulation\n",
    "- Plotting"
   ]
  },
  {
   "cell_type": "markdown",
   "metadata": {},
   "source": [
    "# Reading in your data\n",
    "\n",
    "## Open up the file and check the first few rows"
   ]
  },
  {
   "cell_type": "code",
   "execution_count": null,
   "metadata": {
    "collapsed": true
   },
   "outputs": [],
   "source": []
  },
  {
   "cell_type": "markdown",
   "metadata": {},
   "source": [
    "## Hmmm, `-99.99` doesn't seem like good data!\n",
    "\n",
    "And if you read [the documentation](ftp://ftp.ncdc.noaa.gov/pub/data/cirs/climdiv/divisional-readme.txt), you find out it means MISSING DATA. Get rid of those -99.99s however you think is best."
   ]
  },
  {
   "cell_type": "code",
   "execution_count": null,
   "metadata": {
    "collapsed": true
   },
   "outputs": [],
   "source": []
  },
  {
   "cell_type": "markdown",
   "metadata": {},
   "source": [
    "## Wait, there's even more missing data!\n",
    "\n",
    "Open up [the documentation](ftp://ftp.ncdc.noaa.gov/pub/data/cirs/climdiv/divisional-readme.txt) and look for the other values that are \"missing.\"\n",
    "\n",
    "- Tip: don't read all of the documentation, use the power of searching!"
   ]
  },
  {
   "cell_type": "code",
   "execution_count": null,
   "metadata": {
    "collapsed": true
   },
   "outputs": [],
   "source": []
  },
  {
   "cell_type": "markdown",
   "metadata": {},
   "source": [
    "## Confirm that you have 1465 rows and 21 columns"
   ]
  },
  {
   "cell_type": "code",
   "execution_count": null,
   "metadata": {
    "collapsed": true
   },
   "outputs": [],
   "source": []
  },
  {
   "cell_type": "markdown",
   "metadata": {},
   "source": [
    "## Let's see the columns and their data types"
   ]
  },
  {
   "cell_type": "code",
   "execution_count": null,
   "metadata": {
    "collapsed": true
   },
   "outputs": [],
   "source": []
  },
  {
   "cell_type": "markdown",
   "metadata": {},
   "source": [
    "## Uuuuhhh something is weird\n",
    "\n",
    "Try to get the average `TMAX`. It *probably* will not work. Why not?"
   ]
  },
  {
   "cell_type": "code",
   "execution_count": null,
   "metadata": {
    "collapsed": true
   },
   "outputs": [],
   "source": []
  },
  {
   "cell_type": "markdown",
   "metadata": {},
   "source": [
    "## Cleaning up"
   ]
  },
  {
   "cell_type": "markdown",
   "metadata": {},
   "source": [
    "### Fix the column names!\n",
    "\n",
    "Right now TMAX (and the rest of the column names) are looking pretty bad. Let's turn them into normal columns! **If you couldn't figure out what's wrong with them, ask!**\n",
    "\n",
    "- Tip: You can get a list of the columns by using `df.columns`.\n",
    "- Tip: You can actually treat them just like a pandas column\n",
    "- Tip: What would you use if you had to remove whitespace (spaces) from the left and right of a column in pandas?\n",
    "- Tip: Instead of using rename, you can set the columns to something new with `df.columns = blah blah blah` (but be sure to **check that your edited ones are right** before you assign them)"
   ]
  },
  {
   "cell_type": "code",
   "execution_count": null,
   "metadata": {
    "collapsed": true
   },
   "outputs": [],
   "source": []
  },
  {
   "cell_type": "markdown",
   "metadata": {},
   "source": [
    "### Find the hottest months recorded\n",
    "\n",
    "Just to make sure you cleaned it all up correctly - if you didn't clean the column titles, this won't work."
   ]
  },
  {
   "cell_type": "code",
   "execution_count": null,
   "metadata": {
    "collapsed": true
   },
   "outputs": [],
   "source": []
  },
  {
   "cell_type": "markdown",
   "metadata": {},
   "source": [
    "## That \"Unnamed\" column doesn't actually do anything. Delete it!\n",
    "\n",
    "One of the things we talked about last class was **creating new dataframes** instead of editing our old ones. So we *could* do this:\n",
    "\n",
    "```python\n",
    "df = df[['col1', 'col2', 'col2', 'col3']]\n",
    "```\n",
    "\n",
    "**But don't do that!** I don't want you to type out all of those columns. I just want you to delete that column."
   ]
  },
  {
   "cell_type": "code",
   "execution_count": null,
   "metadata": {
    "collapsed": true
   },
   "outputs": [],
   "source": []
  },
  {
   "cell_type": "markdown",
   "metadata": {},
   "source": [
    "## What is the `YearMonth` column?\n",
    "\n",
    "What is its data type, and what is the content in it?"
   ]
  },
  {
   "cell_type": "code",
   "execution_count": null,
   "metadata": {
    "collapsed": true
   },
   "outputs": [],
   "source": []
  },
  {
   "cell_type": "markdown",
   "metadata": {},
   "source": [
    "## Convert `YearMonth` into a date (don't save it anywhere yet)\n",
    "\n",
    "**Be sure to pass a `format=` to the converter.** It will work automatically, but it's better to get practice.\n",
    "\n",
    "If you convert it correctly, it should look like...\n",
    "\n",
    "    0      1895-01-01\n",
    "    1      1895-02-01\n",
    "    2      1895-03-01\n",
    "    3      1895-04-01\n",
    "    ..."
   ]
  },
  {
   "cell_type": "code",
   "execution_count": null,
   "metadata": {
    "collapsed": true
   },
   "outputs": [],
   "source": []
  },
  {
   "cell_type": "markdown",
   "metadata": {},
   "source": [
    "## Save this converted version into a new column called `Date`"
   ]
  },
  {
   "cell_type": "code",
   "execution_count": null,
   "metadata": {
    "collapsed": true
   },
   "outputs": [],
   "source": []
  },
  {
   "cell_type": "markdown",
   "metadata": {},
   "source": [
    "### What is the datatype of the `Date` columns?"
   ]
  },
  {
   "cell_type": "code",
   "execution_count": null,
   "metadata": {
    "collapsed": true
   },
   "outputs": [],
   "source": []
  },
  {
   "cell_type": "markdown",
   "metadata": {},
   "source": [
    "# Graphing"
   ]
  },
  {
   "cell_type": "markdown",
   "metadata": {},
   "source": [
    "## Graph the maximum temperature over time using the old `YearMonth` column\n",
    "\n",
    "Make it so wide it **extends across your entire screen**."
   ]
  },
  {
   "cell_type": "code",
   "execution_count": null,
   "metadata": {
    "collapsed": true
   },
   "outputs": [],
   "source": []
  },
  {
   "cell_type": "markdown",
   "metadata": {},
   "source": [
    "## Graph the maximum temperature over time using the new `Date` column\n",
    "\n",
    "Make it so wide it **extends across your entire screen**."
   ]
  },
  {
   "cell_type": "code",
   "execution_count": null,
   "metadata": {
    "collapsed": true
   },
   "outputs": [],
   "source": []
  },
  {
   "cell_type": "markdown",
   "metadata": {},
   "source": [
    "## How do they look different? Which one is better, and why?"
   ]
  },
  {
   "cell_type": "code",
   "execution_count": null,
   "metadata": {
    "collapsed": true
   },
   "outputs": [],
   "source": []
  },
  {
   "cell_type": "markdown",
   "metadata": {},
   "source": [
    "# Resampling\n",
    "\n",
    "Check that you have pandas 0.19.0 or newer by typing `pd.__version__`. If you have an earlier version, use `pip install -U pandas` to update."
   ]
  },
  {
   "cell_type": "code",
   "execution_count": null,
   "metadata": {
    "collapsed": true
   },
   "outputs": [],
   "source": []
  },
  {
   "cell_type": "markdown",
   "metadata": {},
   "source": [
    "## View the average yearly temperature\n",
    "\n",
    "**Don't use `.set_index` yet.** When using `resample`, you can also say `on='colname'` in order to say \"resample using this column instead of using the index. Use that here."
   ]
  },
  {
   "cell_type": "code",
   "execution_count": null,
   "metadata": {
    "collapsed": true
   },
   "outputs": [],
   "source": []
  },
  {
   "cell_type": "markdown",
   "metadata": {},
   "source": [
    "## Graph the average annual temperature\n",
    "\n",
    "Be sure ot make it **nice and wide**."
   ]
  },
  {
   "cell_type": "code",
   "execution_count": null,
   "metadata": {
    "collapsed": true
   },
   "outputs": [],
   "source": []
  },
  {
   "cell_type": "markdown",
   "metadata": {},
   "source": [
    "## What's wrong with the right-hand side?\n",
    "\n",
    "Use `.set_index` to get a datetime index and then examine the months in 1990 and the months in 2017 and see what's different about them."
   ]
  },
  {
   "cell_type": "code",
   "execution_count": null,
   "metadata": {
    "collapsed": true
   },
   "outputs": [],
   "source": []
  },
  {
   "cell_type": "markdown",
   "metadata": {},
   "source": [
    "## Upgrading to good data\n",
    "\n",
    "**We can ignore 2017.** Edit our dataframe so it's only between the years of 1895 and 2016, and draw your graph again."
   ]
  },
  {
   "cell_type": "code",
   "execution_count": null,
   "metadata": {
    "collapsed": true
   },
   "outputs": [],
   "source": []
  },
  {
   "cell_type": "markdown",
   "metadata": {},
   "source": [
    "### Maxes and mins\n",
    "\n",
    "What years had the hottest maximum temperature? The hottest minimum temperature?"
   ]
  },
  {
   "cell_type": "code",
   "execution_count": null,
   "metadata": {
    "collapsed": true
   },
   "outputs": [],
   "source": []
  },
  {
   "cell_type": "markdown",
   "metadata": {},
   "source": [
    "## Annual temperature cycles\n",
    "\n",
    "Graph the average temperature cycle of a year, with january on the left and december on the right."
   ]
  },
  {
   "cell_type": "code",
   "execution_count": null,
   "metadata": {
    "collapsed": true
   },
   "outputs": [],
   "source": []
  },
  {
   "cell_type": "markdown",
   "metadata": {},
   "source": [
    "# An important investigation\n",
    "\n",
    "Inside of the `climate` folder there is a file called `california.txt`: it's the same data, but only for California. Using this data, tell me **if droughts have been getting worse over the past 100 years.**"
   ]
  },
  {
   "cell_type": "code",
   "execution_count": null,
   "metadata": {
    "collapsed": true
   },
   "outputs": [],
   "source": []
  },
  {
   "cell_type": "markdown",
   "metadata": {},
   "source": [
    "# Making comparisons\n",
    "\n",
    "There are datasets for **five** other states. Please compare them in some way, building me a graphic. Even though we did it the other day, you do **not** need to combine them into one dataframe.\n",
    "\n",
    "Some basic ideas:\n",
    "\n",
    "- Graph their average temperatures over the year so we can see which one is the hottest\n",
    "- Graph the difference between the highs/lows over the year so we can see which has the hottest temperature swings\n",
    "- Graph their propensity to drought, highlighting the most drough-ridden state in a different color"
   ]
  },
  {
   "cell_type": "code",
   "execution_count": null,
   "metadata": {
    "collapsed": true
   },
   "outputs": [],
   "source": []
  }
 ],
 "metadata": {
  "kernelspec": {
   "display_name": "Python 3",
   "language": "python",
   "name": "python3"
  },
  "language_info": {
   "codemirror_mode": {
    "name": "ipython",
    "version": 3
   },
   "file_extension": ".py",
   "mimetype": "text/x-python",
   "name": "python",
   "nbconvert_exporter": "python",
   "pygments_lexer": "ipython3",
   "version": "3.6.1"
  }
 },
 "nbformat": 4,
 "nbformat_minor": 2
}
